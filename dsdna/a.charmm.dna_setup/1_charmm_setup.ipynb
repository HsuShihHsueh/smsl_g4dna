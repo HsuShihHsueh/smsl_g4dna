{
 "cells": [
  {
   "cell_type": "code",
   "execution_count": 1,
   "id": "e01f68ec-533b-4910-b07d-a0bc4dfce4c8",
   "metadata": {
    "tags": []
   },
   "outputs": [],
   "source": [
    "import sys\n",
    "sys.path.append(\"../../smsl\")"
   ]
  },
  {
   "cell_type": "code",
   "execution_count": 2,
   "id": "4defa19a-ba39-4b4b-b0fc-33ea77a4c3f2",
   "metadata": {
    "tags": []
   },
   "outputs": [],
   "source": [
    "from smsl.opt import rcsb2charmmformat_sh, charmm2rcsbformat_sh, charmm_c43b1, toppar"
   ]
  },
  {
   "cell_type": "markdown",
   "id": "0a6a6244-a824-49c1-8bf5-0c938c1df5ca",
   "metadata": {
    "tags": []
   },
   "source": [
    "### Config Setting"
   ]
  },
  {
   "cell_type": "code",
   "execution_count": 3,
   "id": "d66ee0b0-f180-49e0-bc37-a9849a4fec02",
   "metadata": {
    "tags": []
   },
   "outputs": [],
   "source": [
    "pdbid = \"dsdna\""
   ]
  },
  {
   "cell_type": "code",
   "execution_count": 4,
   "id": "4d214e38-9a2a-4bf0-a488-f4fb7c6174de",
   "metadata": {
    "tags": []
   },
   "outputs": [],
   "source": [
    "pymol = \"/opt/PyMOL-3.0.3_appveyor849-Linux-x86_64-py310/pymol/bin/pymol\""
   ]
  },
  {
   "cell_type": "code",
   "execution_count": 5,
   "id": "e58f431b-117c-4df9-8c86-aa7a9fc8af11",
   "metadata": {
    "tags": []
   },
   "outputs": [
    {
     "name": "stdout",
     "output_type": "stream",
     "text": [
      "rcsb2charmmformat_sh = /home/user/workfolder/g4dna_protocol/smsl/opt/atomname_transfer/rcsb2charmmformat.sh\n",
      "charmm2rcsbformat_sh = /home/user/workfolder/g4dna_protocol/smsl/opt/atomname_transfer/charmm2rcsbformat.sh\n",
      "charmm_c43b1 = /home/user/workfolder/g4dna_protocol/smsl/opt/c43b1/bin/charmm\n",
      "pymol = /opt/PyMOL-3.0.3_appveyor849-Linux-x86_64-py310/pymol/bin/pymol\n",
      "\n"
     ]
    }
   ],
   "source": [
    "print(f'''\\\n",
    "rcsb2charmmformat_sh = {rcsb2charmmformat_sh}\n",
    "charmm2rcsbformat_sh = {charmm2rcsbformat_sh}\n",
    "charmm_c43b1 = {charmm_c43b1}\n",
    "pymol = {pymol}\n",
    "''')"
   ]
  },
  {
   "cell_type": "markdown",
   "id": "edd3c37c-e9d0-40fb-b210-ee0f97038680",
   "metadata": {},
   "source": [
    "### 1.Download fd_helix.c and compile"
   ]
  },
  {
   "cell_type": "code",
   "execution_count": 6,
   "id": "95543fea-4ae7-4b29-8b64-a8d4577c7ac7",
   "metadata": {
    "tags": []
   },
   "outputs": [
    {
     "name": "stdout",
     "output_type": "stream",
     "text": [
      "--2024-12-18 11:09:17--  https://casegroup.rutgers.edu/fd_helix.c\n",
      "Resolving casegroup.rutgers.edu (casegroup.rutgers.edu)... 128.6.241.202\n",
      "Connecting to casegroup.rutgers.edu (casegroup.rutgers.edu)|128.6.241.202|:443... connected.\n",
      "WARNING: cannot verify casegroup.rutgers.edu's certificate, issued by ‘CN=InCommon RSA Server CA 2,O=Internet2,C=US’:\n",
      "  Unable to locally verify the issuer's authority.\n",
      "HTTP request sent, awaiting response... 200 OK\n",
      "Length: 26841 (26K) [text/plain]\n",
      "Saving to: ‘fd_helix.c’\n",
      "\n",
      "fd_helix.c          100%[===================>]  26.21K   121KB/s    in 0.2s    \n",
      "\n",
      "2024-12-18 11:09:18 (121 KB/s) - ‘fd_helix.c’ saved [26841/26841]\n",
      "\n"
     ]
    }
   ],
   "source": [
    "## 因為無法驗證該網站的 HTTPS 憑證，--no-check-certificate 用來繞過該憑證以下載\n",
    "!wget --no-check-certificate https://casegroup.rutgers.edu/fd_helix.c"
   ]
  },
  {
   "cell_type": "code",
   "execution_count": 7,
   "id": "6f19c60a-c4d4-4eb0-b23f-7e91ea7b3b5e",
   "metadata": {
    "tags": []
   },
   "outputs": [],
   "source": [
    "## -lm links the math library, which is necessary for mathematical functions used in the code.\n",
    "!gcc -o fd_helix fd_helix.c -lm"
   ]
  },
  {
   "cell_type": "code",
   "execution_count": 8,
   "id": "4a2123b8-d0d4-4a06-bceb-75f555d29797",
   "metadata": {
    "tags": []
   },
   "outputs": [],
   "source": [
    "!./fd_helix abdna AGGGTTAGGGTTAGGGTTAGGG > {pdbid.upper()}.pdb"
   ]
  },
  {
   "cell_type": "markdown",
   "id": "98516616-151d-4b1e-a35f-7229013a60fb",
   "metadata": {},
   "source": [
    "### 2. Preprocess PDB File"
   ]
  },
  {
   "cell_type": "code",
   "execution_count": 9,
   "id": "cc0cc254-14a4-4bf9-946c-bc3889e25532",
   "metadata": {
    "tags": []
   },
   "outputs": [
    {
     "name": "stdout",
     "output_type": "stream",
     "text": [
      " PyMOL(TM) 3.0.3 - Incentive Product\n",
      " Copyright (C) Schrodinger, LLC\n",
      " \n",
      " This Executable Build integrates and extends Open-Source PyMOL.\n",
      " Detected 12 CPU cores.  Enabled multithreaded rendering.\n",
      "PyMOL>load DSDNA.pdb\n",
      " CmdLoad: \"\" loaded as \"DSDNA\".\n",
      "PyMOL>alter resid  1-22, chain='A'\n",
      " Alter: modified 465 atoms.\n",
      "PyMOL>alter resid 23-44, chain='B'\n",
      " Alter: modified 431 atoms.\n",
      "PyMOL>alter resid 23-44, resi=str(int(resi)-22)\n",
      " Alter: modified 431 atoms.\n",
      "PyMOL>set sphere_scale, 0.6\n",
      " Setting: sphere_scale set to 0.60000.\n",
      "PyMOL>zoom\n",
      "PyMOL>save dsdna_chain_a.pdb, chain 'A'\n",
      " Save: wrote \"dsdna_chain_a.pdb\".\n",
      "PyMOL>save dsdna_chain_b.pdb, chain 'B'\n",
      " Save: wrote \"dsdna_chain_b.pdb\".\n",
      "PyMOL>save aa.pdb\n",
      " Save: wrote \"aa.pdb\".\n"
     ]
    }
   ],
   "source": [
    "pymol_script = f'''\\\n",
    "## 1. load pdb file from rcsb\n",
    "load {pdbid.upper()}.pdb\n",
    "## 2. modify dna resid and chain\n",
    "alter resid  1-22, chain='A'\n",
    "alter resid 23-44, chain='B'\n",
    "alter resid 23-44, resi=str(int(resi)-22)\n",
    "## 3. (optional) optimize the 3D view\n",
    "set sphere_scale, 0.6\n",
    "zoom\n",
    "## 4. save the molecule of dna and ion part separately to pdb\n",
    "save {pdbid}_chain_a.pdb, chain 'A'\n",
    "save {pdbid}_chain_b.pdb, chain 'B'\n",
    "save aa.pdb\n",
    "'''\n",
    "!echo \"{pymol_script}\" > {pdbid}_setup.pml\n",
    "!{pymol} -c {pdbid}_setup.pml"
   ]
  },
  {
   "cell_type": "markdown",
   "id": "b77b000e-4cbc-470e-ab76-735412d1f5f0",
   "metadata": {},
   "source": [
    "## 3. Transfer rcsb format to charmm format"
   ]
  },
  {
   "cell_type": "code",
   "execution_count": 10,
   "id": "dff7c9ae-13bb-41f4-8d19-48dc7a648f56",
   "metadata": {
    "tags": []
   },
   "outputs": [],
   "source": [
    "## transfer to charmm format\n",
    "!bash {rcsb2charmmformat_sh} {pdbid}_chain_a.pdb > {pdbid}_chain_a.0.pdb\n",
    "!bash {rcsb2charmmformat_sh} {pdbid}_chain_b.pdb > {pdbid}_chain_b.0.pdb"
   ]
  },
  {
   "cell_type": "markdown",
   "id": "3d8931f3-d481-4761-a197-f432e29df700",
   "metadata": {},
   "source": [
    "## 4. Setup Dna via charmm"
   ]
  },
  {
   "cell_type": "code",
   "execution_count": 11,
   "id": "625bd79f-b484-4e1b-9dbd-ae8e337538ff",
   "metadata": {},
   "outputs": [],
   "source": [
    "charmm_script = f'''\\\n",
    "* Author: Shih-Hsueh Hsu (Allen)\n",
    "* Title: Generate the Double Strand DNA sturcture \n",
    "*        and export to .pdb file\n",
    "*\n",
    "\n",
    "set curdir = .\n",
    "set topdir = {toppar}\n",
    "set pdbdir = .\n",
    "\n",
    "\n",
    "set dna = {pdbid}\n",
    "set a_part = chain_a\n",
    "set b_part = chain_b\n",
    "\n",
    "open unit 11 read form name @topdir/top_all36_na.rtf\n",
    "read rtf card unit 11\n",
    "close unit 11\n",
    "\n",
    "open read unit 11 card name @topdir/par_all36_na.prm\n",
    "read param unit 11 flex\n",
    "close unit 11\n",
    "\n",
    "open read unit 11 card name @topdir/toppar_water_ions.str\n",
    "stream card unit 11\n",
    "close unit 11\n",
    "\n",
    "read sequ card\n",
    "*  \n",
    "   22\n",
    "!AGGGTTAGGGTTAGGGTTAGGG\n",
    "ADE GUA GUA GUA THY THY ADE GUA GUA GUA \n",
    "THY THY ADE GUA GUA GUA THY THY ADE GUA \n",
    "GUA GUA  \n",
    "generate A setup first 5ter last 3ter\n",
    "\n",
    "! (default)RNA -> DNA \n",
    "patch deo5 A  1 setup warn\n",
    "patch deox A  2 setup warn\n",
    "patch deox A  3 setup warn\n",
    "patch deox A  4 setup warn\n",
    "patch deox A  5 setup warn\n",
    "patch deox A  6 setup warn\n",
    "patch deox A  7 setup warn\n",
    "patch deox A  8 setup warn\n",
    "patch deox A  9 setup warn\n",
    "patch deox A 10 setup warn\n",
    "patch deox A 11 setup warn\n",
    "patch deox A 12 setup warn\n",
    "patch deox A 13 setup warn\n",
    "patch deox A 14 setup warn\n",
    "patch deox A 15 setup warn\n",
    "patch deox A 16 setup warn\n",
    "patch deox A 17 setup warn\n",
    "patch deox A 18 setup warn\n",
    "patch deox A 19 setup warn\n",
    "patch deox A 20 setup warn\n",
    "patch deox A 21 setup warn\n",
    "patch deox A 22 setup warn \n",
    "\n",
    "read sequ card\n",
    "*  \n",
    "   22\n",
    "!AGGGTTAGGGTTAGGGTTAGGG\n",
    "CYT CYT \n",
    "CYT THY ADE ADE CYT CYT CYT THY ADE ADE \n",
    "CYT CYT CYT THY ADE ADE CYT CYT CYT THY \n",
    "\n",
    "generate B setup first 5ter last 3ter\n",
    "\n",
    "! (default)RNA -> DNA \n",
    "patch deo5 B  1 setup warn\n",
    "patch deox B  2 setup warn\n",
    "patch deox B  3 setup warn\n",
    "patch deox B  4 setup warn\n",
    "patch deox B  5 setup warn\n",
    "patch deox B  6 setup warn\n",
    "patch deox B  7 setup warn\n",
    "patch deox B  8 setup warn\n",
    "patch deox B  9 setup warn\n",
    "patch deox B 10 setup warn\n",
    "patch deox B 11 setup warn\n",
    "patch deox B 12 setup warn\n",
    "patch deox B 13 setup warn\n",
    "patch deox B 14 setup warn\n",
    "patch deox B 15 setup warn\n",
    "patch deox B 16 setup warn\n",
    "patch deox B 17 setup warn\n",
    "patch deox B 18 setup warn\n",
    "patch deox B 19 setup warn\n",
    "patch deox B 20 setup warn\n",
    "patch deox B 21 setup warn\n",
    "patch deox B 22 setup warn \n",
    "\n",
    "read coor pdb name @curdir/@dna_@{{a_part}}.0.pdb offset +0\n",
    "read coor pdb name @curdir/@dna_@{{b_part}}.0.pdb offset +22\n",
    "print coor\n",
    "\n",
    "define fix select initialized .and. .not. hydrogen show end\n",
    "\n",
    "define nonH select .not. hydrogen end\n",
    "set nonHatoms = ?nsel\n",
    "define missing select .not. hydrogen .and. .not. initialized show end\n",
    "set missingatoms = ?nsel\n",
    "\n",
    "Calc fraction = (@nonHatoms - @missingatoms) / @nonHatoms\n",
    "\n",
    "\n",
    "! Use of AUTOGENERATE is essential\n",
    "autogenerate angles dihedrals \n",
    "\n",
    "! Internal Coordinate Manipulation\n",
    "ic fill preserve  !fill: autocomplete hydrogen\n",
    "ic param\n",
    "ic build\n",
    "\n",
    "scaler wmain set 0.0 sele all end\n",
    "scaler wmain set 1.0 sele fix end\n",
    "\n",
    "cons fix sele fix end\n",
    "\n",
    "mini sd   nstep 100\n",
    "mini abnr nstep 1000\n",
    "mini abnr nstep 5000\n",
    "\n",
    "open write unit 12 card name @curdir/@{{dna}}.aa.pdb\n",
    "write coor pdb unit 12\n",
    "close unit 12\n",
    "\n",
    "stop\n",
    "\n",
    "\n",
    "'''\n",
    "!echo \"{charmm_script}\" > {pdbid}.inp"
   ]
  },
  {
   "cell_type": "code",
   "execution_count": 12,
   "id": "e6abfb27-4e28-4f7c-a465-759d9bc451a6",
   "metadata": {},
   "outputs": [],
   "source": [
    "!{charmm_c43b1} < {pdbid}.inp > {pdbid}.dat"
   ]
  },
  {
   "cell_type": "markdown",
   "id": "52777b44-9b1e-4e92-a098-818e639a2886",
   "metadata": {},
   "source": [
    "### 5. Transfer charmm format to rcsb format"
   ]
  },
  {
   "cell_type": "code",
   "execution_count": 13,
   "id": "8e848651-6d92-4804-81ff-300ffa60809a",
   "metadata": {},
   "outputs": [],
   "source": [
    "!bash {charmm2rcsbformat_sh} {pdbid}.aa.pdb > {pdbid}.pgro.pdb"
   ]
  },
  {
   "cell_type": "code",
   "execution_count": 14,
   "id": "89f7d362-a16c-4fe2-9cd1-c6bb244ec622",
   "metadata": {
    "tags": []
   },
   "outputs": [
    {
     "data": {
      "text/plain": [
       "CompletedProcess(args=\"sed -i '/ A /{\\n    n;/ B /i TER\\n}' dsdna.pgro.pdb\\n\", returncode=0)"
      ]
     },
     "execution_count": 14,
     "metadata": {},
     "output_type": "execute_result"
    }
   ],
   "source": [
    "## Add TER between chain A and chain B\n",
    "import subprocess\n",
    "\n",
    "command = f\"\"\"\\\n",
    "sed -i '/ A /{{\n",
    "    n;/ B /i TER\n",
    "}}' {pdbid}.pgro.pdb\n",
    "\"\"\"\n",
    "subprocess.run(command, shell=True, check=True)"
   ]
  },
  {
   "cell_type": "markdown",
   "id": "26f4abfb-57e7-434e-abdf-503c7088be33",
   "metadata": {
    "tags": []
   },
   "source": [
    "### (optinal) 6. Visulize via PyMol"
   ]
  },
  {
   "cell_type": "code",
   "execution_count": 15,
   "id": "bf490257-8fc2-447f-b5af-76891680b34b",
   "metadata": {},
   "outputs": [
    {
     "name": "stdout",
     "output_type": "stream",
     "text": [
      " PyMOL(TM) 3.0.3 - Incentive Product\n",
      " Copyright (C) Schrodinger, LLC\n",
      " \n",
      " This Executable Build integrates and extends Open-Source PyMOL.\n",
      " License Expiry date: 01-mar-2025\n",
      " Detected OpenGL version 4.6. Shaders available.\n",
      " Detected GLSL version 4.60.\n",
      " OpenGL graphics engine:\n",
      "  GL_VENDOR:   NVIDIA Corporation\n",
      "  GL_RENDERER: NVIDIA GeForce GTX 1650/PCIe/SSE2\n",
      "  GL_VERSION:  4.6.0 NVIDIA 535.183.01\n",
      " Detected 12 CPU cores.  Enabled multithreaded rendering.\n",
      " CmdLoad: \"\" loaded as \"dsdna.pgro\".\n"
     ]
    }
   ],
   "source": [
    "!{pymol} {pdbid}.pgro.pdb"
   ]
  },
  {
   "cell_type": "code",
   "execution_count": null,
   "id": "a86d5758-9c66-4a77-9834-1ab427608424",
   "metadata": {},
   "outputs": [],
   "source": []
  }
 ],
 "metadata": {
  "kernelspec": {
   "display_name": "Python [conda env:fluctmatch]",
   "language": "python",
   "name": "conda-env-fluctmatch-py"
  },
  "language_info": {
   "codemirror_mode": {
    "name": "ipython",
    "version": 3
   },
   "file_extension": ".py",
   "mimetype": "text/x-python",
   "name": "python",
   "nbconvert_exporter": "python",
   "pygments_lexer": "ipython3",
   "version": "3.8.0"
  }
 },
 "nbformat": 4,
 "nbformat_minor": 5
}
