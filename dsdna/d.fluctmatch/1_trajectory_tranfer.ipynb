{
 "cells": [
  {
   "cell_type": "code",
   "execution_count": 1,
   "id": "bcceaffe-d261-43cc-9d08-66c4cc9a1785",
   "metadata": {
    "tags": []
   },
   "outputs": [],
   "source": [
    "import sys\n",
    "sys.path.append(\"../../smsl\")"
   ]
  },
  {
   "cell_type": "code",
   "execution_count": 2,
   "id": "7e280ece-94cf-4045-917b-85f81cda9513",
   "metadata": {
    "tags": []
   },
   "outputs": [],
   "source": [
    "from smsl.trajTransfer import MDAgent"
   ]
  },
  {
   "cell_type": "markdown",
   "id": "ae4633b5-b7e8-4258-b056-18603b480155",
   "metadata": {},
   "source": [
    "### Part0 Copy PDB and XTC data to this Folder"
   ]
  },
  {
   "cell_type": "code",
   "execution_count": 3,
   "id": "d5b590bd-2038-4452-8e7e-95f15094f41a",
   "metadata": {
    "tags": []
   },
   "outputs": [],
   "source": [
    "from glob import glob"
   ]
  },
  {
   "cell_type": "code",
   "execution_count": 4,
   "id": "3e1f0a74-5ec5-4e26-883f-ce3ac24a15fc",
   "metadata": {
    "tags": []
   },
   "outputs": [],
   "source": [
    "trajectory_data_folder = '../c.gromacs.run_md/3.trajectory_data/'\n",
    "pdbFile = f'{trajectory_data_folder}/*npt2.pdb'\n",
    "xtcFile = f'{trajectory_data_folder}/*5us500kf.xtc'\n",
    "if (len(glob(pdbFile))==0 or len(glob(xtcFile)))==0:\n",
    "    !cp {pdbFile} {xtcFile} ./"
   ]
  },
  {
   "cell_type": "markdown",
   "id": "691e4fce-0cd8-426c-bcc1-e0f075933dfc",
   "metadata": {
    "tags": []
   },
   "source": [
    "### Part1 Modify pdb info"
   ]
  },
  {
   "cell_type": "code",
   "execution_count": 5,
   "id": "9fa450fe-78d5-4353-bb01-411f30e2cbdb",
   "metadata": {
    "tags": []
   },
   "outputs": [],
   "source": [
    "seg_select = {\n",
    "'STRAND1': 'nucleic and segid A',\n",
    "'STRAND2': 'nucleic and segid B',\n",
    "'STRAND3': 'not nucleic and not (element K or element Na or element Li or element Ca)',\n",
    "}"
   ]
  },
  {
   "cell_type": "code",
   "execution_count": 6,
   "id": "f48db463-5b87-4f8d-bd36-9feea849e803",
   "metadata": {
    "tags": []
   },
   "outputs": [],
   "source": [
    "md_agent = MDAgent()"
   ]
  },
  {
   "cell_type": "code",
   "execution_count": 7,
   "id": "357bddc1-9c61-45df-920d-f5c73b4a2af7",
   "metadata": {
    "tags": []
   },
   "outputs": [
    {
     "name": "stdout",
     "output_type": "stream",
     "text": [
      "Reading PDB file: /home/user/workfolder/g4dna_protocol_demo/dsdna/d.fluctmatch/dsdna.npt2.pdb\n",
      "Reading XTC file: /home/user/workfolder/g4dna_protocol_demo/dsdna/d.fluctmatch/dsdna_5us500kf.xtc\n"
     ]
    }
   ],
   "source": [
    "md_agent.load_MDUniverse()"
   ]
  },
  {
   "cell_type": "code",
   "execution_count": 8,
   "id": "e02525f3-e4c2-47c8-8d00-8765ec41497e",
   "metadata": {
    "tags": []
   },
   "outputs": [
    {
     "name": "stdout",
     "output_type": "stream",
     "text": [
      "Split Segment ...\n",
      "  select STRAND1 for  715 atoms\n",
      "  select STRAND2 for  679 atoms\n",
      "  select STRAND3 for    0 atoms\n",
      "Guess Drug Atomtype ...\n",
      "  Guess 0 atoms\n",
      "  Elements after guess:\n",
      "  []\n",
      "Transfer Atomtype from RCSB to Charmm Format ...\n"
     ]
    }
   ],
   "source": [
    "md_agent.modify_MDUniverse(seg_select)"
   ]
  },
  {
   "cell_type": "code",
   "execution_count": 9,
   "id": "488012c5-c971-41bb-b1fe-f914e5f885c5",
   "metadata": {
    "tags": []
   },
   "outputs": [
    {
     "name": "stdout",
     "output_type": "stream",
     "text": [
      "selct 896 heavy atoms\n"
     ]
    }
   ],
   "source": [
    "md_agent.get_nohydrogen_ag()"
   ]
  },
  {
   "cell_type": "markdown",
   "id": "aad51304-3666-4ec9-9652-ed1e486fc930",
   "metadata": {},
   "source": [
    "### Part2: Writing Data to CHARMM format"
   ]
  },
  {
   "cell_type": "code",
   "execution_count": 9,
   "id": "dd038a75-6311-43bb-8309-1dece9296a5c",
   "metadata": {
    "tags": []
   },
   "outputs": [],
   "source": [
    "md_agent.load_TimeAgent()"
   ]
  },
  {
   "cell_type": "code",
   "execution_count": 10,
   "id": "ddfd77b5-d7f5-4315-bf98-47d61eb84d82",
   "metadata": {
    "tags": []
   },
   "outputs": [
    {
     "name": "stdout",
     "output_type": "stream",
     "text": [
      "Whole Trajectory: \n",
      "frame_num : 500000 frames\n",
      "time_num  : 5000 ns\n",
      "Split_num : 19\n",
      "\n",
      "===Time_list===\n",
      "\n",
      "Edit by Allen 2024/06/01\n",
      "Edit by Allen 2024/06/01\n",
      "Edit by Allen 2024/06/01\n",
      "Edit by Allen 2024/06/01\n",
      "Edit by Allen 2024/06/01\n",
      "Edit by Allen 2024/06/01\n",
      "Edit by Allen 2024/06/01\n",
      "Edit by Allen 2024/06/01\n",
      "Edit by Allen 2024/06/01\n",
      "Edit by Allen 2024/06/01\n",
      "Edit by Allen 2024/06/01\n",
      "Edit by Allen 2024/06/01\n",
      " 500 → 1000 ns\n",
      "Edit by Allen 2024/06/01\n",
      "2250 → 2750 ns\n",
      "Edit by Allen 2024/06/01\n",
      " 250 →  750 ns   0 →  500 ns\n",
      "\n",
      "Edit by Allen 2024/06/01 750 → 1250 ns1500 → 2000 ns\n",
      "\n",
      "\n",
      "2000 → 2500 ns\n",
      "Edit by Allen 2024/06/01\n",
      "Edit by Allen 2024/06/01\n",
      "Edit by Allen 2024/06/01\n",
      "Edit by Allen 2024/06/01\n",
      "2750 → 3250 ns1750 → 2250 ns\n",
      "\n",
      "1000 → 1500 ns\n",
      "2500 → 3000 ns\n",
      "1250 → 1750 ns\n",
      "3000 → 3500 ns\n",
      "4500 → 5000 ns\n",
      "4250 → 4750 ns\n",
      "4000 → 4500 ns\n",
      "3750 → 4250 ns\n",
      "3250 → 3750 ns\n",
      "3500 → 4000 ns\n"
     ]
    }
   ],
   "source": [
    "md_agent.write_all_crd_and_dcd_file()"
   ]
  },
  {
   "cell_type": "code",
   "execution_count": null,
   "id": "87d26bf7-95a6-472b-908e-c02cfad0d765",
   "metadata": {},
   "outputs": [],
   "source": []
  }
 ],
 "metadata": {
  "kernelspec": {
   "display_name": "Python [conda env:fluctmatch]",
   "language": "python",
   "name": "conda-env-fluctmatch-py"
  },
  "language_info": {
   "codemirror_mode": {
    "name": "ipython",
    "version": 3
   },
   "file_extension": ".py",
   "mimetype": "text/x-python",
   "name": "python",
   "nbconvert_exporter": "python",
   "pygments_lexer": "ipython3",
   "version": "3.8.0"
  }
 },
 "nbformat": 4,
 "nbformat_minor": 5
}
