{
 "cells": [
  {
   "cell_type": "code",
   "execution_count": null,
   "id": "323947c3-a71c-4d6a-a403-0e463a5cf366",
   "metadata": {
    "tags": []
   },
   "outputs": [],
   "source": [
    "import sys\n",
    "sys.path.append(\"../../smsl\")"
   ]
  },
  {
   "cell_type": "markdown",
   "id": "b0b4220c-61ef-42ed-bfb0-91309266e891",
   "metadata": {},
   "source": [
    "### Part 1: Initialize"
   ]
  },
  {
   "cell_type": "code",
   "execution_count": null,
   "id": "d989ce8a-3222-419a-85af-e32a85486556",
   "metadata": {
    "tags": []
   },
   "outputs": [],
   "source": [
    "from smsl.fluctMatch import FmAgent"
   ]
  },
  {
   "cell_type": "code",
   "execution_count": null,
   "id": "9d05318e-456b-451f-b394-d59f5eb1250f",
   "metadata": {
    "tags": []
   },
   "outputs": [],
   "source": [
    "fm_agent = FmAgent()\n",
    "fm_agent.load_TimeAgent()"
   ]
  },
  {
   "cell_type": "markdown",
   "id": "4cdefa1b-8d55-4fee-a488-6ef2ab890460",
   "metadata": {},
   "source": [
    "### Part 2: Write Charmm script for running NMA"
   ]
  },
  {
   "cell_type": "code",
   "execution_count": null,
   "id": "18fd935a-19aa-43e2-8ff9-c45654e20d55",
   "metadata": {
    "tags": []
   },
   "outputs": [],
   "source": [
    "## if run in crouns\n",
    "for time_label, st_agent in fm_agent.t_agent.items():\n",
    "    st_agent.bigtraj_folder = st_agent.bigtraj_folder.replace('/data/hpcUser/chu_02', '$HOME/user')"
   ]
  },
  {
   "cell_type": "code",
   "execution_count": null,
   "id": "454654fe-1939-42a7-8d8a-085a65e81d6a",
   "metadata": {
    "tags": []
   },
   "outputs": [],
   "source": [
    "fm_agent.write_all_nmascipt()"
   ]
  },
  {
   "cell_type": "markdown",
   "id": "8b523420-33f0-4413-848c-cdaeefcac9a3",
   "metadata": {},
   "source": [
    "### Part3: Running Fluctuation Matching"
   ]
  },
  {
   "cell_type": "code",
   "execution_count": null,
   "id": "ac6c7afc-b116-4809-90d4-62ab9d0bb417",
   "metadata": {
    "tags": []
   },
   "outputs": [],
   "source": [
    "import psutil\n",
    "n_cpu = psutil.cpu_count(logical=True)\n",
    "print(f'Number of threads on CPU: {n_cpu}')\n",
    "print('Parameter `max_workers` cannot bigger than this number')"
   ]
  },
  {
   "cell_type": "code",
   "execution_count": null,
   "id": "870e91c7-cc22-4718-a59c-a11cf14447a6",
   "metadata": {
    "tags": []
   },
   "outputs": [],
   "source": [
    "fm_agent.run_all_fluctmatch(max_workers=10)"
   ]
  },
  {
   "cell_type": "code",
   "execution_count": null,
   "id": "51ed122a-1e03-450b-a0b4-906724aaf604",
   "metadata": {},
   "outputs": [],
   "source": [
    "# fm_agent.t_agent['0000_0500'].fluct_match(loop_iterate=tqdm(range(1, fm_agent.iter_num+1)), verbose=1)"
   ]
  },
  {
   "cell_type": "code",
   "execution_count": null,
   "id": "0b8279fe-86ee-43d6-a207-efd289699aad",
   "metadata": {},
   "outputs": [],
   "source": []
  }
 ],
 "metadata": {
  "kernelspec": {
   "display_name": "Python [conda env:fluctmatch]",
   "language": "python",
   "name": "conda-env-fluctmatch-py"
  },
  "language_info": {
   "codemirror_mode": {
    "name": "ipython",
    "version": 3
   },
   "file_extension": ".py",
   "mimetype": "text/x-python",
   "name": "python",
   "nbconvert_exporter": "python",
   "pygments_lexer": "ipython3",
   "version": "3.8.0"
  }
 },
 "nbformat": 4,
 "nbformat_minor": 5
}
