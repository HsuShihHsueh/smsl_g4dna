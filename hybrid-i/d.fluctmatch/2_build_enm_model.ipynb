{
 "cells": [
  {
   "cell_type": "code",
   "execution_count": null,
   "id": "bcceaffe-d261-43cc-9d08-66c4cc9a1785",
   "metadata": {
    "tags": []
   },
   "outputs": [],
   "source": [
    "import sys\n",
    "sys.path.append(\"../../smsl\")"
   ]
  },
  {
   "cell_type": "code",
   "execution_count": null,
   "id": "18adcd3c-6ee9-4a9a-8603-97471b40bfce",
   "metadata": {
    "tags": []
   },
   "outputs": [],
   "source": [
    "from smsl.enmBuilder import ENMAgent"
   ]
  },
  {
   "cell_type": "markdown",
   "id": "ba3eba8c-83f9-4b4f-82dd-ba9e32f06f38",
   "metadata": {
    "tags": []
   },
   "source": [
    "### Part 3: prepare ENM files"
   ]
  },
  {
   "cell_type": "code",
   "execution_count": null,
   "id": "e1d9bf8a-6b05-4f05-b2e0-1e3b5213bf86",
   "metadata": {
    "tags": []
   },
   "outputs": [],
   "source": [
    "ENM_agent = ENMAgent()\n",
    "ENM_agent.load_TimeAgent()\n",
    "ENM_agent.load_ENMUniverse()\n",
    "ENM_agent.modify_ENMUniverse()"
   ]
  },
  {
   "cell_type": "markdown",
   "id": "eff18e14-f60f-45a2-9b30-f105bd98f8b2",
   "metadata": {},
   "source": [
    "### Part 4: connect the pair that distance < cutoff, then get the union in all windows"
   ]
  },
  {
   "cell_type": "code",
   "execution_count": null,
   "id": "c2b08326-c077-46f4-828a-676f7d5246e3",
   "metadata": {
    "tags": []
   },
   "outputs": [],
   "source": [
    "ENM_agent.get_union_bonds()"
   ]
  },
  {
   "cell_type": "code",
   "execution_count": null,
   "id": "9b73110d-a290-46f6-bbbf-46db5e6b2c74",
   "metadata": {
    "tags": []
   },
   "outputs": [],
   "source": [
    "ENM_agent.write_all_crd_rtf_str_psf_file()"
   ]
  },
  {
   "cell_type": "code",
   "execution_count": null,
   "id": "87d26bf7-95a6-472b-908e-c02cfad0d765",
   "metadata": {},
   "outputs": [],
   "source": []
  }
 ],
 "metadata": {
  "kernelspec": {
   "display_name": "Python [conda env:fluctmatch]",
   "language": "python",
   "name": "conda-env-fluctmatch-py"
  },
  "language_info": {
   "codemirror_mode": {
    "name": "ipython",
    "version": 3
   },
   "file_extension": ".py",
   "mimetype": "text/x-python",
   "name": "python",
   "nbconvert_exporter": "python",
   "pygments_lexer": "ipython3",
   "version": "3.8.0"
  }
 },
 "nbformat": 4,
 "nbformat_minor": 5
}
