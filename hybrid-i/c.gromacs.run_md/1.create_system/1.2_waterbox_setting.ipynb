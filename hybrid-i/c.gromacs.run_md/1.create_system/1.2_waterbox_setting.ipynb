{
 "cells": [
  {
   "cell_type": "markdown",
   "id": "d90e9ebd-1d60-45ed-890f-bf82c07114d5",
   "metadata": {
    "tags": []
   },
   "source": [
    "in [`gmx editconf`](https://manual.gromacs.org/current/onlinehelp/gmx-editconf.html) command<br>\n",
    "`-d` arg determined the Distance between the solute and the box<br>\n",
    "we want fix the system atom number by adjust the `-d` value<br>"
   ]
  },
  {
   "cell_type": "code",
   "execution_count": 1,
   "id": "071cd483-6a83-4f92-8964-c25b4d832838",
   "metadata": {
    "tags": []
   },
   "outputs": [],
   "source": [
    "import numpy as np\n",
    "import matplotlib.pyplot as plt\n",
    "from tqdm import tqdm"
   ]
  },
  {
   "cell_type": "code",
   "execution_count": 2,
   "id": "90edb62d-c987-4e53-8aad-fd1ab740674c",
   "metadata": {
    "tags": []
   },
   "outputs": [],
   "source": [
    "pdbid = \"2jsm\""
   ]
  },
  {
   "cell_type": "code",
   "execution_count": 3,
   "id": "42ead99e-06e3-47fe-87e0-596eda93c506",
   "metadata": {
    "tags": []
   },
   "outputs": [],
   "source": [
    "def get_n_sol(d):\n",
    "    !cp topol.top.bak1 topol.top\n",
    "    !gmx editconf -f {pdbid}.gro.pdb -o {pdbid}_dode.pdb -c yes -d {d} -bt dodecahedron > /dev/null 2>&1\n",
    "    !gmx solvate -cp {pdbid}_dode.pdb -cs spc216.gro -o {pdbid}_solv.pdb -p topol.top > /dev/null 2>&1\n",
    "    sol = !grep \"SOL\" topol.top\n",
    "    n_sol = int(sol[0].split()[1])\n",
    "    return n_sol"
   ]
  },
  {
   "cell_type": "code",
   "execution_count": 4,
   "id": "04813c44-d412-4120-a60f-ca4a1a9396ab",
   "metadata": {
    "tags": []
   },
   "outputs": [],
   "source": [
    "def get_box(d):\n",
    "    !cp topol.top.bak1 topol.top\n",
    "    !gmx editconf -f {pdbid}.gro.pdb -o {pdbid}_dode.pdb -c yes -d {d} -bt dodecahedron >editconf.txt 2>&1\n",
    "    volume = !grep \"new box volume\" editconf.txt\n",
    "    volume = float(volume[0].split()[4])\n",
    "    return volume"
   ]
  },
  {
   "cell_type": "code",
   "execution_count": 5,
   "id": "20ac06ba-352a-4ae9-a470-0f979b1b963a",
   "metadata": {
    "tags": []
   },
   "outputs": [],
   "source": [
    "def get_n_atoms(d):\n",
    "    !cp topol.top.bak1 topol.top\n",
    "    !gmx editconf -f {pdbid}.gro.pdb -o {pdbid}_dode.pdb -c yes -d {d} -bt dodecahedron > /dev/null 2>&1\n",
    "    !gmx solvate -cp {pdbid}_dode.pdb -cs spc216.gro -o {pdbid}_solv.pdb -p topol.top >solvate.txt 2>&1\n",
    "    atoms = !grep \"Solvent box contains\" solvate.txt\n",
    "    n_atoms = int(atoms[0].split()[3])\n",
    "    return n_atoms"
   ]
  },
  {
   "cell_type": "markdown",
   "id": "29db112d-9c08-4dac-805f-2af976575c0e",
   "metadata": {},
   "source": [
    "### Plot d v.s. Volume (linear)"
   ]
  },
  {
   "cell_type": "code",
   "execution_count": null,
   "id": "cc036f40-532b-4af9-ac50-e23354ead099",
   "metadata": {
    "tags": []
   },
   "outputs": [],
   "source": [
    "!rm \\#topol.top* \\#{pdbid}*\n",
    "d2volume = {}\n",
    "for d in tqdm(np.linspace(0.720, 0.740, 51)):\n",
    "    volume = get_box(d)\n",
    "    d2volume[np.round(d, decimals=15)] = volume"
   ]
  },
  {
   "cell_type": "code",
   "execution_count": null,
   "id": "23a88f8b-893e-452f-9342-65ed83997e1d",
   "metadata": {
    "tags": []
   },
   "outputs": [],
   "source": [
    "plt.plot(d2volume.keys(), d2volume.values())\n",
    "plt.scatter(d2volume.keys(), d2volume.values())\n",
    "plt.xlabel('d')\n",
    "plt.ylabel('volume')"
   ]
  },
  {
   "cell_type": "markdown",
   "id": "0774063e-587f-4be6-833c-8d1a1c449d9a",
   "metadata": {},
   "source": [
    "### Plot d v.s. n_sol (non-linear)\n",
    "in wtTel22, we want fix n_sol = **3854**"
   ]
  },
  {
   "cell_type": "code",
   "execution_count": 46,
   "id": "68d71232-a189-4e8c-b298-45dda81cbc1e",
   "metadata": {
    "tags": []
   },
   "outputs": [
    {
     "name": "stdout",
     "output_type": "stream",
     "text": [
      "rm: cannot remove '#topol.top*': No such file or directory\n",
      "rm: cannot remove '#2jsm*': No such file or directory\n"
     ]
    },
    {
     "name": "stderr",
     "output_type": "stream",
     "text": [
      "100%|██████████| 81/81 [01:08<00:00,  1.17it/s]\n"
     ]
    }
   ],
   "source": [
    "!rm \\#topol.top* \\#{pdbid}*\n",
    "d2n_sol = {}\n",
    "for d in tqdm(np.linspace(1.1986, 1.1987, 81)):\n",
    "    n_sol = get_n_sol(d)\n",
    "    d2n_sol[np.round(d, decimals=15)] = n_sol"
   ]
  },
  {
   "cell_type": "code",
   "execution_count": 47,
   "id": "932e5c5a-eb34-4bc9-b579-741ce1b01b7a",
   "metadata": {
    "tags": []
   },
   "outputs": [
    {
     "data": {
      "image/png": "[encoded data removed]",
      "text/plain": [
       "<Figure size 640x480 with 1 Axes>"
      ]
     },
     "metadata": {},
     "output_type": "display_data"
    }
   ],
   "source": [
    "plt.plot(d2n_sol.keys(), d2n_sol.values())\n",
    "plt.scatter(d2n_sol.keys(), d2n_sol.values())\n",
    "plt.xlabel('d')\n",
    "plt.ylabel('n_sol')\n",
    "plt.xticks(rotation=90)\n",
    "plt.show()"
   ]
  },
  {
   "cell_type": "markdown",
   "id": "6cb61a32-ae71-4831-958e-bfe39e7289d6",
   "metadata": {},
   "source": [
    "Since there is no way fix n_sol to 3854 <br>\n",
    "use `-maxsol 3854` arg in `gmx solvent` command to fix the atom number"
   ]
  },
  {
   "cell_type": "code",
   "execution_count": 48,
   "id": "03603291-0450-4b09-87b7-d021096dbb5a",
   "metadata": {
    "tags": []
   },
   "outputs": [
    {
     "data": {
      "text/plain": [
       "{1.1986: 3852,\n",
       " 1.19860125: 3852,\n",
       " 1.1986025: 3852,\n",
       " 1.19860375: 3852,\n",
       " 1.198605: 3852,\n",
       " 1.19860625: 3852,\n",
       " 1.1986075: 3852,\n",
       " 1.19860875: 3852,\n",
       " 1.19861: 3852,\n",
       " 1.19861125: 3852,\n",
       " 1.1986125: 3852,\n",
       " 1.19861375: 3852,\n",
       " 1.198615: 3852,\n",
       " 1.19861625: 3852,\n",
       " 1.1986175: 3852,\n",
       " 1.19861875: 3852,\n",
       " 1.19862: 3852,\n",
       " 1.19862125: 3852,\n",
       " 1.1986225: 3852,\n",
       " 1.19862375: 3852,\n",
       " 1.198625: 3852,\n",
       " 1.19862625: 3852,\n",
       " 1.1986275: 3852,\n",
       " 1.19862875: 3852,\n",
       " 1.19863: 3852,\n",
       " 1.19863125: 3852,\n",
       " 1.1986325: 3852,\n",
       " 1.19863375: 3852,\n",
       " 1.198635: 3852,\n",
       " 1.19863625: 3852,\n",
       " 1.1986375: 3852,\n",
       " 1.19863875: 3852,\n",
       " 1.19864: 3852,\n",
       " 1.19864125: 3852,\n",
       " 1.1986425: 3852,\n",
       " 1.19864375: 3852,\n",
       " 1.198645: 3852,\n",
       " 1.19864625: 3852,\n",
       " 1.1986475: 3852,\n",
       " 1.19864875: 3852,\n",
       " 1.19865: 3852,\n",
       " 1.19865125: 3852,\n",
       " 1.1986525: 3852,\n",
       " 1.19865375: 3852,\n",
       " 1.198655: 3852,\n",
       " 1.19865625: 3852,\n",
       " 1.1986575: 3852,\n",
       " 1.19865875: 3852,\n",
       " 1.19866: 3852,\n",
       " 1.19866125: 3852,\n",
       " 1.1986625: 3852,\n",
       " 1.19866375: 3852,\n",
       " 1.198665: 3852,\n",
       " 1.19866625: 3852,\n",
       " 1.1986675: 3852,\n",
       " 1.19866875: 3852,\n",
       " 1.19867: 3852,\n",
       " 1.19867125: 3852,\n",
       " 1.1986725: 3852,\n",
       " 1.19867375: 3852,\n",
       " 1.198675: 3852,\n",
       " 1.19867625: 3852,\n",
       " 1.1986775: 3852,\n",
       " 1.19867875: 3852,\n",
       " 1.19868: 3852,\n",
       " 1.19868125: 3852,\n",
       " 1.1986825: 3852,\n",
       " 1.19868375: 3852,\n",
       " 1.198685: 3852,\n",
       " 1.19868625: 3852,\n",
       " 1.1986875: 3852,\n",
       " 1.19868875: 3852,\n",
       " 1.19869: 3852,\n",
       " 1.19869125: 3852,\n",
       " 1.1986925: 3852,\n",
       " 1.19869375: 3853,\n",
       " 1.198695: 3855,\n",
       " 1.19869625: 3855,\n",
       " 1.1986975: 3855,\n",
       " 1.19869875: 3855,\n",
       " 1.1987: 3855}"
      ]
     },
     "execution_count": 48,
     "metadata": {},
     "output_type": "execute_result"
    }
   ],
   "source": [
    "d2n_sol"
   ]
  },
  {
   "cell_type": "code",
   "execution_count": null,
   "id": "9d0371b2-a8cb-49c1-8379-128686415fc7",
   "metadata": {},
   "outputs": [],
   "source": []
  }
 ],
 "metadata": {
  "kernelspec": {
   "display_name": "Python 3 (ipykernel)",
   "language": "python",
   "name": "python3"
  },
  "language_info": {
   "codemirror_mode": {
    "name": "ipython",
    "version": 3
   },
   "file_extension": ".py",
   "mimetype": "text/x-python",
   "name": "python",
   "nbconvert_exporter": "python",
   "pygments_lexer": "ipython3",
   "version": "3.7.4"
  }
 },
 "nbformat": 4,
 "nbformat_minor": 5
}
