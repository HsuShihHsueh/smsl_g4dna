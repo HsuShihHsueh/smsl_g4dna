{
 "cells": [
  {
   "cell_type": "code",
   "execution_count": 1,
   "id": "bcceaffe-d261-43cc-9d08-66c4cc9a1785",
   "metadata": {
    "tags": []
   },
   "outputs": [],
   "source": [
    "import sys\n",
    "sys.path.append(\"../SMSL\")"
   ]
  },
  {
   "cell_type": "code",
   "execution_count": 2,
   "id": "7e280ece-94cf-4045-917b-85f81cda9513",
   "metadata": {},
   "outputs": [],
   "source": [
    "from SMSL.trajTransfer import MDAgent"
   ]
  },
  {
   "cell_type": "markdown",
   "id": "691e4fce-0cd8-426c-bcc1-e0f075933dfc",
   "metadata": {
    "tags": []
   },
   "source": [
    "### Part1 Modify pdb info"
   ]
  },
  {
   "cell_type": "code",
   "execution_count": 3,
   "id": "9fa450fe-78d5-4353-bb01-411f30e2cbdb",
   "metadata": {
    "tags": []
   },
   "outputs": [],
   "source": [
    "seg_select = {\n",
    "'STRAND1': 'nucleic',\n",
    "'STRAND2': '(element K or element Na or element Li or element Ca)',\n",
    "'STRAND3': 'not nucleic and not (element K or element Na or element Li or element Ca)',\n",
    "}\n"
   ]
  },
  {
   "cell_type": "code",
   "execution_count": 4,
   "id": "f48db463-5b87-4f8d-bd36-9feea849e803",
   "metadata": {},
   "outputs": [],
   "source": [
    "md_agent = MDAgent()"
   ]
  },
  {
   "cell_type": "code",
   "execution_count": 5,
   "id": "357bddc1-9c61-45df-920d-f5c73b4a2af7",
   "metadata": {},
   "outputs": [
    {
     "name": "stdout",
     "output_type": "stream",
     "text": [
      "Reading PDB file: 143d.npt2.pdb\n",
      "Reading XTC file: 143d_5us500kf.xtc\n"
     ]
    }
   ],
   "source": [
    "md_agent.load_MDUniverse()"
   ]
  },
  {
   "cell_type": "code",
   "execution_count": 6,
   "id": "e02525f3-e4c2-47c8-8d00-8765ec41497e",
   "metadata": {
    "tags": []
   },
   "outputs": [
    {
     "name": "stdout",
     "output_type": "stream",
     "text": [
      "Split Segment ...\n",
      "  select STRAND1 for  715 atoms\n",
      "  select STRAND2 for    2 atoms\n",
      "  select STRAND3 for    0 atoms\n",
      "Guess Drug Atomtype ...\n",
      "  Guess 0 atoms\n",
      "  Elements after guess:\n",
      "  []\n",
      "Transfer Atomtype from RCSB to Charmm Format ...\n"
     ]
    }
   ],
   "source": [
    "md_agent.modify_MDUniverse(seg_select)"
   ]
  },
  {
   "cell_type": "code",
   "execution_count": 7,
   "id": "488012c5-c971-41bb-b1fe-f914e5f885c5",
   "metadata": {},
   "outputs": [
    {
     "name": "stdout",
     "output_type": "stream",
     "text": [
      "selct 467 heavy atoms\n"
     ]
    }
   ],
   "source": [
    "md_agent.get_nohydrogen_ag()"
   ]
  },
  {
   "cell_type": "markdown",
   "id": "aad51304-3666-4ec9-9652-ed1e486fc930",
   "metadata": {},
   "source": [
    "### Part2: Writing Data to CHARMM format"
   ]
  },
  {
   "cell_type": "code",
   "execution_count": 8,
   "id": "dd038a75-6311-43bb-8309-1dece9296a5c",
   "metadata": {
    "tags": []
   },
   "outputs": [],
   "source": [
    "md_agent.load_TimeAgent()"
   ]
  },
  {
   "cell_type": "code",
   "execution_count": 14,
   "id": "fb6b480d-eacb-4434-b93a-d3998c373b21",
   "metadata": {},
   "outputs": [
    {
     "name": "stdout",
     "output_type": "stream",
     "text": [
      "Edit by Allen 2024/06/01\n",
      "Edit by Allen 2024/06/01\n",
      "Edit by Allen 2024/06/01\n",
      "Edit by Allen 2024/06/01\n",
      "Edit by Allen 2024/06/01\n",
      "Edit by Allen 2024/06/01\n",
      "Edit by Allen 2024/06/01\n",
      "Edit by Allen 2024/06/01\n",
      "Edit by Allen 2024/06/01\n",
      "Edit by Allen 2024/06/01\n",
      "Edit by Allen 2024/06/01\n",
      "Edit by Allen 2024/06/01\n",
      "Edit by Allen 2024/06/01\n",
      "Edit by Allen 2024/06/01\n",
      "Edit by Allen 2024/06/01\n",
      "Edit by Allen 2024/06/01\n",
      "Edit by Allen 2024/06/01\n",
      "Edit by Allen 2024/06/01\n",
      "Edit by Allen 2024/06/01\n"
     ]
    }
   ],
   "source": [
    "from multiprocessing import Process, Queue\n",
    "\n",
    "queue = Queue()\n",
    "for time_label, st_agent in md_agent.t_agent.items():\n",
    "    md_agent.write_crd_and_dcd_file(st_agent, queue)"
   ]
  },
  {
   "cell_type": "code",
   "execution_count": 15,
   "id": "ddfd77b5-d7f5-4315-bf98-47d61eb84d82",
   "metadata": {
    "tags": []
   },
   "outputs": [],
   "source": [
    "# md_agent.write_all_crd_and_dcd_file()"
   ]
  },
  {
   "cell_type": "code",
   "execution_count": null,
   "id": "87d26bf7-95a6-472b-908e-c02cfad0d765",
   "metadata": {},
   "outputs": [],
   "source": []
  }
 ],
 "metadata": {
  "kernelspec": {
   "display_name": "Python 3 (ipykernel)",
   "language": "python",
   "name": "python3"
  },
  "language_info": {
   "codemirror_mode": {
    "name": "ipython",
    "version": 3
   },
   "file_extension": ".py",
   "mimetype": "text/x-python",
   "name": "python",
   "nbconvert_exporter": "python",
   "pygments_lexer": "ipython3",
   "version": "3.8.16"
  }
 },
 "nbformat": 4,
 "nbformat_minor": 5
}
