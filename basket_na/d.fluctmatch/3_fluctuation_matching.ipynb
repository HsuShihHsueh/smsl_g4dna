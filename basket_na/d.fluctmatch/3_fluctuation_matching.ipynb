{
 "cells": [
  {
   "cell_type": "code",
   "execution_count": 1,
   "id": "323947c3-a71c-4d6a-a403-0e463a5cf366",
   "metadata": {
    "tags": []
   },
   "outputs": [],
   "source": [
    "import sys\n",
    "sys.path.append(\"../SMSL\")"
   ]
  },
  {
   "cell_type": "markdown",
   "id": "b0b4220c-61ef-42ed-bfb0-91309266e891",
   "metadata": {},
   "source": [
    "### Part 1: Initialize"
   ]
  },
  {
   "cell_type": "code",
   "execution_count": 2,
   "id": "d989ce8a-3222-419a-85af-e32a85486556",
   "metadata": {},
   "outputs": [],
   "source": [
    "from SMSL.fluctMatch import FmAgent"
   ]
  },
  {
   "cell_type": "code",
   "execution_count": 3,
   "id": "9d05318e-456b-451f-b394-d59f5eb1250f",
   "metadata": {
    "tags": []
   },
   "outputs": [],
   "source": [
    "fm_agent = FmAgent()\n",
    "fm_agent.load_TimeAgent()"
   ]
  },
  {
   "cell_type": "markdown",
   "id": "4cdefa1b-8d55-4fee-a488-6ef2ab890460",
   "metadata": {},
   "source": [
    "### Part 2: Write Charmm script for running NMA"
   ]
  },
  {
   "cell_type": "code",
   "execution_count": 4,
   "id": "454654fe-1939-42a7-8d8a-085a65e81d6a",
   "metadata": {},
   "outputs": [],
   "source": [
    "fm_agent.write_all_nmascipt()"
   ]
  },
  {
   "cell_type": "markdown",
   "id": "8b523420-33f0-4413-848c-cdaeefcac9a3",
   "metadata": {},
   "source": [
    "### Part3: Running Fluctuation Matching"
   ]
  },
  {
   "cell_type": "code",
   "execution_count": 5,
   "id": "870e91c7-cc22-4718-a59c-a11cf14447a6",
   "metadata": {
    "tags": []
   },
   "outputs": [
    {
     "data": {
      "application/vnd.jupyter.widget-view+json": {
       "model_id": "56f191c714e7457798fa4c28fb753161",
       "version_major": 2,
       "version_minor": 0
      },
      "text/plain": [
       "Window 0000_0500:   0%|          | 0/250 [00:00<?, ?it/s]"
      ]
     },
     "metadata": {},
     "output_type": "display_data"
    },
    {
     "data": {
      "application/vnd.jupyter.widget-view+json": {
       "model_id": "6a52437a87914f0e9efc3ee356d86208",
       "version_major": 2,
       "version_minor": 0
      },
      "text/plain": [
       "Window 0250_0750:   0%|          | 0/250 [00:00<?, ?it/s]"
      ]
     },
     "metadata": {},
     "output_type": "display_data"
    },
    {
     "data": {
      "application/vnd.jupyter.widget-view+json": {
       "model_id": "fd31eb76fdfe4667a25c2eb4ef8b8363",
       "version_major": 2,
       "version_minor": 0
      },
      "text/plain": [
       "Window 0500_1000:   0%|          | 0/250 [00:00<?, ?it/s]"
      ]
     },
     "metadata": {},
     "output_type": "display_data"
    },
    {
     "data": {
      "application/vnd.jupyter.widget-view+json": {
       "model_id": "0f709c5fd9a646acab9f9b0417b4961f",
       "version_major": 2,
       "version_minor": 0
      },
      "text/plain": [
       "Window 0750_1250:   0%|          | 0/250 [00:00<?, ?it/s]"
      ]
     },
     "metadata": {},
     "output_type": "display_data"
    },
    {
     "data": {
      "application/vnd.jupyter.widget-view+json": {
       "model_id": "199b8792068b4e19a2dd315d3ef27ad3",
       "version_major": 2,
       "version_minor": 0
      },
      "text/plain": [
       "Window 1000_1500:   0%|          | 0/250 [00:00<?, ?it/s]"
      ]
     },
     "metadata": {},
     "output_type": "display_data"
    },
    {
     "data": {
      "application/vnd.jupyter.widget-view+json": {
       "model_id": "83f2866b283e456f80e7aba3604c7f78",
       "version_major": 2,
       "version_minor": 0
      },
      "text/plain": [
       "Window 1250_1750:   0%|          | 0/250 [00:00<?, ?it/s]"
      ]
     },
     "metadata": {},
     "output_type": "display_data"
    },
    {
     "data": {
      "application/vnd.jupyter.widget-view+json": {
       "model_id": "9232f7925dca4252827be0b4d2c21060",
       "version_major": 2,
       "version_minor": 0
      },
      "text/plain": [
       "Window 1500_2000:   0%|          | 0/250 [00:00<?, ?it/s]"
      ]
     },
     "metadata": {},
     "output_type": "display_data"
    },
    {
     "data": {
      "application/vnd.jupyter.widget-view+json": {
       "model_id": "42a055e0d54d436a92412c51648046cb",
       "version_major": 2,
       "version_minor": 0
      },
      "text/plain": [
       "Window 1750_2250:   0%|          | 0/250 [00:00<?, ?it/s]"
      ]
     },
     "metadata": {},
     "output_type": "display_data"
    },
    {
     "data": {
      "application/vnd.jupyter.widget-view+json": {
       "model_id": "8c2feddcbd67407bb738a13a5283cdf4",
       "version_major": 2,
       "version_minor": 0
      },
      "text/plain": [
       "Window 2000_2500:   0%|          | 0/250 [00:00<?, ?it/s]"
      ]
     },
     "metadata": {},
     "output_type": "display_data"
    },
    {
     "data": {
      "application/vnd.jupyter.widget-view+json": {
       "model_id": "82fdb1cf3715426fbf5102f679383e69",
       "version_major": 2,
       "version_minor": 0
      },
      "text/plain": [
       "Window 2250_2750:   0%|          | 0/250 [00:00<?, ?it/s]"
      ]
     },
     "metadata": {},
     "output_type": "display_data"
    },
    {
     "data": {
      "application/vnd.jupyter.widget-view+json": {
       "model_id": "27216a735d614b86a4f6dba1d8ce34b2",
       "version_major": 2,
       "version_minor": 0
      },
      "text/plain": [
       "Window 2500_3000:   0%|          | 0/250 [00:00<?, ?it/s]"
      ]
     },
     "metadata": {},
     "output_type": "display_data"
    },
    {
     "data": {
      "application/vnd.jupyter.widget-view+json": {
       "model_id": "4917f945c2814d88a213d0882f080756",
       "version_major": 2,
       "version_minor": 0
      },
      "text/plain": [
       "Window 2750_3250:   0%|          | 0/250 [00:00<?, ?it/s]"
      ]
     },
     "metadata": {},
     "output_type": "display_data"
    },
    {
     "data": {
      "application/vnd.jupyter.widget-view+json": {
       "model_id": "c09e278983244eb792af8ffc34762066",
       "version_major": 2,
       "version_minor": 0
      },
      "text/plain": [
       "Window 3000_3500:   0%|          | 0/250 [00:00<?, ?it/s]"
      ]
     },
     "metadata": {},
     "output_type": "display_data"
    },
    {
     "data": {
      "application/vnd.jupyter.widget-view+json": {
       "model_id": "d72cb30699154f57bddd337b0bbb3dcd",
       "version_major": 2,
       "version_minor": 0
      },
      "text/plain": [
       "Window 3250_3750:   0%|          | 0/250 [00:00<?, ?it/s]"
      ]
     },
     "metadata": {},
     "output_type": "display_data"
    },
    {
     "data": {
      "application/vnd.jupyter.widget-view+json": {
       "model_id": "8699d419061f44ff82ba403adf452703",
       "version_major": 2,
       "version_minor": 0
      },
      "text/plain": [
       "Window 3500_4000:   0%|          | 0/250 [00:00<?, ?it/s]"
      ]
     },
     "metadata": {},
     "output_type": "display_data"
    },
    {
     "data": {
      "application/vnd.jupyter.widget-view+json": {
       "model_id": "067d50218b48426d838d0e026e97dbd0",
       "version_major": 2,
       "version_minor": 0
      },
      "text/plain": [
       "Window 3750_4250:   0%|          | 0/250 [00:00<?, ?it/s]"
      ]
     },
     "metadata": {},
     "output_type": "display_data"
    },
    {
     "data": {
      "application/vnd.jupyter.widget-view+json": {
       "model_id": "4338f77b523f40e285abbc4d5d187f36",
       "version_major": 2,
       "version_minor": 0
      },
      "text/plain": [
       "Window 4000_4500:   0%|          | 0/250 [00:00<?, ?it/s]"
      ]
     },
     "metadata": {},
     "output_type": "display_data"
    },
    {
     "data": {
      "application/vnd.jupyter.widget-view+json": {
       "model_id": "1c6cdb2853d84ae6901f01ee9fe3cdd5",
       "version_major": 2,
       "version_minor": 0
      },
      "text/plain": [
       "Window 4250_4750:   0%|          | 0/250 [00:00<?, ?it/s]"
      ]
     },
     "metadata": {},
     "output_type": "display_data"
    },
    {
     "data": {
      "application/vnd.jupyter.widget-view+json": {
       "model_id": "c49f06c631c5422ab938010c8096a7f7",
       "version_major": 2,
       "version_minor": 0
      },
      "text/plain": [
       "Window 4500_5000:   0%|          | 0/250 [00:00<?, ?it/s]"
      ]
     },
     "metadata": {},
     "output_type": "display_data"
    },
    {
     "name": "stderr",
     "output_type": "stream",
     "text": [
      "/home/chu_02/.conda/envs/fluctmatch/lib/python3.8/site-packages/MDAnalysis/coordinates/DCD.py:165: DeprecationWarning: DCDReader currently makes independent timesteps by copying self.ts while other readers update self.ts inplace. This behavior will be changed in 3.0 to be the same as other readers. Read more at https://github.com/MDAnalysis/mdanalysis/issues/3889 to learn if this change in behavior might affect you.\n",
      "  warnings.warn(\"DCDReader currently makes independent timesteps\"\n"
     ]
    }
   ],
   "source": [
    "fm_agent.run_all_fluctmatch(max_workers=48)"
   ]
  },
  {
   "cell_type": "code",
   "execution_count": 6,
   "id": "51ed122a-1e03-450b-a0b4-906724aaf604",
   "metadata": {},
   "outputs": [],
   "source": [
    "# from tqdm import tqdm\n",
    "# fm_agent.t_agent['0000_0500'].fluct_match(loop_iterate=tqdm(range(1, fm_agent.iter_num+1)), verbose=1)"
   ]
  },
  {
   "cell_type": "code",
   "execution_count": null,
   "id": "0b8279fe-86ee-43d6-a207-efd289699aad",
   "metadata": {},
   "outputs": [],
   "source": []
  }
 ],
 "metadata": {
  "kernelspec": {
   "display_name": "Python 3 (ipykernel)",
   "language": "python",
   "name": "python3"
  },
  "language_info": {
   "codemirror_mode": {
    "name": "ipython",
    "version": 3
   },
   "file_extension": ".py",
   "mimetype": "text/x-python",
   "name": "python",
   "nbconvert_exporter": "python",
   "pygments_lexer": "ipython3",
   "version": "3.7.4"
  }
 },
 "nbformat": 4,
 "nbformat_minor": 5
}
