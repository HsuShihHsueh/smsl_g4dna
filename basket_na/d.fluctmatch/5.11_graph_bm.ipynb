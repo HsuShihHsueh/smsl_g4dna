{
 "cells": [
  {
   "cell_type": "code",
   "execution_count": 1,
   "id": "c0d3260c-7c2d-4a20-9374-3d3adf1a094a",
   "metadata": {
    "tags": []
   },
   "outputs": [],
   "source": [
    "import sys\n",
    "sys.path.append(\"../../smsl\")"
   ]
  },
  {
   "cell_type": "code",
   "execution_count": 2,
   "id": "e7b5bbe2-2cf6-442c-a32b-f0b6e3ccecd9",
   "metadata": {
    "tags": []
   },
   "outputs": [],
   "source": [
    "from smsl.graphBigtraj import BigTrajGraphAgent\n",
    "from smsl.graph import BM\n",
    "\n",
    "import warnings; warnings.filterwarnings(\"ignore\")\n",
    "import numpy as np"
   ]
  },
  {
   "cell_type": "code",
   "execution_count": 3,
   "id": "fa3e2df7-a4d8-48a2-81d5-e9f1e697c730",
   "metadata": {
    "tags": []
   },
   "outputs": [],
   "source": [
    "## 見論文表B.7\n",
    "n_mode=45          ## $\\alpha_c$\n",
    "vlv_threshold=0.05 ## $\\nu_{\\text{c}}$\n",
    "pe_threshold=0.5   ## $\\kappa_{\\text{c}}$"
   ]
  },
  {
   "cell_type": "code",
   "execution_count": 4,
   "id": "7d03e55c-75f0-43c3-ae7b-4aa709d030af",
   "metadata": {
    "tags": []
   },
   "outputs": [
    {
     "name": "stdout",
     "output_type": "stream",
     "text": [
      "Reading data from: /home/user/workfolder/g4dna_protocol_demo/basket_na/d.fluctmatch/bigtraj_fluctmatch/0000_0500/result/pairtypes_k_b0_cutoff_5.00.csv\n",
      "Reading data from: /home/user/workfolder/g4dna_protocol_demo/basket_na/d.fluctmatch/bigtraj_fluctmatch/0250_0750/result/pairtypes_k_b0_cutoff_5.00.csv\n",
      "Reading data from: /home/user/workfolder/g4dna_protocol_demo/basket_na/d.fluctmatch/bigtraj_fluctmatch/0500_1000/result/pairtypes_k_b0_cutoff_5.00.csv\n",
      "Reading data from: /home/user/workfolder/g4dna_protocol_demo/basket_na/d.fluctmatch/bigtraj_fluctmatch/0750_1250/result/pairtypes_k_b0_cutoff_5.00.csv\n",
      "Reading data from: /home/user/workfolder/g4dna_protocol_demo/basket_na/d.fluctmatch/bigtraj_fluctmatch/1000_1500/result/pairtypes_k_b0_cutoff_5.00.csv\n",
      "Reading data from: /home/user/workfolder/g4dna_protocol_demo/basket_na/d.fluctmatch/bigtraj_fluctmatch/1250_1750/result/pairtypes_k_b0_cutoff_5.00.csv\n",
      "Reading data from: /home/user/workfolder/g4dna_protocol_demo/basket_na/d.fluctmatch/bigtraj_fluctmatch/1500_2000/result/pairtypes_k_b0_cutoff_5.00.csv\n",
      "Reading data from: /home/user/workfolder/g4dna_protocol_demo/basket_na/d.fluctmatch/bigtraj_fluctmatch/1750_2250/result/pairtypes_k_b0_cutoff_5.00.csv\n",
      "Reading data from: /home/user/workfolder/g4dna_protocol_demo/basket_na/d.fluctmatch/bigtraj_fluctmatch/2000_2500/result/pairtypes_k_b0_cutoff_5.00.csv\n",
      "Reading data from: /home/user/workfolder/g4dna_protocol_demo/basket_na/d.fluctmatch/bigtraj_fluctmatch/2250_2750/result/pairtypes_k_b0_cutoff_5.00.csv\n",
      "Reading data from: /home/user/workfolder/g4dna_protocol_demo/basket_na/d.fluctmatch/bigtraj_fluctmatch/2500_3000/result/pairtypes_k_b0_cutoff_5.00.csv\n",
      "Reading data from: /home/user/workfolder/g4dna_protocol_demo/basket_na/d.fluctmatch/bigtraj_fluctmatch/2750_3250/result/pairtypes_k_b0_cutoff_5.00.csv\n",
      "Reading data from: /home/user/workfolder/g4dna_protocol_demo/basket_na/d.fluctmatch/bigtraj_fluctmatch/3000_3500/result/pairtypes_k_b0_cutoff_5.00.csv\n",
      "Reading data from: /home/user/workfolder/g4dna_protocol_demo/basket_na/d.fluctmatch/bigtraj_fluctmatch/3250_3750/result/pairtypes_k_b0_cutoff_5.00.csv\n",
      "Reading data from: /home/user/workfolder/g4dna_protocol_demo/basket_na/d.fluctmatch/bigtraj_fluctmatch/3500_4000/result/pairtypes_k_b0_cutoff_5.00.csv\n",
      "Reading data from: /home/user/workfolder/g4dna_protocol_demo/basket_na/d.fluctmatch/bigtraj_fluctmatch/3750_4250/result/pairtypes_k_b0_cutoff_5.00.csv\n",
      "Reading data from: /home/user/workfolder/g4dna_protocol_demo/basket_na/d.fluctmatch/bigtraj_fluctmatch/4000_4500/result/pairtypes_k_b0_cutoff_5.00.csv\n",
      "Reading data from: /home/user/workfolder/g4dna_protocol_demo/basket_na/d.fluctmatch/bigtraj_fluctmatch/4250_4750/result/pairtypes_k_b0_cutoff_5.00.csv\n",
      "Reading data from: /home/user/workfolder/g4dna_protocol_demo/basket_na/d.fluctmatch/bigtraj_fluctmatch/4500_5000/result/pairtypes_k_b0_cutoff_5.00.csv\n",
      "Reading data from: /home/user/workfolder/g4dna_protocol_demo/basket_na/d.fluctmatch/bigtraj_fluctmatch/0000_5000/result/pairtypes_k_b0_cutoff_5.00.csv\n"
     ]
    }
   ],
   "source": [
    "b_agent = BigTrajGraphAgent(BM)"
   ]
  },
  {
   "cell_type": "code",
   "execution_count": 5,
   "id": "bb7a1e60-4cc7-4749-8d34-168b05f9a474",
   "metadata": {
    "tags": []
   },
   "outputs": [
    {
     "name": "stdout",
     "output_type": "stream",
     "text": [
      "Thare are 467 nodes.\n",
      "Initialize adjacency, degree and Laplacian matrices... Done.\n",
      "Finish the setup for Laplaican matrix.\n",
      "Thare are 467 nodes.\n",
      "Initialize adjacency, degree and Laplacian matrices... Done.\n",
      "Finish the setup for Laplaican matrix.\n",
      "Thare are 467 nodes.\n",
      "Initialize adjacency, degree and Laplacian matrices... Done.\n",
      "Finish the setup for Laplaican matrix.\n",
      "Thare are 467 nodes.\n",
      "Initialize adjacency, degree and Laplacian matrices... Done.\n",
      "Finish the setup for Laplaican matrix.\n",
      "Thare are 467 nodes.\n",
      "Initialize adjacency, degree and Laplacian matrices... Done.\n",
      "Finish the setup for Laplaican matrix.\n",
      "Thare are 467 nodes.\n",
      "Initialize adjacency, degree and Laplacian matrices... Done.\n",
      "Finish the setup for Laplaican matrix.\n",
      "Thare are 467 nodes.\n",
      "Initialize adjacency, degree and Laplacian matrices... Done.\n",
      "Finish the setup for Laplaican matrix.\n",
      "Thare are 467 nodes.\n",
      "Initialize adjacency, degree and Laplacian matrices... Done.\n",
      "Finish the setup for Laplaican matrix.\n",
      "Thare are 467 nodes.\n",
      "Initialize adjacency, degree and Laplacian matrices... Done.\n",
      "Finish the setup for Laplaican matrix.\n",
      "Thare are 467 nodes.\n",
      "Initialize adjacency, degree and Laplacian matrices... Done.\n",
      "Finish the setup for Laplaican matrix.\n",
      "Thare are 467 nodes.\n",
      "Initialize adjacency, degree and Laplacian matrices... Done.\n",
      "Finish the setup for Laplaican matrix.\n",
      "Thare are 467 nodes.\n",
      "Initialize adjacency, degree and Laplacian matrices... Done.\n",
      "Finish the setup for Laplaican matrix.\n",
      "Thare are 467 nodes.\n",
      "Initialize adjacency, degree and Laplacian matrices... Done.\n",
      "Finish the setup for Laplaican matrix.\n",
      "Thare are 467 nodes.\n",
      "Initialize adjacency, degree and Laplacian matrices... Done.\n",
      "Finish the setup for Laplaican matrix.\n",
      "Thare are 467 nodes.\n",
      "Initialize adjacency, degree and Laplacian matrices... Done.\n",
      "Finish the setup for Laplaican matrix.\n",
      "Thare are 467 nodes.\n",
      "Initialize adjacency, degree and Laplacian matrices... Done.\n",
      "Finish the setup for Laplaican matrix.\n",
      "Thare are 467 nodes.\n",
      "Initialize adjacency, degree and Laplacian matrices... Done.\n",
      "Finish the setup for Laplaican matrix.\n",
      "Thare are 467 nodes.\n",
      "Initialize adjacency, degree and Laplacian matrices... Done.\n",
      "Finish the setup for Laplaican matrix.\n",
      "Thare are 467 nodes.\n",
      "Initialize adjacency, degree and Laplacian matrices... Done.\n",
      "Finish the setup for Laplaican matrix.\n",
      "Thare are 467 nodes.\n",
      "Initialize adjacency, degree and Laplacian matrices... Done.\n",
      "Finish the setup for Laplaican matrix.\n"
     ]
    }
   ],
   "source": [
    "b_agent.spectral_decomposition()\n",
    "b_agent.set_mean_r_alpha_array()\n",
    "b_agent.t_agent.mean.GetEigenvectorEigenvectorT()"
   ]
  },
  {
   "cell_type": "code",
   "execution_count": 6,
   "id": "16fa53c0-6f92-4092-b79c-a6c34125da02",
   "metadata": {
    "tags": []
   },
   "outputs": [
    {
     "data": {
      "application/vnd.jupyter.widget-view+json": {
       "model_id": "830de9ad35ec400d8a06214a6b6513ab",
       "version_major": 2,
       "version_minor": 0
      },
      "text/plain": [
       "interactive(children=(IntSlider(value=1, description='sele_mode', max=467, min=1), Output()), _dom_classes=('w…"
      ]
     },
     "metadata": {},
     "output_type": "display_data"
    }
   ],
   "source": [
    "## 論文 圖5.19(A, B) **注意！ 這邊看到的K2在上層 K1在下層**\n",
    "## hotspot in mode1 and mode2\n",
    "b_agent.plot_prominent_modes_and_get_identify_pair_with_interactive(\\\n",
    "        strandid=None, vlv_threshold=vlv_threshold, pe_threshold=pe_threshold, filter=True)"
   ]
  },
  {
   "cell_type": "code",
   "execution_count": 7,
   "id": "bebc7355-a1d3-41a4-8496-8dbc7e28e900",
   "metadata": {
    "tags": []
   },
   "outputs": [
    {
     "name": "stderr",
     "output_type": "stream",
     "text": [
      "100%|██████████| 45/45 [00:00<00:00, 53.93it/s]\n"
     ]
    }
   ],
   "source": [
    "metal_name = b_agent.t_agent.mean.get_metal_name(is_return=True)\n",
    "b_agent.t_agent.mean.strandid2sequence['STRAND2'] = {1:metal_name, 2:metal_name}\n",
    "b_agent.t_agent.mean.get_modes_info(strandid=None, n_mode=n_mode, vlv_threshold=vlv_threshold, pe_threshold=pe_threshold, is_return=False)"
   ]
  },
  {
   "cell_type": "code",
   "execution_count": 8,
   "id": "5848a980-50a9-46f3-854d-e65005a799df",
   "metadata": {
    "tags": []
   },
   "outputs": [],
   "source": [
    "## 離子 K1 K2 名稱轉換\n",
    "b_agent.t_agent.mean.df_info_by_resid.index = b_agent.t_agent.mean.df_info_by_resid.index.\\\n",
    "str.replace(metal_name+'1', 'TEMP').str.replace(metal_name+'2',metal_name+'1').str.replace('TEMP',metal_name+'2')\n",
    "for key in b_agent.t_agent.mean.df_info_by_resid.keys():\n",
    "    b_agent.t_agent.mean.df_info_by_resid[key] = b_agent.t_agent.mean.df_info_by_resid[key].\\\n",
    "    str.replace(metal_name+'1', 'TEMP').str.replace(metal_name+'2',metal_name+'1').str.replace('TEMP',metal_name+'2')\n",
    "b_agent.t_agent.mean.df_info_by_resid = b_agent.t_agent.mean.df_info_by_resid.loc[::-1]"
   ]
  },
  {
   "cell_type": "code",
   "execution_count": 9,
   "id": "c445bee5-d336-4d20-ba3f-ed528f299bee",
   "metadata": {
    "tags": []
   },
   "outputs": [
    {
     "data": {
      "text/html": [
       "<table border=\"1\" class=\"dataframe\">\n",
       "  <thead>\n",
       "    <tr style=\"text-align: right;\">\n",
       "      <th></th>\n",
       "      <th>0</th>\n",
       "    </tr>\n",
       "    <tr>\n",
       "      <th>Residue Pair</th>\n",
       "      <th></th>\n",
       "    </tr>\n",
       "  </thead>\n",
       "  <tbody>\n",
       "    <tr>\n",
       "      <th>Na1</th>\n",
       "      <td>$\\rm{\\lambda}^{\\rm{bm}}_{1}$=122.9, ${\\{\\rm{a}_i\\rm{a}_j\\}}^{\\rm{bm}}_{1}$:<br>O6SOD(G21Na1)<br>O6SOD(G9Na1)<br>O6SOD(G15Na1)<br>O6SOD(G3Na1)<br>C6SOD(G9Na1)<br>C6SOD(G21Na1)</td>\n",
       "    </tr>\n",
       "    <tr>\n",
       "      <th>Na2</th>\n",
       "      <td>$\\rm{\\lambda}^{\\rm{bm}}_{2}$=91.9, ${\\{\\rm{a}_i\\rm{a}_j\\}}^{\\rm{bm}}_{2}$:<br>O6SOD(G16Na2)<br>O6SOD(G8Na2)<br>O6SOD(G20Na2)<br>C6SOD(G20Na2)<br>O6SOD(G4Na2)</td>\n",
       "    </tr>\n",
       "  </tbody>\n",
       "</table>"
      ],
      "text/plain": [
       "<IPython.core.display.HTML object>"
      ]
     },
     "metadata": {},
     "output_type": "display_data"
    },
    {
     "name": "stdout",
     "output_type": "stream",
     "text": [
      "Write /home/user/workfolder/g4dna_protocol_demo/basket_na/d.fluctmatch/bigtraj_fluctmatch/0000_5000/result/basket_BM.csv\n"
     ]
    }
   ],
   "source": [
    "## 這邊看到的K1在上層 K2在下層\n",
    "## 論文 圖5.19(A)\n",
    "b_agent.t_agent.mean.display_df_info_by_resid(save=True)"
   ]
  },
  {
   "cell_type": "markdown",
   "id": "ddc8801c-03c4-47c6-9bf6-c4a7075806a8",
   "metadata": {},
   "source": [
    "### 確認機械熱點原子對$\\{\\text{a}_i\\text{a}_j\\}^{\\text{bm}}$的機械強度$k_{ij}$是否較高"
   ]
  },
  {
   "cell_type": "code",
   "execution_count": 10,
   "id": "cfd97166-b3ad-4388-943c-72e127374689",
   "metadata": {
    "tags": []
   },
   "outputs": [
    {
     "data": {
      "text/html": [
       "<div>\n",
       "<style scoped>\n",
       "    .dataframe tbody tr th:only-of-type {\n",
       "        vertical-align: middle;\n",
       "    }\n",
       "\n",
       "    .dataframe tbody tr th {\n",
       "        vertical-align: top;\n",
       "    }\n",
       "\n",
       "    .dataframe thead th {\n",
       "        text-align: right;\n",
       "    }\n",
       "</style>\n",
       "<table border=\"1\" class=\"dataframe\">\n",
       "  <thead>\n",
       "    <tr style=\"text-align: right;\">\n",
       "      <th></th>\n",
       "      <th>Enm_i</th>\n",
       "      <th>Strand_i</th>\n",
       "      <th>Resid_i</th>\n",
       "      <th>Atomname_i</th>\n",
       "      <th>Atomid_i</th>\n",
       "      <th>Enm_j</th>\n",
       "      <th>Strand_j</th>\n",
       "      <th>Resid_j</th>\n",
       "      <th>Atomname_j</th>\n",
       "      <th>Atomid_j</th>\n",
       "      <th>k</th>\n",
       "      <th>b0</th>\n",
       "      <th>Category</th>\n",
       "    </tr>\n",
       "    <tr>\n",
       "      <th>PairID</th>\n",
       "      <th></th>\n",
       "      <th></th>\n",
       "      <th></th>\n",
       "      <th></th>\n",
       "      <th></th>\n",
       "      <th></th>\n",
       "      <th></th>\n",
       "      <th></th>\n",
       "      <th></th>\n",
       "      <th></th>\n",
       "      <th></th>\n",
       "      <th></th>\n",
       "      <th></th>\n",
       "    </tr>\n",
       "  </thead>\n",
       "  <tbody>\n",
       "    <tr>\n",
       "      <th>9181</th>\n",
       "      <td>A435</td>\n",
       "      <td>STRAND1</td>\n",
       "      <td>21</td>\n",
       "      <td>O6</td>\n",
       "      <td>435</td>\n",
       "      <td>B2</td>\n",
       "      <td>STRAND2</td>\n",
       "      <td>2</td>\n",
       "      <td>SOD</td>\n",
       "      <td>467</td>\n",
       "      <td>19.893042</td>\n",
       "      <td>2.139016</td>\n",
       "      <td>bm</td>\n",
       "    </tr>\n",
       "    <tr>\n",
       "      <th>4709</th>\n",
       "      <td>A181</td>\n",
       "      <td>STRAND1</td>\n",
       "      <td>9</td>\n",
       "      <td>O6</td>\n",
       "      <td>181</td>\n",
       "      <td>B2</td>\n",
       "      <td>STRAND2</td>\n",
       "      <td>2</td>\n",
       "      <td>SOD</td>\n",
       "      <td>467</td>\n",
       "      <td>19.766232</td>\n",
       "      <td>2.149826</td>\n",
       "      <td>bm</td>\n",
       "    </tr>\n",
       "    <tr>\n",
       "      <th>7732</th>\n",
       "      <td>A330</td>\n",
       "      <td>STRAND1</td>\n",
       "      <td>16</td>\n",
       "      <td>O6</td>\n",
       "      <td>330</td>\n",
       "      <td>B1</td>\n",
       "      <td>STRAND2</td>\n",
       "      <td>1</td>\n",
       "      <td>SOD</td>\n",
       "      <td>466</td>\n",
       "      <td>16.132758</td>\n",
       "      <td>2.179495</td>\n",
       "      <td>bm</td>\n",
       "    </tr>\n",
       "    <tr>\n",
       "      <th>4216</th>\n",
       "      <td>A159</td>\n",
       "      <td>STRAND1</td>\n",
       "      <td>8</td>\n",
       "      <td>O6</td>\n",
       "      <td>159</td>\n",
       "      <td>B1</td>\n",
       "      <td>STRAND2</td>\n",
       "      <td>1</td>\n",
       "      <td>SOD</td>\n",
       "      <td>466</td>\n",
       "      <td>15.465853</td>\n",
       "      <td>2.177574</td>\n",
       "      <td>bm</td>\n",
       "    </tr>\n",
       "    <tr>\n",
       "      <th>7306</th>\n",
       "      <td>A308</td>\n",
       "      <td>STRAND1</td>\n",
       "      <td>15</td>\n",
       "      <td>O6</td>\n",
       "      <td>308</td>\n",
       "      <td>B2</td>\n",
       "      <td>STRAND2</td>\n",
       "      <td>2</td>\n",
       "      <td>SOD</td>\n",
       "      <td>467</td>\n",
       "      <td>14.301253</td>\n",
       "      <td>2.186268</td>\n",
       "      <td>bm</td>\n",
       "    </tr>\n",
       "    <tr>\n",
       "      <th>...</th>\n",
       "      <td>...</td>\n",
       "      <td>...</td>\n",
       "      <td>...</td>\n",
       "      <td>...</td>\n",
       "      <td>...</td>\n",
       "      <td>...</td>\n",
       "      <td>...</td>\n",
       "      <td>...</td>\n",
       "      <td>...</td>\n",
       "      <td>...</td>\n",
       "      <td>...</td>\n",
       "      <td>...</td>\n",
       "      <td>...</td>\n",
       "    </tr>\n",
       "    <tr>\n",
       "      <th>5045</th>\n",
       "      <td>A201</td>\n",
       "      <td>STRAND1</td>\n",
       "      <td>10</td>\n",
       "      <td>C5</td>\n",
       "      <td>201</td>\n",
       "      <td>B2</td>\n",
       "      <td>STRAND2</td>\n",
       "      <td>2</td>\n",
       "      <td>SOD</td>\n",
       "      <td>467</td>\n",
       "      <td>0.000000</td>\n",
       "      <td>6.956058</td>\n",
       "      <td>bm</td>\n",
       "    </tr>\n",
       "    <tr>\n",
       "      <th>5026</th>\n",
       "      <td>A200</td>\n",
       "      <td>STRAND1</td>\n",
       "      <td>10</td>\n",
       "      <td>N7</td>\n",
       "      <td>200</td>\n",
       "      <td>B2</td>\n",
       "      <td>STRAND2</td>\n",
       "      <td>2</td>\n",
       "      <td>SOD</td>\n",
       "      <td>467</td>\n",
       "      <td>0.000000</td>\n",
       "      <td>7.586205</td>\n",
       "      <td>bm</td>\n",
       "    </tr>\n",
       "    <tr>\n",
       "      <th>4810</th>\n",
       "      <td>A186</td>\n",
       "      <td>STRAND1</td>\n",
       "      <td>9</td>\n",
       "      <td>C4</td>\n",
       "      <td>186</td>\n",
       "      <td>B2</td>\n",
       "      <td>STRAND2</td>\n",
       "      <td>2</td>\n",
       "      <td>SOD</td>\n",
       "      <td>467</td>\n",
       "      <td>0.000000</td>\n",
       "      <td>5.488163</td>\n",
       "      <td>bm</td>\n",
       "    </tr>\n",
       "    <tr>\n",
       "      <th>4669</th>\n",
       "      <td>A180</td>\n",
       "      <td>STRAND1</td>\n",
       "      <td>9</td>\n",
       "      <td>C6</td>\n",
       "      <td>180</td>\n",
       "      <td>B1</td>\n",
       "      <td>STRAND2</td>\n",
       "      <td>1</td>\n",
       "      <td>SOD</td>\n",
       "      <td>466</td>\n",
       "      <td>0.000000</td>\n",
       "      <td>4.770600</td>\n",
       "      <td>bm</td>\n",
       "    </tr>\n",
       "    <tr>\n",
       "      <th>9456</th>\n",
       "      <td>A459</td>\n",
       "      <td>STRAND1</td>\n",
       "      <td>22</td>\n",
       "      <td>C2</td>\n",
       "      <td>459</td>\n",
       "      <td>B2</td>\n",
       "      <td>STRAND2</td>\n",
       "      <td>2</td>\n",
       "      <td>SOD</td>\n",
       "      <td>467</td>\n",
       "      <td>0.000000</td>\n",
       "      <td>6.853905</td>\n",
       "      <td>bm</td>\n",
       "    </tr>\n",
       "  </tbody>\n",
       "</table>\n",
       "<p>135 rows × 13 columns</p>\n",
       "</div>"
      ],
      "text/plain": [
       "       Enm_i Strand_i  Resid_i Atomname_i  Atomid_i Enm_j Strand_j  Resid_j  \\\n",
       "PairID                                                                        \n",
       "9181    A435  STRAND1       21         O6       435    B2  STRAND2        2   \n",
       "4709    A181  STRAND1        9         O6       181    B2  STRAND2        2   \n",
       "7732    A330  STRAND1       16         O6       330    B1  STRAND2        1   \n",
       "4216    A159  STRAND1        8         O6       159    B1  STRAND2        1   \n",
       "7306    A308  STRAND1       15         O6       308    B2  STRAND2        2   \n",
       "...      ...      ...      ...        ...       ...   ...      ...      ...   \n",
       "5045    A201  STRAND1       10         C5       201    B2  STRAND2        2   \n",
       "5026    A200  STRAND1       10         N7       200    B2  STRAND2        2   \n",
       "4810    A186  STRAND1        9         C4       186    B2  STRAND2        2   \n",
       "4669    A180  STRAND1        9         C6       180    B1  STRAND2        1   \n",
       "9456    A459  STRAND1       22         C2       459    B2  STRAND2        2   \n",
       "\n",
       "       Atomname_j  Atomid_j          k        b0 Category  \n",
       "PairID                                                     \n",
       "9181          SOD       467  19.893042  2.139016       bm  \n",
       "4709          SOD       467  19.766232  2.149826       bm  \n",
       "7732          SOD       466  16.132758  2.179495       bm  \n",
       "4216          SOD       466  15.465853  2.177574       bm  \n",
       "7306          SOD       467  14.301253  2.186268       bm  \n",
       "...           ...       ...        ...       ...      ...  \n",
       "5045          SOD       467   0.000000  6.956058       bm  \n",
       "5026          SOD       467   0.000000  7.586205       bm  \n",
       "4810          SOD       467   0.000000  5.488163       bm  \n",
       "4669          SOD       466   0.000000  4.770600       bm  \n",
       "9456          SOD       467   0.000000  6.853905       bm  \n",
       "\n",
       "[135 rows x 13 columns]"
      ]
     },
     "execution_count": 10,
     "metadata": {},
     "output_type": "execute_result"
    }
   ],
   "source": [
    "## **注意！ 這邊看到的K2在上層 K1在下層**\n",
    "b_agent.t_agent.mean.df_m.sort_values(by='k', ascending=False)"
   ]
  }
 ],
 "metadata": {
  "kernelspec": {
   "display_name": "Python [conda env:fluctmatch]",
   "language": "python",
   "name": "conda-env-fluctmatch-py"
  },
  "language_info": {
   "codemirror_mode": {
    "name": "ipython",
    "version": 3
   },
   "file_extension": ".py",
   "mimetype": "text/x-python",
   "name": "python",
   "nbconvert_exporter": "python",
   "pygments_lexer": "ipython3",
   "version": "3.8.0"
  }
 },
 "nbformat": 4,
 "nbformat_minor": 5
}
