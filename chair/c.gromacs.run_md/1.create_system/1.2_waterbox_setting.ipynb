{
 "cells": [
  {
   "cell_type": "markdown",
   "id": "d90e9ebd-1d60-45ed-890f-bf82c07114d5",
   "metadata": {
    "tags": []
   },
   "source": [
    "in [`gmx editconf`](https://manual.gromacs.org/current/onlinehelp/gmx-editconf.html) command<br>\n",
    "`-d` arg determined the Distance between the solute and the box<br>\n",
    "we want fix the system atom number by adjust the `-d` value<br>"
   ]
  },
  {
   "cell_type": "code",
   "execution_count": 1,
   "id": "071cd483-6a83-4f92-8964-c25b4d832838",
   "metadata": {
    "tags": []
   },
   "outputs": [],
   "source": [
    "import numpy as np\n",
    "import matplotlib.pyplot as plt\n",
    "from tqdm import tqdm"
   ]
  },
  {
   "cell_type": "code",
   "execution_count": 2,
   "id": "90edb62d-c987-4e53-8aad-fd1ab740674c",
   "metadata": {
    "tags": []
   },
   "outputs": [],
   "source": [
    "pdbid = \"6jkn\""
   ]
  },
  {
   "cell_type": "code",
   "execution_count": 3,
   "id": "42ead99e-06e3-47fe-87e0-596eda93c506",
   "metadata": {
    "tags": []
   },
   "outputs": [],
   "source": [
    "def get_n_sol(d):\n",
    "    !cp topol.top.bak1 topol.top\n",
    "    !gmx editconf -f {pdbid}.gro.pdb -o {pdbid}_dode.pdb -c yes -d {d} -bt dodecahedron > /dev/null 2>&1\n",
    "    !gmx solvate -cp {pdbid}_dode.pdb -cs spc216.gro -o {pdbid}_solv.pdb -p topol.top > /dev/null 2>&1\n",
    "    sol = !grep \"SOL\" topol.top\n",
    "    n_sol = int(sol[0].split()[1])\n",
    "    return n_sol"
   ]
  },
  {
   "cell_type": "code",
   "execution_count": 4,
   "id": "04813c44-d412-4120-a60f-ca4a1a9396ab",
   "metadata": {
    "tags": []
   },
   "outputs": [],
   "source": [
    "def get_box(d):\n",
    "    !cp topol.top.bak1 topol.top\n",
    "    !gmx editconf -f {pdbid}.gro.pdb -o {pdbid}_dode.pdb -c yes -d {d} -bt dodecahedron >editconf.txt 2>&1\n",
    "    volume = !grep \"new box volume\" editconf.txt\n",
    "    volume = float(volume[0].split()[4])\n",
    "    return volume"
   ]
  },
  {
   "cell_type": "code",
   "execution_count": 5,
   "id": "20ac06ba-352a-4ae9-a470-0f979b1b963a",
   "metadata": {
    "tags": []
   },
   "outputs": [],
   "source": [
    "def get_n_atoms(d):\n",
    "    !cp topol.top.bak1 topol.top\n",
    "    !gmx editconf -f {pdbid}.gro.pdb -o {pdbid}_dode.pdb -c yes -d {d} -bt dodecahedron > /dev/null 2>&1\n",
    "    !gmx solvate -cp {pdbid}_dode.pdb -cs spc216.gro -o {pdbid}_solv.pdb -p topol.top >solvate.txt 2>&1\n",
    "    atoms = !grep \"Solvent box contains\" solvate.txt\n",
    "    n_atoms = int(atoms[0].split()[3])\n",
    "    return n_atoms"
   ]
  },
  {
   "cell_type": "markdown",
   "id": "29db112d-9c08-4dac-805f-2af976575c0e",
   "metadata": {},
   "source": [
    "### Plot d v.s. Volume (linear)"
   ]
  },
  {
   "cell_type": "code",
   "execution_count": null,
   "id": "cc036f40-532b-4af9-ac50-e23354ead099",
   "metadata": {
    "tags": []
   },
   "outputs": [],
   "source": [
    "!rm \\#topol.top* \\#{pdbid}*\n",
    "d2volume = {}\n",
    "for d in tqdm(np.linspace(1.0, 1.4, 21)):\n",
    "    volume = get_box(d)\n",
    "    d2volume[np.round(d, decimals=15)] = volume"
   ]
  },
  {
   "cell_type": "code",
   "execution_count": null,
   "id": "23a88f8b-893e-452f-9342-65ed83997e1d",
   "metadata": {
    "tags": []
   },
   "outputs": [],
   "source": [
    "plt.plot(d2volume.keys(), d2volume.values())\n",
    "plt.scatter(d2volume.keys(), d2volume.values())\n",
    "plt.xlabel('d')\n",
    "plt.ylabel('volume')"
   ]
  },
  {
   "cell_type": "markdown",
   "id": "0774063e-587f-4be6-833c-8d1a1c449d9a",
   "metadata": {},
   "source": [
    "### Plot d v.s. n_sol (non-linear)\n",
    "in wtTel22, we want fix n_sol = **3854**"
   ]
  },
  {
   "cell_type": "code",
   "execution_count": 10,
   "id": "68d71232-a189-4e8c-b298-45dda81cbc1e",
   "metadata": {
    "tags": []
   },
   "outputs": [
    {
     "name": "stderr",
     "output_type": "stream",
     "text": [
      "100%|██████████| 51/51 [00:43<00:00,  1.17it/s]\n"
     ]
    }
   ],
   "source": [
    "!rm \\#topol.top* \\#{pdbid}*\n",
    "d2n_sol = {}\n",
    "for d in tqdm(np.linspace(1.22, 1.32, 51)):\n",
    "    n_sol = get_n_sol(d)\n",
    "    d2n_sol[np.round(d, decimals=15)] = n_sol"
   ]
  },
  {
   "cell_type": "code",
   "execution_count": 11,
   "id": "932e5c5a-eb34-4bc9-b579-741ce1b01b7a",
   "metadata": {
    "tags": []
   },
   "outputs": [
    {
     "data": {
      "image/png": "[encoded data removed]",
      "text/plain": [
       "<Figure size 640x480 with 1 Axes>"
      ]
     },
     "metadata": {},
     "output_type": "display_data"
    }
   ],
   "source": [
    "plt.plot(d2n_sol.keys(), d2n_sol.values())\n",
    "plt.scatter(d2n_sol.keys(), d2n_sol.values())\n",
    "plt.xlabel('d')\n",
    "plt.ylabel('n_sol')\n",
    "plt.xticks(rotation=90)\n",
    "plt.show()"
   ]
  },
  {
   "cell_type": "code",
   "execution_count": 12,
   "id": "03603291-0450-4b09-87b7-d021096dbb5a",
   "metadata": {
    "tags": []
   },
   "outputs": [
    {
     "data": {
      "text/plain": [
       "{1.22: 3714,\n",
       " 1.222: 3727,\n",
       " 1.224: 3739,\n",
       " 1.226: 3761,\n",
       " 1.228: 3776,\n",
       " 1.23: 3789,\n",
       " 1.232: 3789,\n",
       " 1.234: 3788,\n",
       " 1.236: 3789,\n",
       " 1.238: 3789,\n",
       " 1.24: 3793,\n",
       " 1.242: 3796,\n",
       " 1.244: 3799,\n",
       " 1.246: 3807,\n",
       " 1.248: 3818,\n",
       " 1.25: 3824,\n",
       " 1.252: 3829,\n",
       " 1.254: 3832,\n",
       " 1.256: 3833,\n",
       " 1.258: 3834,\n",
       " 1.26: 3833,\n",
       " 1.262: 3838,\n",
       " 1.264: 3838,\n",
       " 1.266: 3846,\n",
       " 1.268: 3854,\n",
       " 1.27: 3858,\n",
       " 1.272: 3862,\n",
       " 1.274: 3859,\n",
       " 1.276: 3869,\n",
       " 1.278: 3869,\n",
       " 1.28: 3869,\n",
       " 1.282: 3869,\n",
       " 1.284: 3870,\n",
       " 1.286: 3876,\n",
       " 1.288: 3877,\n",
       " 1.29: 3881,\n",
       " 1.292: 3877,\n",
       " 1.294: 3888,\n",
       " 1.296: 3891,\n",
       " 1.298: 3906,\n",
       " 1.3: 3907,\n",
       " 1.302: 3905,\n",
       " 1.304: 3905,\n",
       " 1.306: 3912,\n",
       " 1.308: 3913,\n",
       " 1.31: 3919,\n",
       " 1.312: 3922,\n",
       " 1.314: 3927,\n",
       " 1.316: 3932,\n",
       " 1.318: 4008,\n",
       " 1.32: 4020}"
      ]
     },
     "execution_count": 12,
     "metadata": {},
     "output_type": "execute_result"
    }
   ],
   "source": [
    "d2n_sol"
   ]
  },
  {
   "cell_type": "code",
   "execution_count": null,
   "id": "9d0371b2-a8cb-49c1-8379-128686415fc7",
   "metadata": {},
   "outputs": [],
   "source": []
  }
 ],
 "metadata": {
  "kernelspec": {
   "display_name": "Python 3 (ipykernel)",
   "language": "python",
   "name": "python3"
  },
  "language_info": {
   "codemirror_mode": {
    "name": "ipython",
    "version": 3
   },
   "file_extension": ".py",
   "mimetype": "text/x-python",
   "name": "python",
   "nbconvert_exporter": "python",
   "pygments_lexer": "ipython3",
   "version": "3.7.4"
  }
 },
 "nbformat": 4,
 "nbformat_minor": 5
}
