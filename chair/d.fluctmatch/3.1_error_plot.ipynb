{
 "cells": [
  {
   "cell_type": "code",
   "execution_count": null,
   "id": "a2a9a481-b502-4402-bbca-f57848732c81",
   "metadata": {
    "tags": []
   },
   "outputs": [],
   "source": [
    "import sys\n",
    "sys.path.append(\"../../smsl\")"
   ]
  },
  {
   "cell_type": "markdown",
   "id": "d2d21785-6f1d-4d9e-aefe-4c4fc274a9fe",
   "metadata": {},
   "source": [
    "### Part 1: Initialize"
   ]
  },
  {
   "cell_type": "code",
   "execution_count": null,
   "id": "7bc3ce37-7aef-4727-b2bf-7cf55d944799",
   "metadata": {
    "tags": []
   },
   "outputs": [],
   "source": [
    "from smsl.fluctMatch import FmAgent"
   ]
  },
  {
   "cell_type": "code",
   "execution_count": null,
   "id": "36781506-35fd-4752-bee9-44bbb1c65961",
   "metadata": {
    "tags": []
   },
   "outputs": [],
   "source": [
    "import numpy as np\n",
    "import pandas as pd\n",
    "from matplotlib import pyplot as plt"
   ]
  },
  {
   "cell_type": "code",
   "execution_count": null,
   "id": "85decac0-2bdd-4a09-bd1e-0f2c9327073f",
   "metadata": {
    "tags": []
   },
   "outputs": [],
   "source": [
    "fm_agent = FmAgent()\n",
    "fm_agent.load_TimeAgent()"
   ]
  },
  {
   "cell_type": "code",
   "execution_count": null,
   "id": "1d9774b5-9f2a-40f3-9ef2-8910782e5486",
   "metadata": {
    "tags": []
   },
   "outputs": [],
   "source": [
    "for time_label, st_agent in fm_agent.t_agent.items():\n",
    "    err_data = np.genfromtxt(st_agent.error_file, skip_header=2).T\n",
    "    plt.plot(err_data[0], err_data[1], label=time_label)\n",
    "plt.legend(bbox_to_anchor=(1.35, 1.1))\n",
    "plt.xlabel('Epoch')\n",
    "plt.ylabel('RMS of Fluctuation(Å)')"
   ]
  },
  {
   "cell_type": "code",
   "execution_count": null,
   "id": "f1a7bf96-f5e0-4268-af1d-31b8144f3244",
   "metadata": {
    "tags": []
   },
   "outputs": [],
   "source": [
    "for time_label, st_agent in fm_agent.t_agent.items():\n",
    "    err_data = np.genfromtxt(st_agent.error_file, skip_header=2).T\n",
    "    print('Last loss of windows', time_label, ': ', err_data[1, -1])"
   ]
  },
  {
   "cell_type": "markdown",
   "id": "a6eec224-5e46-4ac5-883d-68260cc2d620",
   "metadata": {},
   "source": [
    "### Catch Outlier Windows"
   ]
  },
  {
   "cell_type": "code",
   "execution_count": null,
   "id": "807e0713-15a7-4108-b7d9-57ea49012c30",
   "metadata": {
    "tags": []
   },
   "outputs": [],
   "source": [
    "for time_label, st_agent in fm_agent.t_agent.items():\n",
    "    err_data = np.genfromtxt(st_agent.error_file, skip_header=2).T\n",
    "    if err_data[1].max() > err_data[1][1]:\n",
    "        plt.plot(err_data[0], err_data[1], label=time_label)\n",
    "plt.legend()\n",
    "plt.show()"
   ]
  },
  {
   "cell_type": "code",
   "execution_count": null,
   "id": "2f44702f-b446-41c6-81d0-f2babc766ce6",
   "metadata": {},
   "outputs": [],
   "source": []
  }
 ],
 "metadata": {
  "kernelspec": {
   "display_name": "Python [conda env:fluctmatch]",
   "language": "python",
   "name": "conda-env-fluctmatch-py"
  },
  "language_info": {
   "codemirror_mode": {
    "name": "ipython",
    "version": 3
   },
   "file_extension": ".py",
   "mimetype": "text/x-python",
   "name": "python",
   "nbconvert_exporter": "python",
   "pygments_lexer": "ipython3",
   "version": "3.8.0"
  }
 },
 "nbformat": 4,
 "nbformat_minor": 5
}
