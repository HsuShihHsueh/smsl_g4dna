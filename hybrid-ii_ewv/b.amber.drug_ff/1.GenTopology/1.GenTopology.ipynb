{
 "cells": [
  {
   "cell_type": "markdown",
   "id": "0abda54e-f0dc-4716-b1ce-2aacfadac54c",
   "metadata": {},
   "source": [
    "## 線上資源\n",
    "- Generate Generalized Amber Force Field (gaff) ([link](https://ambermd.org/tutorials/basic/tutorial4b/)) \n",
    "<br>以HF/6-31g(d)做計算\n",
    "- Step by Step Youtube Video and Github Source ([youtube](https://www.youtube.com/watch?v=c_EMS1RVDxQ)) ([github](https://github.com/huichenggong/Learning-Computation-with-Chenggong/tree/main/1-MD_tutorial/1-5-Antechamber-GAFF-non-standard-residue-prepare)) \n",
    "<br>以b3lyp/6-31g(d)做計算，此藥物EWV在HF/6-31g(d)還有b3lyp/6-31g(d)層級計算出的partial charge僅有0.055e的方均根誤差\n",
    "- Amber 2023 mounal ([link](https://ambermd.org/doc12/Amber23.pdf))"
   ]
  },
  {
   "cell_type": "code",
   "execution_count": 1,
   "id": "7685dc14-266f-436a-95d2-d1de81b36770",
   "metadata": {
    "tags": []
   },
   "outputs": [],
   "source": [
    "drug = \"EWV\""
   ]
  },
  {
   "cell_type": "markdown",
   "id": "de21d66b-aa1e-4c43-b1d4-0fb59aea9974",
   "metadata": {},
   "source": [
    "### 從PDB資料庫中下載藥物分子結構(sdf)"
   ]
  },
  {
   "cell_type": "code",
   "execution_count": 2,
   "id": "cd5b778e-0926-4326-a636-cd103662b98e",
   "metadata": {
    "tags": []
   },
   "outputs": [
    {
     "name": "stdout",
     "output_type": "stream",
     "text": [
      "--2025-03-25 15:09:20--  https://files.rcsb.org/ligands/download/EWV_ideal.sdf\n",
      "Resolving files.rcsb.org (files.rcsb.org)... 3.169.36.123, 3.169.36.44, 3.169.36.124, ...\n",
      "Connecting to files.rcsb.org (files.rcsb.org)|3.169.36.123|:443... connected.\n",
      "HTTP request sent, awaiting response... 200 OK\n",
      "Length: 3096 (3.0K) [application/octet-stream]\n",
      "Saving to: ‘EWV_ideal.sdf.2’\n",
      "\n",
      "EWV_ideal.sdf.2     100%[===================>]   3.02K  --.-KB/s    in 0s      \n",
      "\n",
      "2025-03-25 15:09:20 (277 MB/s) - ‘EWV_ideal.sdf.2’ saved [3096/3096]\n",
      "\n"
     ]
    }
   ],
   "source": [
    "!wget https://files.rcsb.org/ligands/download/{drug}_ideal.sdf"
   ]
  },
  {
   "cell_type": "markdown",
   "id": "2cbca1db-01b0-478f-943d-6776d34d1391",
   "metadata": {},
   "source": [
    "### 從 .sdf 檔轉成 .gjf 檔\n",
    "1. Open GaussView (6.0.16)\n",
    "2. Click File > Open... > <drug>_ideal.sdf\n",
    "3. Click File > Save > File name: <drug>.gjf, File of type: *.gjf\n",
    "4. 手動調整gjf檔\n",
    "nproc: 使用32核心平行計算<br>\n",
    "mem  : 使用20GB的記憶體進行計算<br>\n",
    "chk  : 建立EWV.chk作為checkpoint file, 若伺服器因不明原因shunt down job, 可以從中斷點開始跑<br>\n",
    "opt  : 能量最小化<br>\n",
    "EWV  : 分子名稱<br>\n",
    "1 1  : 第一個參數為分子電荷量，此分子的形式電荷為+1。第二個參數為分子的multiplicity，一般型況下為1<br>\n",
    "```\n",
    "%nproc=32\n",
    "%mem=20GB\n",
    "%chk=EWV.chk\n",
    "# opt b3lyp/6-31g(d) scrf=(smd,solvent=water) nosymm pop=mk geom=connectivity iop(6/33=2,6/42=6)\n",
    "\n",
    "EWV\n",
    "\n",
    "1 1\n",
    "```"
   ]
  },
  {
   "cell_type": "markdown",
   "id": "30137b73-1a84-4fbc-b2e0-ba1addaceb8e",
   "metadata": {},
   "source": [
    "### 執行能量最小化 \n",
    "AMBER有兩種層級來以能量最小化計算RESP電荷 <br>\n",
    "1. HF/6-31G* 但不使用implicit solvent model <br>\n",
    "2. B3LYP/6-31G* 使用implicit solvent model <br>\n",
    "兩種方法都有人使用，我們使用第二種層級，因為在藥物POH中，以B3LYP計算POH的最小化結構較準確。 <br>\n",
    "A. C. Maria 也用第二種層級建立硼基共價配體 ([link](https://www.mdpi.com/1420-3049/28/6/2866#B34-molecules-28-02866)) <br>\n",
    "(一般花上數小時至數天不等，也可以在HF層級先做最小化後，在轉b3lyp層級，可能會比較快)"
   ]
  },
  {
   "cell_type": "code",
   "execution_count": 3,
   "id": "9a9cada1-3a38-4755-9318-eef388400094",
   "metadata": {
    "tags": []
   },
   "outputs": [],
   "source": [
    "!g16 {drug}.gjf\n",
    "## 若要在背景執行，在terminal輸入：\n",
    "## nohup g16 {drug}.gjf &"
   ]
  },
  {
   "cell_type": "markdown",
   "id": "0bf1317a-d40f-4e7e-9b12-eb9a840c8107",
   "metadata": {
    "tags": []
   },
   "source": [
    "### 進行原子類型 (atomtype) 的命名與原子部分電荷 (partial charge) 的分配\n",
    "antechamber ([maunal](https://ambermd.org/doc12/Amber23.pdf#page=313)) <br>\n",
    "-i  輸入檔案名稱 <br>\n",
    "-fi 輸入檔案的格式(如若輸入檔案為.gjf即為gout，其他在maunal的P.314 List of the File Formats列表) <br>\n",
    "-o  輸出檔案名稱 <br>\n",
    "-fo 輸出檔案格式 <br>\n",
    "-c  以RESP進行電荷分配 <br>\n",
    "-rn 分子名稱 <br>\n",
    "-at 原子類型 (amber: for PARM94/99/99SB) <br>\n",
    "(確保conda環境可執行AmberTool軟體)"
   ]
  },
  {
   "cell_type": "code",
   "execution_count": 4,
   "id": "591c8a17-58b6-45b6-b14b-f5c283cc6fa7",
   "metadata": {
    "tags": []
   },
   "outputs": [
    {
     "name": "stdout",
     "output_type": "stream",
     "text": [
      "\n",
      "Welcome to antechamber 22.0: molecular input file processor.\n",
      "\n",
      "Info: acdoctor mode is on: check and diagnose problems in the input file.\n",
      "Info: The atom type is set to amber; the options available to the -at flag are\n",
      "      gaff, gaff2, amber, bcc, and sybyl.\n",
      "\n",
      "-- Check Format for Gaussian Output File --\n",
      "   Status: pass\n",
      "-- Check Unusual Elements --\n",
      "   Status: pass\n",
      "-- Check Open Valences --\n",
      "   Status: pass\n",
      "-- Check Geometry --\n",
      "      for those bonded   \n",
      "      for those not bonded   \n",
      "   Status: pass\n",
      "-- Check Weird Bonds --\n",
      "   Status: pass\n",
      "-- Check Number of Units --\n",
      "   Status: pass\n",
      "acdoctor mode has completed checking the input file.\n",
      "\n",
      "Info: Bond types are assigned for valence state (1) with penalty (1).\n",
      "\n",
      "\n",
      "\n",
      "\n"
     ]
    }
   ],
   "source": [
    "!antechamber -i {drug}.log -fi gout -o {drug}.mol2 -fo mol2 -c resp -rn {drug} -at amber"
   ]
  },
  {
   "cell_type": "markdown",
   "id": "b8ad6335-d684-4517-93fa-34e4adce6660",
   "metadata": {},
   "source": [
    "### 建立intramolecular的力場參數(force field parameter)\n",
    "parmchk2 ([maunal](https://ambermd.org/doc12/Amber23.pdf#page=316)) <br>\n",
    "-i 輸入檔案名稱 <br>\n",
    "-f 輸入檔案格式 <br>\n",
    "-o 輸出檔案名稱 <br>\n",
    "-s 使用的力場參數(在maunal P.316有可使用的列表) <br>\n",
    "-a 若為Y則列出所有力場參數，而若為N則僅列出未定義(缺失)的力場參數 <br>\n",
    "在輸出檔案.frcmod中，penalty score=0是有在該力場存在的參數，而penalty score>0的則是以相似的結構近似的力場參數\n",
    "Be careful to those problem parameters marked by \"ATTN, need revision\""
   ]
  },
  {
   "cell_type": "code",
   "execution_count": 5,
   "id": "7da0977f-ead3-44e3-b259-78ce4d5dc657",
   "metadata": {
    "tags": []
   },
   "outputs": [],
   "source": [
    "!parmchk2 -i {drug}.mol2 -f mol2 -o {drug}.all.frcmod -s gaff2 -a Y"
   ]
  },
  {
   "cell_type": "code",
   "execution_count": 6,
   "id": "79ca61fc-8baf-4115-bec0-cf96a32bf096",
   "metadata": {
    "tags": []
   },
   "outputs": [],
   "source": [
    "## 修正力場參數 (EWV藥物不須修正)\n",
    "!cp {drug}.all.frcmod {drug}.all.modify.frcmod"
   ]
  },
  {
   "cell_type": "markdown",
   "id": "f12f65f3-8524-437e-9bc6-6e04a9525366",
   "metadata": {},
   "source": [
    "### 輸出 Amber 格式的座標檔案 (coordinate file, .rst7) 與參數檔案 (parameter file, .prmtop)"
   ]
  },
  {
   "cell_type": "code",
   "execution_count": 7,
   "id": "6f3e5c04-83b1-4c9f-94f3-ffb32b315ca9",
   "metadata": {
    "tags": []
   },
   "outputs": [
    {
     "name": "stdout",
     "output_type": "stream",
     "text": [
      "-I: Adding /home/user/anaconda3/envs/AmberTools23/dat/leap/prep to search path.\n",
      "-I: Adding /home/user/anaconda3/envs/AmberTools23/dat/leap/lib to search path.\n",
      "-I: Adding /home/user/anaconda3/envs/AmberTools23/dat/leap/parm to search path.\n",
      "-I: Adding /home/user/anaconda3/envs/AmberTools23/dat/leap/cmd to search path.\n",
      "-f: Source tleap.leap.\n",
      "\n",
      "Welcome to LEaP!\n",
      "(no leaprc in search path)\n",
      "Sourcing: ./tleap.leap\n",
      "Loading Mol2 file: ./EWV.mol2\n",
      "Reading MOLECULE named EWV\n",
      "Loading parameters: ./EWV.all.modify.frcmod\n",
      "Reading force field modification type file (frcmod)\n",
      "Reading title:\n",
      "Remark line goes here\n",
      "check: A maximum of two parameters are acceptable:\n",
      "     a UNIT and an (optional) PARMSET.\n",
      "Checking Unit.\n",
      "\n",
      "/home/user/anaconda3/envs/AmberTools23/bin/teLeap: Warning!\n",
      "The unperturbed charge of the unit (0.999999) is not zero.\n",
      "\n",
      "/home/user/anaconda3/envs/AmberTools23/bin/teLeap: Note.\n",
      "Ignoring the warning from Unit Checking.\n",
      "\n",
      "Building topology.\n",
      "Building atom parameters.\n",
      "Building bond parameters.\n",
      "Building angle parameters.\n",
      "Building proper torsion parameters.\n",
      "Building improper torsion parameters.\n",
      " total 16 improper torsions applied\n",
      "Building H-Bond parameters.\n",
      "Incorporating Non-Bonded adjustments.\n",
      "Not Marking per-residue atom chain types.\n",
      "Marking per-residue atom chain types.\n",
      "  (Residues lacking connect0/connect1 - \n",
      "   these don't have chain types marked:\n",
      "\n",
      "\tres\ttotal affected\n",
      "\n",
      "\tEWV\t1\n",
      "  )\n",
      " (no restraints)\n",
      "\tQuit\n",
      "\n",
      "Exiting LEaP: Errors = 0; Warnings = 1; Notes = 1.\n"
     ]
    }
   ],
   "source": [
    "tleap_script = f'''\\\n",
    "{drug}=loadmol2 {drug}.mol2\n",
    "loadamberparams {drug}.all.modify.frcmod\n",
    "check ## just for check\n",
    "saveamberparm {drug} {drug}.prmtop {drug}.rst7\n",
    "quit\n",
    "''' \n",
    "\n",
    "!echo \"{tleap_script}\" > tleap.leap\n",
    "!tleap -f tleap.leap "
   ]
  },
  {
   "cell_type": "markdown",
   "id": "0d5b0138-f9fe-430d-a6c3-b2aa1742a950",
   "metadata": {},
   "source": [
    "### 匯出 Gromacs 格式的座標(.gro)、拓撲與參數檔案(.top)"
   ]
  },
  {
   "cell_type": "code",
   "execution_count": 8,
   "id": "7e8f1df6-d77d-4c98-8205-6406fc8ec91f",
   "metadata": {
    "tags": []
   },
   "outputs": [
    {
     "name": "stdout",
     "output_type": "stream",
     "text": [
      "============================================================================\n",
      "| ACPYPE: AnteChamber PYthon Parser interfacE v. 2023.10.27 (c) 2025 AWSdS |\n",
      "============================================================================\n",
      "Converting Amber input files to Gromacs ...\n",
      "==> Writing GROMACS files\n",
      "\n",
      "==> Disambiguating lower and uppercase atomtypes in GMX top file, even if identical.\n",
      "\n",
      "==> Writing GMX dihedrals for GMX 4.5 and higher.\n",
      "\n",
      "Total time of execution: less than a second\n"
     ]
    }
   ],
   "source": [
    "!acpype -p {drug}.prmtop -x {drug}.rst7"
   ]
  },
  {
   "cell_type": "code",
   "execution_count": null,
   "id": "493a819e-b3be-4a76-8423-e94e58dad208",
   "metadata": {},
   "outputs": [],
   "source": []
  }
 ],
 "metadata": {
  "kernelspec": {
   "display_name": "Python 3 (ipykernel)",
   "language": "python",
   "name": "python3"
  },
  "language_info": {
   "codemirror_mode": {
    "name": "ipython",
    "version": 3
   },
   "file_extension": ".py",
   "mimetype": "text/x-python",
   "name": "python",
   "nbconvert_exporter": "python",
   "pygments_lexer": "ipython3",
   "version": "3.7.4"
  }
 },
 "nbformat": 4,
 "nbformat_minor": 5
}
