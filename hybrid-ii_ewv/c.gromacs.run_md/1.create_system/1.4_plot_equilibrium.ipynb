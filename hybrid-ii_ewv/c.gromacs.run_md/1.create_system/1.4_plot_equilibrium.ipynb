{
 "cells": [
  {
   "cell_type": "code",
   "execution_count": null,
   "id": "f0e9f407-97ce-4a03-a0a9-8534eca52e2d",
   "metadata": {},
   "outputs": [],
   "source": [
    "import matplotlib.pyplot as plt\n",
    "\n",
    "def plot(*filenames):\n",
    "    time_cut = [0]\n",
    "    is_one_file = len(filenames) == 1\n",
    "    for filename in filenames:          \n",
    "        ## open file\n",
    "        with open(filename) as f:\n",
    "            lines = f.readlines()\n",
    "        x_column = []\n",
    "        y_column = []\n",
    "        ylabel_1,ylabel_2 = \"\",\"\"\n",
    "        ## read lines to info\n",
    "        for line in lines:\n",
    "            if line[0] == \"#\": ## comment\n",
    "                pass \n",
    "            elif line[0] == \"@\": ## plot infomation\n",
    "                split = line.split()\n",
    "                # print(split)\n",
    "                if split[1] == \"title\":\n",
    "                    title = \" \".join(split[2:]).replace(\"\\\"\",\"\")\n",
    "                elif split[1] == \"xaxis\":\n",
    "                    xlabel = \" \".join(split[3:]).replace(\"\\\"\",\"\")\n",
    "                elif split[1] == \"yaxis\":\n",
    "                    ylabel_2 = \" \".join(split[3:]).replace(\"\\\"\",\"\")\n",
    "                elif split[1] == \"view\":\n",
    "                    pass\n",
    "                elif split[1] == \"legend\":\n",
    "                    pass\n",
    "                elif split[1] == \"s0\":\n",
    "                    ylabel_1 = split[3].replace(\"\\\"\",\"\")\n",
    "            elif line[0] == \" \": ## x-y axis data\n",
    "                split = line.split()\n",
    "                x_column.append(float(split[0])+time_cut[-1])\n",
    "                y_column.append(float(split[1]))\n",
    "        label_name = filename.split('/')[-1].split('.')[0]+\"_\"+ylabel_1\n",
    "        if is_one_file:\n",
    "            plt.plot(x_column,y_column,label=label_name,color='black')\n",
    "        else:\n",
    "            plt.plot(x_column,y_column,label=label_name)\n",
    "        time_cut.append(max(x_column))\n",
    "    \n",
    "    ## plot \n",
    "    ymin, ymax = plt.gca().get_ylim()\n",
    "    if not is_one_file:\n",
    "        plt.plot([time_cut[1:-1],time_cut[1:-1]],[ymin,ymax],linestyle=\"--\",color='black')\n",
    "    plt.title(title)\n",
    "    plt.xlabel(xlabel)\n",
    "    plt.ylabel(ylabel_1 + \" \" + ylabel_2)\n",
    "    plt.legend()\n",
    "    plt.ticklabel_format(style='sci',scilimits=(-3,3),axis='y')\n",
    "    plt.show()\n"
   ]
  },
  {
   "cell_type": "code",
   "execution_count": null,
   "id": "156b350e-8851-4d8d-a4bc-7d1a540c6072",
   "metadata": {},
   "outputs": [],
   "source": [
    "import matplotlib.pyplot as plt\n",
    "\n",
    "def distribution(*filenames):\n",
    "    time_cut = [0]\n",
    "    is_one_file = len(filenames) == 1\n",
    "    for filename in filenames:          \n",
    "        ## open file\n",
    "        with open(filename) as f:\n",
    "            lines = f.readlines()\n",
    "        x_column = []\n",
    "        y_column = []\n",
    "        ylabel_1,ylabel_2 = \"\",\"\"\n",
    "        ## read lines to info\n",
    "        for line in lines:\n",
    "            if line[0] == \"#\": ## comment\n",
    "                pass \n",
    "            elif line[0] == \"@\": ## plot infomation\n",
    "                split = line.split()\n",
    "                # print(split)\n",
    "                if split[1] == \"title\":\n",
    "                    title = \" \".join(split[2:]).replace(\"\\\"\",\"\")\n",
    "                elif split[1] == \"xaxis\":\n",
    "                    xlabel = \" \".join(split[3:]).replace(\"\\\"\",\"\")\n",
    "                elif split[1] == \"yaxis\":\n",
    "                    ylabel_2 = \" \".join(split[3:]).replace(\"\\\"\",\"\")\n",
    "                elif split[1] == \"view\":\n",
    "                    pass\n",
    "                elif split[1] == \"legend\":\n",
    "                    pass\n",
    "                elif split[1] == \"s0\":\n",
    "                    ylabel_1 = split[3].replace(\"\\\"\",\"\")\n",
    "            elif line[0] == \" \": ## x-y axis data\n",
    "                split = line.split()\n",
    "                x_column.append(float(split[0])+time_cut[-1])\n",
    "                y_column.append(float(split[1]))\n",
    "        label_name = filename.split('/')[-1].split('.')[0]+\"_\"+ylabel_1\n",
    "        if is_one_file:\n",
    "            plt.hist(y_column,label=label_name,color='black',bins=50)\n",
    "        else:\n",
    "            plt.bar(x_column,y_column,label=label_name,bins=50)\n",
    "        time_cut.append(max(x_column))\n",
    "    \n",
    "    ## plot \n",
    "    ymin, ymax = plt.gca().get_ylim()\n",
    "    if not is_one_file:\n",
    "        plt.plot([time_cut[1:-1],time_cut[1:-1]],[ymin,ymax],linestyle=\"--\",color='black')\n",
    "    plt.title(title)\n",
    "    plt.xlabel(ylabel_1 + \" \" + ylabel_2)\n",
    "    # plt.ylabel()\n",
    "    plt.legend()\n",
    "    plt.ticklabel_format(style='sci',scilimits=(-3,3),axis='y')\n",
    "    plt.show()"
   ]
  },
  {
   "cell_type": "markdown",
   "id": "828d4507-2a8f-46ed-b716-1a5f6a0def09",
   "metadata": {},
   "source": [
    "### energy minimization\n",
    "sele 11(Potential)"
   ]
  },
  {
   "cell_type": "code",
   "execution_count": null,
   "id": "14337d6e-76ac-43c3-a245-31c0974d5667",
   "metadata": {},
   "outputs": [],
   "source": [
    "!echo \"11\" | gmx energy -f min1.edr -o min1.e.xvg\n",
    "!echo \"11\" | gmx energy -f min2.edr -o min2.e.xvg"
   ]
  },
  {
   "cell_type": "code",
   "execution_count": null,
   "id": "8c012661-590c-46a5-b276-1e99cab1c9ea",
   "metadata": {},
   "outputs": [],
   "source": [
    "plot(\"min1.e.xvg\")\n",
    "plot(\"min2.e.xvg\")"
   ]
  },
  {
   "cell_type": "code",
   "execution_count": null,
   "id": "e16310ee-98ba-4140-b25b-d1117d6f435c",
   "metadata": {},
   "outputs": [],
   "source": [
    "plt.figure(figsize=(14, 6))\n",
    "plot(\"min1.e.xvg\",\"min2.e.xvg\")"
   ]
  },
  {
   "cell_type": "markdown",
   "id": "cbb6c11c-7024-4255-ab3a-d7ab4bf645d8",
   "metadata": {},
   "source": [
    "### temperature changing for heating\n",
    "select 15(Temperature)  \n",
    "select 17(Pressure)  "
   ]
  },
  {
   "cell_type": "code",
   "execution_count": null,
   "id": "b48798da-27be-4ba1-b61b-d0ea62f32507",
   "metadata": {},
   "outputs": [],
   "source": [
    "!echo \"15\" | gmx energy -f heat.edr -o heat.t.xvg \n",
    "!echo \"17\" | gmx energy -f heat.edr -o heat.p.xvg "
   ]
  },
  {
   "cell_type": "code",
   "execution_count": null,
   "id": "5aef7623-1a0b-4386-a1ef-e9674bf66fde",
   "metadata": {},
   "outputs": [],
   "source": [
    "plot(\"heat.t.xvg\")\n",
    "plot(\"heat.p.xvg\")"
   ]
  },
  {
   "cell_type": "markdown",
   "id": "6d3cfa24-88aa-485e-945a-5cf050b76400",
   "metadata": {},
   "source": [
    "### pressure changing of nvt1\n",
    "select 17 (Pressure)"
   ]
  },
  {
   "cell_type": "code",
   "execution_count": null,
   "id": "33921e75-60ac-4e56-a10f-756783ca2a07",
   "metadata": {},
   "outputs": [],
   "source": [
    "!echo \"15\" | gmx energy -f nvt1.edr -o nvt1.t.xvg \n",
    "!echo \"17\" | gmx energy -f nvt1.edr -o nvt1.p.xvg "
   ]
  },
  {
   "cell_type": "code",
   "execution_count": null,
   "id": "bb463ece-62e9-4656-9fcf-0a5cc671d283",
   "metadata": {},
   "outputs": [],
   "source": [
    "plot(\"nvt1.t.xvg\")\n",
    "plot(\"nvt1.p.xvg\")"
   ]
  },
  {
   "cell_type": "code",
   "execution_count": null,
   "id": "140f3cf9-724f-4241-849c-2b6512c4475e",
   "metadata": {},
   "outputs": [],
   "source": [
    "distribution(\"nvt1.p.xvg\")"
   ]
  },
  {
   "cell_type": "markdown",
   "id": "0999688f-23ad-4e1c-a42a-b6bff6ba32f1",
   "metadata": {},
   "source": [
    "### pressure fixed and volume changing of npt\n",
    "select 17(Pressure)  \n",
    "select 23(Density)"
   ]
  },
  {
   "cell_type": "code",
   "execution_count": null,
   "id": "52ceb1bf-1650-438e-a379-5c7881b45974",
   "metadata": {},
   "outputs": [],
   "source": [
    "!echo \"15\" | gmx energy -f npt1.edr -o npt1.t.xvg \n",
    "!echo \"17\" | gmx energy -f npt1.edr -o npt1.p.xvg \n",
    "!echo \"23\" | gmx energy -f npt1.edr -o npt1.d.xvg \n",
    "!echo \"14\" | gmx energy -f npt2.edr -o npt2.t.xvg \n",
    "!echo \"16\" | gmx energy -f npt2.edr -o npt2.p.xvg \n",
    "!echo \"22\" | gmx energy -f npt2.edr -o npt2.d.xvg "
   ]
  },
  {
   "cell_type": "code",
   "execution_count": null,
   "id": "022aa0b8-c313-4001-896b-69b0d30a262d",
   "metadata": {},
   "outputs": [],
   "source": [
    "plot(\"npt1.p.xvg\")"
   ]
  },
  {
   "cell_type": "code",
   "execution_count": null,
   "id": "2f7073b7-4ea0-4bd8-a2dc-eb13cd6319b8",
   "metadata": {},
   "outputs": [],
   "source": [
    "plot(\"npt1.d.xvg\")"
   ]
  },
  {
   "cell_type": "code",
   "execution_count": null,
   "id": "0c770198-4165-432c-b9de-dd2ebe7e01ba",
   "metadata": {},
   "outputs": [],
   "source": [
    "distribution(\"npt2.p.xvg\")\n",
    "distribution(\"npt2.t.xvg\")\n",
    "distribution(\"npt1.d.xvg\")"
   ]
  },
  {
   "cell_type": "code",
   "execution_count": null,
   "id": "e49eacd5-e4ee-4ce6-8ce1-63f52937b85d",
   "metadata": {},
   "outputs": [],
   "source": [
    "plt.plot([],[])\n",
    "plt.plot([],[])\n",
    "plot(\"npt1.t.xvg\",\"npt2.t.xvg\")"
   ]
  },
  {
   "cell_type": "code",
   "execution_count": null,
   "id": "70f5d91b-ad25-4fd9-9c36-2c9a30956a3f",
   "metadata": {},
   "outputs": [],
   "source": [
    "plt.plot([],[])\n",
    "plt.plot([],[])\n",
    "plot(\"npt1.p.xvg\",\"npt2.p.xvg\")"
   ]
  },
  {
   "cell_type": "code",
   "execution_count": null,
   "id": "e607227e-334d-4ebc-a9ed-1a77c326ee3f",
   "metadata": {},
   "outputs": [],
   "source": [
    "plt.plot([],[])\n",
    "plt.plot([],[])\n",
    "plot(\"npt1.d.xvg\",\"npt2.d.xvg\")"
   ]
  },
  {
   "cell_type": "code",
   "execution_count": null,
   "id": "1d0426e7-aad4-4799-b719-104a6f4ebb31",
   "metadata": {},
   "outputs": [],
   "source": [
    "plot(\"heat.p.xvg\",\"nvt1.p.xvg\",\"npt1.p.xvg\",\"npt2.p.xvg\")"
   ]
  },
  {
   "cell_type": "code",
   "execution_count": null,
   "id": "3e3ed57e-70a2-4f13-bd53-1afc2941249c",
   "metadata": {
    "tags": []
   },
   "outputs": [],
   "source": [
    "plot(\"heat.t.xvg\",\"nvt1.t.xvg\",\"npt1.t.xvg\",\"npt2.t.xvg\")"
   ]
  }
 ],
 "metadata": {
  "kernelspec": {
   "display_name": "Python 3 (ipykernel)",
   "language": "python",
   "name": "python3"
  },
  "language_info": {
   "codemirror_mode": {
    "name": "ipython",
    "version": 3
   },
   "file_extension": ".py",
   "mimetype": "text/x-python",
   "name": "python",
   "nbconvert_exporter": "python",
   "pygments_lexer": "ipython3",
   "version": "3.7.4"
  }
 },
 "nbformat": 4,
 "nbformat_minor": 5
}
