{
 "cells": [
  {
   "cell_type": "markdown",
   "id": "549281ba-b12a-44ab-aa67-a936e0078f0e",
   "metadata": {
    "tags": []
   },
   "source": [
    "### Define jobname"
   ]
  },
  {
   "cell_type": "code",
   "execution_count": null,
   "id": "34d6acb5-ae8c-442d-8f75-477444834397",
   "metadata": {},
   "outputs": [],
   "source": [
    "pdbid = '2jpz'\n",
    "drug  = None\n",
    "jobname = f'{pdbid}_{drug}' if not drug is None else pdbid\n",
    "indexfile=f'{jobname}.simulate.ndx'\n",
    "mdp_folder = \"../../../smsl/opt/mdp\""
   ]
  },
  {
   "cell_type": "markdown",
   "id": "41491cb0-789c-41cc-98e0-a8378c3b6775",
   "metadata": {
    "tags": []
   },
   "source": [
    "### make a centered reference structure"
   ]
  },
  {
   "cell_type": "code",
   "execution_count": null,
   "id": "e44bf6a3-feef-4154-ad47-a44cbd8682f6",
   "metadata": {},
   "outputs": [],
   "source": [
    "def rmpbc(filename,indexfile='index.ndx',center=0,output=0, postfix='c'):\n",
    "    file = \".\".join(filename.split('.')[:-1]).split('_')[0]\n",
    "    extend = filename.split('.')[-1]\n",
    "    cmd1 = f'echo \"{center} {output}\" | gmx trjconv -s {file}.tpr -f {filename} -o {file}_{postfix}.{extend} -pbc res -center -boxcenter zero -n {indexfile} -ndec 5 -ur compact'\n",
    "    print(\"##========================command=line========================##\")\n",
    "    print(cmd1,sep=\"\\n\")\n",
    "    print(\"##======================end=command=line======================##\")\n",
    "    !{cmd1}"
   ]
  },
  {
   "cell_type": "code",
   "execution_count": null,
   "id": "2f62782c-9269-49ec-a5d6-0b7804fcbc0b",
   "metadata": {},
   "outputs": [],
   "source": [
    "def grep_and_fit(filename,indexfile='index.ndx',center=0,output=0, postfix='rms'):\n",
    "    file = \".\".join(filename.split('.')[:-1]).split('_')[0]\n",
    "    extend = filename.split('.')[-1]\n",
    "    cmd1 = f'echo \"{center} {output}\" | gmx trjconv -s rms.tpr -f {filename} -o {file}_{postfix}.{extend} -n {indexfile} -fit rot+trans -ndec 5'\n",
    "    print(\"##========================command=line========================##\")\n",
    "    print(cmd1,sep=\"\\n\")\n",
    "    print(\"##======================end=command=line======================##\") \n",
    "    !{cmd1}"
   ]
  },
  {
   "cell_type": "code",
   "execution_count": null,
   "id": "c02fd745-4d8e-4b27-a050-5baa1cf4c0cf",
   "metadata": {},
   "outputs": [],
   "source": [
    "rmpbc(\"npt2.pdb\", indexfile, center='DNA')"
   ]
  },
  {
   "cell_type": "markdown",
   "id": "24bfe0d0-b291-4b2c-a9f5-40e91e873e77",
   "metadata": {},
   "source": [
    "### make a tpr using centered reference structure"
   ]
  },
  {
   "cell_type": "code",
   "execution_count": null,
   "id": "57606592-3acc-4fd9-b7fd-df6a39f9effb",
   "metadata": {},
   "outputs": [],
   "source": [
    "!gmx grompp -f {mdp_folder}/min2.mdp -c npt2_c.pdb -r npt2_c.pdb -p topol.top -o rms.tpr"
   ]
  },
  {
   "cell_type": "markdown",
   "id": "7f05300f-31a5-431f-8350-9b2083e22ccd",
   "metadata": {},
   "source": [
    "### Center protein for a solvated trajectory and put residues in the unit cell \n",
    "- Input and output are both solvated trajectories\n",
    "- 1. make residues in the unit cell\n",
    "- The sequence of commands here are used to generate the \"process.solvated.traj\" shell scripts for production runs"
   ]
  },
  {
   "cell_type": "code",
   "execution_count": null,
   "id": "fd2cfe09-f71c-47aa-8222-d4887df42b13",
   "metadata": {},
   "outputs": [],
   "source": [
    "rmpbc(\"heat.xtc\", indexfile, center='DNA')\n",
    "rmpbc(\"nvt1.xtc\", indexfile, center='DNA')\n",
    "rmpbc(\"npt1.xtc\", indexfile, center='DNA')\n",
    "rmpbc(\"npt2.xtc\", indexfile, center='DNA')"
   ]
  },
  {
   "cell_type": "markdown",
   "id": "6e9a8389-8556-43aa-9927-9eb5c22f3193",
   "metadata": {
    "tags": []
   },
   "source": [
    "### get a no-solvent reference structure"
   ]
  },
  {
   "cell_type": "code",
   "execution_count": null,
   "id": "25ea5fe5-10b5-4ac9-9462-93f0e8172c50",
   "metadata": {
    "tags": []
   },
   "outputs": [],
   "source": [
    "!echo \"Model\"     | gmx editconf -f npt2_c.pdb -o npt2_rms.pdb -n {jobname}.simulate.ndx\n",
    "!echo \"non-Water\" | gmx editconf -f npt2_c.pdb -o npt2_noh.pdb -n {jobname}.simulate.ndx"
   ]
  },
  {
   "cell_type": "markdown",
   "id": "c4df6147-ceb1-480a-b69d-359d8eceecd6",
   "metadata": {},
   "source": [
    "### Output non-water parts with best fit \n",
    "- The index file needs to be setup first\n",
    "- The sequence of commands here are used to generate the \"rms.traj\" shell scripts for production runs"
   ]
  },
  {
   "cell_type": "code",
   "execution_count": null,
   "id": "670cb8c0-8a00-4b95-bf3b-50fd9f7735af",
   "metadata": {
    "tags": []
   },
   "outputs": [],
   "source": [
    "grep_and_fit(\"heat_c.xtc\", indexfile, center='DNA', output='Model')\n",
    "grep_and_fit(\"nvt1_c.xtc\", indexfile, center='DNA', output='Model')\n",
    "grep_and_fit(\"npt1_c.xtc\", indexfile, center='DNA', output='Model')\n",
    "grep_and_fit(\"npt2_c.xtc\", indexfile, center='DNA', output='Model')"
   ]
  },
  {
   "cell_type": "code",
   "execution_count": null,
   "id": "477f5674-d753-4885-ae72-94aa0084153f",
   "metadata": {
    "tags": []
   },
   "outputs": [],
   "source": [
    "grep_and_fit(\"heat_c.xtc\", indexfile, center='DNA', output='non-Water', postfix='noh')\n",
    "grep_and_fit(\"nvt1_c.xtc\", indexfile, center='DNA', output='non-Water', postfix='noh')\n",
    "grep_and_fit(\"npt1_c.xtc\", indexfile, center='DNA', output='non-Water', postfix='noh')\n",
    "grep_and_fit(\"npt2_c.xtc\", indexfile, center='DNA', output='non-Water', postfix='noh')"
   ]
  },
  {
   "cell_type": "markdown",
   "id": "3b51b374-34db-4532-8a51-6925a739cfa5",
   "metadata": {},
   "source": [
    "### Cat rms trajectories\n",
    "- Use cat.traj to combine production run trajectories"
   ]
  },
  {
   "cell_type": "code",
   "execution_count": null,
   "id": "e1b96637-a355-4c96-b25e-0d8e0b3c06e0",
   "metadata": {},
   "outputs": [],
   "source": [
    "cmd = '''\\\n",
    "c\n",
    "c\n",
    "c\n",
    "c\n",
    "'''\n",
    "\n",
    "!echo -e \"{cmd}\" | gmx trjcat -f heat_c.xtc nvt1_c.xtc npt1_c.xtc npt2_c.xtc -o equilibrium_c.xtc -settime"
   ]
  },
  {
   "cell_type": "code",
   "execution_count": null,
   "id": "a1df6e1a-b027-4ac7-8289-aa4daaec87fd",
   "metadata": {
    "tags": []
   },
   "outputs": [],
   "source": [
    "cmd = '''\\\n",
    "c\n",
    "c\n",
    "c\n",
    "c\n",
    "'''\n",
    "\n",
    "!echo -e \"{cmd}\" | gmx trjcat -f heat_noh.xtc nvt1_noh.xtc npt1_noh.xtc npt2_noh.xtc -o equilibrium_noh.xtc -settime"
   ]
  },
  {
   "cell_type": "code",
   "execution_count": null,
   "id": "36525a0e-7e4e-4276-9471-68e4ef36ff79",
   "metadata": {},
   "outputs": [],
   "source": [
    "cmd = '''\\\n",
    "c\n",
    "c\n",
    "c\n",
    "c\n",
    "'''\n",
    "\n",
    "!echo -e \"{cmd}\" | gmx trjcat -f heat_rms.xtc nvt1_rms.xtc npt1_rms.xtc npt2_rms.xtc -o equilibrium_rms.xtc -settime"
   ]
  },
  {
   "cell_type": "markdown",
   "id": "08db24a5-34d1-402e-ac56-0cc13bf0c23d",
   "metadata": {},
   "source": [
    "## Visualize\n",
    "```bash\n",
    "pymol rms.pdb heat_rms.xtc  \n",
    "vmd -gro rms.pdb heat_rms.xtc  \n",
    "```"
   ]
  },
  {
   "cell_type": "markdown",
   "id": "2b997584-51cc-477e-bd01-8aa5a6549242",
   "metadata": {},
   "source": [
    "### Move data to next folder"
   ]
  },
  {
   "cell_type": "code",
   "execution_count": null,
   "id": "9dc77860-c6db-41fd-9ab6-b2cae8ae9d50",
   "metadata": {},
   "outputs": [],
   "source": [
    "!cp {indexfile} rms.tpr           ../2.simulation  ## for rmpbc\n",
    "!cp npt2.pdb npt2.cpt *.top *.itp ../2.simulation  ## for mdrun"
   ]
  },
  {
   "cell_type": "code",
   "execution_count": null,
   "id": "307e30c4-97fc-42d9-804f-de38c91ae38c",
   "metadata": {},
   "outputs": [],
   "source": [
    "!cp npt2_rms.pdb                  ../3.trajectory_data/{jobname}.npt2.pdb"
   ]
  }
 ],
 "metadata": {
  "kernelspec": {
   "display_name": "Python 3 (ipykernel)",
   "language": "python",
   "name": "python3"
  },
  "language_info": {
   "codemirror_mode": {
    "name": "ipython",
    "version": 3
   },
   "file_extension": ".py",
   "mimetype": "text/x-python",
   "name": "python",
   "nbconvert_exporter": "python",
   "pygments_lexer": "ipython3",
   "version": "3.7.4"
  }
 },
 "nbformat": 4,
 "nbformat_minor": 5
}
