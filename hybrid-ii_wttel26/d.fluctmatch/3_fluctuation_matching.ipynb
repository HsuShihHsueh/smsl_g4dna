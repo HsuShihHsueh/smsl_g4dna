{
 "cells": [
  {
   "cell_type": "code",
   "execution_count": 1,
   "id": "323947c3-a71c-4d6a-a403-0e463a5cf366",
   "metadata": {
    "tags": []
   },
   "outputs": [],
   "source": [
    "import sys\n",
    "sys.path.append(\"../SMSL\")"
   ]
  },
  {
   "cell_type": "markdown",
   "id": "b0b4220c-61ef-42ed-bfb0-91309266e891",
   "metadata": {},
   "source": [
    "### Part 1: Initialize"
   ]
  },
  {
   "cell_type": "code",
   "execution_count": 2,
   "id": "d989ce8a-3222-419a-85af-e32a85486556",
   "metadata": {},
   "outputs": [],
   "source": [
    "from SMSL.fluctMatch import FmAgent"
   ]
  },
  {
   "cell_type": "code",
   "execution_count": 3,
   "id": "9d05318e-456b-451f-b394-d59f5eb1250f",
   "metadata": {
    "tags": []
   },
   "outputs": [],
   "source": [
    "fm_agent = FmAgent()\n",
    "fm_agent.load_TimeAgent()"
   ]
  },
  {
   "cell_type": "markdown",
   "id": "4cdefa1b-8d55-4fee-a488-6ef2ab890460",
   "metadata": {},
   "source": [
    "### Part 2: Write Charmm script for running NMA"
   ]
  },
  {
   "cell_type": "code",
   "execution_count": 4,
   "id": "18fd935a-19aa-43e2-8ff9-c45654e20d55",
   "metadata": {},
   "outputs": [],
   "source": [
    "for time_label, st_agent in fm_agent.t_agent.items():\n",
    "    st_agent.bigtraj_folder = st_agent.bigtraj_folder.replace('/data/hpcUser/chu_02', '$HOME/user')"
   ]
  },
  {
   "cell_type": "code",
   "execution_count": 5,
   "id": "454654fe-1939-42a7-8d8a-085a65e81d6a",
   "metadata": {},
   "outputs": [],
   "source": [
    "fm_agent.write_all_nmascipt()"
   ]
  },
  {
   "cell_type": "markdown",
   "id": "8b523420-33f0-4413-848c-cdaeefcac9a3",
   "metadata": {},
   "source": [
    "### Part3: Running Fluctuation Matching"
   ]
  },
  {
   "cell_type": "code",
   "execution_count": 6,
   "id": "870e91c7-cc22-4718-a59c-a11cf14447a6",
   "metadata": {
    "tags": []
   },
   "outputs": [
    {
     "data": {
      "application/vnd.jupyter.widget-view+json": {
       "model_id": "b938fd2673ff4662a95972025ae8a33d",
       "version_major": 2,
       "version_minor": 0
      },
      "text/plain": [
       "Window 0000_0500:   0%|          | 0/250 [00:00<?, ?it/s]"
      ]
     },
     "metadata": {},
     "output_type": "display_data"
    },
    {
     "data": {
      "application/vnd.jupyter.widget-view+json": {
       "model_id": "5ef9d7bea9d541d691a3490e063afb22",
       "version_major": 2,
       "version_minor": 0
      },
      "text/plain": [
       "Window 0250_0750:   0%|          | 0/250 [00:00<?, ?it/s]"
      ]
     },
     "metadata": {},
     "output_type": "display_data"
    },
    {
     "data": {
      "application/vnd.jupyter.widget-view+json": {
       "model_id": "093a39d928fc4b77be408379eab71ceb",
       "version_major": 2,
       "version_minor": 0
      },
      "text/plain": [
       "Window 0500_1000:   0%|          | 0/250 [00:00<?, ?it/s]"
      ]
     },
     "metadata": {},
     "output_type": "display_data"
    },
    {
     "data": {
      "application/vnd.jupyter.widget-view+json": {
       "model_id": "f220d6141608482cbffa7a47d08aa5f7",
       "version_major": 2,
       "version_minor": 0
      },
      "text/plain": [
       "Window 0750_1250:   0%|          | 0/250 [00:00<?, ?it/s]"
      ]
     },
     "metadata": {},
     "output_type": "display_data"
    },
    {
     "data": {
      "application/vnd.jupyter.widget-view+json": {
       "model_id": "db803edf816e413fa6ddf0976aa69320",
       "version_major": 2,
       "version_minor": 0
      },
      "text/plain": [
       "Window 1000_1500:   0%|          | 0/250 [00:00<?, ?it/s]"
      ]
     },
     "metadata": {},
     "output_type": "display_data"
    },
    {
     "data": {
      "application/vnd.jupyter.widget-view+json": {
       "model_id": "a1e3bdb0ed834d5298d7e8fbeb217e3c",
       "version_major": 2,
       "version_minor": 0
      },
      "text/plain": [
       "Window 1250_1750:   0%|          | 0/250 [00:00<?, ?it/s]"
      ]
     },
     "metadata": {},
     "output_type": "display_data"
    },
    {
     "data": {
      "application/vnd.jupyter.widget-view+json": {
       "model_id": "bd02f1a0f77a427c95defd1e0c67a74e",
       "version_major": 2,
       "version_minor": 0
      },
      "text/plain": [
       "Window 1500_2000:   0%|          | 0/250 [00:00<?, ?it/s]"
      ]
     },
     "metadata": {},
     "output_type": "display_data"
    },
    {
     "data": {
      "application/vnd.jupyter.widget-view+json": {
       "model_id": "3b11d4a828c74749aea729976fafffa4",
       "version_major": 2,
       "version_minor": 0
      },
      "text/plain": [
       "Window 1750_2250:   0%|          | 0/250 [00:00<?, ?it/s]"
      ]
     },
     "metadata": {},
     "output_type": "display_data"
    },
    {
     "data": {
      "application/vnd.jupyter.widget-view+json": {
       "model_id": "55ca3068e3fc48bd89f2ddbc48f3363f",
       "version_major": 2,
       "version_minor": 0
      },
      "text/plain": [
       "Window 2000_2500:   0%|          | 0/250 [00:00<?, ?it/s]"
      ]
     },
     "metadata": {},
     "output_type": "display_data"
    },
    {
     "data": {
      "application/vnd.jupyter.widget-view+json": {
       "model_id": "74af5da729f341a0a5466c4238a040b0",
       "version_major": 2,
       "version_minor": 0
      },
      "text/plain": [
       "Window 2250_2750:   0%|          | 0/250 [00:00<?, ?it/s]"
      ]
     },
     "metadata": {},
     "output_type": "display_data"
    },
    {
     "data": {
      "application/vnd.jupyter.widget-view+json": {
       "model_id": "f03a99d8e07b4a128cd89186838bd0e5",
       "version_major": 2,
       "version_minor": 0
      },
      "text/plain": [
       "Window 2500_3000:   0%|          | 0/250 [00:00<?, ?it/s]"
      ]
     },
     "metadata": {},
     "output_type": "display_data"
    },
    {
     "data": {
      "application/vnd.jupyter.widget-view+json": {
       "model_id": "52b18bc0a1ea42b7a2c6a8f28efd290f",
       "version_major": 2,
       "version_minor": 0
      },
      "text/plain": [
       "Window 2750_3250:   0%|          | 0/250 [00:00<?, ?it/s]"
      ]
     },
     "metadata": {},
     "output_type": "display_data"
    },
    {
     "data": {
      "application/vnd.jupyter.widget-view+json": {
       "model_id": "1e04e437f4b642289875e3253b2fbb4f",
       "version_major": 2,
       "version_minor": 0
      },
      "text/plain": [
       "Window 3000_3500:   0%|          | 0/250 [00:00<?, ?it/s]"
      ]
     },
     "metadata": {},
     "output_type": "display_data"
    },
    {
     "data": {
      "application/vnd.jupyter.widget-view+json": {
       "model_id": "30109fd34ced459bae918e22f74b8bf3",
       "version_major": 2,
       "version_minor": 0
      },
      "text/plain": [
       "Window 3250_3750:   0%|          | 0/250 [00:00<?, ?it/s]"
      ]
     },
     "metadata": {},
     "output_type": "display_data"
    },
    {
     "data": {
      "application/vnd.jupyter.widget-view+json": {
       "model_id": "00cb79a93a414506bd4db9d43ca79035",
       "version_major": 2,
       "version_minor": 0
      },
      "text/plain": [
       "Window 3500_4000:   0%|          | 0/250 [00:00<?, ?it/s]"
      ]
     },
     "metadata": {},
     "output_type": "display_data"
    },
    {
     "data": {
      "application/vnd.jupyter.widget-view+json": {
       "model_id": "5cd2105712b34443b68c223bab08f511",
       "version_major": 2,
       "version_minor": 0
      },
      "text/plain": [
       "Window 3750_4250:   0%|          | 0/250 [00:00<?, ?it/s]"
      ]
     },
     "metadata": {},
     "output_type": "display_data"
    },
    {
     "data": {
      "application/vnd.jupyter.widget-view+json": {
       "model_id": "592375671dd84d65a6657cf8fd3a854a",
       "version_major": 2,
       "version_minor": 0
      },
      "text/plain": [
       "Window 4000_4500:   0%|          | 0/250 [00:00<?, ?it/s]"
      ]
     },
     "metadata": {},
     "output_type": "display_data"
    },
    {
     "data": {
      "application/vnd.jupyter.widget-view+json": {
       "model_id": "76e268cb8e744d47ac225f2c4bdc99a9",
       "version_major": 2,
       "version_minor": 0
      },
      "text/plain": [
       "Window 4250_4750:   0%|          | 0/250 [00:00<?, ?it/s]"
      ]
     },
     "metadata": {},
     "output_type": "display_data"
    },
    {
     "data": {
      "application/vnd.jupyter.widget-view+json": {
       "model_id": "decf254883cf44f78c3ecb0d10c72233",
       "version_major": 2,
       "version_minor": 0
      },
      "text/plain": [
       "Window 4500_5000:   0%|          | 0/250 [00:00<?, ?it/s]"
      ]
     },
     "metadata": {},
     "output_type": "display_data"
    },
    {
     "name": "stderr",
     "output_type": "stream",
     "text": [
      "/home/chu_02/.conda/envs/fluctmatch/lib/python3.8/site-packages/MDAnalysis/coordinates/DCD.py:165: DeprecationWarning: DCDReader currently makes independent timesteps by copying self.ts while other readers update self.ts inplace. This behavior will be changed in 3.0 to be the same as other readers. Read more at https://github.com/MDAnalysis/mdanalysis/issues/3889 to learn if this change in behavior might affect you.\n",
      "  warnings.warn(\"DCDReader currently makes independent timesteps\"\n"
     ]
    }
   ],
   "source": [
    "fm_agent.run_all_fluctmatch(max_workers=48)"
   ]
  },
  {
   "cell_type": "code",
   "execution_count": 7,
   "id": "51ed122a-1e03-450b-a0b4-906724aaf604",
   "metadata": {},
   "outputs": [],
   "source": [
    "# fm_agent.t_agent['0000_0500'].fluct_match(loop_iterate=tqdm(range(1, fm_agent.iter_num+1)), verbose=1)"
   ]
  },
  {
   "cell_type": "code",
   "execution_count": null,
   "id": "0b8279fe-86ee-43d6-a207-efd289699aad",
   "metadata": {},
   "outputs": [],
   "source": []
  }
 ],
 "metadata": {
  "kernelspec": {
   "display_name": "Python 3 (ipykernel)",
   "language": "python",
   "name": "python3"
  },
  "language_info": {
   "codemirror_mode": {
    "name": "ipython",
    "version": 3
   },
   "file_extension": ".py",
   "mimetype": "text/x-python",
   "name": "python",
   "nbconvert_exporter": "python",
   "pygments_lexer": "ipython3",
   "version": "3.8.16"
  }
 },
 "nbformat": 4,
 "nbformat_minor": 5
}
