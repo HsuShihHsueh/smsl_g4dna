{
 "cells": [
  {
   "cell_type": "code",
   "execution_count": 1,
   "id": "bcceaffe-d261-43cc-9d08-66c4cc9a1785",
   "metadata": {
    "tags": []
   },
   "outputs": [],
   "source": [
    "import sys\n",
    "sys.path.append(\"../SMSL\")"
   ]
  },
  {
   "cell_type": "code",
   "execution_count": 2,
   "id": "18adcd3c-6ee9-4a9a-8603-97471b40bfce",
   "metadata": {},
   "outputs": [],
   "source": [
    "from SMSL.enmBuilder import ENMAgent"
   ]
  },
  {
   "cell_type": "markdown",
   "id": "ba3eba8c-83f9-4b4f-82dd-ba9e32f06f38",
   "metadata": {
    "tags": []
   },
   "source": [
    "### Part 3: prepare ENM files"
   ]
  },
  {
   "cell_type": "code",
   "execution_count": 3,
   "id": "e1d9bf8a-6b05-4f05-b2e0-1e3b5213bf86",
   "metadata": {
    "tags": []
   },
   "outputs": [
    {
     "name": "stdout",
     "output_type": "stream",
     "text": [
      "with 19 frames of 547 atoms\n"
     ]
    },
    {
     "name": "stderr",
     "output_type": "stream",
     "text": [
      "/home/chu_02/.conda/envs/fluctmatch/lib/python3.8/site-packages/MDAnalysis/coordinates/base.py:721: UserWarning: Reader has no dt information, set to 1.0 ps\n",
      "  return self.ts.dt\n"
     ]
    }
   ],
   "source": [
    "ENM_agent = ENMAgent()\n",
    "ENM_agent.load_TimeAgent()\n",
    "ENM_agent.load_ENMUniverse()\n",
    "ENM_agent.modify_ENMUniverse()"
   ]
  },
  {
   "cell_type": "markdown",
   "id": "eff18e14-f60f-45a2-9b30-f105bd98f8b2",
   "metadata": {},
   "source": [
    "### Part 4: connect the pair that distance < cutoff, then get the union in all windows"
   ]
  },
  {
   "cell_type": "code",
   "execution_count": 4,
   "id": "c2b08326-c077-46f4-828a-676f7d5246e3",
   "metadata": {
    "tags": []
   },
   "outputs": [
    {
     "name": "stdout",
     "output_type": "stream",
     "text": [
      "0000_0500ns: 6674 pairs\n",
      "0250_0750ns: 6935 pairs\n",
      "0500_1000ns: 6996 pairs\n",
      "0750_1250ns: 6864 pairs\n",
      "1000_1500ns: 6993 pairs\n",
      "1250_1750ns: 6961 pairs\n",
      "1500_2000ns: 6911 pairs\n",
      "1750_2250ns: 6973 pairs\n",
      "2000_2500ns: 6995 pairs\n",
      "2250_2750ns: 6987 pairs\n",
      "2500_3000ns: 6975 pairs\n",
      "2750_3250ns: 6942 pairs\n",
      "3000_3500ns: 6910 pairs\n",
      "3250_3750ns: 6934 pairs\n",
      "3500_4000ns: 6845 pairs\n",
      "3750_4250ns: 6936 pairs\n",
      "4000_4500ns: 6863 pairs\n",
      "4250_4750ns: 6907 pairs\n",
      "4500_5000ns: 6941 pairs\n",
      "\n",
      "Total 547 beads with 9482 pairs\n"
     ]
    }
   ],
   "source": [
    "ENM_agent.get_union_bonds()"
   ]
  },
  {
   "cell_type": "code",
   "execution_count": 5,
   "id": "9b73110d-a290-46f6-bbbf-46db5e6b2c74",
   "metadata": {
    "tags": []
   },
   "outputs": [
    {
     "name": "stdout",
     "output_type": "stream",
     "text": [
      "0000_0500ns\n",
      "Edit by Allen 2024/06/01\n",
      "0250_0750ns\n",
      "Edit by Allen 2024/06/01\n",
      "0500_1000ns\n",
      "Edit by Allen 2024/06/01\n",
      "0750_1250ns\n",
      "Edit by Allen 2024/06/01\n",
      "1000_1500ns\n",
      "Edit by Allen 2024/06/01\n",
      "1250_1750ns\n",
      "Edit by Allen 2024/06/01\n",
      "1500_2000ns\n",
      "Edit by Allen 2024/06/01\n",
      "1750_2250ns\n",
      "Edit by Allen 2024/06/01\n",
      "2000_2500ns\n",
      "Edit by Allen 2024/06/01\n",
      "2250_2750ns\n",
      "Edit by Allen 2024/06/01\n",
      "2500_3000ns\n",
      "Edit by Allen 2024/06/01\n",
      "2750_3250ns\n",
      "Edit by Allen 2024/06/01\n",
      "3000_3500ns\n",
      "Edit by Allen 2024/06/01\n",
      "3250_3750ns\n",
      "Edit by Allen 2024/06/01\n",
      "3500_4000ns\n",
      "Edit by Allen 2024/06/01\n",
      "3750_4250ns\n",
      "Edit by Allen 2024/06/01\n",
      "4000_4500ns\n",
      "Edit by Allen 2024/06/01\n",
      "4250_4750ns\n",
      "Edit by Allen 2024/06/01\n",
      "4500_5000ns\n",
      "Edit by Allen 2024/06/01\n"
     ]
    }
   ],
   "source": [
    "ENM_agent.write_all_crd_rtf_str_psf_file()"
   ]
  },
  {
   "cell_type": "code",
   "execution_count": null,
   "id": "87d26bf7-95a6-472b-908e-c02cfad0d765",
   "metadata": {},
   "outputs": [],
   "source": []
  }
 ],
 "metadata": {
  "kernelspec": {
   "display_name": "Python 3 (ipykernel)",
   "language": "python",
   "name": "python3"
  },
  "language_info": {
   "codemirror_mode": {
    "name": "ipython",
    "version": 3
   },
   "file_extension": ".py",
   "mimetype": "text/x-python",
   "name": "python",
   "nbconvert_exporter": "python",
   "pygments_lexer": "ipython3",
   "version": "3.8.16"
  }
 },
 "nbformat": 4,
 "nbformat_minor": 5
}
