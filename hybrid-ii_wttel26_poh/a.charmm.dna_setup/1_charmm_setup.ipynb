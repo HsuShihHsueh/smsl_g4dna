{
 "cells": [
  {
   "cell_type": "code",
   "execution_count": 1,
   "id": "e01f68ec-533b-4910-b07d-a0bc4dfce4c8",
   "metadata": {
    "tags": []
   },
   "outputs": [],
   "source": [
    "import sys\n",
    "sys.path.append(\"../../smsl\")"
   ]
  },
  {
   "cell_type": "code",
   "execution_count": 2,
   "id": "35f06242-b0ad-4161-9233-29c0815e58d9",
   "metadata": {
    "tags": []
   },
   "outputs": [],
   "source": [
    "import smsl"
   ]
  },
  {
   "cell_type": "code",
   "execution_count": 3,
   "id": "4defa19a-ba39-4b4b-b0fc-33ea77a4c3f2",
   "metadata": {
    "tags": []
   },
   "outputs": [],
   "source": [
    "from smsl.opt import rcsb2charmmformat_sh, charmm2rcsbformat_sh, charmm_c43b1, toppar"
   ]
  },
  {
   "cell_type": "markdown",
   "id": "0a6a6244-a824-49c1-8bf5-0c938c1df5ca",
   "metadata": {
    "tags": []
   },
   "source": [
    "### Config Setting"
   ]
  },
  {
   "cell_type": "code",
   "execution_count": 4,
   "id": "d66ee0b0-f180-49e0-bc37-a9849a4fec02",
   "metadata": {
    "tags": []
   },
   "outputs": [],
   "source": [
    "pdbid = \"2jpz\""
   ]
  },
  {
   "cell_type": "code",
   "execution_count": 5,
   "id": "4d214e38-9a2a-4bf0-a488-f4fb7c6174de",
   "metadata": {
    "tags": []
   },
   "outputs": [],
   "source": [
    "pymol = \"/opt/PyMOL-3.0.3_appveyor849-Linux-x86_64-py310/pymol/bin/pymol\""
   ]
  },
  {
   "cell_type": "code",
   "execution_count": 6,
   "id": "e58f431b-117c-4df9-8c86-aa7a9fc8af11",
   "metadata": {
    "tags": []
   },
   "outputs": [
    {
     "name": "stdout",
     "output_type": "stream",
     "text": [
      "rcsb2charmmformat_sh = /home/user/workfolder/g4dna_protocol/smsl/opt/atomname_transfer/rcsb2charmmformat.sh\n",
      "charmm2rcsbformat_sh = /home/user/workfolder/g4dna_protocol/smsl/opt/atomname_transfer/charmm2rcsbformat.sh\n",
      "charmm_c43b1 = /home/user/workfolder/g4dna_protocol/smsl/opt/c43b1/bin/charmm\n",
      "pymol = /opt/PyMOL-3.0.3_appveyor849-Linux-x86_64-py310/pymol/bin/pymol\n",
      "\n"
     ]
    }
   ],
   "source": [
    "print(f'''\\\n",
    "rcsb2charmmformat_sh = {rcsb2charmmformat_sh}\n",
    "charmm2rcsbformat_sh = {charmm2rcsbformat_sh}\n",
    "charmm_c43b1 = {charmm_c43b1}\n",
    "pymol = {pymol}\n",
    "''')"
   ]
  },
  {
   "cell_type": "markdown",
   "id": "edd3c37c-e9d0-40fb-b210-ee0f97038680",
   "metadata": {},
   "source": [
    "### 1.Download Protein From RCSB"
   ]
  },
  {
   "cell_type": "code",
   "execution_count": 7,
   "id": "d57e811a-65c6-4a0d-b73a-e68589285ad8",
   "metadata": {
    "tags": []
   },
   "outputs": [
    {
     "name": "stdout",
     "output_type": "stream",
     "text": [
      "--2024-12-18 09:33:39--  https://files.rcsb.org/download/2JPZ.pdb\n",
      "Resolving files.rcsb.org (files.rcsb.org)... 128.6.159.245\n",
      "Connecting to files.rcsb.org (files.rcsb.org)|128.6.159.245|:443... connected.\n",
      "HTTP request sent, awaiting response... 200 OK\n",
      "Length: unspecified [application/octet-stream]\n",
      "Saving to: ‘2JPZ.pdb’\n",
      "\n",
      "2JPZ.pdb                [   <=>              ] 686.84K   712KB/s    in 1.0s    \n",
      "\n",
      "2024-12-18 09:33:41 (712 KB/s) - ‘2JPZ.pdb’ saved [703323]\n",
      "\n"
     ]
    }
   ],
   "source": [
    "!wget https://files.rcsb.org/download/{pdbid.upper()}.pdb"
   ]
  },
  {
   "cell_type": "code",
   "execution_count": 8,
   "id": "e3de5639-5e0d-481a-83c7-70ca6341500b",
   "metadata": {
    "tags": []
   },
   "outputs": [
    {
     "name": "stdout",
     "output_type": "stream",
     "text": [
      "--2024-12-18 09:33:42--  https://files.rcsb.org/ligands/download/K.cif\n",
      "Resolving files.rcsb.org (files.rcsb.org)... 128.6.159.245\n",
      "Connecting to files.rcsb.org (files.rcsb.org)|128.6.159.245|:443... connected.\n",
      "HTTP request sent, awaiting response... 200 OK\n",
      "Length: 3403 (3.3K) [application/octet-stream]\n",
      "Saving to: ‘K.cif’\n",
      "\n",
      "K.cif               100%[===================>]   3.32K  --.-KB/s    in 0s      \n",
      "\n",
      "2024-12-18 09:33:42 (3.10 GB/s) - ‘K.cif’ saved [3403/3403]\n",
      "\n"
     ]
    }
   ],
   "source": [
    "!wget https://files.rcsb.org/ligands/download/K.cif"
   ]
  },
  {
   "cell_type": "markdown",
   "id": "98516616-151d-4b1e-a35f-7229013a60fb",
   "metadata": {},
   "source": [
    "### 2. Preprocess PDB File"
   ]
  },
  {
   "cell_type": "code",
   "execution_count": 9,
   "id": "2a594004-1d31-4314-995a-0b7a8c1ae5d3",
   "metadata": {
    "tags": []
   },
   "outputs": [
    {
     "name": "stdout",
     "output_type": "stream",
     "text": [
      " PyMOL(TM) 3.0.3 - Incentive Product\n",
      " Copyright (C) Schrodinger, LLC\n",
      " \n",
      " This Executable Build integrates and extends Open-Source PyMOL.\n",
      " Detected 12 CPU cores.  Enabled multithreaded rendering.\n",
      "PyMOL>load 2JPZ.pdb\n",
      "HEADER    DNA                                     25-MAY-07   2JPZ\n",
      "TITLE     HUMAN TELOMERE DNA QUADRUPLEX STRUCTURE IN K+ SOLUTION HYBRID-2 FORM\n",
      "COMPND    MOL_ID: 1;\n",
      "COMPND   2 MOLECULE: DNA (26-MER);\n",
      "COMPND   3 CHAIN: A;\n",
      "COMPND   4 ENGINEERED: YES\n",
      " ObjectMolecule: Read crystal symmetry information.\n",
      " ObjectMoleculeReadPDBStr: read MODEL 1\n",
      " ObjectMoleculeReadPDBStr: read MODEL 2\n",
      " ObjectMoleculeReadPDBStr: read MODEL 3\n",
      " ObjectMoleculeReadPDBStr: read MODEL 4\n",
      " ObjectMoleculeReadPDBStr: read MODEL 5\n",
      " ObjectMoleculeReadPDBStr: read MODEL 6\n",
      " ObjectMoleculeReadPDBStr: read MODEL 7\n",
      " ObjectMoleculeReadPDBStr: read MODEL 8\n",
      " ObjectMoleculeReadPDBStr: read MODEL 9\n",
      " ObjectMoleculeReadPDBStr: read MODEL 10\n",
      " CmdLoad: \"\" loaded as \"2JPZ\".\n",
      "PyMOL>load K.cif\n",
      " ExecutiveLoad-Detail: Detected chem_comp CIF (.pdbx_model_Cartn_{x,y,z}_ideal)\n",
      " CmdLoad: \"K.cif\" loaded as \"K\".\n",
      "PyMOL>create K2, K\n",
      " Selector: found 1 atoms.\n",
      " Executive: object \"K2\" created.\n",
      "PyMOL>set_name K, K1\n",
      "PyMOL>set sphere_scale, 0.6\n",
      " Setting: sphere_scale set to 0.60000.\n",
      "PyMOL>zoom\n",
      "PyMOL>translate [-3.137, 0.213,-0.343], K1\n",
      "PyMOL>translate [ 0.902,-0.001,-0.020], K2\n",
      "PyMOL>alter model K1, resi=27\n",
      " Alter: modified 1 atoms.\n",
      "PyMOL>alter model K2, resi=28\n",
      " Alter: modified 1 atoms.\n",
      "PyMOL>save 2jpz_dna.pdb, polymer.nucleic\n",
      " Save: wrote \"2jpz_dna.pdb\".\n",
      "PyMOL>save 2jpz_ion.pdb, inorganic\n",
      " Save: wrote \"2jpz_ion.pdb\".\n"
     ]
    }
   ],
   "source": [
    "pymol_script = f'''\\\n",
    "## 1. load pdb file from rcsb\n",
    "load {pdbid.upper()}.pdb\n",
    "## 2. load 2 potassium ions\n",
    "load K.cif\n",
    "create K2, K\n",
    "set_name K, K1\n",
    "## 3. (optional) optimize the 3D view\n",
    "set sphere_scale, 0.6\n",
    "zoom\n",
    "## 4. move potassium to the central of tetrad\n",
    "translate [-3.137, 0.213,-0.343], K1\n",
    "translate [ 0.902,-0.001,-0.020], K2\n",
    "## 5. define the resid of potassium\n",
    "alter model K1, resi=\"27\"\n",
    "alter model K2, resi=\"28\"\n",
    "## 6. save the molecule of dna and ion part separately to pdb\n",
    "save {pdbid}_dna.pdb, polymer.nucleic\n",
    "save {pdbid}_ion.pdb, inorganic\n",
    "'''\n",
    "!echo \"{pymol_script}\" > {pdbid}_setup.pml\n",
    "!{pymol} -c {pdbid}_setup.pml"
   ]
  },
  {
   "cell_type": "markdown",
   "id": "b77b000e-4cbc-470e-ab76-735412d1f5f0",
   "metadata": {},
   "source": [
    "## 3. Transfer rcsb format to charmm format"
   ]
  },
  {
   "cell_type": "code",
   "execution_count": 10,
   "id": "dff7c9ae-13bb-41f4-8d19-48dc7a648f56",
   "metadata": {
    "tags": []
   },
   "outputs": [],
   "source": [
    "## transfer to charmm format\n",
    "!bash {rcsb2charmmformat_sh} {pdbid}_dna.pdb > {pdbid}_dna.0.pdb\n",
    "!bash {rcsb2charmmformat_sh} {pdbid}_ion.pdb > {pdbid}_ion.0.pdb"
   ]
  },
  {
   "cell_type": "markdown",
   "id": "3d8931f3-d481-4761-a197-f432e29df700",
   "metadata": {},
   "source": [
    "## 4. Setup Dna via charmm"
   ]
  },
  {
   "cell_type": "code",
   "execution_count": 11,
   "id": "625bd79f-b484-4e1b-9dbd-ae8e337538ff",
   "metadata": {},
   "outputs": [],
   "source": [
    "charmm_script = f'''\\\n",
    "* Author: Shih-Hsueh Hsu (Allen)\n",
    "* Title: Generate the G-quadruplex (PDBID:{pdbid}) sturcture \n",
    "*        and export to .pdb file\n",
    "*\n",
    "\n",
    "set curdir = .\n",
    "set topdir = {toppar}\n",
    "set pdbdir = .\n",
    "\n",
    "\n",
    "set dna = {pdbid}\n",
    "set dna_part = dna\n",
    "set ion_part = ion\n",
    "\n",
    "open unit 11 read form name @topdir/top_all36_na.rtf\n",
    "read rtf card unit 11\n",
    "close unit 11\n",
    "\n",
    "open read unit 11 card name @topdir/par_all36_na.prm\n",
    "read param unit 11 flex\n",
    "close unit 11\n",
    "\n",
    "open read unit 11 card name @topdir/toppar_water_ions.str\n",
    "stream card unit 11\n",
    "close unit 11\n",
    "\n",
    "read sequ card\n",
    "*  \n",
    "   26\n",
    "!TTAGGGTTAGGGTTAGGGTTAGGGTT\n",
    "THY THY\n",
    "ADE GUA GUA GUA THY THY ADE GUA GUA GUA \n",
    "THY THY ADE GUA GUA GUA THY THY ADE GUA \n",
    "GUA GUA THY THY\n",
    "generate dna setup first 5ter last 3ter\n",
    "\n",
    "! (default)RNA -> DNA \n",
    "patch deo5 dna  1 setup warn\n",
    "patch deox dna  2 setup warn\n",
    "patch deox dna  3 setup warn\n",
    "patch deox dna  4 setup warn\n",
    "patch deox dna  5 setup warn\n",
    "patch deox dna  6 setup warn\n",
    "patch deox dna  7 setup warn\n",
    "patch deox dna  8 setup warn\n",
    "patch deox dna  9 setup warn\n",
    "patch deox dna 10 setup warn\n",
    "patch deox dna 11 setup warn\n",
    "patch deox dna 12 setup warn\n",
    "patch deox dna 13 setup warn\n",
    "patch deox dna 14 setup warn\n",
    "patch deox dna 15 setup warn\n",
    "patch deox dna 16 setup warn\n",
    "patch deox dna 17 setup warn\n",
    "patch deox dna 18 setup warn\n",
    "patch deox dna 19 setup warn\n",
    "patch deox dna 20 setup warn\n",
    "patch deox dna 21 setup warn\n",
    "patch deox dna 22 setup warn\n",
    "patch deox dna 23 setup warn\n",
    "patch deox dna 24 setup warn\n",
    "patch deox dna 25 setup warn\n",
    "patch deox dna 26 setup warn \n",
    "\n",
    "open read unit 12 card name @curdir/@{{dna}}_@{{dna_part}}.0.pdb\n",
    "read coor pdb unit 12\n",
    "close unit 12\n",
    "\n",
    "read sequ card\n",
    "*  \n",
    "   2\n",
    "POT POT\n",
    "generate ion setup\n",
    "\n",
    "open read unit 12 card name @curdir/@{{dna}}_@{{ion_part}}.0.pdb\n",
    "read coor pdb unit 12\n",
    "close unit 12\n",
    "\n",
    "print coor\n",
    "\n",
    "define fix select initialized .and. .not. hydrogen show end\n",
    "\n",
    "define nonH select .not. hydrogen end\n",
    "set nonHatoms = ?nsel\n",
    "define missing select .not. hydrogen .and. .not. initialized show end\n",
    "set missingatoms = ?nsel\n",
    "\n",
    "Calc fraction = (@nonHatoms - @missingatoms) / @nonHatoms\n",
    "\n",
    "\n",
    "! Use of AUTOGENERATE is essential\n",
    "autogenerate angles dihedrals \n",
    "\n",
    "! Internal Coordinate Manipulation\n",
    "ic fill preserve  !fill: autocomplete hydrogen\n",
    "ic param\n",
    "ic build\n",
    "\n",
    "scaler wmain set 0.0 sele all end\n",
    "scaler wmain set 1.0 sele fix end\n",
    "\n",
    "cons fix sele fix end\n",
    "\n",
    "mini sd   nstep 100\n",
    "mini abnr nstep 1000\n",
    "mini abnr nstep 5000\n",
    "\n",
    "open write unit 12 card name @curdir/@{{dna}}.aa.pdb\n",
    "write coor pdb unit 12\n",
    "close unit 12\n",
    "\n",
    "stop\n",
    "\n",
    "\n",
    "'''\n",
    "!echo \"{charmm_script}\" > {pdbid}.inp"
   ]
  },
  {
   "cell_type": "code",
   "execution_count": 12,
   "id": "5a39f620-1d86-4023-9a72-adae635822eb",
   "metadata": {
    "tags": []
   },
   "outputs": [],
   "source": [
    "!{charmm_c43b1} < {pdbid}.inp > {pdbid}.dat"
   ]
  },
  {
   "cell_type": "markdown",
   "id": "52777b44-9b1e-4e92-a098-818e639a2886",
   "metadata": {},
   "source": [
    "### 5. Transfer charmm format to rcsb format"
   ]
  },
  {
   "cell_type": "code",
   "execution_count": 13,
   "id": "8e848651-6d92-4804-81ff-300ffa60809a",
   "metadata": {},
   "outputs": [],
   "source": [
    "!bash {charmm2rcsbformat_sh} {pdbid}.aa.pdb > {pdbid}.pgro.pdb"
   ]
  },
  {
   "cell_type": "markdown",
   "id": "26f4abfb-57e7-434e-abdf-503c7088be33",
   "metadata": {
    "tags": []
   },
   "source": [
    "### (optinal) 6. Visulize via PyMol"
   ]
  },
  {
   "cell_type": "code",
   "execution_count": 14,
   "id": "bf490257-8fc2-447f-b5af-76891680b34b",
   "metadata": {},
   "outputs": [
    {
     "name": "stdout",
     "output_type": "stream",
     "text": [
      " PyMOL(TM) 3.0.3 - Incentive Product\n",
      " Copyright (C) Schrodinger, LLC\n",
      " \n",
      " This Executable Build integrates and extends Open-Source PyMOL.\n",
      " License Expiry date: 01-mar-2025\n",
      " Detected OpenGL version 4.6. Shaders available.\n",
      " Detected GLSL version 4.60.\n",
      " OpenGL graphics engine:\n",
      "  GL_VENDOR:   NVIDIA Corporation\n",
      "  GL_RENDERER: NVIDIA GeForce GTX 1650/PCIe/SSE2\n",
      "  GL_VERSION:  4.6.0 NVIDIA 535.183.01\n",
      " Detected 12 CPU cores.  Enabled multithreaded rendering.\n",
      " CmdLoad: \"\" loaded as \"2jpz.pgro\".\n"
     ]
    }
   ],
   "source": [
    "!{pymol} {pdbid}.pgro.pdb"
   ]
  },
  {
   "cell_type": "code",
   "execution_count": null,
   "id": "a86d5758-9c66-4a77-9834-1ab427608424",
   "metadata": {},
   "outputs": [],
   "source": []
  }
 ],
 "metadata": {
  "kernelspec": {
   "display_name": "Python [conda env:fluctmatch]",
   "language": "python",
   "name": "conda-env-fluctmatch-py"
  },
  "language_info": {
   "codemirror_mode": {
    "name": "ipython",
    "version": 3
   },
   "file_extension": ".py",
   "mimetype": "text/x-python",
   "name": "python",
   "nbconvert_exporter": "python",
   "pygments_lexer": "ipython3",
   "version": "3.8.0"
  }
 },
 "nbformat": 4,
 "nbformat_minor": 5
}
