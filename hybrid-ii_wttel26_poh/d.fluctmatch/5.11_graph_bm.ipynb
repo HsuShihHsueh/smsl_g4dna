{
 "cells": [
  {
   "cell_type": "code",
   "execution_count": 1,
   "id": "c0d3260c-7c2d-4a20-9374-3d3adf1a094a",
   "metadata": {
    "tags": []
   },
   "outputs": [],
   "source": [
    "import sys\n",
    "sys.path.append(\"../../smsl\")"
   ]
  },
  {
   "cell_type": "code",
   "execution_count": 2,
   "id": "e7b5bbe2-2cf6-442c-a32b-f0b6e3ccecd9",
   "metadata": {
    "tags": []
   },
   "outputs": [],
   "source": [
    "from smsl.graphBigtraj import BigTrajGraphAgent\n",
    "from smsl.graph import BM\n",
    "\n",
    "import warnings; warnings.filterwarnings(\"ignore\")\n",
    "import numpy as np"
   ]
  },
  {
   "cell_type": "code",
   "execution_count": 3,
   "id": "fa3e2df7-a4d8-48a2-81d5-e9f1e697c730",
   "metadata": {
    "tags": []
   },
   "outputs": [],
   "source": [
    "## 見論文表B.7\n",
    "n_mode=45          ## $\\alpha_c$\n",
    "vlv_threshold=0.05 ## $\\nu_{\\text{c}}$\n",
    "pe_threshold=0.5   ## $\\kappa_{\\text{c}}$"
   ]
  },
  {
   "cell_type": "code",
   "execution_count": 4,
   "id": "7d03e55c-75f0-43c3-ae7b-4aa709d030af",
   "metadata": {
    "tags": []
   },
   "outputs": [
    {
     "name": "stdout",
     "output_type": "stream",
     "text": [
      "Reading data from: /home/user/workfolder/g4dna_protocol_demo/hybrid-ii_wttel26_poh/d.fluctmatch/bigtraj_fluctmatch/0000_0500/result/pairtypes_k_b0_cutoff_5.00.csv\n",
      "Reading data from: /home/user/workfolder/g4dna_protocol_demo/hybrid-ii_wttel26_poh/d.fluctmatch/bigtraj_fluctmatch/0250_0750/result/pairtypes_k_b0_cutoff_5.00.csv\n",
      "Reading data from: /home/user/workfolder/g4dna_protocol_demo/hybrid-ii_wttel26_poh/d.fluctmatch/bigtraj_fluctmatch/0500_1000/result/pairtypes_k_b0_cutoff_5.00.csv\n",
      "Reading data from: /home/user/workfolder/g4dna_protocol_demo/hybrid-ii_wttel26_poh/d.fluctmatch/bigtraj_fluctmatch/0750_1250/result/pairtypes_k_b0_cutoff_5.00.csv\n",
      "Reading data from: /home/user/workfolder/g4dna_protocol_demo/hybrid-ii_wttel26_poh/d.fluctmatch/bigtraj_fluctmatch/1000_1500/result/pairtypes_k_b0_cutoff_5.00.csv\n",
      "Reading data from: /home/user/workfolder/g4dna_protocol_demo/hybrid-ii_wttel26_poh/d.fluctmatch/bigtraj_fluctmatch/1250_1750/result/pairtypes_k_b0_cutoff_5.00.csv\n",
      "Reading data from: /home/user/workfolder/g4dna_protocol_demo/hybrid-ii_wttel26_poh/d.fluctmatch/bigtraj_fluctmatch/1500_2000/result/pairtypes_k_b0_cutoff_5.00.csv\n",
      "Reading data from: /home/user/workfolder/g4dna_protocol_demo/hybrid-ii_wttel26_poh/d.fluctmatch/bigtraj_fluctmatch/1750_2250/result/pairtypes_k_b0_cutoff_5.00.csv\n",
      "Reading data from: /home/user/workfolder/g4dna_protocol_demo/hybrid-ii_wttel26_poh/d.fluctmatch/bigtraj_fluctmatch/2000_2500/result/pairtypes_k_b0_cutoff_5.00.csv\n",
      "Reading data from: /home/user/workfolder/g4dna_protocol_demo/hybrid-ii_wttel26_poh/d.fluctmatch/bigtraj_fluctmatch/2250_2750/result/pairtypes_k_b0_cutoff_5.00.csv\n",
      "Reading data from: /home/user/workfolder/g4dna_protocol_demo/hybrid-ii_wttel26_poh/d.fluctmatch/bigtraj_fluctmatch/2500_3000/result/pairtypes_k_b0_cutoff_5.00.csv\n",
      "Reading data from: /home/user/workfolder/g4dna_protocol_demo/hybrid-ii_wttel26_poh/d.fluctmatch/bigtraj_fluctmatch/2750_3250/result/pairtypes_k_b0_cutoff_5.00.csv\n",
      "Reading data from: /home/user/workfolder/g4dna_protocol_demo/hybrid-ii_wttel26_poh/d.fluctmatch/bigtraj_fluctmatch/3000_3500/result/pairtypes_k_b0_cutoff_5.00.csv\n",
      "Reading data from: /home/user/workfolder/g4dna_protocol_demo/hybrid-ii_wttel26_poh/d.fluctmatch/bigtraj_fluctmatch/3250_3750/result/pairtypes_k_b0_cutoff_5.00.csv\n",
      "Reading data from: /home/user/workfolder/g4dna_protocol_demo/hybrid-ii_wttel26_poh/d.fluctmatch/bigtraj_fluctmatch/3500_4000/result/pairtypes_k_b0_cutoff_5.00.csv\n",
      "Reading data from: /home/user/workfolder/g4dna_protocol_demo/hybrid-ii_wttel26_poh/d.fluctmatch/bigtraj_fluctmatch/3750_4250/result/pairtypes_k_b0_cutoff_5.00.csv\n",
      "Reading data from: /home/user/workfolder/g4dna_protocol_demo/hybrid-ii_wttel26_poh/d.fluctmatch/bigtraj_fluctmatch/4000_4500/result/pairtypes_k_b0_cutoff_5.00.csv\n",
      "Reading data from: /home/user/workfolder/g4dna_protocol_demo/hybrid-ii_wttel26_poh/d.fluctmatch/bigtraj_fluctmatch/4250_4750/result/pairtypes_k_b0_cutoff_5.00.csv\n",
      "Reading data from: /home/user/workfolder/g4dna_protocol_demo/hybrid-ii_wttel26_poh/d.fluctmatch/bigtraj_fluctmatch/4500_5000/result/pairtypes_k_b0_cutoff_5.00.csv\n",
      "Reading data from: /home/user/workfolder/g4dna_protocol_demo/hybrid-ii_wttel26_poh/d.fluctmatch/bigtraj_fluctmatch/0000_5000/result/pairtypes_k_b0_cutoff_5.00.csv\n"
     ]
    }
   ],
   "source": [
    "b_agent = BigTrajGraphAgent(BM)"
   ]
  },
  {
   "cell_type": "code",
   "execution_count": 5,
   "id": "bb7a1e60-4cc7-4749-8d34-168b05f9a474",
   "metadata": {
    "tags": []
   },
   "outputs": [
    {
     "name": "stdout",
     "output_type": "stream",
     "text": [
      "Thare are 547 nodes.\n",
      "Initialize adjacency, degree and Laplacian matrices... Done.\n",
      "Finish the setup for Laplaican matrix.\n",
      "Thare are 547 nodes.\n",
      "Initialize adjacency, degree and Laplacian matrices... Done.\n",
      "Finish the setup for Laplaican matrix.\n",
      "Thare are 547 nodes.\n",
      "Initialize adjacency, degree and Laplacian matrices... Done.\n",
      "Finish the setup for Laplaican matrix.\n",
      "Thare are 547 nodes.\n",
      "Initialize adjacency, degree and Laplacian matrices... Done.\n",
      "Finish the setup for Laplaican matrix.\n",
      "Thare are 547 nodes.\n",
      "Initialize adjacency, degree and Laplacian matrices... Done.\n",
      "Finish the setup for Laplaican matrix.\n",
      "Thare are 547 nodes.\n",
      "Initialize adjacency, degree and Laplacian matrices... Done.\n",
      "Finish the setup for Laplaican matrix.\n",
      "Thare are 547 nodes.\n",
      "Initialize adjacency, degree and Laplacian matrices... Done.\n",
      "Finish the setup for Laplaican matrix.\n",
      "Thare are 547 nodes.\n",
      "Initialize adjacency, degree and Laplacian matrices... Done.\n",
      "Finish the setup for Laplaican matrix.\n",
      "Thare are 547 nodes.\n",
      "Initialize adjacency, degree and Laplacian matrices... Done.\n",
      "Finish the setup for Laplaican matrix.\n",
      "Thare are 547 nodes.\n",
      "Initialize adjacency, degree and Laplacian matrices... Done.\n",
      "Finish the setup for Laplaican matrix.\n",
      "Thare are 547 nodes.\n",
      "Initialize adjacency, degree and Laplacian matrices... Done.\n",
      "Finish the setup for Laplaican matrix.\n",
      "Thare are 547 nodes.\n",
      "Initialize adjacency, degree and Laplacian matrices... Done.\n",
      "Finish the setup for Laplaican matrix.\n",
      "Thare are 547 nodes.\n",
      "Initialize adjacency, degree and Laplacian matrices... Done.\n",
      "Finish the setup for Laplaican matrix.\n",
      "Thare are 547 nodes.\n",
      "Initialize adjacency, degree and Laplacian matrices... Done.\n",
      "Finish the setup for Laplaican matrix.\n",
      "Thare are 547 nodes.\n",
      "Initialize adjacency, degree and Laplacian matrices... Done.\n",
      "Finish the setup for Laplaican matrix.\n",
      "Thare are 547 nodes.\n",
      "Initialize adjacency, degree and Laplacian matrices... Done.\n",
      "Finish the setup for Laplaican matrix.\n",
      "Thare are 547 nodes.\n",
      "Initialize adjacency, degree and Laplacian matrices... Done.\n",
      "Finish the setup for Laplaican matrix.\n",
      "Thare are 547 nodes.\n",
      "Initialize adjacency, degree and Laplacian matrices... Done.\n",
      "Finish the setup for Laplaican matrix.\n",
      "Thare are 547 nodes.\n",
      "Initialize adjacency, degree and Laplacian matrices... Done.\n",
      "Finish the setup for Laplaican matrix.\n",
      "Thare are 547 nodes.\n",
      "Initialize adjacency, degree and Laplacian matrices... Done.\n",
      "Finish the setup for Laplaican matrix.\n"
     ]
    }
   ],
   "source": [
    "b_agent.spectral_decomposition()\n",
    "b_agent.set_mean_r_alpha_array()\n",
    "b_agent.t_agent.mean.GetEigenvectorEigenvectorT()"
   ]
  },
  {
   "cell_type": "code",
   "execution_count": 6,
   "id": "16fa53c0-6f92-4092-b79c-a6c34125da02",
   "metadata": {
    "tags": []
   },
   "outputs": [
    {
     "data": {
      "application/vnd.jupyter.widget-view+json": {
       "model_id": "04820a8f491d451a99da7db615fb8859",
       "version_major": 2,
       "version_minor": 0
      },
      "text/plain": [
       "interactive(children=(IntSlider(value=1, description='sele_mode', max=547, min=1), Output()), _dom_classes=('w…"
      ]
     },
     "metadata": {},
     "output_type": "display_data"
    }
   ],
   "source": [
    "## 論文 圖5.19(A, B) **注意！ 這邊看到的K2在上層 K1在下層**\n",
    "## hotspot in mode1 and mode2\n",
    "b_agent.plot_prominent_modes_and_get_identify_pair_with_interactive(\\\n",
    "        strandid=None, vlv_threshold=vlv_threshold, pe_threshold=pe_threshold, filter=True)"
   ]
  },
  {
   "cell_type": "code",
   "execution_count": 7,
   "id": "bebc7355-a1d3-41a4-8496-8dbc7e28e900",
   "metadata": {
    "tags": []
   },
   "outputs": [
    {
     "name": "stderr",
     "output_type": "stream",
     "text": [
      "100%|██████████| 45/45 [00:00<00:00, 49.59it/s]\n"
     ]
    }
   ],
   "source": [
    "metal_name = b_agent.t_agent.mean.get_metal_name(is_return=True)\n",
    "b_agent.t_agent.mean.strandid2sequence['STRAND2'] = {1:metal_name, 2:metal_name}\n",
    "b_agent.t_agent.mean.get_modes_info(strandid=None, n_mode=n_mode, vlv_threshold=vlv_threshold, pe_threshold=pe_threshold, is_return=False)"
   ]
  },
  {
   "cell_type": "code",
   "execution_count": 8,
   "id": "5848a980-50a9-46f3-854d-e65005a799df",
   "metadata": {
    "tags": []
   },
   "outputs": [],
   "source": [
    "## 離子 K1 K2 名稱轉換\n",
    "b_agent.t_agent.mean.df_info_by_resid.index = b_agent.t_agent.mean.df_info_by_resid.index.\\\n",
    "str.replace(metal_name+'1', 'TEMP').str.replace(metal_name+'2',metal_name+'1').str.replace('TEMP',metal_name+'2')\n",
    "for key in b_agent.t_agent.mean.df_info_by_resid.keys():\n",
    "    b_agent.t_agent.mean.df_info_by_resid[key] = b_agent.t_agent.mean.df_info_by_resid[key].\\\n",
    "    str.replace(metal_name+'1', 'TEMP').str.replace(metal_name+'2',metal_name+'1').str.replace('TEMP',metal_name+'2')\n",
    "b_agent.t_agent.mean.df_info_by_resid = b_agent.t_agent.mean.df_info_by_resid.loc[::-1]"
   ]
  },
  {
   "cell_type": "code",
   "execution_count": 9,
   "id": "c445bee5-d336-4d20-ba3f-ed528f299bee",
   "metadata": {
    "tags": []
   },
   "outputs": [
    {
     "data": {
      "text/html": [
       "<table border=\"1\" class=\"dataframe\">\n",
       "  <thead>\n",
       "    <tr style=\"text-align: right;\">\n",
       "      <th></th>\n",
       "      <th>0</th>\n",
       "    </tr>\n",
       "    <tr>\n",
       "      <th>Residue Pair</th>\n",
       "      <th></th>\n",
       "    </tr>\n",
       "  </thead>\n",
       "  <tbody>\n",
       "    <tr>\n",
       "      <th>K1</th>\n",
       "      <td>$\\rm{\\lambda}^{\\rm{bm}}_{1}$=88.8, ${\\{\\rm{a}_i\\rm{a}_j\\}}^{\\rm{bm}}_{1}$:<br>O6POT(G17K1)<br>O6POT(G4K1)<br>O6POT(G16K1)<br>O6POT(G5K1)<br>O6POT(G23K1)</td>\n",
       "    </tr>\n",
       "    <tr>\n",
       "      <th>K2</th>\n",
       "      <td>$\\rm{\\lambda}^{\\rm{bm}}_{2}$=87.6, ${\\{\\rm{a}_i\\rm{a}_j\\}}^{\\rm{bm}}_{2}$:<br>O6POT(G10K2)<br>O6POT(G24K2)<br>C6POT(G10K2)<br>O2POT(T25K2)<br>O2POT(T8K2)<br>C6POT(G24K2)<br>O6POT(G18K2)<br>O6POT(G6K2)</td>\n",
       "    </tr>\n",
       "  </tbody>\n",
       "</table>"
      ],
      "text/plain": [
       "<IPython.core.display.HTML object>"
      ]
     },
     "metadata": {},
     "output_type": "display_data"
    },
    {
     "name": "stdout",
     "output_type": "stream",
     "text": [
      "Write /home/user/workfolder/g4dna_protocol_demo/hybrid-ii_wttel26_poh/d.fluctmatch/bigtraj_fluctmatch/0000_5000/result/hybrid-ii_poh_BM.csv\n"
     ]
    }
   ],
   "source": [
    "## 這邊看到的K1在上層 K2在下層\n",
    "## 論文 圖5.19(A)\n",
    "b_agent.t_agent.mean.display_df_info_by_resid(save=True)"
   ]
  },
  {
   "cell_type": "markdown",
   "id": "ddc8801c-03c4-47c6-9bf6-c4a7075806a8",
   "metadata": {},
   "source": [
    "### 確認機械熱點原子對$\\{\\text{a}_i\\text{a}_j\\}^{\\text{bm}}$的機械強度$k_{ij}$是否較高"
   ]
  },
  {
   "cell_type": "code",
   "execution_count": 10,
   "id": "cfd97166-b3ad-4388-943c-72e127374689",
   "metadata": {
    "tags": []
   },
   "outputs": [
    {
     "data": {
      "text/html": [
       "<div>\n",
       "<style scoped>\n",
       "    .dataframe tbody tr th:only-of-type {\n",
       "        vertical-align: middle;\n",
       "    }\n",
       "\n",
       "    .dataframe tbody tr th {\n",
       "        vertical-align: top;\n",
       "    }\n",
       "\n",
       "    .dataframe thead th {\n",
       "        text-align: right;\n",
       "    }\n",
       "</style>\n",
       "<table border=\"1\" class=\"dataframe\">\n",
       "  <thead>\n",
       "    <tr style=\"text-align: right;\">\n",
       "      <th></th>\n",
       "      <th>Enm_i</th>\n",
       "      <th>Strand_i</th>\n",
       "      <th>Resid_i</th>\n",
       "      <th>Atomname_i</th>\n",
       "      <th>Atomid_i</th>\n",
       "      <th>Enm_j</th>\n",
       "      <th>Strand_j</th>\n",
       "      <th>Resid_j</th>\n",
       "      <th>Atomname_j</th>\n",
       "      <th>Atomid_j</th>\n",
       "      <th>k</th>\n",
       "      <th>b0</th>\n",
       "      <th>Category</th>\n",
       "    </tr>\n",
       "    <tr>\n",
       "      <th>PairID</th>\n",
       "      <th></th>\n",
       "      <th></th>\n",
       "      <th></th>\n",
       "      <th></th>\n",
       "      <th></th>\n",
       "      <th></th>\n",
       "      <th></th>\n",
       "      <th></th>\n",
       "      <th></th>\n",
       "      <th></th>\n",
       "      <th></th>\n",
       "      <th></th>\n",
       "      <th></th>\n",
       "    </tr>\n",
       "  </thead>\n",
       "  <tbody>\n",
       "    <tr>\n",
       "      <th>8279</th>\n",
       "      <td>A348</td>\n",
       "      <td>STRAND1</td>\n",
       "      <td>17</td>\n",
       "      <td>O6</td>\n",
       "      <td>348</td>\n",
       "      <td>B2</td>\n",
       "      <td>STRAND2</td>\n",
       "      <td>2</td>\n",
       "      <td>POT</td>\n",
       "      <td>547</td>\n",
       "      <td>13.860295</td>\n",
       "      <td>2.721037</td>\n",
       "      <td>bm</td>\n",
       "    </tr>\n",
       "    <tr>\n",
       "      <th>2169</th>\n",
       "      <td>A72</td>\n",
       "      <td>STRAND1</td>\n",
       "      <td>4</td>\n",
       "      <td>O6</td>\n",
       "      <td>72</td>\n",
       "      <td>B2</td>\n",
       "      <td>STRAND2</td>\n",
       "      <td>2</td>\n",
       "      <td>POT</td>\n",
       "      <td>547</td>\n",
       "      <td>12.698411</td>\n",
       "      <td>2.733658</td>\n",
       "      <td>bm</td>\n",
       "    </tr>\n",
       "    <tr>\n",
       "      <th>5246</th>\n",
       "      <td>A199</td>\n",
       "      <td>STRAND1</td>\n",
       "      <td>10</td>\n",
       "      <td>O6</td>\n",
       "      <td>199</td>\n",
       "      <td>B1</td>\n",
       "      <td>STRAND2</td>\n",
       "      <td>1</td>\n",
       "      <td>POT</td>\n",
       "      <td>546</td>\n",
       "      <td>12.631153</td>\n",
       "      <td>2.744742</td>\n",
       "      <td>bm</td>\n",
       "    </tr>\n",
       "    <tr>\n",
       "      <th>11198</th>\n",
       "      <td>A497</td>\n",
       "      <td>STRAND1</td>\n",
       "      <td>24</td>\n",
       "      <td>O6</td>\n",
       "      <td>497</td>\n",
       "      <td>B1</td>\n",
       "      <td>STRAND2</td>\n",
       "      <td>1</td>\n",
       "      <td>POT</td>\n",
       "      <td>546</td>\n",
       "      <td>11.607058</td>\n",
       "      <td>2.747495</td>\n",
       "      <td>bm</td>\n",
       "    </tr>\n",
       "    <tr>\n",
       "      <th>5213</th>\n",
       "      <td>A198</td>\n",
       "      <td>STRAND1</td>\n",
       "      <td>10</td>\n",
       "      <td>C6</td>\n",
       "      <td>198</td>\n",
       "      <td>B1</td>\n",
       "      <td>STRAND2</td>\n",
       "      <td>1</td>\n",
       "      <td>POT</td>\n",
       "      <td>546</td>\n",
       "      <td>7.841979</td>\n",
       "      <td>3.558858</td>\n",
       "      <td>bm</td>\n",
       "    </tr>\n",
       "    <tr>\n",
       "      <th>...</th>\n",
       "      <td>...</td>\n",
       "      <td>...</td>\n",
       "      <td>...</td>\n",
       "      <td>...</td>\n",
       "      <td>...</td>\n",
       "      <td>...</td>\n",
       "      <td>...</td>\n",
       "      <td>...</td>\n",
       "      <td>...</td>\n",
       "      <td>...</td>\n",
       "      <td>...</td>\n",
       "      <td>...</td>\n",
       "      <td>...</td>\n",
       "    </tr>\n",
       "    <tr>\n",
       "      <th>8278</th>\n",
       "      <td>A348</td>\n",
       "      <td>STRAND1</td>\n",
       "      <td>17</td>\n",
       "      <td>O6</td>\n",
       "      <td>348</td>\n",
       "      <td>B1</td>\n",
       "      <td>STRAND2</td>\n",
       "      <td>1</td>\n",
       "      <td>POT</td>\n",
       "      <td>546</td>\n",
       "      <td>0.000000</td>\n",
       "      <td>5.517284</td>\n",
       "      <td>bm</td>\n",
       "    </tr>\n",
       "    <tr>\n",
       "      <th>8347</th>\n",
       "      <td>A350</td>\n",
       "      <td>STRAND1</td>\n",
       "      <td>17</td>\n",
       "      <td>C2</td>\n",
       "      <td>350</td>\n",
       "      <td>B1</td>\n",
       "      <td>STRAND2</td>\n",
       "      <td>1</td>\n",
       "      <td>POT</td>\n",
       "      <td>546</td>\n",
       "      <td>0.000000</td>\n",
       "      <td>6.457800</td>\n",
       "      <td>bm</td>\n",
       "    </tr>\n",
       "    <tr>\n",
       "      <th>8348</th>\n",
       "      <td>A350</td>\n",
       "      <td>STRAND1</td>\n",
       "      <td>17</td>\n",
       "      <td>C2</td>\n",
       "      <td>350</td>\n",
       "      <td>B2</td>\n",
       "      <td>STRAND2</td>\n",
       "      <td>2</td>\n",
       "      <td>POT</td>\n",
       "      <td>547</td>\n",
       "      <td>0.000000</td>\n",
       "      <td>5.162126</td>\n",
       "      <td>bm</td>\n",
       "    </tr>\n",
       "    <tr>\n",
       "      <th>8779</th>\n",
       "      <td>A368</td>\n",
       "      <td>STRAND1</td>\n",
       "      <td>18</td>\n",
       "      <td>C5</td>\n",
       "      <td>368</td>\n",
       "      <td>B1</td>\n",
       "      <td>STRAND2</td>\n",
       "      <td>1</td>\n",
       "      <td>POT</td>\n",
       "      <td>546</td>\n",
       "      <td>0.000000</td>\n",
       "      <td>5.344658</td>\n",
       "      <td>bm</td>\n",
       "    </tr>\n",
       "    <tr>\n",
       "      <th>11739</th>\n",
       "      <td>A542</td>\n",
       "      <td>STRAND1</td>\n",
       "      <td>26</td>\n",
       "      <td>O2</td>\n",
       "      <td>542</td>\n",
       "      <td>B1</td>\n",
       "      <td>STRAND2</td>\n",
       "      <td>1</td>\n",
       "      <td>POT</td>\n",
       "      <td>546</td>\n",
       "      <td>0.000000</td>\n",
       "      <td>7.133026</td>\n",
       "      <td>bm</td>\n",
       "    </tr>\n",
       "  </tbody>\n",
       "</table>\n",
       "<p>115 rows × 13 columns</p>\n",
       "</div>"
      ],
      "text/plain": [
       "       Enm_i Strand_i  Resid_i Atomname_i  Atomid_i Enm_j Strand_j  Resid_j  \\\n",
       "PairID                                                                        \n",
       "8279    A348  STRAND1       17         O6       348    B2  STRAND2        2   \n",
       "2169     A72  STRAND1        4         O6        72    B2  STRAND2        2   \n",
       "5246    A199  STRAND1       10         O6       199    B1  STRAND2        1   \n",
       "11198   A497  STRAND1       24         O6       497    B1  STRAND2        1   \n",
       "5213    A198  STRAND1       10         C6       198    B1  STRAND2        1   \n",
       "...      ...      ...      ...        ...       ...   ...      ...      ...   \n",
       "8278    A348  STRAND1       17         O6       348    B1  STRAND2        1   \n",
       "8347    A350  STRAND1       17         C2       350    B1  STRAND2        1   \n",
       "8348    A350  STRAND1       17         C2       350    B2  STRAND2        2   \n",
       "8779    A368  STRAND1       18         C5       368    B1  STRAND2        1   \n",
       "11739   A542  STRAND1       26         O2       542    B1  STRAND2        1   \n",
       "\n",
       "       Atomname_j  Atomid_j          k        b0 Category  \n",
       "PairID                                                     \n",
       "8279          POT       547  13.860295  2.721037       bm  \n",
       "2169          POT       547  12.698411  2.733658       bm  \n",
       "5246          POT       546  12.631153  2.744742       bm  \n",
       "11198         POT       546  11.607058  2.747495       bm  \n",
       "5213          POT       546   7.841979  3.558858       bm  \n",
       "...           ...       ...        ...       ...      ...  \n",
       "8278          POT       546   0.000000  5.517284       bm  \n",
       "8347          POT       546   0.000000  6.457800       bm  \n",
       "8348          POT       547   0.000000  5.162126       bm  \n",
       "8779          POT       546   0.000000  5.344658       bm  \n",
       "11739         POT       546   0.000000  7.133026       bm  \n",
       "\n",
       "[115 rows x 13 columns]"
      ]
     },
     "execution_count": 10,
     "metadata": {},
     "output_type": "execute_result"
    }
   ],
   "source": [
    "## **注意！ 這邊看到的K2在上層 K1在下層**\n",
    "b_agent.t_agent.mean.df_m.sort_values(by='k', ascending=False)"
   ]
  }
 ],
 "metadata": {
  "kernelspec": {
   "display_name": "Python [conda env:fluctmatch]",
   "language": "python",
   "name": "conda-env-fluctmatch-py"
  },
  "language_info": {
   "codemirror_mode": {
    "name": "ipython",
    "version": 3
   },
   "file_extension": ".py",
   "mimetype": "text/x-python",
   "name": "python",
   "nbconvert_exporter": "python",
   "pygments_lexer": "ipython3",
   "version": "3.8.0"
  }
 },
 "nbformat": 4,
 "nbformat_minor": 5
}
