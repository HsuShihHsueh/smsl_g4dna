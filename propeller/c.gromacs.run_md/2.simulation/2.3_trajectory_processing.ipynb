{
 "cells": [
  {
   "cell_type": "markdown",
   "id": "323fd119-3e70-4232-b869-bd3ea03c3525",
   "metadata": {
    "tags": []
   },
   "source": [
    "### Define jobname"
   ]
  },
  {
   "cell_type": "code",
   "execution_count": null,
   "id": "3fb89a8b-585f-48d2-99d6-2c6c1cc56441",
   "metadata": {
    "tags": []
   },
   "outputs": [],
   "source": [
    "pdbid = '1kf1'\n",
    "drug  = None\n",
    "jobname = f'{pdbid}_{drug}' if not drug is None else pdbid\n",
    "indexfile=f'{jobname}.simulate.ndx'"
   ]
  },
  {
   "cell_type": "markdown",
   "id": "b241cd94-5a7f-4824-abb4-ba77e0da5256",
   "metadata": {},
   "source": [
    "### Center protein for a solvated trajectory and put residues in the unit cell \n",
    "- Input and output are both solvated trajectories\n",
    "- 1. make residues in the unit cell\n",
    "- The sequence of commands here are used to generate the \"process.solvated.traj\" shell scripts for production runs"
   ]
  },
  {
   "cell_type": "code",
   "execution_count": null,
   "id": "f4ea2917-d885-4c7f-adf8-a1d07774df50",
   "metadata": {},
   "outputs": [],
   "source": [
    "def rmpbc(filename,indexfile='index.ndx',center=0,output=0, postfix='c'):\n",
    "    file = \".\".join(filename.split('.')[:-1]).split('_')[0]\n",
    "    extend = filename.split('.')[-1]\n",
    "    cmd1 = f'echo \"{center} {output}\" | gmx trjconv -s {file}.tpr -f {filename} -o {file}_{postfix}.{extend} -pbc res -center -boxcenter zero -n {indexfile} -ndec 5 -ur compact'\n",
    "    print(\"##========================command=line========================##\")\n",
    "    print(cmd1,sep=\"\\n\")\n",
    "    print(\"##======================end=command=line======================##\")\n",
    "    !{cmd1}"
   ]
  },
  {
   "cell_type": "markdown",
   "id": "5eab621b-7f73-4fb0-b004-671cfd6179a8",
   "metadata": {},
   "source": [
    "### Output non-water parts with best fit \n",
    "- The index file needs to be setup first\n",
    "- The sequence of commands here are used to generate the \"rms.traj\" shell scripts for production runs"
   ]
  },
  {
   "cell_type": "code",
   "execution_count": null,
   "id": "37962f9f-6150-4eff-8782-b126a5cbe56b",
   "metadata": {},
   "outputs": [],
   "source": [
    "def grep_and_fit(filename,indexfile='index.ndx',center=0,output=0, postfix='rms'):\n",
    "    file = \".\".join(filename.split('.')[:-1]).split('_')[0]\n",
    "    extend = filename.split('.')[-1]\n",
    "    cmd1 = f'echo \"{center} {output}\" | gmx trjconv -s rms.tpr -f {filename} -o {file}_{postfix}.{extend} -n {indexfile} -fit rot+trans -ndec 5'\n",
    "    print(\"##========================command=line========================##\")\n",
    "    print(cmd1,sep=\"\\n\")\n",
    "    print(\"##======================end=command=line======================##\") \n",
    "    !{cmd1}"
   ]
  },
  {
   "cell_type": "code",
   "execution_count": null,
   "id": "d6466c54-b991-4eb8-af6b-4af0fa1282f1",
   "metadata": {},
   "outputs": [],
   "source": [
    "def rmpdbc_and_grep_and_fit(i):\n",
    "    rmpbc(f\"md{i}.xtc\", indexfile, center='DNA')\n",
    "    grep_and_fit(f\"md{i}_c.xtc\", indexfile, center='DNA', output='Model')\n",
    "    grep_and_fit(f\"md{i}_c.xtc\", indexfile, center='DNA', output='non-Water', postfix='noh')\n",
    "import concurrent.futures\n",
    "\n",
    "with concurrent.futures.ThreadPoolExecutor() as executor:\n",
    "    futures = []\n",
    "    for i in range(10):\n",
    "        futures.append(executor.submit(rmpdbc_and_grep_and_fit, i))\n",
    "    for future in concurrent.futures.as_completed(futures):\n",
    "        pass   "
   ]
  },
  {
   "cell_type": "markdown",
   "id": "55f1a320-dd70-4cf5-a037-b580f9a62502",
   "metadata": {},
   "source": [
    "### Cat rms trajectories\n",
    "- The following is for heating and equilibration parts\n",
    "- Use cat.traj to combine production run trajectories"
   ]
  },
  {
   "cell_type": "code",
   "execution_count": null,
   "id": "03c4846d-11e6-450e-b84a-8106f838ef59",
   "metadata": {},
   "outputs": [],
   "source": [
    "!gmx trjcat -f md*_rms.xtc -o {jobname}_5us500kf.xtc -settime 0\n",
    "!gmx trjconv -f {jobname}_5us500kf.xtc -o {jobname}_5us5kf.xtc -skip 100 -ndec 5"
   ]
  },
  {
   "cell_type": "code",
   "execution_count": null,
   "id": "2bdd3a90-6a86-4fb1-98da-06f015167227",
   "metadata": {},
   "outputs": [],
   "source": [
    "!gmx trjcat -f md*_noh.xtc -o {jobname}_5us500kf_noh.xtc -settime 0\n",
    "!gmx trjconv -f {jobname}_5us500kf_noh.xtc -o {jobname}_5us5kf_noh.xtc -skip 100 -ndec 5"
   ]
  },
  {
   "cell_type": "markdown",
   "id": "a246bc99-ef29-48d4-b15a-5b7f3b09062c",
   "metadata": {},
   "source": [
    "### Move data to next folder"
   ]
  },
  {
   "cell_type": "code",
   "execution_count": null,
   "id": "7de09006-e0d0-49ae-846d-c9ed76f4996e",
   "metadata": {},
   "outputs": [],
   "source": [
    "!cp {jobname}_5us500kf.xtc ../3.trajectory_data/\n",
    "!cp {jobname}_5us5kf.xtc   ../3.trajectory_data/"
   ]
  },
  {
   "cell_type": "markdown",
   "id": "325e6379-bcda-45de-b2ef-8695842a6ee3",
   "metadata": {},
   "source": [
    "## Visualize\n",
    "```bash\n",
    "pymol md0_c.pdb   md0_c.xtc\n",
    "pymol md0_rms.pdb md0_rms.xtc\n",
    "```"
   ]
  }
 ],
 "metadata": {
  "kernelspec": {
   "display_name": "Python 3 (ipykernel)",
   "language": "python",
   "name": "python3"
  },
  "language_info": {
   "codemirror_mode": {
    "name": "ipython",
    "version": 3
   },
   "file_extension": ".py",
   "mimetype": "text/x-python",
   "name": "python",
   "nbconvert_exporter": "python",
   "pygments_lexer": "ipython3",
   "version": "3.7.4"
  }
 },
 "nbformat": 4,
 "nbformat_minor": 5
}
