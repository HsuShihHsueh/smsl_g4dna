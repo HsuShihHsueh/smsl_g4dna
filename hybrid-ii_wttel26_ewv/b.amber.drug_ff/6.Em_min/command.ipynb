{
 "cells": [
  {
   "cell_type": "markdown",
   "id": "d9877ede-9319-45a3-8372-03a98f143254",
   "metadata": {},
   "source": [
    "### Reinitialize the file"
   ]
  },
  {
   "cell_type": "code",
   "execution_count": null,
   "id": "bf1bff1d-9c77-46f4-950f-5bcb600cfd74",
   "metadata": {
    "tags": []
   },
   "outputs": [],
   "source": [
    "# warning !! remove all except this script\n",
    "## remove -i argument to run\n",
    "!rm `(ls | grep -v '.ipynb')`"
   ]
  },
  {
   "cell_type": "code",
   "execution_count": null,
   "id": "46d920f6-cd5e-4c6a-ada2-7ded8e60ab01",
   "metadata": {
    "tags": []
   },
   "outputs": [],
   "source": [
    "pdbid='2jpz'\n",
    "drug='EWV'\n",
    "jobname = f'{pdbid}_{drug}' if not drug is None else pdbid"
   ]
  },
  {
   "cell_type": "code",
   "execution_count": null,
   "id": "a28ab94a-0dc0-4cf4-96f1-4d67d3926712",
   "metadata": {
    "tags": []
   },
   "outputs": [],
   "source": [
    "import os\n",
    "ff_folder  = os.path.realpath(\"../../../smsl/opt/force_field\")\n",
    "mdp_folder = os.path.realpath(\"../../../smsl/opt/mdp\")"
   ]
  },
  {
   "cell_type": "markdown",
   "id": "ca6e41f3-cc11-48bc-87de-26a0471db2e3",
   "metadata": {},
   "source": [
    "### G-quadruplex Prepare"
   ]
  },
  {
   "cell_type": "code",
   "execution_count": null,
   "id": "79a1ca9b-1f79-4db5-8160-fa993dea2714",
   "metadata": {
    "tags": []
   },
   "outputs": [],
   "source": [
    "!cp ../../c.gromacs.run_md/1.create_system/*{drug}* ./\n",
    "!cp ../../c.gromacs.run_md/1.create_system/*.itp ./\n",
    "!cp ../../c.gromacs.run_md/1.create_system/*.top ./\n",
    "!cp ../../c.gromacs.run_md/1.create_system/{pdbid}.gro.pdb ./\n",
    "!cp ../5.Output/{jobname}.gro.pdb ./"
   ]
  },
  {
   "cell_type": "code",
   "execution_count": null,
   "id": "bf4deb2b-0ecc-43a2-8753-f7202f61a0fd",
   "metadata": {
    "tags": []
   },
   "outputs": [],
   "source": [
    "# 畫完box後座標會平移\n",
    "# 因此最後要將座標再align回原本座標\n",
    "# 因為不建立水箱 因此 -d 數值隨意(但不要太小以防止因為pbc而導致結構被切一半) \n",
    "!gmx editconf -f {jobname}.gro.pdb -o {jobname}_dode.pdb -c yes -d 1.5 -bt dodecahedron"
   ]
  },
  {
   "cell_type": "code",
   "execution_count": null,
   "id": "c14e81d2-19f8-4d27-bd44-5721655c9ea9",
   "metadata": {
    "tags": []
   },
   "outputs": [],
   "source": [
    "cmd = f'''\\\n",
    "r EWV | r DG\n",
    "name 5 {drug}_DG\n",
    "q\n",
    "'''\n",
    "!echo -e \"{cmd}\" | gmx make_ndx -f {jobname}.gro.pdb -o {jobname}.ndx"
   ]
  },
  {
   "cell_type": "markdown",
   "id": "a3ecfde2-2f8c-4af4-8f77-d0f2b85e681d",
   "metadata": {},
   "source": [
    "### 因為藥物跟loop空間上會重疊，因此將藥物往下位移一點"
   ]
  },
  {
   "cell_type": "code",
   "execution_count": null,
   "id": "23b80039-d076-4a1c-a88e-a7ba4e7c609c",
   "metadata": {
    "tags": []
   },
   "outputs": [],
   "source": [
    "cmd=f'''\\\n",
    "pymol >>\n",
    "load {jobname}_dode.pdb\n",
    "extract {drug}, resn {drug}\n",
    "show_as sticks\n",
    "color green  , resn DA and name *C*\n",
    "color red    , resn DT and name *C*\n",
    "color magenta, resn DG and name *C*\n",
    "color cyan  , resn POH and name *C*\n",
    "color wheat , resn EWV and name *C*\n",
    "sele {drug}\n",
    "[click by mouse] (sele) > action > drag_coordinate > \n",
    "    shift+middle mouse button to [translate drug]\n",
    "    shift+right  mouse button to [rotate drug] > Done\n",
    "set retain_order, 1\n",
    "save {jobname}_dode.1.pdb, enable\n",
    ">> EOF\n",
    "'''\n",
    "print(cmd)"
   ]
  },
  {
   "cell_type": "markdown",
   "id": "11d182d3-21d0-48d1-a5eb-f6bd2a023065",
   "metadata": {},
   "source": [
    "## First Cycle of EM1"
   ]
  },
  {
   "cell_type": "code",
   "execution_count": null,
   "id": "32770764-b297-4fd9-b926-02164fd2cfa8",
   "metadata": {
    "tags": []
   },
   "outputs": [],
   "source": [
    "## 固定藥物和核心區域(DG)\n",
    "freeze_cmd = f'''\\\n",
    "freezegrps      = {drug}_DG\n",
    "freezedim       = Y Y Y\n",
    "'''"
   ]
  },
  {
   "cell_type": "code",
   "execution_count": null,
   "id": "82d7e0c4-9b7f-48d3-8cf3-4bdf92f404e0",
   "metadata": {
    "tags": []
   },
   "outputs": [],
   "source": [
    "!echo \"{freeze_cmd}\"        > min1.mdp\n",
    "!cat {mdp_folder}/min1.mdp >> min1.mdp"
   ]
  },
  {
   "cell_type": "code",
   "execution_count": null,
   "id": "97f7fdec-0a2f-4b13-8dcf-79a5d9fa5524",
   "metadata": {
    "tags": []
   },
   "outputs": [],
   "source": [
    "!gmx grompp -f min1.mdp -c {jobname}_dode.1.pdb -r {jobname}_dode.1.pdb -p topol.top -o min1.tpr -n {jobname}.ndx -maxwarn 1\n",
    "!gmx mdrun -deffnm min1 -c min1.pdb -v"
   ]
  },
  {
   "cell_type": "markdown",
   "id": "38ece450-37a3-4bd5-9123-038f88c76c5c",
   "metadata": {},
   "source": [
    "### First cycle of EM2"
   ]
  },
  {
   "cell_type": "code",
   "execution_count": null,
   "id": "44c16be5-dcde-4db2-9a4f-22ab32b2280b",
   "metadata": {
    "tags": []
   },
   "outputs": [],
   "source": [
    "!echo \"{freeze_cmd}\"        > min2.mdp\n",
    "!cat {mdp_folder}/min1.mdp >> min2.mdp"
   ]
  },
  {
   "cell_type": "code",
   "execution_count": null,
   "id": "4f363652-3b20-4b2f-b9ad-b734d3e8270f",
   "metadata": {},
   "outputs": [],
   "source": [
    "!gmx grompp -f min2.mdp -c min1.pdb -r {jobname}_dode.1.pdb -p topol.top -o min2.tpr -n {jobname}.ndx -maxwarn 1\n",
    "!gmx mdrun -deffnm min2 -c min2.pdb -v"
   ]
  },
  {
   "cell_type": "markdown",
   "id": "c2e07be2-81d3-43db-b2a9-a2a8eec84c63",
   "metadata": {},
   "source": [
    "### Second cycle\n",
    "### 現在上層loop往上移一點了，因此我們可以再將藥物往上移一點"
   ]
  },
  {
   "cell_type": "code",
   "execution_count": null,
   "id": "db359d87-d6ec-4b49-b268-a4b833e6138d",
   "metadata": {
    "tags": []
   },
   "outputs": [],
   "source": [
    "cmd=f'''\\\n",
    "pymol >>\n",
    "load min2.pdb\n",
    "extract {drug}, resn {drug}\n",
    "show_as sticks\n",
    "color green  , resn DA and name *C*\n",
    "color red    , resn DT and name *C*\n",
    "color magenta, resn DG and name *C*\n",
    "color cyan  , resn POH and name *C*\n",
    "color wheat , resn EWV and name *C*\n",
    "sele {drug}\n",
    "[click by mouse] (sele) > action > drag_coordinate > \n",
    "    shift+middle mouse button to [translate drug]\n",
    "    shift+right  mouse button to [rotate drug] > Done\n",
    "set retain_order, 1\n",
    "save {jobname}_dode.2.pdb, enable\n",
    ">> EOF\n",
    "'''\n",
    "print(cmd)"
   ]
  },
  {
   "cell_type": "markdown",
   "id": "84856dda-fa49-4f87-b814-6d3c64c9b3a2",
   "metadata": {},
   "source": [
    "### Second cycle of EM1"
   ]
  },
  {
   "cell_type": "code",
   "execution_count": null,
   "id": "26db11a7-ad10-4869-882c-efaa9cef8ec8",
   "metadata": {
    "tags": []
   },
   "outputs": [],
   "source": [
    "!gmx grompp -f min1.mdp -c {jobname}_dode.2.pdb -r {jobname}_dode.2.pdb -p topol.top -o min1.tpr -n {jobname}.ndx -maxwarn 1\n",
    "!gmx mdrun -deffnm min1 -c min1.pdb -v"
   ]
  },
  {
   "cell_type": "markdown",
   "id": "14f2668d-bb5f-4bb9-a99c-9a140abc5ae8",
   "metadata": {
    "tags": []
   },
   "source": [
    "### Second cycle of EM2"
   ]
  },
  {
   "cell_type": "code",
   "execution_count": null,
   "id": "b96901bc-b2ec-4148-9088-ebb024758e2c",
   "metadata": {
    "tags": []
   },
   "outputs": [],
   "source": [
    "!gmx grompp -f min2.mdp -c min1.pdb -r {jobname}_dode.2.pdb -p topol.top -o min2.tpr -n {jobname}.ndx -maxwarn 1\n",
    "!gmx mdrun -deffnm min2 -c min2.pdb -v"
   ]
  },
  {
   "cell_type": "markdown",
   "id": "d24cfd8e-1aac-42c5-8bae-79dde5c4af44",
   "metadata": {},
   "source": [
    "### Third cycle\n",
    "### 現在將藥物換成原本的pose再做最後一次能量最小化"
   ]
  },
  {
   "cell_type": "code",
   "execution_count": null,
   "id": "3ca77a51-2e86-442a-9e01-c575a48d4d4b",
   "metadata": {
    "tags": []
   },
   "outputs": [],
   "source": [
    "cmd=f'''\\\n",
    "pymol >>\n",
    "load min2.pdb\n",
    "extract {drug}_min2, min2 and resn {drug}\n",
    "load {jobname}_dode.pdb\n",
    "extract {drug}, {jobname} and resn {drug}\n",
    "show_as sticks\n",
    "color green  , resn DA and name *C*\n",
    "color red    , resn DT and name *C*\n",
    "color magenta, resn DG and name *C*\n",
    "color cyan  , resn POH and name *C*\n",
    "color wheat , resn EWV and name *C*\n",
    "set retain_order, 1\n",
    "save {jobname}_dode.3.pdb, min2 or {drug}\n",
    ">> EOF\n",
    "'''\n",
    "print(cmd)"
   ]
  },
  {
   "cell_type": "markdown",
   "id": "f32cc5da-c0f3-4f10-b04a-cd5c5c7f3a37",
   "metadata": {},
   "source": [
    "### Third cycle of EM1"
   ]
  },
  {
   "cell_type": "code",
   "execution_count": null,
   "id": "4f6ec1cc-e392-4bb5-b57d-c3c6a7a59efb",
   "metadata": {
    "tags": []
   },
   "outputs": [],
   "source": [
    "!gmx grompp -f min1.mdp -c {jobname}_dode.3.pdb -r {jobname}_dode.3.pdb -p topol.top -o min1.tpr -n {jobname}.ndx -maxwarn 1\n",
    "!gmx mdrun -deffnm min1 -c min1.pdb -v"
   ]
  },
  {
   "cell_type": "markdown",
   "id": "14638f78-5237-4b0c-a413-50ca9a6f495b",
   "metadata": {
    "tags": []
   },
   "source": [
    "### Second cycle of EM2"
   ]
  },
  {
   "cell_type": "code",
   "execution_count": null,
   "id": "94109b23-a0d2-4448-85aa-15acd2128c16",
   "metadata": {
    "tags": []
   },
   "outputs": [],
   "source": [
    "!gmx grompp -f min2.mdp -c min1.pdb -r {jobname}_dode.2.pdb -p topol.top -o min2.tpr -n {jobname}.ndx -maxwarn 1\n",
    "!gmx mdrun -deffnm min2 -c min2.pdb -v"
   ]
  },
  {
   "cell_type": "code",
   "execution_count": null,
   "id": "902121f6-3184-4b52-a4e9-e3088021f42d",
   "metadata": {
    "tags": []
   },
   "outputs": [],
   "source": [
    "cmd=f'''\\\n",
    "pymol >>\n",
    "load min2.pdb\n",
    "load {jobname}.gro.pdb\n",
    "align min2, {jobname}.gro\n",
    "set retain_order, 1\n",
    "save {jobname}.final.gro.pdb, min2\n",
    ">> EOF\n",
    "'''\n",
    "print(cmd)"
   ]
  },
  {
   "cell_type": "markdown",
   "id": "094bd6aa-5517-424a-a657-9d817e7224b2",
   "metadata": {
    "tags": []
   },
   "source": [
    "最終 {jobname}.final.gro.pdb 就是分子模擬的初始結構"
   ]
  }
 ],
 "metadata": {
  "kernelspec": {
   "display_name": "Python 3 (ipykernel)",
   "language": "python",
   "name": "python3"
  },
  "language_info": {
   "codemirror_mode": {
    "name": "ipython",
    "version": 3
   },
   "file_extension": ".py",
   "mimetype": "text/x-python",
   "name": "python",
   "nbconvert_exporter": "python",
   "pygments_lexer": "ipython3",
   "version": "3.7.4"
  }
 },
 "nbformat": 4,
 "nbformat_minor": 5
}
