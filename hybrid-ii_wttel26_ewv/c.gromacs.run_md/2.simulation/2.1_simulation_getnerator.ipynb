{
 "cells": [
  {
   "cell_type": "code",
   "execution_count": 1,
   "id": "39beefb8-15b1-48a2-865c-23fb0d67d09a",
   "metadata": {},
   "outputs": [],
   "source": [
    "import os"
   ]
  },
  {
   "cell_type": "code",
   "execution_count": 2,
   "id": "7508d9b9-9f26-4b80-8907-357736285b91",
   "metadata": {
    "tags": []
   },
   "outputs": [],
   "source": [
    "pdbid = '2jpz'\n",
    "drug  = 'EWV'\n",
    "jobname = f'{pdbid}_{drug}' if not drug is None else pdbid\n",
    "mdp_folder = os.path.realpath(\"../../../smsl/opt/mdp\")\n",
    "foldername = !pwd\n",
    "foldername = foldername[0].split('/')[-3]"
   ]
  },
  {
   "cell_type": "code",
   "execution_count": 3,
   "id": "50643186-133f-4c6d-aceb-8686a879a534",
   "metadata": {
    "tags": []
   },
   "outputs": [],
   "source": [
    "user = \"allen\"\n",
    "email = \"shhsu.bt11@nycu.edu.tw\" ## gmail not support"
   ]
  },
  {
   "cell_type": "code",
   "execution_count": 4,
   "id": "2c729587-b5bf-4968-bc35-fd74e7cb93af",
   "metadata": {
    "tags": []
   },
   "outputs": [
    {
     "data": {
      "text/plain": [
       "3264"
      ]
     },
     "execution_count": 4,
     "metadata": {},
     "output_type": "execute_result"
    }
   ],
   "source": [
    "slurm_script = f'''\\\n",
    "#!/bin/bash\n",
    "#SBATCH --partition=gpu                  # Define the partition on which the job shall run\n",
    "#SBATCH --job-name={foldername}          # Job name\n",
    "#SBATCH --ntasks=1                       # Total number of tasks\n",
    "#SBATCH --nodes=1                        # Number of nodes on which to run\n",
    "#SBATCH --cpus-per-task=20               # Threads per task\n",
    "#SBATCH --gres=gpu:2                     # number of GPUs per node (gres=gpu:N)\n",
    "#SBATCH --mem=50000                      # Memory per job in MB\n",
    "#SBATCH --time=0-999:00:00               # Time limit ( dd-hh:mm:ss ) ← e.g. Maximum run time: 1 hour\n",
    "#SBATCH --output=slurm_simulation_%j.out       # Standard output log\n",
    "#SBATCH --error=slurm_simulation_%j.out        # Standard error log\n",
    "\n",
    "  echo \"Start at `date`\"\n",
    "  echo \"Running on hosts: $SLURM_NODELIST\"\n",
    "  echo \"Running on $SLURM_NNODES nodes.\"\n",
    "  echo \"Running $SLURM_NTASKS tasks.\"\n",
    "  echo \"Using ${{SLURM_CPUS_PER_TASK}} cpus per task\"\n",
    "  echo \"Job id is $SLURM_JOBID\"\n",
    "  echo \"Current working directory is `pwd`\"\n",
    "\n",
    "  # Unload all loaded module and reset everything to original state.\n",
    "  nstart=0\n",
    "  nend=9 \n",
    "  nstep=$((500*500000)) #500ns 500000\n",
    "  nstep_ns=$((2*${{nstep}}/1000000)) \n",
    " \n",
    "  user=\"{user}\"\n",
    "  jobname=\"{jobname}\"\n",
    "  data_dir=`pwd`\n",
    "  scratch_dir=\"/scratch/chu_02/${{user}}/mdrun/{foldername}/2.simulation\"\n",
    "  mdp_folder=\"{mdp_folder}\"\n",
    "  echo \"data dircetory: ${{data_dir}}\"\n",
    "  echo -n \"scratch_directory: ${{scratch_dir}} ...\"\n",
    "  echo \"mdp dircetory: ${{mdp_folder}}\"\n",
    "\n",
    "\n",
    "  if [ -d \"${{scratch_dir}}\" ]; then\n",
    "      echo \"exists!\"\n",
    "  else\n",
    "      echo \"mkdir -p ${{scratch_dir}}\"\n",
    "      mkdir -p ${{scratch_dir}}\n",
    "  fi\n",
    "  \n",
    "  echo \"moving data to scratch ...\"\n",
    "  cp -r ${{data_dir}} ${{scratch_dir}}/..\n",
    "\n",
    "  ## load program\n",
    "  export PATH=$HOME/opt/gcc-10.4.0/bin:$PATH\n",
    "  export LD_LIBRARY_PATH=$HOME/opt/gcc-10.4.0/lib64\n",
    "  source $HOME/opt/gromacs-2023/bin/GMXRC\n",
    "\n",
    "  cd ${{scratch_dir}}\n",
    "  prename=\"npt2\" \n",
    "  for nrun in $(seq ${{nstart}} ${{nend}})\n",
    "  do\n",
    "      ninit=$((${{nrun}}*${{nstep}}))\n",
    "      curname=md${{nrun}}\n",
    "      \n",
    "      echo \"#################### nrun: ${{nrun}} ##########################\"\n",
    "      echo \"curname  is: ${{curname}}\"\n",
    "      echo \"prename is: ${{prename}}\" \n",
    "\n",
    "      echo \"; set initial step for trajectory continuation\" > ${{curname}}.mdp\n",
    "      echo \"init-step             = ${{ninit}}\" >> ${{curname}}.mdp\n",
    "      echo \"nsteps                = ${{nstep}} ; 2 * ${{nstep}} = ${{nstep_ns}} ns\" >> ${{curname}}.mdp\n",
    "      cat ${{mdp_folder}}/template.mdp  >> ${{curname}}.mdp\n",
    "\n",
    "      gmx grompp -f ${{curname}}.mdp -po ${{curname}}.out.mdp -c ${{prename}}.pdb -t ${{prename}}.cpt -p topol.top -o ${{curname}}.tpr\n",
    "      gmx mdrun -deffnm ${{curname}} -c ${{curname}}.pdb -ntmpi 4 -nb gpu -pme gpu -npme 1 -gputasks 0011 -ntomp 6\n",
    "\n",
    "      echo \"moving ${{curname}} from scratch to data ...\"\n",
    "      cp ${{scratch_dir}}/${{curname}}* ${{data_dir}}/\n",
    "      prename=${{curname}}\n",
    "\n",
    "      ssh frontend << EOF\n",
    "        mail -s \"${{curname}}: job \\\\\"${{SLURM_JOB_NAME}}\\\\\" is completed\" \\\\\n",
    "        {email} <<< \"${{curname}}: job \\\\\"${{SLURM_JOB_NAME}}\\\\\"(${{SLURM_JOBID}}) is completed at `date`\"\n",
    "EOF\n",
    "\n",
    "  done   \n",
    "  echo \"End at `date`\"\n",
    "\n",
    "  ssh frontend << EOF\n",
    "    mail -s \"job \\\\\"${{SLURM_JOB_NAME}}\\\\\"(${{SLURM_JOBID}}) is completed\" \\\\\n",
    "    {email} <<< \"job \\\\\"${{SLURM_JOB_NAME}}\\\\\"(${{SLURM_JOBID}}) is completed at `date`\"\n",
    "EOF\n",
    "\n",
    "'''\n",
    "open(\"2.2_simulation.slurm\", 'w').write(slurm_script)"
   ]
  },
  {
   "cell_type": "markdown",
   "id": "a433fbc1-6573-4672-9125-eda23cadd94c",
   "metadata": {},
   "source": [
    "#### Running slurm command:\n",
    "```\n",
    "> sbatch 2.2_simulation.slurm\n",
    "```"
   ]
  },
  {
   "cell_type": "code",
   "execution_count": null,
   "id": "d795c571-f2dd-4e61-8242-c0a0a2e5b287",
   "metadata": {},
   "outputs": [],
   "source": []
  }
 ],
 "metadata": {
  "kernelspec": {
   "display_name": "Python 3 (ipykernel)",
   "language": "python",
   "name": "python3"
  },
  "language_info": {
   "codemirror_mode": {
    "name": "ipython",
    "version": 3
   },
   "file_extension": ".py",
   "mimetype": "text/x-python",
   "name": "python",
   "nbconvert_exporter": "python",
   "pygments_lexer": "ipython3",
   "version": "3.7.4"
  }
 },
 "nbformat": 4,
 "nbformat_minor": 5
}
