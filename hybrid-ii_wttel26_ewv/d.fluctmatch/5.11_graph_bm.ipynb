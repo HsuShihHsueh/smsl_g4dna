{
 "cells": [
  {
   "cell_type": "code",
   "execution_count": 1,
   "id": "c0d3260c-7c2d-4a20-9374-3d3adf1a094a",
   "metadata": {
    "tags": []
   },
   "outputs": [],
   "source": [
    "import sys\n",
    "sys.path.append(\"../../smsl\")"
   ]
  },
  {
   "cell_type": "code",
   "execution_count": 2,
   "id": "e7b5bbe2-2cf6-442c-a32b-f0b6e3ccecd9",
   "metadata": {
    "tags": []
   },
   "outputs": [],
   "source": [
    "from smsl.graphBigtraj import BigTrajGraphAgent\n",
    "from smsl.graph import BM\n",
    "\n",
    "import warnings; warnings.filterwarnings(\"ignore\")\n",
    "import numpy as np"
   ]
  },
  {
   "cell_type": "code",
   "execution_count": 3,
   "id": "fa3e2df7-a4d8-48a2-81d5-e9f1e697c730",
   "metadata": {
    "tags": []
   },
   "outputs": [],
   "source": [
    "## 見論文表B.7\n",
    "n_mode=45          ## $\\alpha_c$\n",
    "vlv_threshold=0.05 ## $\\nu_{\\text{c}}$\n",
    "pe_threshold=0.5   ## $\\kappa_{\\text{c}}$"
   ]
  },
  {
   "cell_type": "code",
   "execution_count": 4,
   "id": "7d03e55c-75f0-43c3-ae7b-4aa709d030af",
   "metadata": {
    "tags": []
   },
   "outputs": [
    {
     "name": "stdout",
     "output_type": "stream",
     "text": [
      "Reading data from: /home/user/workfolder/g4dna_protocol_demo/hybrid-ii_wttel26_ewv/d.fluctmatch/bigtraj_fluctmatch/0000_0500/result/pairtypes_k_b0_cutoff_5.00.csv\n",
      "Reading data from: /home/user/workfolder/g4dna_protocol_demo/hybrid-ii_wttel26_ewv/d.fluctmatch/bigtraj_fluctmatch/0250_0750/result/pairtypes_k_b0_cutoff_5.00.csv\n",
      "Reading data from: /home/user/workfolder/g4dna_protocol_demo/hybrid-ii_wttel26_ewv/d.fluctmatch/bigtraj_fluctmatch/0500_1000/result/pairtypes_k_b0_cutoff_5.00.csv\n",
      "Reading data from: /home/user/workfolder/g4dna_protocol_demo/hybrid-ii_wttel26_ewv/d.fluctmatch/bigtraj_fluctmatch/0750_1250/result/pairtypes_k_b0_cutoff_5.00.csv\n",
      "Reading data from: /home/user/workfolder/g4dna_protocol_demo/hybrid-ii_wttel26_ewv/d.fluctmatch/bigtraj_fluctmatch/1000_1500/result/pairtypes_k_b0_cutoff_5.00.csv\n",
      "Reading data from: /home/user/workfolder/g4dna_protocol_demo/hybrid-ii_wttel26_ewv/d.fluctmatch/bigtraj_fluctmatch/1250_1750/result/pairtypes_k_b0_cutoff_5.00.csv\n",
      "Reading data from: /home/user/workfolder/g4dna_protocol_demo/hybrid-ii_wttel26_ewv/d.fluctmatch/bigtraj_fluctmatch/1500_2000/result/pairtypes_k_b0_cutoff_5.00.csv\n",
      "Reading data from: /home/user/workfolder/g4dna_protocol_demo/hybrid-ii_wttel26_ewv/d.fluctmatch/bigtraj_fluctmatch/1750_2250/result/pairtypes_k_b0_cutoff_5.00.csv\n",
      "Reading data from: /home/user/workfolder/g4dna_protocol_demo/hybrid-ii_wttel26_ewv/d.fluctmatch/bigtraj_fluctmatch/2000_2500/result/pairtypes_k_b0_cutoff_5.00.csv\n",
      "Reading data from: /home/user/workfolder/g4dna_protocol_demo/hybrid-ii_wttel26_ewv/d.fluctmatch/bigtraj_fluctmatch/2250_2750/result/pairtypes_k_b0_cutoff_5.00.csv\n",
      "Reading data from: /home/user/workfolder/g4dna_protocol_demo/hybrid-ii_wttel26_ewv/d.fluctmatch/bigtraj_fluctmatch/2500_3000/result/pairtypes_k_b0_cutoff_5.00.csv\n",
      "Reading data from: /home/user/workfolder/g4dna_protocol_demo/hybrid-ii_wttel26_ewv/d.fluctmatch/bigtraj_fluctmatch/2750_3250/result/pairtypes_k_b0_cutoff_5.00.csv\n",
      "Reading data from: /home/user/workfolder/g4dna_protocol_demo/hybrid-ii_wttel26_ewv/d.fluctmatch/bigtraj_fluctmatch/3000_3500/result/pairtypes_k_b0_cutoff_5.00.csv\n",
      "Reading data from: /home/user/workfolder/g4dna_protocol_demo/hybrid-ii_wttel26_ewv/d.fluctmatch/bigtraj_fluctmatch/3250_3750/result/pairtypes_k_b0_cutoff_5.00.csv\n",
      "Reading data from: /home/user/workfolder/g4dna_protocol_demo/hybrid-ii_wttel26_ewv/d.fluctmatch/bigtraj_fluctmatch/3500_4000/result/pairtypes_k_b0_cutoff_5.00.csv\n",
      "Reading data from: /home/user/workfolder/g4dna_protocol_demo/hybrid-ii_wttel26_ewv/d.fluctmatch/bigtraj_fluctmatch/3750_4250/result/pairtypes_k_b0_cutoff_5.00.csv\n",
      "Reading data from: /home/user/workfolder/g4dna_protocol_demo/hybrid-ii_wttel26_ewv/d.fluctmatch/bigtraj_fluctmatch/4000_4500/result/pairtypes_k_b0_cutoff_5.00.csv\n",
      "Reading data from: /home/user/workfolder/g4dna_protocol_demo/hybrid-ii_wttel26_ewv/d.fluctmatch/bigtraj_fluctmatch/4250_4750/result/pairtypes_k_b0_cutoff_5.00.csv\n",
      "Reading data from: /home/user/workfolder/g4dna_protocol_demo/hybrid-ii_wttel26_ewv/d.fluctmatch/bigtraj_fluctmatch/4500_5000/result/pairtypes_k_b0_cutoff_5.00.csv\n",
      "Reading data from: /home/user/workfolder/g4dna_protocol_demo/hybrid-ii_wttel26_ewv/d.fluctmatch/bigtraj_fluctmatch/0000_5000/result/pairtypes_k_b0_cutoff_5.00.csv\n"
     ]
    }
   ],
   "source": [
    "b_agent = BigTrajGraphAgent(BM)"
   ]
  },
  {
   "cell_type": "code",
   "execution_count": 5,
   "id": "bb7a1e60-4cc7-4749-8d34-168b05f9a474",
   "metadata": {
    "tags": []
   },
   "outputs": [
    {
     "name": "stdout",
     "output_type": "stream",
     "text": [
      "Thare are 547 nodes.\n",
      "Initialize adjacency, degree and Laplacian matrices... Done.\n",
      "Finish the setup for Laplaican matrix.\n",
      "Thare are 547 nodes.\n",
      "Initialize adjacency, degree and Laplacian matrices... Done.\n",
      "Finish the setup for Laplaican matrix.\n",
      "Thare are 547 nodes.\n",
      "Initialize adjacency, degree and Laplacian matrices... Done.\n",
      "Finish the setup for Laplaican matrix.\n",
      "Thare are 547 nodes.\n",
      "Initialize adjacency, degree and Laplacian matrices... Done.\n",
      "Finish the setup for Laplaican matrix.\n",
      "Thare are 547 nodes.\n",
      "Initialize adjacency, degree and Laplacian matrices... Done.\n",
      "Finish the setup for Laplaican matrix.\n",
      "Thare are 547 nodes.\n",
      "Initialize adjacency, degree and Laplacian matrices... Done.\n",
      "Finish the setup for Laplaican matrix.\n",
      "Thare are 547 nodes.\n",
      "Initialize adjacency, degree and Laplacian matrices... Done.\n",
      "Finish the setup for Laplaican matrix.\n",
      "Thare are 547 nodes.\n",
      "Initialize adjacency, degree and Laplacian matrices... Done.\n",
      "Finish the setup for Laplaican matrix.\n",
      "Thare are 547 nodes.\n",
      "Initialize adjacency, degree and Laplacian matrices... Done.\n",
      "Finish the setup for Laplaican matrix.\n",
      "Thare are 547 nodes.\n",
      "Initialize adjacency, degree and Laplacian matrices... Done.\n",
      "Finish the setup for Laplaican matrix.\n",
      "Thare are 547 nodes.\n",
      "Initialize adjacency, degree and Laplacian matrices... Done.\n",
      "Finish the setup for Laplaican matrix.\n",
      "Thare are 547 nodes.\n",
      "Initialize adjacency, degree and Laplacian matrices... Done.\n",
      "Finish the setup for Laplaican matrix.\n",
      "Thare are 547 nodes.\n",
      "Initialize adjacency, degree and Laplacian matrices... Done.\n",
      "Finish the setup for Laplaican matrix.\n",
      "Thare are 547 nodes.\n",
      "Initialize adjacency, degree and Laplacian matrices... Done.\n",
      "Finish the setup for Laplaican matrix.\n",
      "Thare are 547 nodes.\n",
      "Initialize adjacency, degree and Laplacian matrices... Done.\n",
      "Finish the setup for Laplaican matrix.\n",
      "Thare are 547 nodes.\n",
      "Initialize adjacency, degree and Laplacian matrices... Done.\n",
      "Finish the setup for Laplaican matrix.\n",
      "Thare are 547 nodes.\n",
      "Initialize adjacency, degree and Laplacian matrices... Done.\n",
      "Finish the setup for Laplaican matrix.\n",
      "Thare are 547 nodes.\n",
      "Initialize adjacency, degree and Laplacian matrices... Done.\n",
      "Finish the setup for Laplaican matrix.\n",
      "Thare are 547 nodes.\n",
      "Initialize adjacency, degree and Laplacian matrices... Done.\n",
      "Finish the setup for Laplaican matrix.\n",
      "Thare are 547 nodes.\n",
      "Initialize adjacency, degree and Laplacian matrices... Done.\n",
      "Finish the setup for Laplaican matrix.\n"
     ]
    }
   ],
   "source": [
    "b_agent.spectral_decomposition()\n",
    "b_agent.set_mean_r_alpha_array()\n",
    "b_agent.t_agent.mean.GetEigenvectorEigenvectorT()"
   ]
  },
  {
   "cell_type": "code",
   "execution_count": 6,
   "id": "16fa53c0-6f92-4092-b79c-a6c34125da02",
   "metadata": {
    "tags": []
   },
   "outputs": [
    {
     "data": {
      "application/vnd.jupyter.widget-view+json": {
       "model_id": "3363df43a48a43e9978e1d180e8ecd92",
       "version_major": 2,
       "version_minor": 0
      },
      "text/plain": [
       "interactive(children=(IntSlider(value=1, description='sele_mode', max=547, min=1), Output()), _dom_classes=('w…"
      ]
     },
     "metadata": {},
     "output_type": "display_data"
    }
   ],
   "source": [
    "## 論文 圖5.19(A, B) **注意！ 這邊看到的K2在上層 K1在下層**\n",
    "## hotspot in mode1 and mode2\n",
    "b_agent.plot_prominent_modes_and_get_identify_pair_with_interactive(\\\n",
    "        strandid=None, vlv_threshold=vlv_threshold, pe_threshold=pe_threshold, filter=True)"
   ]
  },
  {
   "cell_type": "code",
   "execution_count": 7,
   "id": "bebc7355-a1d3-41a4-8496-8dbc7e28e900",
   "metadata": {
    "tags": []
   },
   "outputs": [
    {
     "name": "stderr",
     "output_type": "stream",
     "text": [
      "100%|██████████| 45/45 [00:00<00:00, 54.97it/s]\n"
     ]
    }
   ],
   "source": [
    "metal_name = b_agent.t_agent.mean.get_metal_name(is_return=True)\n",
    "b_agent.t_agent.mean.strandid2sequence['STRAND2'] = {1:metal_name, 2:metal_name}\n",
    "b_agent.t_agent.mean.get_modes_info(strandid=None, n_mode=n_mode, vlv_threshold=vlv_threshold, pe_threshold=pe_threshold, is_return=False)"
   ]
  },
  {
   "cell_type": "code",
   "execution_count": 8,
   "id": "5848a980-50a9-46f3-854d-e65005a799df",
   "metadata": {
    "tags": []
   },
   "outputs": [],
   "source": [
    "## 離子 K1 K2 名稱轉換\n",
    "b_agent.t_agent.mean.df_info_by_resid.index = b_agent.t_agent.mean.df_info_by_resid.index.\\\n",
    "str.replace(metal_name+'1', 'TEMP').str.replace(metal_name+'2',metal_name+'1').str.replace('TEMP',metal_name+'2')\n",
    "for key in b_agent.t_agent.mean.df_info_by_resid.keys():\n",
    "    b_agent.t_agent.mean.df_info_by_resid[key] = b_agent.t_agent.mean.df_info_by_resid[key].\\\n",
    "    str.replace(metal_name+'1', 'TEMP').str.replace(metal_name+'2',metal_name+'1').str.replace('TEMP',metal_name+'2')\n",
    "b_agent.t_agent.mean.df_info_by_resid = b_agent.t_agent.mean.df_info_by_resid.loc[::-1]"
   ]
  },
  {
   "cell_type": "code",
   "execution_count": 9,
   "id": "c445bee5-d336-4d20-ba3f-ed528f299bee",
   "metadata": {
    "tags": []
   },
   "outputs": [
    {
     "data": {
      "text/html": [
       "<table border=\"1\" class=\"dataframe\">\n",
       "  <thead>\n",
       "    <tr style=\"text-align: right;\">\n",
       "      <th></th>\n",
       "      <th>0</th>\n",
       "    </tr>\n",
       "    <tr>\n",
       "      <th>Residue Pair</th>\n",
       "      <th></th>\n",
       "    </tr>\n",
       "  </thead>\n",
       "  <tbody>\n",
       "    <tr>\n",
       "      <th>K1</th>\n",
       "      <td>$\\rm{\\lambda}^{\\rm{bm}}_{2}$=90.0, ${\\{\\rm{a}_i\\rm{a}_j\\}}^{\\rm{bm}}_{2}$:<br>O6POT(G17K1)<br>O6POT(G16K1)<br>O6POT(G5K1)<br>O6POT(G4K1)<br>O6POT(G12K1)<br>O6POT(G23K1)</td>\n",
       "    </tr>\n",
       "    <tr>\n",
       "      <th>K2</th>\n",
       "      <td>$\\rm{\\lambda}^{\\rm{bm}}_{1}$=111.7, ${\\{\\rm{a}_i\\rm{a}_j\\}}^{\\rm{bm}}_{1}$:<br>O6POT(G10K2)<br>O2POT(T25K2)<br>O6POT(G24K2)<br>C6POT(G10K2)<br>O2POT(T8K2)<br>C6POT(G24K2)<br>O6POT(G6K2)<br>O6POT(G18K2)</td>\n",
       "    </tr>\n",
       "  </tbody>\n",
       "</table>"
      ],
      "text/plain": [
       "<IPython.core.display.HTML object>"
      ]
     },
     "metadata": {},
     "output_type": "display_data"
    },
    {
     "name": "stdout",
     "output_type": "stream",
     "text": [
      "Write /home/user/workfolder/g4dna_protocol_demo/hybrid-ii_wttel26_ewv/d.fluctmatch/bigtraj_fluctmatch/0000_5000/result/hybrid-ii_ewv_BM.csv\n"
     ]
    }
   ],
   "source": [
    "## 這邊看到的K1在上層 K2在下層\n",
    "## 論文 圖5.19(A)\n",
    "b_agent.t_agent.mean.display_df_info_by_resid(save=True)"
   ]
  },
  {
   "cell_type": "markdown",
   "id": "ddc8801c-03c4-47c6-9bf6-c4a7075806a8",
   "metadata": {},
   "source": [
    "### 確認機械熱點原子對$\\{\\text{a}_i\\text{a}_j\\}^{\\text{bm}}$的機械強度$k_{ij}$是否較高"
   ]
  },
  {
   "cell_type": "code",
   "execution_count": 10,
   "id": "cfd97166-b3ad-4388-943c-72e127374689",
   "metadata": {
    "tags": []
   },
   "outputs": [
    {
     "data": {
      "text/html": [
       "<div>\n",
       "<style scoped>\n",
       "    .dataframe tbody tr th:only-of-type {\n",
       "        vertical-align: middle;\n",
       "    }\n",
       "\n",
       "    .dataframe tbody tr th {\n",
       "        vertical-align: top;\n",
       "    }\n",
       "\n",
       "    .dataframe thead th {\n",
       "        text-align: right;\n",
       "    }\n",
       "</style>\n",
       "<table border=\"1\" class=\"dataframe\">\n",
       "  <thead>\n",
       "    <tr style=\"text-align: right;\">\n",
       "      <th></th>\n",
       "      <th>Enm_i</th>\n",
       "      <th>Strand_i</th>\n",
       "      <th>Resid_i</th>\n",
       "      <th>Atomname_i</th>\n",
       "      <th>Atomid_i</th>\n",
       "      <th>Enm_j</th>\n",
       "      <th>Strand_j</th>\n",
       "      <th>Resid_j</th>\n",
       "      <th>Atomname_j</th>\n",
       "      <th>Atomid_j</th>\n",
       "      <th>k</th>\n",
       "      <th>b0</th>\n",
       "      <th>Category</th>\n",
       "    </tr>\n",
       "    <tr>\n",
       "      <th>PairID</th>\n",
       "      <th></th>\n",
       "      <th></th>\n",
       "      <th></th>\n",
       "      <th></th>\n",
       "      <th></th>\n",
       "      <th></th>\n",
       "      <th></th>\n",
       "      <th></th>\n",
       "      <th></th>\n",
       "      <th></th>\n",
       "      <th></th>\n",
       "      <th></th>\n",
       "      <th></th>\n",
       "    </tr>\n",
       "  </thead>\n",
       "  <tbody>\n",
       "    <tr>\n",
       "      <th>4883</th>\n",
       "      <td>A199</td>\n",
       "      <td>STRAND1</td>\n",
       "      <td>10</td>\n",
       "      <td>O6</td>\n",
       "      <td>199</td>\n",
       "      <td>B1</td>\n",
       "      <td>STRAND2</td>\n",
       "      <td>1</td>\n",
       "      <td>POT</td>\n",
       "      <td>546</td>\n",
       "      <td>16.412558</td>\n",
       "      <td>2.735084</td>\n",
       "      <td>bm</td>\n",
       "    </tr>\n",
       "    <tr>\n",
       "      <th>7744</th>\n",
       "      <td>A348</td>\n",
       "      <td>STRAND1</td>\n",
       "      <td>17</td>\n",
       "      <td>O6</td>\n",
       "      <td>348</td>\n",
       "      <td>B2</td>\n",
       "      <td>STRAND2</td>\n",
       "      <td>2</td>\n",
       "      <td>POT</td>\n",
       "      <td>547</td>\n",
       "      <td>12.909184</td>\n",
       "      <td>2.726563</td>\n",
       "      <td>bm</td>\n",
       "    </tr>\n",
       "    <tr>\n",
       "      <th>10580</th>\n",
       "      <td>A522</td>\n",
       "      <td>STRAND1</td>\n",
       "      <td>25</td>\n",
       "      <td>O2</td>\n",
       "      <td>522</td>\n",
       "      <td>B1</td>\n",
       "      <td>STRAND2</td>\n",
       "      <td>1</td>\n",
       "      <td>POT</td>\n",
       "      <td>546</td>\n",
       "      <td>12.639432</td>\n",
       "      <td>2.932726</td>\n",
       "      <td>bm</td>\n",
       "    </tr>\n",
       "    <tr>\n",
       "      <th>10207</th>\n",
       "      <td>A497</td>\n",
       "      <td>STRAND1</td>\n",
       "      <td>24</td>\n",
       "      <td>O6</td>\n",
       "      <td>497</td>\n",
       "      <td>B1</td>\n",
       "      <td>STRAND2</td>\n",
       "      <td>1</td>\n",
       "      <td>POT</td>\n",
       "      <td>546</td>\n",
       "      <td>11.754132</td>\n",
       "      <td>2.846537</td>\n",
       "      <td>bm</td>\n",
       "    </tr>\n",
       "    <tr>\n",
       "      <th>4849</th>\n",
       "      <td>A198</td>\n",
       "      <td>STRAND1</td>\n",
       "      <td>10</td>\n",
       "      <td>C6</td>\n",
       "      <td>198</td>\n",
       "      <td>B1</td>\n",
       "      <td>STRAND2</td>\n",
       "      <td>1</td>\n",
       "      <td>POT</td>\n",
       "      <td>546</td>\n",
       "      <td>9.461716</td>\n",
       "      <td>3.568863</td>\n",
       "      <td>bm</td>\n",
       "    </tr>\n",
       "    <tr>\n",
       "      <th>...</th>\n",
       "      <td>...</td>\n",
       "      <td>...</td>\n",
       "      <td>...</td>\n",
       "      <td>...</td>\n",
       "      <td>...</td>\n",
       "      <td>...</td>\n",
       "      <td>...</td>\n",
       "      <td>...</td>\n",
       "      <td>...</td>\n",
       "      <td>...</td>\n",
       "      <td>...</td>\n",
       "      <td>...</td>\n",
       "      <td>...</td>\n",
       "    </tr>\n",
       "    <tr>\n",
       "      <th>7743</th>\n",
       "      <td>A348</td>\n",
       "      <td>STRAND1</td>\n",
       "      <td>17</td>\n",
       "      <td>O6</td>\n",
       "      <td>348</td>\n",
       "      <td>B1</td>\n",
       "      <td>STRAND2</td>\n",
       "      <td>1</td>\n",
       "      <td>POT</td>\n",
       "      <td>546</td>\n",
       "      <td>0.000000</td>\n",
       "      <td>5.454537</td>\n",
       "      <td>bm</td>\n",
       "    </tr>\n",
       "    <tr>\n",
       "      <th>7808</th>\n",
       "      <td>A350</td>\n",
       "      <td>STRAND1</td>\n",
       "      <td>17</td>\n",
       "      <td>C2</td>\n",
       "      <td>350</td>\n",
       "      <td>B2</td>\n",
       "      <td>STRAND2</td>\n",
       "      <td>2</td>\n",
       "      <td>POT</td>\n",
       "      <td>547</td>\n",
       "      <td>0.000000</td>\n",
       "      <td>5.123789</td>\n",
       "      <td>bm</td>\n",
       "    </tr>\n",
       "    <tr>\n",
       "      <th>9440</th>\n",
       "      <td>A451</td>\n",
       "      <td>STRAND1</td>\n",
       "      <td>22</td>\n",
       "      <td>C5</td>\n",
       "      <td>451</td>\n",
       "      <td>B2</td>\n",
       "      <td>STRAND2</td>\n",
       "      <td>2</td>\n",
       "      <td>POT</td>\n",
       "      <td>547</td>\n",
       "      <td>0.000000</td>\n",
       "      <td>5.078274</td>\n",
       "      <td>bm</td>\n",
       "    </tr>\n",
       "    <tr>\n",
       "      <th>9813</th>\n",
       "      <td>A473</td>\n",
       "      <td>STRAND1</td>\n",
       "      <td>23</td>\n",
       "      <td>C5</td>\n",
       "      <td>473</td>\n",
       "      <td>B1</td>\n",
       "      <td>STRAND2</td>\n",
       "      <td>1</td>\n",
       "      <td>POT</td>\n",
       "      <td>546</td>\n",
       "      <td>0.000000</td>\n",
       "      <td>6.235100</td>\n",
       "      <td>bm</td>\n",
       "    </tr>\n",
       "    <tr>\n",
       "      <th>10687</th>\n",
       "      <td>A532</td>\n",
       "      <td>STRAND1</td>\n",
       "      <td>26</td>\n",
       "      <td>O4'</td>\n",
       "      <td>532</td>\n",
       "      <td>B1</td>\n",
       "      <td>STRAND2</td>\n",
       "      <td>1</td>\n",
       "      <td>POT</td>\n",
       "      <td>546</td>\n",
       "      <td>0.000000</td>\n",
       "      <td>5.026711</td>\n",
       "      <td>bm</td>\n",
       "    </tr>\n",
       "  </tbody>\n",
       "</table>\n",
       "<p>106 rows × 13 columns</p>\n",
       "</div>"
      ],
      "text/plain": [
       "       Enm_i Strand_i  Resid_i Atomname_i  Atomid_i Enm_j Strand_j  Resid_j  \\\n",
       "PairID                                                                        \n",
       "4883    A199  STRAND1       10         O6       199    B1  STRAND2        1   \n",
       "7744    A348  STRAND1       17         O6       348    B2  STRAND2        2   \n",
       "10580   A522  STRAND1       25         O2       522    B1  STRAND2        1   \n",
       "10207   A497  STRAND1       24         O6       497    B1  STRAND2        1   \n",
       "4849    A198  STRAND1       10         C6       198    B1  STRAND2        1   \n",
       "...      ...      ...      ...        ...       ...   ...      ...      ...   \n",
       "7743    A348  STRAND1       17         O6       348    B1  STRAND2        1   \n",
       "7808    A350  STRAND1       17         C2       350    B2  STRAND2        2   \n",
       "9440    A451  STRAND1       22         C5       451    B2  STRAND2        2   \n",
       "9813    A473  STRAND1       23         C5       473    B1  STRAND2        1   \n",
       "10687   A532  STRAND1       26        O4'       532    B1  STRAND2        1   \n",
       "\n",
       "       Atomname_j  Atomid_j          k        b0 Category  \n",
       "PairID                                                     \n",
       "4883          POT       546  16.412558  2.735084       bm  \n",
       "7744          POT       547  12.909184  2.726563       bm  \n",
       "10580         POT       546  12.639432  2.932726       bm  \n",
       "10207         POT       546  11.754132  2.846537       bm  \n",
       "4849          POT       546   9.461716  3.568863       bm  \n",
       "...           ...       ...        ...       ...      ...  \n",
       "7743          POT       546   0.000000  5.454537       bm  \n",
       "7808          POT       547   0.000000  5.123789       bm  \n",
       "9440          POT       547   0.000000  5.078274       bm  \n",
       "9813          POT       546   0.000000  6.235100       bm  \n",
       "10687         POT       546   0.000000  5.026711       bm  \n",
       "\n",
       "[106 rows x 13 columns]"
      ]
     },
     "execution_count": 10,
     "metadata": {},
     "output_type": "execute_result"
    }
   ],
   "source": [
    "## **注意！ 這邊看到的K2在上層 K1在下層**\n",
    "b_agent.t_agent.mean.df_m.sort_values(by='k', ascending=False)"
   ]
  }
 ],
 "metadata": {
  "kernelspec": {
   "display_name": "Python [conda env:fluctmatch]",
   "language": "python",
   "name": "conda-env-fluctmatch-py"
  },
  "language_info": {
   "codemirror_mode": {
    "name": "ipython",
    "version": 3
   },
   "file_extension": ".py",
   "mimetype": "text/x-python",
   "name": "python",
   "nbconvert_exporter": "python",
   "pygments_lexer": "ipython3",
   "version": "3.8.0"
  }
 },
 "nbformat": 4,
 "nbformat_minor": 5
}
