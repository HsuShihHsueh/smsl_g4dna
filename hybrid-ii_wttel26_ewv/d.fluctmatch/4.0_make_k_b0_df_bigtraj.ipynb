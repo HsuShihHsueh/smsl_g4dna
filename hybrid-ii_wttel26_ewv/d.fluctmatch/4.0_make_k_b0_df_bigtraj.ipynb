{
 "cells": [
  {
   "cell_type": "code",
   "execution_count": 1,
   "id": "c148f008-9316-4fc1-8563-f48566c4c609",
   "metadata": {
    "tags": []
   },
   "outputs": [],
   "source": [
    "import sys\n",
    "sys.path.append(\"../../smsl\")"
   ]
  },
  {
   "cell_type": "markdown",
   "id": "5555bf89-6b94-4f79-88ef-94bf2714f1ad",
   "metadata": {},
   "source": [
    "### Part 1: Initialize"
   ]
  },
  {
   "cell_type": "code",
   "execution_count": 2,
   "id": "017f9a0f-5ca3-4b55-885c-1be184b5d608",
   "metadata": {
    "tags": []
   },
   "outputs": [],
   "source": [
    "from smsl.makeDataframe import SpringAgent"
   ]
  },
  {
   "cell_type": "code",
   "execution_count": 3,
   "id": "9b618c2a-f94f-4649-b4ef-1fc39930c735",
   "metadata": {
    "tags": []
   },
   "outputs": [],
   "source": [
    "sp_agent = SpringAgent()"
   ]
  },
  {
   "cell_type": "code",
   "execution_count": 4,
   "id": "251d0fb2-89b7-4a56-8127-608a33b989e1",
   "metadata": {
    "tags": []
   },
   "outputs": [
    {
     "name": "stdout",
     "output_type": "stream",
     "text": [
      "with 19 frames of 572 atoms\n"
     ]
    },
    {
     "name": "stderr",
     "output_type": "stream",
     "text": [
      "/home/user/anaconda3/envs/fluctmatch/lib/python3.8/site-packages/MDAnalysis/coordinates/base.py:721: UserWarning: Reader has no dt information, set to 1.0 ps\n",
      "  return self.ts.dt\n"
     ]
    }
   ],
   "source": [
    "## load u_enm, same as 2_build_enm_model.ipynb\n",
    "sp_agent.load_TimeAgent()\n",
    "sp_agent.load_ENMUniverse()\n",
    "sp_agent.modify_ENMUniverse()"
   ]
  },
  {
   "cell_type": "code",
   "execution_count": 5,
   "id": "9e36b578-e23b-467b-a05e-a6deeb275548",
   "metadata": {
    "tags": []
   },
   "outputs": [
    {
     "name": "stdout",
     "output_type": "stream",
     "text": [
      "Reading PDB file: /home/user/workfolder/g4dna_protocol_demo/hybrid-ii_wttel26_ewv/d.fluctmatch/2jpz_EWV.npt2.pdb\n",
      "Reading XTC file: /home/user/workfolder/g4dna_protocol_demo/hybrid-ii_wttel26_ewv/d.fluctmatch/2jpz_EWV_5us500kf.xtc\n",
      "Split Segment ...\n",
      "  select STRAND1 for  843 atoms\n",
      "  select STRAND2 for    2 atoms\n",
      "  select STRAND3 for   43 atoms\n",
      "Guess Drug Atomtype ...\n",
      "  Guess 43 atoms\n",
      "  Elements after guess:\n",
      "  ['C' 'C' 'C' 'C' 'C' 'C' 'C' 'C' 'O' 'C' 'C' 'N' 'C' 'C' 'C' 'O' 'C' 'O'\n",
      " 'C' 'C' 'C' 'C' 'C' 'O' 'C' 'H' 'H' 'H' 'H' 'H' 'H' 'H' 'H' 'H' 'H' 'H'\n",
      " 'H' 'H' 'H' 'H' 'H' 'H' 'H']\n",
      "Transfer Atomtype from RCSB to Charmm Format ...\n",
      "selct 572 heavy atoms\n"
     ]
    },
    {
     "name": "stderr",
     "output_type": "stream",
     "text": [
      "/home/user/anaconda3/envs/fluctmatch/lib/python3.8/site-packages/MDAnalysis/topology/PDBParser.py:345: UserWarning: Unknown element  found for some atoms. These have been given an empty element record. If needed they can be guessed using MDAnalysis.topology.guessers.\n",
      "  warnings.warn(wmsg)\n",
      "/home/user/anaconda3/envs/fluctmatch/lib/python3.8/site-packages/MDAnalysis/topology/guessers.py:146: UserWarning: Failed to guess the mass for the following atom types: \n",
      "  warnings.warn(\"Failed to guess the mass for the following atom types: {}\".format(atom_type))\n"
     ]
    }
   ],
   "source": [
    "seg_select = {\n",
    "'STRAND1': 'nucleic',\n",
    "'STRAND2': '(element K or element Na or element Li or element Ca)',\n",
    "'STRAND3': 'not nucleic and not (element K or element Na or element Li or element Ca)',\n",
    "}\n",
    "\n",
    "## load u_traj, same as 1_trajectory_tranfer.ipynb\n",
    "sp_agent.load_MDUniverse()\n",
    "sp_agent.modify_MDUniverse(seg_select)\n",
    "sp_agent.get_nohydrogen_ag()"
   ]
  },
  {
   "cell_type": "markdown",
   "id": "67cf5f3e-8cd2-4010-91b8-3fabd1f73265",
   "metadata": {},
   "source": [
    "### Part 2: Make DataFrame"
   ]
  },
  {
   "cell_type": "code",
   "execution_count": 6,
   "id": "38fccbd2-0f3d-404b-95ad-e68235c0a366",
   "metadata": {
    "tags": []
   },
   "outputs": [
    {
     "name": "stdout",
     "output_type": "stream",
     "text": [
      "Writing data to: /home/user/workfolder/g4dna_protocol_demo/hybrid-ii_wttel26_ewv/d.fluctmatch/bigtraj_fluctmatch/0000_0500/result/pairtypes_k_b0_cutoff_5.00.csv\n",
      "Writing data to: /home/user/workfolder/g4dna_protocol_demo/hybrid-ii_wttel26_ewv/d.fluctmatch/bigtraj_fluctmatch/0250_0750/result/pairtypes_k_b0_cutoff_5.00.csv\n",
      "Writing data to: /home/user/workfolder/g4dna_protocol_demo/hybrid-ii_wttel26_ewv/d.fluctmatch/bigtraj_fluctmatch/0500_1000/result/pairtypes_k_b0_cutoff_5.00.csv\n",
      "Writing data to: /home/user/workfolder/g4dna_protocol_demo/hybrid-ii_wttel26_ewv/d.fluctmatch/bigtraj_fluctmatch/0750_1250/result/pairtypes_k_b0_cutoff_5.00.csv\n",
      "Writing data to: /home/user/workfolder/g4dna_protocol_demo/hybrid-ii_wttel26_ewv/d.fluctmatch/bigtraj_fluctmatch/1000_1500/result/pairtypes_k_b0_cutoff_5.00.csv\n",
      "Writing data to: /home/user/workfolder/g4dna_protocol_demo/hybrid-ii_wttel26_ewv/d.fluctmatch/bigtraj_fluctmatch/1250_1750/result/pairtypes_k_b0_cutoff_5.00.csv\n",
      "Writing data to: /home/user/workfolder/g4dna_protocol_demo/hybrid-ii_wttel26_ewv/d.fluctmatch/bigtraj_fluctmatch/1500_2000/result/pairtypes_k_b0_cutoff_5.00.csv\n",
      "Writing data to: /home/user/workfolder/g4dna_protocol_demo/hybrid-ii_wttel26_ewv/d.fluctmatch/bigtraj_fluctmatch/1750_2250/result/pairtypes_k_b0_cutoff_5.00.csv\n",
      "Writing data to: /home/user/workfolder/g4dna_protocol_demo/hybrid-ii_wttel26_ewv/d.fluctmatch/bigtraj_fluctmatch/2000_2500/result/pairtypes_k_b0_cutoff_5.00.csv\n",
      "Writing data to: /home/user/workfolder/g4dna_protocol_demo/hybrid-ii_wttel26_ewv/d.fluctmatch/bigtraj_fluctmatch/2250_2750/result/pairtypes_k_b0_cutoff_5.00.csv\n",
      "Writing data to: /home/user/workfolder/g4dna_protocol_demo/hybrid-ii_wttel26_ewv/d.fluctmatch/bigtraj_fluctmatch/2500_3000/result/pairtypes_k_b0_cutoff_5.00.csv\n",
      "Writing data to: /home/user/workfolder/g4dna_protocol_demo/hybrid-ii_wttel26_ewv/d.fluctmatch/bigtraj_fluctmatch/2750_3250/result/pairtypes_k_b0_cutoff_5.00.csv\n",
      "Writing data to: /home/user/workfolder/g4dna_protocol_demo/hybrid-ii_wttel26_ewv/d.fluctmatch/bigtraj_fluctmatch/3000_3500/result/pairtypes_k_b0_cutoff_5.00.csv\n",
      "Writing data to: /home/user/workfolder/g4dna_protocol_demo/hybrid-ii_wttel26_ewv/d.fluctmatch/bigtraj_fluctmatch/3250_3750/result/pairtypes_k_b0_cutoff_5.00.csv\n",
      "Writing data to: /home/user/workfolder/g4dna_protocol_demo/hybrid-ii_wttel26_ewv/d.fluctmatch/bigtraj_fluctmatch/3500_4000/result/pairtypes_k_b0_cutoff_5.00.csv\n",
      "Writing data to: /home/user/workfolder/g4dna_protocol_demo/hybrid-ii_wttel26_ewv/d.fluctmatch/bigtraj_fluctmatch/3750_4250/result/pairtypes_k_b0_cutoff_5.00.csv\n",
      "Writing data to: /home/user/workfolder/g4dna_protocol_demo/hybrid-ii_wttel26_ewv/d.fluctmatch/bigtraj_fluctmatch/4000_4500/result/pairtypes_k_b0_cutoff_5.00.csv\n",
      "Writing data to: /home/user/workfolder/g4dna_protocol_demo/hybrid-ii_wttel26_ewv/d.fluctmatch/bigtraj_fluctmatch/4250_4750/result/pairtypes_k_b0_cutoff_5.00.csv\n",
      "Writing data to: /home/user/workfolder/g4dna_protocol_demo/hybrid-ii_wttel26_ewv/d.fluctmatch/bigtraj_fluctmatch/4500_5000/result/pairtypes_k_b0_cutoff_5.00.csv\n",
      "Writing data to: /home/user/workfolder/g4dna_protocol_demo/hybrid-ii_wttel26_ewv/d.fluctmatch/bigtraj_fluctmatch/0000_5000/result/pairtypes_k_b0_cutoff_5.00.csv\n"
     ]
    }
   ],
   "source": [
    "sp_agent.write_all_k_b0_pairtype_df()"
   ]
  },
  {
   "cell_type": "code",
   "execution_count": null,
   "id": "a566be71-e7b3-4686-b94b-35e14c4c5d98",
   "metadata": {},
   "outputs": [],
   "source": []
  }
 ],
 "metadata": {
  "kernelspec": {
   "display_name": "Python [conda env:fluctmatch]",
   "language": "python",
   "name": "conda-env-fluctmatch-py"
  },
  "language_info": {
   "codemirror_mode": {
    "name": "ipython",
    "version": 3
   },
   "file_extension": ".py",
   "mimetype": "text/x-python",
   "name": "python",
   "nbconvert_exporter": "python",
   "pygments_lexer": "ipython3",
   "version": "3.8.0"
  }
 },
 "nbformat": 4,
 "nbformat_minor": 5
}
