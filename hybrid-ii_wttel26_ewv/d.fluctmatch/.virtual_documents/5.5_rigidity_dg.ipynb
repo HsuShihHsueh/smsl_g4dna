import sys
sys.path.append("../../smsl")


from smsl.graphBigtraj import BigTrajGraphAgent
from smsl.graph import DG


import pandas as pd
import numpy as np
import matplotlib.pyplot as plt
from IPython.display import display, Math


b_agent = BigTrajGraphAgent(DG)





time_labels = b_agent.t_agent.keys()


n_top = 10
plt.rcParams['svg.fonttype'] = 'none'
df_n_top = b_agent.t_agent.mean.df_m.sort_values(by='k', ascending=False)[:n_top]

fig, ax = plt.subplots(figsize=(4.5, 2.8))
for pair_id, df_iter in df_n_top.iterrows():
    ks, windows = [], []
    for window, (time_label, st_agent) in enumerate(b_agent.t_agent.items(), start=1):
        df1 = st_agent.df_all_k.loc[pair_id]
        if len(df1)==0:
            k = -0.001
        else:
            k = df1['k'].squeeze()
        ks.append(k)
        windows.append(window)
    ri = b_agent.drug.upper()
    ai = df1['Atomname_j']
    rj = f"{b_agent.strandid2sequence['STRAND1'][df1['Resid_i']]}{df1['Resid_i']}" if df1['Atomname_i']!='POT' else f"K{3-df1['Resid_i']}"
    aj = df1['Atomname_i'] if df1['Atomname_i']!='POT' else f"K{3-df1['Resid_i']}"
    label = f"{ai:3}{aj}({ri}{rj})"   
    times = [w*250 for w in windows]
    plt.plot(times, ks, label=label, marker='o', markersize=5)
plt.legend(bbox_to_anchor=[1.0, 1.0])
plt.axvspan(  125, 2125, color="red"   , alpha=0.05) ## pose a
plt.axvspan( 2375, 4875, color="yellow", alpha=0.05) ## pose b
## 設定y軸刻度
plt.ylabel(r'$k^{\rm{dg}}_{ij}$ (kcal mol$^{-1}\rm{Å}^{-2}$)')
plt.ylim(-0.3, 10.3)
## 設定x軸刻度
ax.set_xlabel('Time (ns)')
ax.tick_params(axis='x', length=5)          ## 調整主刻度的刻度條長度
ax_sub = ax.secondary_xaxis("bottom")       ## 在下方設定副刻度
ax_sub.set_xticks(times)                    ## 設置副刻度座標
ax_sub.set_xticklabels(['' for t in times]) ## 設置副刻度文字
ax_sub.tick_params(axis='x', length=3)      ## 調整副刻度的刻度條長度
plt.savefig(f'../../summary/d.fluctmatch/pic/{b_agent.system}_top_10_kdg.svg', transparent=True)
plt.show()


## calculate kdg top 10 avg±std
time_label2pair_id2k = {}
for pair_id, df_iter in df_n_top.iterrows():
    ks, windows = [], []
    for window, (time_label, st_agent) in enumerate(b_agent.t_agent.items(), start=1):
        df1 = st_agent.df_all_k.loc[pair_id]
        if len(df1)==0:
            k = 0
        else:
            k = df1['k'].squeeze()
        time_label2pair_id2k.setdefault(time_label, {})
        time_label2pair_id2k[time_label][pair_id] = k
        
time_label2k_avg = {}
for time_label, pair_id2k in time_label2pair_id2k.items():
    k_avg = np.mean(list(pair_id2k.values()))
    time_label2k_avg[time_label] = k_avg

k_avg = np.mean(list(time_label2k_avg.values()))
k_std = np.std(list(time_label2k_avg.values()), ddof=1)
out = r'$k^{\text{dg}}$ = '+f'{k_avg:.2f}'+r'$\pm$'+f'{k_std:.2f}'+r' (kcal mol$^{-1}$ Å$^{-2})'
display(Math(out))


b_agent.df_tetrad_geometry


b_agent.t_agent.mean.df_m.sort_values(by='k', ascending=False)


## sele specific resid
df = b_agent.t_agent.mean.df_m.sort_values(by='k', ascending=False)
mask = df['Resid_i']==19
df[mask]





layer2resid = {
'top_loop'   : [ 1,  2,  3, 13, 14, 15, 21],
'top_tetrad' : [ 4, 12, 16, 22],
'other'      : [19, 20],
}


pose2sele_windows = {
    'a'  : [1, 2, 3, 4, 5, 6, 7, 8],
    'b'  : [10, 11, 12, 13, 14, 15, 16, 17, 18, 19],
    'all': [1, 2, 3, 4, 5, 6, 7, 8, 9, 10, 11, 12, 13, 14, 15, 16, 17, 18, 19],
}


def get_max_kdg_in_each_ligand_atom(self, layer, pose, n_top=1):
    atomname2kavg = []
    df = self.t_agent.mean.df_m.copy()
    ## generate k avg for sele windows
    ks_avg = []
    for windows, (time_label, st_agent) in enumerate(b_agent.t_agent.items(), start=1):
        if windows in pose2sele_windows[pose]:
            k_value = st_agent.df_m['k'].values
            ks_avg.append(k_value)
    df['k'] = np.array(ks_avg).mean(axis=0) ## cover the kij
    ## get max k^dg_ij
    ligand_atomnames = np.unique(df['Atomname_j'])
    for ligand_atomname in ligand_atomnames:
        mask1 = df['Atomname_j']==ligand_atomname
        mask2 = np.isin(df['Resid_i'], layer2resid[layer])
        df1 = df[mask1 & mask2]
        df1 = df1.sort_values(by='k', ascending=False).iloc[:n_top]
        k_avg = df1['k'].mean()
        atomname2kavg.append([ligand_atomname, k_avg/16]) ## for POH/10, for EWV/16
        ## output
    print(f'''
# load ../b.amber.drug_ff/5.Output/{b_agent.drug.upper()}_GMX.gro
bg_color white
preset.default(selection='all')
color cyan, organic and elem C
show sphere, not elem H
set sphere_scale, 0, all
hide everything, elem H
label not elem H, name
set label_color, black
set label_size, 20
''')
    for name, k in atomname2kavg:
        k = 0.0 if np.isnan(k) else k
        print(f'set sphere_scale, {k:.3f}, name {name:3}')


get_max_kdg_in_each_ligand_atom(b_agent, layer='top_loop', pose='a')


get_max_kdg_in_each_ligand_atom(b_agent, layer='top_tetrad', pose='a')


get_max_kdg_in_each_ligand_atom(b_agent, layer='top_loop', pose='b')


get_max_kdg_in_each_ligand_atom(b_agent, layer='top_tetrad', pose='b')





from smsl.graphBigtraj import BigTrajGraphAgent
from smsl.config import ConfAgent


import os
import pandas as pd
import numpy as np
from IPython.display import JSON


class HotSpotAgent(dict, ConfAgent):
    def __init__(self, MAgent):
        ConfAgent.__init__(self)
        self.end_ns = self.time_num
        self.framesperns = self.frame_num // self.time_num
        self.MAgent = MAgent
    def load_systems(self, system2offical_name, sele_windows): ## for s = dg
        ori_path = os.getcwd()
        for system, system_offical_name in system2offical_name.items():
            os.chdir(f'../../{system}/d.fluctmatch')
            b_agent = BigTrajGraphAgent(self.MAgent)
            b_agent.system_offical_name = system_offical_name
            ## remove not sele windows
            for window, time_label in enumerate(list(b_agent.t_agent.keys()), start=1): ## add `list` to aviod `RuntimeError: dictionary changed size during iteration`
                if not window in sele_windows:
                    b_agent.t_agent.pop(time_label)
            self[system] = b_agent
        os.chdir(ori_path)
    def get_hotspot(self, resid_ij2cluster, verbose=0, is_return=False):
        self.m_abbr = self.get_m_abbr() 
        dict_hotspot = {self.m_abbr:{}}
        for system, b_agent in self.items():
            dict_hotspot[b_agent.m_abbr][system] = {}
            dict_hotspot[b_agent.m_abbr][system] = get_hotspot_by_graph_agent(b_agent.t_agent, resid_ij2cluster=resid_ij2cluster, verbose=verbose)
        if is_return:
            return dict_hotspot
        else:
            self.dict_hotspot = dict_hotspot
    def get_m_abbr(self):
        return list(self.values())[0].m_abbr ## first system of sub group name
    def get_df_k_with_hotspots(self, k_value='k_avg_std', is_return=False): ## for s = dg
        global sort_system, sort_layer
        list_k_with_hotspots = []
        for s, dict_subgroup in self.dict_hotspot.items(): 
            for system, dict_system in dict_subgroup.items():
                for position, dict_position in dict_system.items():
                    pos_col, pos_row = position[0], position[1]
                    k_avg = dict_position['hotspot']['avg']['avg']
                    k_std = dict_position['hotspot']['avg']['std']
                    resid_i = dict_position['resid_i']
                    resid_j = dict_position['resid_j']
                    resn_i = self[system].drug.upper()   ## for drug, modify
                    resn_j = self[system].strandid2sequence['STRAND1'][resid_j]
                    list_k_with_hotspots.append({
                        'system'   : self[system].system_offical_name,
                        'layer'    : pos_row,
                        'gstrand'  : pos_col,
                        'k_avg'    : k_avg,
                        'k_std'    : k_std,
                        'k_avg_std': f'{k_avg:.2f} ± {k_std:.2f}',
                        'resid_ij' : f'{resn_i}{resn_j}{resid_j}', ## for drug, delete `resid_i`
                    })
        df_k_with_hotspots_1 = pd.DataFrame(list_k_with_hotspots)
        df_k_with_hotspots = df_k_with_hotspots_1.set_index(['system', 'layer'])
        df_k_with_hotspots = df_k_with_hotspots.pivot(columns='gstrand', values=k_value)

        ## sort the row and column index
        fixed_layers  = ['toploop', 'toptetrad', 'midtetrad', 'bottetrad', 'botloop']
        fixed_index   = pd.MultiIndex.from_product([list(system2offical_name.values()), fixed_layers], names=['system', 'layer'])
        fixed_columns = ['Q3', 'Q2', 'Q1', 'Q4']
        df_k_with_hotspots = df_k_with_hotspots.reindex(columns=fixed_columns, index=fixed_index).fillna('')
        if is_return:
            return df_k_with_hotspots
        else:
            self.df_k_with_hotspots = df_k_with_hotspots 


def generate_cluster_hotspots(self): ## for s = dg
    cluster2hotspots = {
        'drug-g-quadruplex-stack': {i:['rank',i] for i in range(1, 6+1)}, ## rank1..rank6
        # 'drug-g-quadruplex-hbond': {i:['rank',i] for i in range(1, 4+1)}, ## rank1..rank4
        'top-0': {i:['rank',i] for i in range(1, 0+1)}, ## 
        'top-1': {i:['rank',i] for i in range(1, 1+1)}, ## rank1
        'top-2': {i:['rank',i] for i in range(1, 2+1)}, ## rank1..2
        'top-3': {i:['rank',i] for i in range(1, 3+1)}, ## rank1..3
        'top-4': {i:['rank',i] for i in range(1, 4+1)}, ## rank1..4
        'top-5': {i:['rank',i] for i in range(1, 5+1)}, ## rank1..5
    }
    return cluster2hotspots

## SmallTimeAgent level
def get_cluster(self, resid_i, resid_j): ## for s = dg, i ∈ drug, j ∈ g-quadruplex
    pass


## SmallTimeAgent level
def generate_df_position2hotspots(self, resid_i, resid_j, hotspots, df_m=None): ## for s = dg
    dict_ks = {}
    is_switch = True ## since in df_m, i ∈ g-quadruplex, j ∈ drug
    if is_switch:
        resid_j, resid_i = resid_i, resid_j
    if df_m is None:
        df_m = self.mean.df_m
    mask1 = (df_m['Resid_i']==resid_i) & (df_m['Resid_j']==resid_j)
    df_resid_ij = df_m[mask1]
    for i, hotspot in hotspots.items():
        if isinstance(hotspot[1], int): ## rank n: ['rank', 1]
            df_sele = df_resid_ij.sort_values(by='k', ascending=False).iloc[[hotspot[1]-1]]
        elif isinstance(hotspot[1], str): ## hotspot: ['N1', 'O6']
            if is_switch:
                mask2 = (df_resid_ij['Atomname_i']==hotspot[1]) & (df_resid_ij['Atomname_j']==hotspot[0])
            else:
                mask2 = (df_resid_ij['Atomname_i']==hotspot[0]) & (df_resid_ij['Atomname_j']==hotspot[1])
            df_sele = df_resid_ij[mask2]
        else:
            raise RuntimeError('Could not recognize cluster2hotspots:', cluster2hotspots)
        ## generate dict_ks
        pair_id, ser_sele = df_sele.index, df_sele.iloc[0]
        dict_ks[i] = {
            'query'     : ''.join(map(str, hotspot)),
            'atomname_i': ser_sele.Atomname_i if not is_switch else ser_sele.Atomname_j,
            'atomname_j': ser_sele.Atomname_j if not is_switch else ser_sele.Atomname_i,
            'k'         : {},
        }
        for time_label, st_agent in self.items():
            dict_ks[i]['k'][time_label] = st_agent.df_m.loc[pair_id].squeeze().k
        ks = pd.Series(dict_ks[i]['k'])
        dict_ks[i]['k']['avg'] = ks.mean()
        dict_ks[i]['k']['std'] = ks.std() ## Note: numpy.std(ddof=0), but pandas.std(ddof=1)
    ## k_avg in {aiaj}^s
    dict_ks['avg']  = {}
    for time_label, _ in self.items():
        ks = []
        for i, hotspot in hotspots.items():
            ks.append(dict_ks[i]['k'][time_label])
        dict_ks['avg'][time_label] = np.mean(ks)
    ks = pd.Series(dict_ks['avg'])
    dict_ks['avg']['avg'] = ks.mean()
    dict_ks['avg']['std'] = ks.std() ## Note: numpy.std(ddof=0), but pandas.std(ddof=1)
    return dict_ks

## GraphAgent level, for s = dg
def get_hotspot_by_graph_agent(self, resid_ij2cluster, verbose=0):
    dict_position = {}
    for (resid_i, resid_j_pos), cluster in resid_ij2cluster.items():
        resid_j = resid_j_pos[0]  ## for drug
        cluster2hotspots = generate_cluster_hotspots(self)
        hotspots = cluster2hotspots[cluster]
        if verbose:
            print(self.system, resid_i, resid_j_pos, cluster, hotspots) ## for drug
        strand_g_quadruplex = 'STRAND2' if 'K' in resid_j_pos[2] else 'STRAND1'
        dict_ks = generate_df_position2hotspots(self, resid_i, resid_j, hotspots, self.mean.df_m.query(f"`Strand_i`=='{strand_g_quadruplex}'"))
        position = resid_j_pos[1:3]
        dict_position[position] = {
            'resid_i': int(resid_i), ## save json format from int istead of np.int64(cannot save) 
            'resid_j': int(resid_j),
            'cluster': cluster,
            'hotspot': dict_ks
        }
    return dict_position

def get_position(self, resid_i, resid_j, cluster):
    layer_i, gstrand_i = (self.df_tetrad_geometry == resid_i).stack()[lambda x: x].index[0]
    layer_pos = layer_i+'groove' if 'hbond' in cluster else layer_i+'cap'
    return (gstrand_i, layer_pos)


system2offical_name = {
# 'propeller': 'Propeller',
# 'basket'   : 'Basket',
# 'chair'    : 'Chair',
# 'hybrid-i' : 'Hybrid-I',
# 'hybrid-ii': 'Hybrid-II',
# 'dsdna'    : 'dsDNA',
'hybrid-ii_wttel26_ewv': 'Hybrid-II-wtTel26-EWV'
}

resid_ij2cluster = { ## 由上面graph得出的residue pair手動設定    
## toploop
(1, ( 4, 'Q3','toptetrad')): 'drug-g-quadruplex-stack',
(1, (12, 'Q2','toptetrad')): 'drug-g-quadruplex-stack',
(1, (16, 'Q1','toptetrad')): 'drug-g-quadruplex-stack',
(1, (22, 'Q4','toptetrad')): 'drug-g-quadruplex-stack',
## toptetrad
(1, (13, 'Q2','toploop')): 'drug-g-quadruplex-stack',
(1, (15, 'Q1','toploop')): 'drug-g-quadruplex-stack',
(1, ( 3, 'Q4','toploop')): 'drug-g-quadruplex-stack',
## less important
# (1, ( 1, 'other', 'T1' )): 'top-0', ## 0 pair
(1, ( 2, 'other', 'T2' )): 'drug-g-quadruplex-stack',
(1, (14, 'other', 'T14')): 'top-5', ## only 5 pair with k=0.0
(1, (19, 'other', 'T19')): 'drug-g-quadruplex-stack',
(1, (20, 'other', 'T20')): 'drug-g-quadruplex-stack',
(1, (21, 'other', 'A21')): 'drug-g-quadruplex-stack',  
(1, ( 2, 'other', 'K1' )): 'top-4', ## only 4 pair
}


hs_agent = HotSpotAgent(DG)
hs_agent.load_systems(system2offical_name, sele_windows=pose2sele_windows['all']) ## pose = 'all', 'a', or 'b'
hs_agent.get_hotspot(resid_ij2cluster, verbose=0)


JSON(hs_agent.dict_hotspot)


hs_agent.get_df_k_with_hotspots(is_return=True)


df_k_with_hotspots = \
    (hs_agent.get_df_k_with_hotspots(is_return=True)+\
    ' ('+\
    hs_agent.get_df_k_with_hotspots(k_value='resid_ij',is_return=True)+\
    ')').replace(' ()','')

df_k_with_hotspots


## show by list
for s, dict_1 in hs_agent.dict_hotspot.items():
    for system, dict_2 in dict_1.items():
        for position, dict_3 in dict_2.items():
            k_avg = dict_3['hotspot']['avg']['avg']
            k_std = dict_3['hotspot']['avg']['std']
            print( f'{",".join(position):15}: {k_avg:.2f} ± {k_std:.2f}')



