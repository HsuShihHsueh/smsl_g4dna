{
 "cells": [
  {
   "cell_type": "code",
   "execution_count": 2,
   "id": "813bb65a-f337-4f1b-84e6-3518ab09e8e7",
   "metadata": {
    "tags": []
   },
   "outputs": [],
   "source": [
    "import sys\n",
    "sys.path.append(\"../../smsl\")"
   ]
  },
  {
   "cell_type": "code",
   "execution_count": 3,
   "id": "9d42250b-c16d-4e32-a45a-7bd692ee83f8",
   "metadata": {
    "tags": []
   },
   "outputs": [],
   "source": [
    "from smsl.graphBigtraj import BigTrajGraphAgent\n",
    "from smsl.config import ConfAgent\n",
    "from smsl.graph import HB, ST_dsdna, RB, PR0, PR1"
   ]
  },
  {
   "cell_type": "code",
   "execution_count": 4,
   "id": "c872819a-4aca-4cea-b49e-a5fc66d9f63b",
   "metadata": {
    "tags": []
   },
   "outputs": [],
   "source": [
    "import os\n",
    "import pandas as pd\n",
    "import numpy as np\n",
    "from IPython.display import JSON"
   ]
  },
  {
   "cell_type": "code",
   "execution_count": 5,
   "id": "f3241028-2740-4ffd-8f5f-2ca76ea7495e",
   "metadata": {
    "tags": []
   },
   "outputs": [],
   "source": [
    "class HotSpotAgent(dict, ConfAgent):\n",
    "    def __init__(self, MAgent):\n",
    "        ConfAgent.__init__(self)\n",
    "        self.end_ns = self.time_num\n",
    "        self.framesperns = self.frame_num // self.time_num\n",
    "        self.MAgent = MAgent\n",
    "    def load_systems(self, system2offical_name):\n",
    "        ori_path = os.getcwd()\n",
    "        for system, system_offical_name in system2offical_name.items():\n",
    "            os.chdir(f'../../{system}/d.fluctmatch')\n",
    "            b_agent = BigTrajGraphAgent(self.MAgent)\n",
    "            b_agent.system_offical_name = system_offical_name\n",
    "            self[system] = b_agent\n",
    "        os.chdir(ori_path)\n",
    "    def get_hotspot(self, verbose=0, is_return=False):\n",
    "        self.m_abbr = self.get_m_abbr() \n",
    "        dict_hotspot = {self.m_abbr:{}}\n",
    "        for system, b_agent in self.items():\n",
    "            dict_hotspot[b_agent.m_abbr][system] = {}\n",
    "            dict_hotspot[b_agent.m_abbr][system] = get_hotspot_by_graph_agent(b_agent.t_agent, verbose=verbose)\n",
    "        if is_return:\n",
    "            return dict_hotspot\n",
    "        else:\n",
    "            self.dict_hotspot = dict_hotspot\n",
    "    def get_m_abbr(self):\n",
    "        return list(self.values())[0].m_abbr ## first system of sub group name\n",
    "    def get_df_k_with_hotspots(self, k_value='k_avg_std', is_return=False): ## for dsDNA\n",
    "        global sort_system, sort_layer\n",
    "        list_k_with_hotspots = []\n",
    "        for s, dict_subgroup in self.dict_hotspot.items(): \n",
    "            for system, dict_system in dict_subgroup.items():\n",
    "                for position, dict_position in dict_system.items():\n",
    "                    pos_seq = position\n",
    "                    k_avg = dict_position['hotspot']['avg']['avg']\n",
    "                    k_std = dict_position['hotspot']['avg']['std']\n",
    "                    list_k_with_hotspots.append({\n",
    "                        # 'system'   : self[system].system_offical_name,\n",
    "                        'subgroup' : self.m_abbr,\n",
    "                        'sequence' : pos_seq,\n",
    "                        'k_avg'    : k_avg,\n",
    "                        'k_std'    : k_std,\n",
    "                        'k_avg_std': f'{k_avg:.2f} ± {k_std:.2f}',\n",
    "                    })\n",
    "        df_k_with_hotspots_1 = pd.DataFrame(list_k_with_hotspots)\n",
    "        df_k_with_hotspots = df_k_with_hotspots_1.set_index(['sequence'])\n",
    "        df_k_with_hotspots = df_k_with_hotspots.pivot(columns='subgroup', values=k_value)\n",
    "\n",
    "        ## sort the row and column index\n",
    "        sort_subgroup = list(dict.fromkeys(df_k_with_hotspots_1['subgroup']))\n",
    "        sort_seq      = list(dict.fromkeys(df_k_with_hotspots_1['sequence']))\n",
    "        df_k_with_hotspots = df_k_with_hotspots.loc[sort_seq, sort_subgroup]\n",
    "        if is_return:\n",
    "            return df_k_with_hotspots\n",
    "        else:\n",
    "            self.df_k_with_hotspots = df_k_with_hotspots "
   ]
  },
  {
   "cell_type": "code",
   "execution_count": 6,
   "id": "4d578d51-ff38-4ee0-9521-6df757c0c5b1",
   "metadata": {
    "tags": []
   },
   "outputs": [],
   "source": [
    "def generate_cluster_hotspots(self): ## for dsDNA\n",
    "    m_abbr = self.mean.m_abbr\n",
    "    if m_abbr == 'hb':\n",
    "        cluster2hotspots = {\n",
    "            'all': {i:['rank',i] for i in range(1, 4+1)}, ## rank1..rank4\n",
    "        }\n",
    "    elif m_abbr == 'st':\n",
    "        cluster2hotspots = {\n",
    "        'all': {i:['rank',i] for i in range(1, 6+1)}, ## rank1..rank4\n",
    "        }\n",
    "    elif m_abbr == 'rb':\n",
    "        cluster2hotspots = {\n",
    "            'T': {1:[\"C1'\",\"O2\"], 2:[\"C6\",\"C2'\"], 3:[\"C5\",\"C2'\"], 4:[\"C2\",\"C2'\"], 5:[\"O4'\",\"C6\"]},\n",
    "            'C': {1:[\"C1'\",\"O2\"], 2:[\"C6\",\"C2'\"], 3:[\"C5\",\"C2'\"], 4:[\"C2\",\"C2'\"], 5:[\"O4'\",\"C6\"]},\n",
    "            'A': {1:[\"C1'\",\"N3\"], 2:[\"C8\",\"C2'\"], 3:[\"N7\",\"C2'\"], 4:[\"C4\",\"C2'\"], 5:[\"O4'\",\"C8\"]},\n",
    "            'G': {1:[\"C1'\",\"N3\"], 2:[\"C8\",\"C2'\"], 3:[\"N7\",\"C2'\"], 4:[\"C4\",\"C2'\"], 5:[\"O4'\",\"C8\"]},\n",
    "        }\n",
    "    elif m_abbr == 'pr0':\n",
    "        cluster2hotspots = {\n",
    "        'all': {i:['rank',i] for i in range(1, 3+1)}, ## rank1..rank4\n",
    "        }\n",
    "    elif m_abbr == 'pr1':\n",
    "        cluster2hotspots = {\n",
    "        'all': {i:['rank',i] for i in range(1, 3+1)}, ## rank1..rank4\n",
    "        }\n",
    "    return cluster2hotspots\n",
    "\n",
    "## SmallTimeAgent level\n",
    "def get_cluster(self, resid_i, resid_j): ## for dsDNA\n",
    "    m_abbr = self.m_abbr\n",
    "    if m_abbr == 'rb':\n",
    "        resname_i = self.strandid2sequence['STRAND1'][resid_i]\n",
    "        resname_j = self.strandid2sequence['STRAND1'][resid_j]\n",
    "        if resname_i != resname_j:\n",
    "            raise RuntimeError('resname_i ≠ resname_j, resid_i:', resid_i, 'resid_j:', resid_j)\n",
    "        cluster = resname_i\n",
    "    else:\n",
    "        cluster = 'all'\n",
    "    return cluster\n",
    "\n",
    "## SmallTimeAgent level\n",
    "def generate_df_position2hotspots(self, resid_i, resid_j, hotspots): ## for dsDNA\n",
    "    dict_ks = {}\n",
    "    df_m = self.mean.df_m\n",
    "    mask1 = (df_m['Resid_i']==resid_i) & (df_m['Resid_j']==resid_j)\n",
    "    df_resid_ij = df_m[mask1]\n",
    "    for i, hotspot in hotspots.items():\n",
    "        if isinstance(hotspot[1], int): ## rank n: ['rank', 1]\n",
    "            df_sele = df_resid_ij.sort_values(by='k', ascending=False).iloc[[hotspot[1]-1]]\n",
    "        elif isinstance(hotspot[1], str): ## hotspot: ['N1', 'O6']\n",
    "            mask2 = (df_resid_ij['Atomname_i']==hotspot[0]) & (df_resid_ij['Atomname_j']==hotspot[1])\n",
    "            df_sele = df_resid_ij[mask2]\n",
    "        else:\n",
    "            raise RuntimeError('Could not recognize cluster2hotspots:', cluster2hotspots)\n",
    "        ## generate dict_ks\n",
    "        pair_id, ser_sele = df_sele.index, df_sele.iloc[0]\n",
    "        dict_ks[i] = {\n",
    "            'query'     : ''.join(map(str, hotspot)),\n",
    "            'atomname_i': ser_sele.Atomname_i,\n",
    "            'atomname_j': ser_sele.Atomname_j,\n",
    "            'k'         : {},\n",
    "        }\n",
    "        for time_label, st_agent in self.items():\n",
    "            dict_ks[i]['k'][time_label] = st_agent.df_m.loc[pair_id].squeeze().k\n",
    "        ks = pd.Series(dict_ks[i]['k'])\n",
    "        dict_ks[i]['k']['avg'] = ks.mean()\n",
    "        dict_ks[i]['k']['std'] = ks.std() ## Note: numpy.std(ddof=0), but pandas.std(ddof=1)\n",
    "    ## k_avg in {aiaj}^s\n",
    "    dict_ks['avg']  = {}\n",
    "    for time_label, _ in self.items():\n",
    "        ks = []\n",
    "        for i, hotspot in hotspots.items():\n",
    "            ks.append(dict_ks[i]['k'][time_label])\n",
    "        dict_ks['avg'][time_label] = np.mean(ks)\n",
    "    ks = pd.Series(dict_ks['avg'])\n",
    "    dict_ks['avg']['avg'] = ks.mean()\n",
    "    dict_ks['avg']['std'] = ks.std() ## Note: numpy.std(ddof=0), but pandas.std(ddof=1)\n",
    "    return dict_ks\n",
    "\n",
    "## GraphAgent level, for dsDNA\n",
    "def get_hotspot_by_graph_agent(self, verbose=0):\n",
    "    cluster2hotspots = generate_cluster_hotspots(self)\n",
    "    dict_position = {}\n",
    "    m_abbr = self.mean.m_abbr\n",
    "    resid_i_max = {'hb':self.n_bp, 'st':self.n_bp-1, 'rb':self.n_bp, 'pr0':self.n_bp, 'pr1':self.n_bp-1}[m_abbr]\n",
    "    for resid_i in range(1, resid_i_max+1):\n",
    "        m_abbr2resid_j = {\n",
    "            'hb' : self.n_bp+1-resid_i,\n",
    "            'st' : resid_i+1,\n",
    "            'rb' : resid_i,\n",
    "            'pr0': resid_i,\n",
    "            'pr1': resid_i+1,\n",
    "        }\n",
    "        resid_j = m_abbr2resid_j[m_abbr]\n",
    "        resname_i = self.strandid2sequence['STRAND1'][resid_i]\n",
    "        sequence = f'{resname_i}{resid_i}'\n",
    "        ## generate dict_hotspot\n",
    "        cluster = get_cluster(self.mean, resid_i, resid_j)\n",
    "        hotspots = cluster2hotspots[cluster] \n",
    "        if verbose:\n",
    "            print(self.system, resid_i, resid_j, cluster, hotspots)\n",
    "        dict_ks = generate_df_position2hotspots(self, resid_i, resid_j, hotspots)\n",
    "        dict_position[sequence] = {\n",
    "            'resid_i': int(resid_i), ## save json format from int istead of np.int64(cannot save) \n",
    "            'resid_j': int(resid_j),\n",
    "            'cluster': cluster,\n",
    "            'hotspot': dict_ks\n",
    "        }\n",
    "    return dict_position"
   ]
  },
  {
   "cell_type": "code",
   "execution_count": 7,
   "id": "2028c6b9-16c2-4ee6-9a1e-924a574b8c81",
   "metadata": {
    "tags": []
   },
   "outputs": [],
   "source": [
    "system2offical_name = {\n",
    "'dsdna'    : 'dsDNA',\n",
    "}\n",
    "\n",
    "subgroups = [HB, ST_dsdna, RB, PR0, PR1]"
   ]
  },
  {
   "cell_type": "code",
   "execution_count": 8,
   "id": "bed2739e-08bb-4398-ac30-0eba5b458a08",
   "metadata": {
    "tags": []
   },
   "outputs": [
    {
     "name": "stdout",
     "output_type": "stream",
     "text": [
      "Reading data from: /home/user/workfolder/g4dna_protocol_demo/dsdna/d.fluctmatch/bigtraj_fluctmatch/0000_0500/result/pairtypes_k_b0_cutoff_5.00.csv\n",
      "Reading data from: /home/user/workfolder/g4dna_protocol_demo/dsdna/d.fluctmatch/bigtraj_fluctmatch/0250_0750/result/pairtypes_k_b0_cutoff_5.00.csv\n",
      "Reading data from: /home/user/workfolder/g4dna_protocol_demo/dsdna/d.fluctmatch/bigtraj_fluctmatch/0500_1000/result/pairtypes_k_b0_cutoff_5.00.csv\n",
      "Reading data from: /home/user/workfolder/g4dna_protocol_demo/dsdna/d.fluctmatch/bigtraj_fluctmatch/0750_1250/result/pairtypes_k_b0_cutoff_5.00.csv\n",
      "Reading data from: /home/user/workfolder/g4dna_protocol_demo/dsdna/d.fluctmatch/bigtraj_fluctmatch/1000_1500/result/pairtypes_k_b0_cutoff_5.00.csv\n"
     ]
    },
    {
     "name": "stderr",
     "output_type": "stream",
     "text": [
      "/home/user/anaconda3/envs/fluctmatch/lib/python3.8/site-packages/MDAnalysis/topology/guessers.py:146: UserWarning: Failed to guess the mass for the following atom types: A\n",
      "  warnings.warn(\"Failed to guess the mass for the following atom types: {}\".format(atom_type))\n",
      "/home/user/anaconda3/envs/fluctmatch/lib/python3.8/site-packages/MDAnalysis/topology/guessers.py:146: UserWarning: Failed to guess the mass for the following atom types: A\n",
      "  warnings.warn(\"Failed to guess the mass for the following atom types: {}\".format(atom_type))\n",
      "/home/user/anaconda3/envs/fluctmatch/lib/python3.8/site-packages/MDAnalysis/topology/guessers.py:146: UserWarning: Failed to guess the mass for the following atom types: A\n",
      "  warnings.warn(\"Failed to guess the mass for the following atom types: {}\".format(atom_type))\n",
      "/home/user/anaconda3/envs/fluctmatch/lib/python3.8/site-packages/MDAnalysis/topology/guessers.py:146: UserWarning: Failed to guess the mass for the following atom types: A\n",
      "  warnings.warn(\"Failed to guess the mass for the following atom types: {}\".format(atom_type))\n",
      "/home/user/anaconda3/envs/fluctmatch/lib/python3.8/site-packages/MDAnalysis/topology/guessers.py:146: UserWarning: Failed to guess the mass for the following atom types: A\n",
      "  warnings.warn(\"Failed to guess the mass for the following atom types: {}\".format(atom_type))\n",
      "/home/user/anaconda3/envs/fluctmatch/lib/python3.8/site-packages/MDAnalysis/topology/guessers.py:146: UserWarning: Failed to guess the mass for the following atom types: A\n",
      "  warnings.warn(\"Failed to guess the mass for the following atom types: {}\".format(atom_type))\n",
      "/home/user/anaconda3/envs/fluctmatch/lib/python3.8/site-packages/MDAnalysis/topology/guessers.py:146: UserWarning: Failed to guess the mass for the following atom types: A\n",
      "  warnings.warn(\"Failed to guess the mass for the following atom types: {}\".format(atom_type))\n"
     ]
    },
    {
     "name": "stdout",
     "output_type": "stream",
     "text": [
      "Reading data from: /home/user/workfolder/g4dna_protocol_demo/dsdna/d.fluctmatch/bigtraj_fluctmatch/1250_1750/result/pairtypes_k_b0_cutoff_5.00.csv\n",
      "Reading data from: /home/user/workfolder/g4dna_protocol_demo/dsdna/d.fluctmatch/bigtraj_fluctmatch/1500_2000/result/pairtypes_k_b0_cutoff_5.00.csv\n",
      "Reading data from: /home/user/workfolder/g4dna_protocol_demo/dsdna/d.fluctmatch/bigtraj_fluctmatch/1750_2250/result/pairtypes_k_b0_cutoff_5.00.csv\n",
      "Reading data from: /home/user/workfolder/g4dna_protocol_demo/dsdna/d.fluctmatch/bigtraj_fluctmatch/2000_2500/result/pairtypes_k_b0_cutoff_5.00.csv\n",
      "Reading data from: /home/user/workfolder/g4dna_protocol_demo/dsdna/d.fluctmatch/bigtraj_fluctmatch/2250_2750/result/pairtypes_k_b0_cutoff_5.00.csv\n"
     ]
    },
    {
     "name": "stderr",
     "output_type": "stream",
     "text": [
      "/home/user/anaconda3/envs/fluctmatch/lib/python3.8/site-packages/MDAnalysis/topology/guessers.py:146: UserWarning: Failed to guess the mass for the following atom types: A\n",
      "  warnings.warn(\"Failed to guess the mass for the following atom types: {}\".format(atom_type))\n",
      "/home/user/anaconda3/envs/fluctmatch/lib/python3.8/site-packages/MDAnalysis/topology/guessers.py:146: UserWarning: Failed to guess the mass for the following atom types: A\n",
      "  warnings.warn(\"Failed to guess the mass for the following atom types: {}\".format(atom_type))\n",
      "/home/user/anaconda3/envs/fluctmatch/lib/python3.8/site-packages/MDAnalysis/topology/guessers.py:146: UserWarning: Failed to guess the mass for the following atom types: A\n",
      "  warnings.warn(\"Failed to guess the mass for the following atom types: {}\".format(atom_type))\n",
      "/home/user/anaconda3/envs/fluctmatch/lib/python3.8/site-packages/MDAnalysis/topology/guessers.py:146: UserWarning: Failed to guess the mass for the following atom types: A\n",
      "  warnings.warn(\"Failed to guess the mass for the following atom types: {}\".format(atom_type))\n",
      "/home/user/anaconda3/envs/fluctmatch/lib/python3.8/site-packages/MDAnalysis/topology/guessers.py:146: UserWarning: Failed to guess the mass for the following atom types: A\n",
      "  warnings.warn(\"Failed to guess the mass for the following atom types: {}\".format(atom_type))\n"
     ]
    },
    {
     "name": "stdout",
     "output_type": "stream",
     "text": [
      "Reading data from: /home/user/workfolder/g4dna_protocol_demo/dsdna/d.fluctmatch/bigtraj_fluctmatch/2500_3000/result/pairtypes_k_b0_cutoff_5.00.csv\n",
      "Reading data from: /home/user/workfolder/g4dna_protocol_demo/dsdna/d.fluctmatch/bigtraj_fluctmatch/2750_3250/result/pairtypes_k_b0_cutoff_5.00.csv\n",
      "Reading data from: /home/user/workfolder/g4dna_protocol_demo/dsdna/d.fluctmatch/bigtraj_fluctmatch/3000_3500/result/pairtypes_k_b0_cutoff_5.00.csv\n",
      "Reading data from: /home/user/workfolder/g4dna_protocol_demo/dsdna/d.fluctmatch/bigtraj_fluctmatch/3250_3750/result/pairtypes_k_b0_cutoff_5.00.csv\n",
      "Reading data from: /home/user/workfolder/g4dna_protocol_demo/dsdna/d.fluctmatch/bigtraj_fluctmatch/3500_4000/result/pairtypes_k_b0_cutoff_5.00.csv\n",
      "Reading data from: /home/user/workfolder/g4dna_protocol_demo/dsdna/d.fluctmatch/bigtraj_fluctmatch/3750_4250/result/pairtypes_k_b0_cutoff_5.00.csv\n",
      "Reading data from: /home/user/workfolder/g4dna_protocol_demo/dsdna/d.fluctmatch/bigtraj_fluctmatch/4000_4500/result/pairtypes_k_b0_cutoff_5.00.csv\n"
     ]
    },
    {
     "name": "stderr",
     "output_type": "stream",
     "text": [
      "/home/user/anaconda3/envs/fluctmatch/lib/python3.8/site-packages/MDAnalysis/topology/guessers.py:146: UserWarning: Failed to guess the mass for the following atom types: A\n",
      "  warnings.warn(\"Failed to guess the mass for the following atom types: {}\".format(atom_type))\n",
      "/home/user/anaconda3/envs/fluctmatch/lib/python3.8/site-packages/MDAnalysis/topology/guessers.py:146: UserWarning: Failed to guess the mass for the following atom types: A\n",
      "  warnings.warn(\"Failed to guess the mass for the following atom types: {}\".format(atom_type))\n",
      "/home/user/anaconda3/envs/fluctmatch/lib/python3.8/site-packages/MDAnalysis/topology/guessers.py:146: UserWarning: Failed to guess the mass for the following atom types: A\n",
      "  warnings.warn(\"Failed to guess the mass for the following atom types: {}\".format(atom_type))\n",
      "/home/user/anaconda3/envs/fluctmatch/lib/python3.8/site-packages/MDAnalysis/topology/guessers.py:146: UserWarning: Failed to guess the mass for the following atom types: A\n",
      "  warnings.warn(\"Failed to guess the mass for the following atom types: {}\".format(atom_type))\n",
      "/home/user/anaconda3/envs/fluctmatch/lib/python3.8/site-packages/MDAnalysis/topology/guessers.py:146: UserWarning: Failed to guess the mass for the following atom types: A\n",
      "  warnings.warn(\"Failed to guess the mass for the following atom types: {}\".format(atom_type))\n",
      "/home/user/anaconda3/envs/fluctmatch/lib/python3.8/site-packages/MDAnalysis/topology/guessers.py:146: UserWarning: Failed to guess the mass for the following atom types: A\n",
      "  warnings.warn(\"Failed to guess the mass for the following atom types: {}\".format(atom_type))\n",
      "/home/user/anaconda3/envs/fluctmatch/lib/python3.8/site-packages/MDAnalysis/topology/guessers.py:146: UserWarning: Failed to guess the mass for the following atom types: A\n",
      "  warnings.warn(\"Failed to guess the mass for the following atom types: {}\".format(atom_type))\n"
     ]
    },
    {
     "name": "stdout",
     "output_type": "stream",
     "text": [
      "Reading data from: /home/user/workfolder/g4dna_protocol_demo/dsdna/d.fluctmatch/bigtraj_fluctmatch/4250_4750/result/pairtypes_k_b0_cutoff_5.00.csv\n",
      "Reading data from: /home/user/workfolder/g4dna_protocol_demo/dsdna/d.fluctmatch/bigtraj_fluctmatch/4500_5000/result/pairtypes_k_b0_cutoff_5.00.csv\n",
      "Reading data from: /home/user/workfolder/g4dna_protocol_demo/dsdna/d.fluctmatch/bigtraj_fluctmatch/0000_5000/result/pairtypes_k_b0_cutoff_5.00.csv\n"
     ]
    },
    {
     "name": "stderr",
     "output_type": "stream",
     "text": [
      "/home/user/anaconda3/envs/fluctmatch/lib/python3.8/site-packages/MDAnalysis/topology/guessers.py:146: UserWarning: Failed to guess the mass for the following atom types: A\n",
      "  warnings.warn(\"Failed to guess the mass for the following atom types: {}\".format(atom_type))\n"
     ]
    },
    {
     "name": "stdout",
     "output_type": "stream",
     "text": [
      "Reading data from: /home/user/workfolder/g4dna_protocol_demo/dsdna/d.fluctmatch/bigtraj_fluctmatch/0000_0500/result/pairtypes_k_b0_cutoff_5.00.csv\n",
      "Reading data from: /home/user/workfolder/g4dna_protocol_demo/dsdna/d.fluctmatch/bigtraj_fluctmatch/0250_0750/result/pairtypes_k_b0_cutoff_5.00.csv\n",
      "Reading data from: /home/user/workfolder/g4dna_protocol_demo/dsdna/d.fluctmatch/bigtraj_fluctmatch/0500_1000/result/pairtypes_k_b0_cutoff_5.00.csv\n",
      "Reading data from: /home/user/workfolder/g4dna_protocol_demo/dsdna/d.fluctmatch/bigtraj_fluctmatch/0750_1250/result/pairtypes_k_b0_cutoff_5.00.csv\n",
      "Reading data from: /home/user/workfolder/g4dna_protocol_demo/dsdna/d.fluctmatch/bigtraj_fluctmatch/1000_1500/result/pairtypes_k_b0_cutoff_5.00.csv\n",
      "Reading data from: /home/user/workfolder/g4dna_protocol_demo/dsdna/d.fluctmatch/bigtraj_fluctmatch/1250_1750/result/pairtypes_k_b0_cutoff_5.00.csv\n"
     ]
    },
    {
     "name": "stderr",
     "output_type": "stream",
     "text": [
      "/home/user/anaconda3/envs/fluctmatch/lib/python3.8/site-packages/MDAnalysis/topology/guessers.py:146: UserWarning: Failed to guess the mass for the following atom types: A\n",
      "  warnings.warn(\"Failed to guess the mass for the following atom types: {}\".format(atom_type))\n",
      "/home/user/anaconda3/envs/fluctmatch/lib/python3.8/site-packages/MDAnalysis/topology/guessers.py:146: UserWarning: Failed to guess the mass for the following atom types: A\n",
      "  warnings.warn(\"Failed to guess the mass for the following atom types: {}\".format(atom_type))\n",
      "/home/user/anaconda3/envs/fluctmatch/lib/python3.8/site-packages/MDAnalysis/topology/guessers.py:146: UserWarning: Failed to guess the mass for the following atom types: A\n",
      "  warnings.warn(\"Failed to guess the mass for the following atom types: {}\".format(atom_type))\n",
      "/home/user/anaconda3/envs/fluctmatch/lib/python3.8/site-packages/MDAnalysis/topology/guessers.py:146: UserWarning: Failed to guess the mass for the following atom types: A\n",
      "  warnings.warn(\"Failed to guess the mass for the following atom types: {}\".format(atom_type))\n",
      "/home/user/anaconda3/envs/fluctmatch/lib/python3.8/site-packages/MDAnalysis/topology/guessers.py:146: UserWarning: Failed to guess the mass for the following atom types: A\n",
      "  warnings.warn(\"Failed to guess the mass for the following atom types: {}\".format(atom_type))\n",
      "/home/user/anaconda3/envs/fluctmatch/lib/python3.8/site-packages/MDAnalysis/topology/guessers.py:146: UserWarning: Failed to guess the mass for the following atom types: A\n",
      "  warnings.warn(\"Failed to guess the mass for the following atom types: {}\".format(atom_type))\n"
     ]
    },
    {
     "name": "stdout",
     "output_type": "stream",
     "text": [
      "Reading data from: /home/user/workfolder/g4dna_protocol_demo/dsdna/d.fluctmatch/bigtraj_fluctmatch/1500_2000/result/pairtypes_k_b0_cutoff_5.00.csv\n",
      "Reading data from: /home/user/workfolder/g4dna_protocol_demo/dsdna/d.fluctmatch/bigtraj_fluctmatch/1750_2250/result/pairtypes_k_b0_cutoff_5.00.csv\n",
      "Reading data from: /home/user/workfolder/g4dna_protocol_demo/dsdna/d.fluctmatch/bigtraj_fluctmatch/2000_2500/result/pairtypes_k_b0_cutoff_5.00.csv\n",
      "Reading data from: /home/user/workfolder/g4dna_protocol_demo/dsdna/d.fluctmatch/bigtraj_fluctmatch/2250_2750/result/pairtypes_k_b0_cutoff_5.00.csv\n",
      "Reading data from: /home/user/workfolder/g4dna_protocol_demo/dsdna/d.fluctmatch/bigtraj_fluctmatch/2500_3000/result/pairtypes_k_b0_cutoff_5.00.csv\n",
      "Reading data from: /home/user/workfolder/g4dna_protocol_demo/dsdna/d.fluctmatch/bigtraj_fluctmatch/2750_3250/result/pairtypes_k_b0_cutoff_5.00.csv\n"
     ]
    },
    {
     "name": "stderr",
     "output_type": "stream",
     "text": [
      "/home/user/anaconda3/envs/fluctmatch/lib/python3.8/site-packages/MDAnalysis/topology/guessers.py:146: UserWarning: Failed to guess the mass for the following atom types: A\n",
      "  warnings.warn(\"Failed to guess the mass for the following atom types: {}\".format(atom_type))\n",
      "/home/user/anaconda3/envs/fluctmatch/lib/python3.8/site-packages/MDAnalysis/topology/guessers.py:146: UserWarning: Failed to guess the mass for the following atom types: A\n",
      "  warnings.warn(\"Failed to guess the mass for the following atom types: {}\".format(atom_type))\n",
      "/home/user/anaconda3/envs/fluctmatch/lib/python3.8/site-packages/MDAnalysis/topology/guessers.py:146: UserWarning: Failed to guess the mass for the following atom types: A\n",
      "  warnings.warn(\"Failed to guess the mass for the following atom types: {}\".format(atom_type))\n",
      "/home/user/anaconda3/envs/fluctmatch/lib/python3.8/site-packages/MDAnalysis/topology/guessers.py:146: UserWarning: Failed to guess the mass for the following atom types: A\n",
      "  warnings.warn(\"Failed to guess the mass for the following atom types: {}\".format(atom_type))\n",
      "/home/user/anaconda3/envs/fluctmatch/lib/python3.8/site-packages/MDAnalysis/topology/guessers.py:146: UserWarning: Failed to guess the mass for the following atom types: A\n",
      "  warnings.warn(\"Failed to guess the mass for the following atom types: {}\".format(atom_type))\n",
      "/home/user/anaconda3/envs/fluctmatch/lib/python3.8/site-packages/MDAnalysis/topology/guessers.py:146: UserWarning: Failed to guess the mass for the following atom types: A\n",
      "  warnings.warn(\"Failed to guess the mass for the following atom types: {}\".format(atom_type))\n"
     ]
    },
    {
     "name": "stdout",
     "output_type": "stream",
     "text": [
      "Reading data from: /home/user/workfolder/g4dna_protocol_demo/dsdna/d.fluctmatch/bigtraj_fluctmatch/3000_3500/result/pairtypes_k_b0_cutoff_5.00.csv\n",
      "Reading data from: /home/user/workfolder/g4dna_protocol_demo/dsdna/d.fluctmatch/bigtraj_fluctmatch/3250_3750/result/pairtypes_k_b0_cutoff_5.00.csv\n",
      "Reading data from: /home/user/workfolder/g4dna_protocol_demo/dsdna/d.fluctmatch/bigtraj_fluctmatch/3500_4000/result/pairtypes_k_b0_cutoff_5.00.csv\n",
      "Reading data from: /home/user/workfolder/g4dna_protocol_demo/dsdna/d.fluctmatch/bigtraj_fluctmatch/3750_4250/result/pairtypes_k_b0_cutoff_5.00.csv\n",
      "Reading data from: /home/user/workfolder/g4dna_protocol_demo/dsdna/d.fluctmatch/bigtraj_fluctmatch/4000_4500/result/pairtypes_k_b0_cutoff_5.00.csv\n",
      "Reading data from: /home/user/workfolder/g4dna_protocol_demo/dsdna/d.fluctmatch/bigtraj_fluctmatch/4250_4750/result/pairtypes_k_b0_cutoff_5.00.csv\n"
     ]
    },
    {
     "name": "stderr",
     "output_type": "stream",
     "text": [
      "/home/user/anaconda3/envs/fluctmatch/lib/python3.8/site-packages/MDAnalysis/topology/guessers.py:146: UserWarning: Failed to guess the mass for the following atom types: A\n",
      "  warnings.warn(\"Failed to guess the mass for the following atom types: {}\".format(atom_type))\n",
      "/home/user/anaconda3/envs/fluctmatch/lib/python3.8/site-packages/MDAnalysis/topology/guessers.py:146: UserWarning: Failed to guess the mass for the following atom types: A\n",
      "  warnings.warn(\"Failed to guess the mass for the following atom types: {}\".format(atom_type))\n",
      "/home/user/anaconda3/envs/fluctmatch/lib/python3.8/site-packages/MDAnalysis/topology/guessers.py:146: UserWarning: Failed to guess the mass for the following atom types: A\n",
      "  warnings.warn(\"Failed to guess the mass for the following atom types: {}\".format(atom_type))\n",
      "/home/user/anaconda3/envs/fluctmatch/lib/python3.8/site-packages/MDAnalysis/topology/guessers.py:146: UserWarning: Failed to guess the mass for the following atom types: A\n",
      "  warnings.warn(\"Failed to guess the mass for the following atom types: {}\".format(atom_type))\n",
      "/home/user/anaconda3/envs/fluctmatch/lib/python3.8/site-packages/MDAnalysis/topology/guessers.py:146: UserWarning: Failed to guess the mass for the following atom types: A\n",
      "  warnings.warn(\"Failed to guess the mass for the following atom types: {}\".format(atom_type))\n",
      "/home/user/anaconda3/envs/fluctmatch/lib/python3.8/site-packages/MDAnalysis/topology/guessers.py:146: UserWarning: Failed to guess the mass for the following atom types: A\n",
      "  warnings.warn(\"Failed to guess the mass for the following atom types: {}\".format(atom_type))\n"
     ]
    },
    {
     "name": "stdout",
     "output_type": "stream",
     "text": [
      "Reading data from: /home/user/workfolder/g4dna_protocol_demo/dsdna/d.fluctmatch/bigtraj_fluctmatch/4500_5000/result/pairtypes_k_b0_cutoff_5.00.csv\n",
      "Reading data from: /home/user/workfolder/g4dna_protocol_demo/dsdna/d.fluctmatch/bigtraj_fluctmatch/0000_5000/result/pairtypes_k_b0_cutoff_5.00.csv\n"
     ]
    },
    {
     "name": "stderr",
     "output_type": "stream",
     "text": [
      "/home/user/anaconda3/envs/fluctmatch/lib/python3.8/site-packages/MDAnalysis/topology/guessers.py:146: UserWarning: Failed to guess the mass for the following atom types: A\n",
      "  warnings.warn(\"Failed to guess the mass for the following atom types: {}\".format(atom_type))\n",
      "/home/user/anaconda3/envs/fluctmatch/lib/python3.8/site-packages/MDAnalysis/topology/guessers.py:146: UserWarning: Failed to guess the mass for the following atom types: A\n",
      "  warnings.warn(\"Failed to guess the mass for the following atom types: {}\".format(atom_type))\n"
     ]
    },
    {
     "name": "stdout",
     "output_type": "stream",
     "text": [
      "Reading data from: /home/user/workfolder/g4dna_protocol_demo/dsdna/d.fluctmatch/bigtraj_fluctmatch/0000_0500/result/pairtypes_k_b0_cutoff_5.00.csv\n",
      "Reading data from: /home/user/workfolder/g4dna_protocol_demo/dsdna/d.fluctmatch/bigtraj_fluctmatch/0250_0750/result/pairtypes_k_b0_cutoff_5.00.csv\n",
      "Reading data from: /home/user/workfolder/g4dna_protocol_demo/dsdna/d.fluctmatch/bigtraj_fluctmatch/0500_1000/result/pairtypes_k_b0_cutoff_5.00.csv\n",
      "Reading data from: /home/user/workfolder/g4dna_protocol_demo/dsdna/d.fluctmatch/bigtraj_fluctmatch/0750_1250/result/pairtypes_k_b0_cutoff_5.00.csv\n",
      "Reading data from: /home/user/workfolder/g4dna_protocol_demo/dsdna/d.fluctmatch/bigtraj_fluctmatch/1000_1500/result/pairtypes_k_b0_cutoff_5.00.csv\n",
      "Reading data from: /home/user/workfolder/g4dna_protocol_demo/dsdna/d.fluctmatch/bigtraj_fluctmatch/1250_1750/result/pairtypes_k_b0_cutoff_5.00.csv\n"
     ]
    },
    {
     "name": "stderr",
     "output_type": "stream",
     "text": [
      "/home/user/anaconda3/envs/fluctmatch/lib/python3.8/site-packages/MDAnalysis/topology/guessers.py:146: UserWarning: Failed to guess the mass for the following atom types: A\n",
      "  warnings.warn(\"Failed to guess the mass for the following atom types: {}\".format(atom_type))\n",
      "/home/user/anaconda3/envs/fluctmatch/lib/python3.8/site-packages/MDAnalysis/topology/guessers.py:146: UserWarning: Failed to guess the mass for the following atom types: A\n",
      "  warnings.warn(\"Failed to guess the mass for the following atom types: {}\".format(atom_type))\n",
      "/home/user/anaconda3/envs/fluctmatch/lib/python3.8/site-packages/MDAnalysis/topology/guessers.py:146: UserWarning: Failed to guess the mass for the following atom types: A\n",
      "  warnings.warn(\"Failed to guess the mass for the following atom types: {}\".format(atom_type))\n",
      "/home/user/anaconda3/envs/fluctmatch/lib/python3.8/site-packages/MDAnalysis/topology/guessers.py:146: UserWarning: Failed to guess the mass for the following atom types: A\n",
      "  warnings.warn(\"Failed to guess the mass for the following atom types: {}\".format(atom_type))\n",
      "/home/user/anaconda3/envs/fluctmatch/lib/python3.8/site-packages/MDAnalysis/topology/guessers.py:146: UserWarning: Failed to guess the mass for the following atom types: A\n",
      "  warnings.warn(\"Failed to guess the mass for the following atom types: {}\".format(atom_type))\n",
      "/home/user/anaconda3/envs/fluctmatch/lib/python3.8/site-packages/MDAnalysis/topology/guessers.py:146: UserWarning: Failed to guess the mass for the following atom types: A\n",
      "  warnings.warn(\"Failed to guess the mass for the following atom types: {}\".format(atom_type))\n",
      "/home/user/anaconda3/envs/fluctmatch/lib/python3.8/site-packages/MDAnalysis/topology/guessers.py:146: UserWarning: Failed to guess the mass for the following atom types: A\n",
      "  warnings.warn(\"Failed to guess the mass for the following atom types: {}\".format(atom_type))\n"
     ]
    },
    {
     "name": "stdout",
     "output_type": "stream",
     "text": [
      "Reading data from: /home/user/workfolder/g4dna_protocol_demo/dsdna/d.fluctmatch/bigtraj_fluctmatch/1500_2000/result/pairtypes_k_b0_cutoff_5.00.csv\n",
      "Reading data from: /home/user/workfolder/g4dna_protocol_demo/dsdna/d.fluctmatch/bigtraj_fluctmatch/1750_2250/result/pairtypes_k_b0_cutoff_5.00.csv\n",
      "Reading data from: /home/user/workfolder/g4dna_protocol_demo/dsdna/d.fluctmatch/bigtraj_fluctmatch/2000_2500/result/pairtypes_k_b0_cutoff_5.00.csv\n",
      "Reading data from: /home/user/workfolder/g4dna_protocol_demo/dsdna/d.fluctmatch/bigtraj_fluctmatch/2250_2750/result/pairtypes_k_b0_cutoff_5.00.csv\n",
      "Reading data from: /home/user/workfolder/g4dna_protocol_demo/dsdna/d.fluctmatch/bigtraj_fluctmatch/2500_3000/result/pairtypes_k_b0_cutoff_5.00.csv\n",
      "Reading data from: /home/user/workfolder/g4dna_protocol_demo/dsdna/d.fluctmatch/bigtraj_fluctmatch/2750_3250/result/pairtypes_k_b0_cutoff_5.00.csv\n"
     ]
    },
    {
     "name": "stderr",
     "output_type": "stream",
     "text": [
      "/home/user/anaconda3/envs/fluctmatch/lib/python3.8/site-packages/MDAnalysis/topology/guessers.py:146: UserWarning: Failed to guess the mass for the following atom types: A\n",
      "  warnings.warn(\"Failed to guess the mass for the following atom types: {}\".format(atom_type))\n",
      "/home/user/anaconda3/envs/fluctmatch/lib/python3.8/site-packages/MDAnalysis/topology/guessers.py:146: UserWarning: Failed to guess the mass for the following atom types: A\n",
      "  warnings.warn(\"Failed to guess the mass for the following atom types: {}\".format(atom_type))\n",
      "/home/user/anaconda3/envs/fluctmatch/lib/python3.8/site-packages/MDAnalysis/topology/guessers.py:146: UserWarning: Failed to guess the mass for the following atom types: A\n",
      "  warnings.warn(\"Failed to guess the mass for the following atom types: {}\".format(atom_type))\n",
      "/home/user/anaconda3/envs/fluctmatch/lib/python3.8/site-packages/MDAnalysis/topology/guessers.py:146: UserWarning: Failed to guess the mass for the following atom types: A\n",
      "  warnings.warn(\"Failed to guess the mass for the following atom types: {}\".format(atom_type))\n",
      "/home/user/anaconda3/envs/fluctmatch/lib/python3.8/site-packages/MDAnalysis/topology/guessers.py:146: UserWarning: Failed to guess the mass for the following atom types: A\n",
      "  warnings.warn(\"Failed to guess the mass for the following atom types: {}\".format(atom_type))\n",
      "/home/user/anaconda3/envs/fluctmatch/lib/python3.8/site-packages/MDAnalysis/topology/guessers.py:146: UserWarning: Failed to guess the mass for the following atom types: A\n",
      "  warnings.warn(\"Failed to guess the mass for the following atom types: {}\".format(atom_type))\n",
      "/home/user/anaconda3/envs/fluctmatch/lib/python3.8/site-packages/MDAnalysis/topology/guessers.py:146: UserWarning: Failed to guess the mass for the following atom types: A\n",
      "  warnings.warn(\"Failed to guess the mass for the following atom types: {}\".format(atom_type))\n"
     ]
    },
    {
     "name": "stdout",
     "output_type": "stream",
     "text": [
      "Reading data from: /home/user/workfolder/g4dna_protocol_demo/dsdna/d.fluctmatch/bigtraj_fluctmatch/3000_3500/result/pairtypes_k_b0_cutoff_5.00.csv\n",
      "Reading data from: /home/user/workfolder/g4dna_protocol_demo/dsdna/d.fluctmatch/bigtraj_fluctmatch/3250_3750/result/pairtypes_k_b0_cutoff_5.00.csv\n",
      "Reading data from: /home/user/workfolder/g4dna_protocol_demo/dsdna/d.fluctmatch/bigtraj_fluctmatch/3500_4000/result/pairtypes_k_b0_cutoff_5.00.csv\n",
      "Reading data from: /home/user/workfolder/g4dna_protocol_demo/dsdna/d.fluctmatch/bigtraj_fluctmatch/3750_4250/result/pairtypes_k_b0_cutoff_5.00.csv\n",
      "Reading data from: /home/user/workfolder/g4dna_protocol_demo/dsdna/d.fluctmatch/bigtraj_fluctmatch/4000_4500/result/pairtypes_k_b0_cutoff_5.00.csv\n",
      "Reading data from: /home/user/workfolder/g4dna_protocol_demo/dsdna/d.fluctmatch/bigtraj_fluctmatch/4250_4750/result/pairtypes_k_b0_cutoff_5.00.csv\n"
     ]
    },
    {
     "name": "stderr",
     "output_type": "stream",
     "text": [
      "/home/user/anaconda3/envs/fluctmatch/lib/python3.8/site-packages/MDAnalysis/topology/guessers.py:146: UserWarning: Failed to guess the mass for the following atom types: A\n",
      "  warnings.warn(\"Failed to guess the mass for the following atom types: {}\".format(atom_type))\n",
      "/home/user/anaconda3/envs/fluctmatch/lib/python3.8/site-packages/MDAnalysis/topology/guessers.py:146: UserWarning: Failed to guess the mass for the following atom types: A\n",
      "  warnings.warn(\"Failed to guess the mass for the following atom types: {}\".format(atom_type))\n",
      "/home/user/anaconda3/envs/fluctmatch/lib/python3.8/site-packages/MDAnalysis/topology/guessers.py:146: UserWarning: Failed to guess the mass for the following atom types: A\n",
      "  warnings.warn(\"Failed to guess the mass for the following atom types: {}\".format(atom_type))\n",
      "/home/user/anaconda3/envs/fluctmatch/lib/python3.8/site-packages/MDAnalysis/topology/guessers.py:146: UserWarning: Failed to guess the mass for the following atom types: A\n",
      "  warnings.warn(\"Failed to guess the mass for the following atom types: {}\".format(atom_type))\n",
      "/home/user/anaconda3/envs/fluctmatch/lib/python3.8/site-packages/MDAnalysis/topology/guessers.py:146: UserWarning: Failed to guess the mass for the following atom types: A\n",
      "  warnings.warn(\"Failed to guess the mass for the following atom types: {}\".format(atom_type))\n",
      "/home/user/anaconda3/envs/fluctmatch/lib/python3.8/site-packages/MDAnalysis/topology/guessers.py:146: UserWarning: Failed to guess the mass for the following atom types: A\n",
      "  warnings.warn(\"Failed to guess the mass for the following atom types: {}\".format(atom_type))\n"
     ]
    },
    {
     "name": "stdout",
     "output_type": "stream",
     "text": [
      "Reading data from: /home/user/workfolder/g4dna_protocol_demo/dsdna/d.fluctmatch/bigtraj_fluctmatch/4500_5000/result/pairtypes_k_b0_cutoff_5.00.csv\n",
      "Reading data from: /home/user/workfolder/g4dna_protocol_demo/dsdna/d.fluctmatch/bigtraj_fluctmatch/0000_5000/result/pairtypes_k_b0_cutoff_5.00.csv\n",
      "Reading data from: /home/user/workfolder/g4dna_protocol_demo/dsdna/d.fluctmatch/bigtraj_fluctmatch/0000_0500/result/pairtypes_k_b0_cutoff_5.00.csv\n",
      "Reading data from: /home/user/workfolder/g4dna_protocol_demo/dsdna/d.fluctmatch/bigtraj_fluctmatch/0250_0750/result/pairtypes_k_b0_cutoff_5.00.csv\n",
      "Reading data from: /home/user/workfolder/g4dna_protocol_demo/dsdna/d.fluctmatch/bigtraj_fluctmatch/0500_1000/result/pairtypes_k_b0_cutoff_5.00.csv\n",
      "Reading data from: /home/user/workfolder/g4dna_protocol_demo/dsdna/d.fluctmatch/bigtraj_fluctmatch/0750_1250/result/pairtypes_k_b0_cutoff_5.00.csv\n",
      "Reading data from: /home/user/workfolder/g4dna_protocol_demo/dsdna/d.fluctmatch/bigtraj_fluctmatch/1000_1500/result/pairtypes_k_b0_cutoff_5.00.csv\n",
      "Reading data from: /home/user/workfolder/g4dna_protocol_demo/dsdna/d.fluctmatch/bigtraj_fluctmatch/1250_1750/result/pairtypes_k_b0_cutoff_5.00.csv\n"
     ]
    },
    {
     "name": "stderr",
     "output_type": "stream",
     "text": [
      "/home/user/anaconda3/envs/fluctmatch/lib/python3.8/site-packages/MDAnalysis/topology/guessers.py:146: UserWarning: Failed to guess the mass for the following atom types: A\n",
      "  warnings.warn(\"Failed to guess the mass for the following atom types: {}\".format(atom_type))\n",
      "/home/user/anaconda3/envs/fluctmatch/lib/python3.8/site-packages/MDAnalysis/topology/guessers.py:146: UserWarning: Failed to guess the mass for the following atom types: A\n",
      "  warnings.warn(\"Failed to guess the mass for the following atom types: {}\".format(atom_type))\n",
      "/home/user/anaconda3/envs/fluctmatch/lib/python3.8/site-packages/MDAnalysis/topology/guessers.py:146: UserWarning: Failed to guess the mass for the following atom types: A\n",
      "  warnings.warn(\"Failed to guess the mass for the following atom types: {}\".format(atom_type))\n",
      "/home/user/anaconda3/envs/fluctmatch/lib/python3.8/site-packages/MDAnalysis/topology/guessers.py:146: UserWarning: Failed to guess the mass for the following atom types: A\n",
      "  warnings.warn(\"Failed to guess the mass for the following atom types: {}\".format(atom_type))\n",
      "/home/user/anaconda3/envs/fluctmatch/lib/python3.8/site-packages/MDAnalysis/topology/guessers.py:146: UserWarning: Failed to guess the mass for the following atom types: A\n",
      "  warnings.warn(\"Failed to guess the mass for the following atom types: {}\".format(atom_type))\n",
      "/home/user/anaconda3/envs/fluctmatch/lib/python3.8/site-packages/MDAnalysis/topology/guessers.py:146: UserWarning: Failed to guess the mass for the following atom types: A\n",
      "  warnings.warn(\"Failed to guess the mass for the following atom types: {}\".format(atom_type))\n",
      "/home/user/anaconda3/envs/fluctmatch/lib/python3.8/site-packages/MDAnalysis/topology/guessers.py:146: UserWarning: Failed to guess the mass for the following atom types: A\n",
      "  warnings.warn(\"Failed to guess the mass for the following atom types: {}\".format(atom_type))\n"
     ]
    },
    {
     "name": "stdout",
     "output_type": "stream",
     "text": [
      "Reading data from: /home/user/workfolder/g4dna_protocol_demo/dsdna/d.fluctmatch/bigtraj_fluctmatch/1500_2000/result/pairtypes_k_b0_cutoff_5.00.csv\n",
      "Reading data from: /home/user/workfolder/g4dna_protocol_demo/dsdna/d.fluctmatch/bigtraj_fluctmatch/1750_2250/result/pairtypes_k_b0_cutoff_5.00.csv\n",
      "Reading data from: /home/user/workfolder/g4dna_protocol_demo/dsdna/d.fluctmatch/bigtraj_fluctmatch/2000_2500/result/pairtypes_k_b0_cutoff_5.00.csv\n",
      "Reading data from: /home/user/workfolder/g4dna_protocol_demo/dsdna/d.fluctmatch/bigtraj_fluctmatch/2250_2750/result/pairtypes_k_b0_cutoff_5.00.csv\n",
      "Reading data from: /home/user/workfolder/g4dna_protocol_demo/dsdna/d.fluctmatch/bigtraj_fluctmatch/2500_3000/result/pairtypes_k_b0_cutoff_5.00.csv\n",
      "Reading data from: /home/user/workfolder/g4dna_protocol_demo/dsdna/d.fluctmatch/bigtraj_fluctmatch/2750_3250/result/pairtypes_k_b0_cutoff_5.00.csv\n"
     ]
    },
    {
     "name": "stderr",
     "output_type": "stream",
     "text": [
      "/home/user/anaconda3/envs/fluctmatch/lib/python3.8/site-packages/MDAnalysis/topology/guessers.py:146: UserWarning: Failed to guess the mass for the following atom types: A\n",
      "  warnings.warn(\"Failed to guess the mass for the following atom types: {}\".format(atom_type))\n",
      "/home/user/anaconda3/envs/fluctmatch/lib/python3.8/site-packages/MDAnalysis/topology/guessers.py:146: UserWarning: Failed to guess the mass for the following atom types: A\n",
      "  warnings.warn(\"Failed to guess the mass for the following atom types: {}\".format(atom_type))\n",
      "/home/user/anaconda3/envs/fluctmatch/lib/python3.8/site-packages/MDAnalysis/topology/guessers.py:146: UserWarning: Failed to guess the mass for the following atom types: A\n",
      "  warnings.warn(\"Failed to guess the mass for the following atom types: {}\".format(atom_type))\n",
      "/home/user/anaconda3/envs/fluctmatch/lib/python3.8/site-packages/MDAnalysis/topology/guessers.py:146: UserWarning: Failed to guess the mass for the following atom types: A\n",
      "  warnings.warn(\"Failed to guess the mass for the following atom types: {}\".format(atom_type))\n",
      "/home/user/anaconda3/envs/fluctmatch/lib/python3.8/site-packages/MDAnalysis/topology/guessers.py:146: UserWarning: Failed to guess the mass for the following atom types: A\n",
      "  warnings.warn(\"Failed to guess the mass for the following atom types: {}\".format(atom_type))\n",
      "/home/user/anaconda3/envs/fluctmatch/lib/python3.8/site-packages/MDAnalysis/topology/guessers.py:146: UserWarning: Failed to guess the mass for the following atom types: A\n",
      "  warnings.warn(\"Failed to guess the mass for the following atom types: {}\".format(atom_type))\n",
      "/home/user/anaconda3/envs/fluctmatch/lib/python3.8/site-packages/MDAnalysis/topology/guessers.py:146: UserWarning: Failed to guess the mass for the following atom types: A\n",
      "  warnings.warn(\"Failed to guess the mass for the following atom types: {}\".format(atom_type))\n"
     ]
    },
    {
     "name": "stdout",
     "output_type": "stream",
     "text": [
      "Reading data from: /home/user/workfolder/g4dna_protocol_demo/dsdna/d.fluctmatch/bigtraj_fluctmatch/3000_3500/result/pairtypes_k_b0_cutoff_5.00.csv\n",
      "Reading data from: /home/user/workfolder/g4dna_protocol_demo/dsdna/d.fluctmatch/bigtraj_fluctmatch/3250_3750/result/pairtypes_k_b0_cutoff_5.00.csv\n",
      "Reading data from: /home/user/workfolder/g4dna_protocol_demo/dsdna/d.fluctmatch/bigtraj_fluctmatch/3500_4000/result/pairtypes_k_b0_cutoff_5.00.csv\n",
      "Reading data from: /home/user/workfolder/g4dna_protocol_demo/dsdna/d.fluctmatch/bigtraj_fluctmatch/3750_4250/result/pairtypes_k_b0_cutoff_5.00.csv\n",
      "Reading data from: /home/user/workfolder/g4dna_protocol_demo/dsdna/d.fluctmatch/bigtraj_fluctmatch/4000_4500/result/pairtypes_k_b0_cutoff_5.00.csv\n",
      "Reading data from: /home/user/workfolder/g4dna_protocol_demo/dsdna/d.fluctmatch/bigtraj_fluctmatch/4250_4750/result/pairtypes_k_b0_cutoff_5.00.csv\n"
     ]
    },
    {
     "name": "stderr",
     "output_type": "stream",
     "text": [
      "/home/user/anaconda3/envs/fluctmatch/lib/python3.8/site-packages/MDAnalysis/topology/guessers.py:146: UserWarning: Failed to guess the mass for the following atom types: A\n",
      "  warnings.warn(\"Failed to guess the mass for the following atom types: {}\".format(atom_type))\n",
      "/home/user/anaconda3/envs/fluctmatch/lib/python3.8/site-packages/MDAnalysis/topology/guessers.py:146: UserWarning: Failed to guess the mass for the following atom types: A\n",
      "  warnings.warn(\"Failed to guess the mass for the following atom types: {}\".format(atom_type))\n",
      "/home/user/anaconda3/envs/fluctmatch/lib/python3.8/site-packages/MDAnalysis/topology/guessers.py:146: UserWarning: Failed to guess the mass for the following atom types: A\n",
      "  warnings.warn(\"Failed to guess the mass for the following atom types: {}\".format(atom_type))\n",
      "/home/user/anaconda3/envs/fluctmatch/lib/python3.8/site-packages/MDAnalysis/topology/guessers.py:146: UserWarning: Failed to guess the mass for the following atom types: A\n",
      "  warnings.warn(\"Failed to guess the mass for the following atom types: {}\".format(atom_type))\n",
      "/home/user/anaconda3/envs/fluctmatch/lib/python3.8/site-packages/MDAnalysis/topology/guessers.py:146: UserWarning: Failed to guess the mass for the following atom types: A\n",
      "  warnings.warn(\"Failed to guess the mass for the following atom types: {}\".format(atom_type))\n",
      "/home/user/anaconda3/envs/fluctmatch/lib/python3.8/site-packages/MDAnalysis/topology/guessers.py:146: UserWarning: Failed to guess the mass for the following atom types: A\n",
      "  warnings.warn(\"Failed to guess the mass for the following atom types: {}\".format(atom_type))\n"
     ]
    },
    {
     "name": "stdout",
     "output_type": "stream",
     "text": [
      "Reading data from: /home/user/workfolder/g4dna_protocol_demo/dsdna/d.fluctmatch/bigtraj_fluctmatch/4500_5000/result/pairtypes_k_b0_cutoff_5.00.csv\n",
      "Reading data from: /home/user/workfolder/g4dna_protocol_demo/dsdna/d.fluctmatch/bigtraj_fluctmatch/0000_5000/result/pairtypes_k_b0_cutoff_5.00.csv\n",
      "Reading data from: /home/user/workfolder/g4dna_protocol_demo/dsdna/d.fluctmatch/bigtraj_fluctmatch/0000_0500/result/pairtypes_k_b0_cutoff_5.00.csv\n",
      "Reading data from: /home/user/workfolder/g4dna_protocol_demo/dsdna/d.fluctmatch/bigtraj_fluctmatch/0250_0750/result/pairtypes_k_b0_cutoff_5.00.csv\n",
      "Reading data from: /home/user/workfolder/g4dna_protocol_demo/dsdna/d.fluctmatch/bigtraj_fluctmatch/0500_1000/result/pairtypes_k_b0_cutoff_5.00.csv\n",
      "Reading data from: /home/user/workfolder/g4dna_protocol_demo/dsdna/d.fluctmatch/bigtraj_fluctmatch/0750_1250/result/pairtypes_k_b0_cutoff_5.00.csv\n",
      "Reading data from: /home/user/workfolder/g4dna_protocol_demo/dsdna/d.fluctmatch/bigtraj_fluctmatch/1000_1500/result/pairtypes_k_b0_cutoff_5.00.csv\n"
     ]
    },
    {
     "name": "stderr",
     "output_type": "stream",
     "text": [
      "/home/user/anaconda3/envs/fluctmatch/lib/python3.8/site-packages/MDAnalysis/topology/guessers.py:146: UserWarning: Failed to guess the mass for the following atom types: A\n",
      "  warnings.warn(\"Failed to guess the mass for the following atom types: {}\".format(atom_type))\n",
      "/home/user/anaconda3/envs/fluctmatch/lib/python3.8/site-packages/MDAnalysis/topology/guessers.py:146: UserWarning: Failed to guess the mass for the following atom types: A\n",
      "  warnings.warn(\"Failed to guess the mass for the following atom types: {}\".format(atom_type))\n",
      "/home/user/anaconda3/envs/fluctmatch/lib/python3.8/site-packages/MDAnalysis/topology/guessers.py:146: UserWarning: Failed to guess the mass for the following atom types: A\n",
      "  warnings.warn(\"Failed to guess the mass for the following atom types: {}\".format(atom_type))\n",
      "/home/user/anaconda3/envs/fluctmatch/lib/python3.8/site-packages/MDAnalysis/topology/guessers.py:146: UserWarning: Failed to guess the mass for the following atom types: A\n",
      "  warnings.warn(\"Failed to guess the mass for the following atom types: {}\".format(atom_type))\n",
      "/home/user/anaconda3/envs/fluctmatch/lib/python3.8/site-packages/MDAnalysis/topology/guessers.py:146: UserWarning: Failed to guess the mass for the following atom types: A\n",
      "  warnings.warn(\"Failed to guess the mass for the following atom types: {}\".format(atom_type))\n",
      "/home/user/anaconda3/envs/fluctmatch/lib/python3.8/site-packages/MDAnalysis/topology/guessers.py:146: UserWarning: Failed to guess the mass for the following atom types: A\n",
      "  warnings.warn(\"Failed to guess the mass for the following atom types: {}\".format(atom_type))\n",
      "/home/user/anaconda3/envs/fluctmatch/lib/python3.8/site-packages/MDAnalysis/topology/guessers.py:146: UserWarning: Failed to guess the mass for the following atom types: A\n",
      "  warnings.warn(\"Failed to guess the mass for the following atom types: {}\".format(atom_type))\n",
      "/home/user/anaconda3/envs/fluctmatch/lib/python3.8/site-packages/MDAnalysis/topology/guessers.py:146: UserWarning: Failed to guess the mass for the following atom types: A\n",
      "  warnings.warn(\"Failed to guess the mass for the following atom types: {}\".format(atom_type))\n",
      "/home/user/anaconda3/envs/fluctmatch/lib/python3.8/site-packages/MDAnalysis/topology/guessers.py:146: UserWarning: Failed to guess the mass for the following atom types: A\n",
      "  warnings.warn(\"Failed to guess the mass for the following atom types: {}\".format(atom_type))\n",
      "/home/user/anaconda3/envs/fluctmatch/lib/python3.8/site-packages/MDAnalysis/topology/guessers.py:146: UserWarning: Failed to guess the mass for the following atom types: A\n",
      "  warnings.warn(\"Failed to guess the mass for the following atom types: {}\".format(atom_type))\n",
      "/home/user/anaconda3/envs/fluctmatch/lib/python3.8/site-packages/MDAnalysis/topology/guessers.py:146: UserWarning: Failed to guess the mass for the following atom types: A\n",
      "  warnings.warn(\"Failed to guess the mass for the following atom types: {}\".format(atom_type))\n"
     ]
    },
    {
     "name": "stdout",
     "output_type": "stream",
     "text": [
      "Reading data from: /home/user/workfolder/g4dna_protocol_demo/dsdna/d.fluctmatch/bigtraj_fluctmatch/1250_1750/result/pairtypes_k_b0_cutoff_5.00.csv\n",
      "Reading data from: /home/user/workfolder/g4dna_protocol_demo/dsdna/d.fluctmatch/bigtraj_fluctmatch/1500_2000/result/pairtypes_k_b0_cutoff_5.00.csv\n",
      "Reading data from: /home/user/workfolder/g4dna_protocol_demo/dsdna/d.fluctmatch/bigtraj_fluctmatch/1750_2250/result/pairtypes_k_b0_cutoff_5.00.csv\n",
      "Reading data from: /home/user/workfolder/g4dna_protocol_demo/dsdna/d.fluctmatch/bigtraj_fluctmatch/2000_2500/result/pairtypes_k_b0_cutoff_5.00.csv\n",
      "Reading data from: /home/user/workfolder/g4dna_protocol_demo/dsdna/d.fluctmatch/bigtraj_fluctmatch/2250_2750/result/pairtypes_k_b0_cutoff_5.00.csv\n",
      "Reading data from: /home/user/workfolder/g4dna_protocol_demo/dsdna/d.fluctmatch/bigtraj_fluctmatch/2500_3000/result/pairtypes_k_b0_cutoff_5.00.csv\n",
      "Reading data from: /home/user/workfolder/g4dna_protocol_demo/dsdna/d.fluctmatch/bigtraj_fluctmatch/2750_3250/result/pairtypes_k_b0_cutoff_5.00.csv\n",
      "Reading data from: /home/user/workfolder/g4dna_protocol_demo/dsdna/d.fluctmatch/bigtraj_fluctmatch/3000_3500/result/pairtypes_k_b0_cutoff_5.00.csv\n",
      "Reading data from: /home/user/workfolder/g4dna_protocol_demo/dsdna/d.fluctmatch/bigtraj_fluctmatch/3250_3750/result/pairtypes_k_b0_cutoff_5.00.csv\n",
      "Reading data from: /home/user/workfolder/g4dna_protocol_demo/dsdna/d.fluctmatch/bigtraj_fluctmatch/3500_4000/result/pairtypes_k_b0_cutoff_5.00.csv\n",
      "Reading data from: /home/user/workfolder/g4dna_protocol_demo/dsdna/d.fluctmatch/bigtraj_fluctmatch/3750_4250/result/pairtypes_k_b0_cutoff_5.00.csv\n",
      "Reading data from: /home/user/workfolder/g4dna_protocol_demo/dsdna/d.fluctmatch/bigtraj_fluctmatch/4000_4500/result/pairtypes_k_b0_cutoff_5.00.csv\n"
     ]
    },
    {
     "name": "stderr",
     "output_type": "stream",
     "text": [
      "/home/user/anaconda3/envs/fluctmatch/lib/python3.8/site-packages/MDAnalysis/topology/guessers.py:146: UserWarning: Failed to guess the mass for the following atom types: A\n",
      "  warnings.warn(\"Failed to guess the mass for the following atom types: {}\".format(atom_type))\n",
      "/home/user/anaconda3/envs/fluctmatch/lib/python3.8/site-packages/MDAnalysis/topology/guessers.py:146: UserWarning: Failed to guess the mass for the following atom types: A\n",
      "  warnings.warn(\"Failed to guess the mass for the following atom types: {}\".format(atom_type))\n",
      "/home/user/anaconda3/envs/fluctmatch/lib/python3.8/site-packages/MDAnalysis/topology/guessers.py:146: UserWarning: Failed to guess the mass for the following atom types: A\n",
      "  warnings.warn(\"Failed to guess the mass for the following atom types: {}\".format(atom_type))\n",
      "/home/user/anaconda3/envs/fluctmatch/lib/python3.8/site-packages/MDAnalysis/topology/guessers.py:146: UserWarning: Failed to guess the mass for the following atom types: A\n",
      "  warnings.warn(\"Failed to guess the mass for the following atom types: {}\".format(atom_type))\n",
      "/home/user/anaconda3/envs/fluctmatch/lib/python3.8/site-packages/MDAnalysis/topology/guessers.py:146: UserWarning: Failed to guess the mass for the following atom types: A\n",
      "  warnings.warn(\"Failed to guess the mass for the following atom types: {}\".format(atom_type))\n",
      "/home/user/anaconda3/envs/fluctmatch/lib/python3.8/site-packages/MDAnalysis/topology/guessers.py:146: UserWarning: Failed to guess the mass for the following atom types: A\n",
      "  warnings.warn(\"Failed to guess the mass for the following atom types: {}\".format(atom_type))\n"
     ]
    },
    {
     "name": "stdout",
     "output_type": "stream",
     "text": [
      "Reading data from: /home/user/workfolder/g4dna_protocol_demo/dsdna/d.fluctmatch/bigtraj_fluctmatch/4250_4750/result/pairtypes_k_b0_cutoff_5.00.csv\n",
      "Reading data from: /home/user/workfolder/g4dna_protocol_demo/dsdna/d.fluctmatch/bigtraj_fluctmatch/4500_5000/result/pairtypes_k_b0_cutoff_5.00.csv\n",
      "Reading data from: /home/user/workfolder/g4dna_protocol_demo/dsdna/d.fluctmatch/bigtraj_fluctmatch/0000_5000/result/pairtypes_k_b0_cutoff_5.00.csv\n"
     ]
    },
    {
     "name": "stderr",
     "output_type": "stream",
     "text": [
      "/home/user/anaconda3/envs/fluctmatch/lib/python3.8/site-packages/MDAnalysis/topology/guessers.py:146: UserWarning: Failed to guess the mass for the following atom types: A\n",
      "  warnings.warn(\"Failed to guess the mass for the following atom types: {}\".format(atom_type))\n",
      "/home/user/anaconda3/envs/fluctmatch/lib/python3.8/site-packages/MDAnalysis/topology/guessers.py:146: UserWarning: Failed to guess the mass for the following atom types: A\n",
      "  warnings.warn(\"Failed to guess the mass for the following atom types: {}\".format(atom_type))\n",
      "/home/user/anaconda3/envs/fluctmatch/lib/python3.8/site-packages/MDAnalysis/topology/guessers.py:146: UserWarning: Failed to guess the mass for the following atom types: A\n",
      "  warnings.warn(\"Failed to guess the mass for the following atom types: {}\".format(atom_type))\n"
     ]
    }
   ],
   "source": [
    "s2hs_agent = {}\n",
    "for s in subgroups:\n",
    "    hs_agent = HotSpotAgent(s)\n",
    "    hs_agent.load_systems(system2offical_name)\n",
    "    hs_agent.get_hotspot()\n",
    "    hs_agent.get_df_k_with_hotspots()\n",
    "    s2hs_agent[hs_agent.m_abbr] = hs_agent"
   ]
  },
  {
   "cell_type": "code",
   "execution_count": 8,
   "id": "7513e916-a3d1-4752-b27d-08f5e7d2aa37",
   "metadata": {
    "tags": []
   },
   "outputs": [],
   "source": [
    "## Save Json File\n",
    "dict_hotspot_s = {}\n",
    "for s, hs_agent in s2hs_agent.items():\n",
    "    dict_hotspot_s.update(hs_agent.dict_hotspot)\n",
    "\n",
    "import json, copy\n",
    "with open(f'data/dsdna.json', 'w') as f:\n",
    "        json.dump(dict_hotspot_s, f)"
   ]
  },
  {
   "cell_type": "code",
   "execution_count": 10,
   "id": "af88450d-4f7e-4a37-9286-bfc548cb9a6a",
   "metadata": {
    "tags": []
   },
   "outputs": [
    {
     "data": {
      "text/html": [
       "<div>\n",
       "<style scoped>\n",
       "    .dataframe tbody tr th:only-of-type {\n",
       "        vertical-align: middle;\n",
       "    }\n",
       "\n",
       "    .dataframe tbody tr th {\n",
       "        vertical-align: top;\n",
       "    }\n",
       "\n",
       "    .dataframe thead th {\n",
       "        text-align: right;\n",
       "    }\n",
       "</style>\n",
       "<table border=\"1\" class=\"dataframe\">\n",
       "  <thead>\n",
       "    <tr style=\"text-align: right;\">\n",
       "      <th>subgroup</th>\n",
       "      <th>hb</th>\n",
       "      <th>st</th>\n",
       "      <th>rb</th>\n",
       "      <th>pr0</th>\n",
       "      <th>pr1</th>\n",
       "    </tr>\n",
       "    <tr>\n",
       "      <th>sequence</th>\n",
       "      <th></th>\n",
       "      <th></th>\n",
       "      <th></th>\n",
       "      <th></th>\n",
       "      <th></th>\n",
       "    </tr>\n",
       "  </thead>\n",
       "  <tbody>\n",
       "    <tr>\n",
       "      <th>A1</th>\n",
       "      <td>0.07 ± 0.07</td>\n",
       "      <td>0.34 ± 0.34</td>\n",
       "      <td>8.59 ± 5.86</td>\n",
       "      <td>11.00 ± 3.36</td>\n",
       "      <td>9.52 ± 4.52</td>\n",
       "    </tr>\n",
       "    <tr>\n",
       "      <th>G2</th>\n",
       "      <td>5.65 ± 3.57</td>\n",
       "      <td>2.82 ± 0.28</td>\n",
       "      <td>12.67 ± 0.89</td>\n",
       "      <td>11.74 ± 1.90</td>\n",
       "      <td>5.33 ± 1.16</td>\n",
       "    </tr>\n",
       "    <tr>\n",
       "      <th>G3</th>\n",
       "      <td>8.17 ± 0.59</td>\n",
       "      <td>2.93 ± 0.11</td>\n",
       "      <td>11.52 ± 2.93</td>\n",
       "      <td>9.54 ± 1.49</td>\n",
       "      <td>11.09 ± 0.98</td>\n",
       "    </tr>\n",
       "    <tr>\n",
       "      <th>G4</th>\n",
       "      <td>10.19 ± 0.60</td>\n",
       "      <td>4.02 ± 0.09</td>\n",
       "      <td>10.44 ± 0.75</td>\n",
       "      <td>7.09 ± 1.63</td>\n",
       "      <td>10.66 ± 1.26</td>\n",
       "    </tr>\n",
       "    <tr>\n",
       "      <th>T5</th>\n",
       "      <td>4.70 ± 0.21</td>\n",
       "      <td>2.76 ± 0.09</td>\n",
       "      <td>15.24 ± 0.54</td>\n",
       "      <td>7.67 ± 2.92</td>\n",
       "      <td>13.59 ± 0.87</td>\n",
       "    </tr>\n",
       "    <tr>\n",
       "      <th>T6</th>\n",
       "      <td>2.30 ± 0.29</td>\n",
       "      <td>2.18 ± 0.09</td>\n",
       "      <td>13.34 ± 0.80</td>\n",
       "      <td>10.75 ± 1.22</td>\n",
       "      <td>3.95 ± 1.58</td>\n",
       "    </tr>\n",
       "    <tr>\n",
       "      <th>A7</th>\n",
       "      <td>2.80 ± 1.51</td>\n",
       "      <td>3.17 ± 0.12</td>\n",
       "      <td>11.61 ± 1.28</td>\n",
       "      <td>8.99 ± 1.95</td>\n",
       "      <td>3.75 ± 1.10</td>\n",
       "    </tr>\n",
       "    <tr>\n",
       "      <th>G8</th>\n",
       "      <td>9.90 ± 0.40</td>\n",
       "      <td>2.90 ± 0.09</td>\n",
       "      <td>11.03 ± 2.21</td>\n",
       "      <td>10.25 ± 2.22</td>\n",
       "      <td>6.94 ± 1.38</td>\n",
       "    </tr>\n",
       "    <tr>\n",
       "      <th>G9</th>\n",
       "      <td>8.71 ± 1.17</td>\n",
       "      <td>3.03 ± 0.06</td>\n",
       "      <td>9.62 ± 2.32</td>\n",
       "      <td>9.52 ± 2.39</td>\n",
       "      <td>10.47 ± 1.23</td>\n",
       "    </tr>\n",
       "    <tr>\n",
       "      <th>G10</th>\n",
       "      <td>10.47 ± 0.48</td>\n",
       "      <td>3.92 ± 0.13</td>\n",
       "      <td>9.26 ± 1.10</td>\n",
       "      <td>4.85 ± 1.96</td>\n",
       "      <td>11.16 ± 0.90</td>\n",
       "    </tr>\n",
       "    <tr>\n",
       "      <th>T11</th>\n",
       "      <td>4.11 ± 1.46</td>\n",
       "      <td>2.75 ± 0.07</td>\n",
       "      <td>15.70 ± 0.91</td>\n",
       "      <td>8.33 ± 3.39</td>\n",
       "      <td>14.51 ± 0.54</td>\n",
       "    </tr>\n",
       "    <tr>\n",
       "      <th>T12</th>\n",
       "      <td>3.21 ± 1.34</td>\n",
       "      <td>2.22 ± 0.04</td>\n",
       "      <td>13.51 ± 1.07</td>\n",
       "      <td>11.56 ± 1.41</td>\n",
       "      <td>4.55 ± 1.25</td>\n",
       "    </tr>\n",
       "    <tr>\n",
       "      <th>A13</th>\n",
       "      <td>3.40 ± 0.80</td>\n",
       "      <td>3.21 ± 0.09</td>\n",
       "      <td>12.15 ± 1.19</td>\n",
       "      <td>9.32 ± 2.31</td>\n",
       "      <td>3.92 ± 0.77</td>\n",
       "    </tr>\n",
       "    <tr>\n",
       "      <th>G14</th>\n",
       "      <td>9.91 ± 0.29</td>\n",
       "      <td>2.91 ± 0.06</td>\n",
       "      <td>10.91 ± 1.51</td>\n",
       "      <td>11.05 ± 1.50</td>\n",
       "      <td>7.14 ± 1.19</td>\n",
       "    </tr>\n",
       "    <tr>\n",
       "      <th>G15</th>\n",
       "      <td>8.44 ± 1.14</td>\n",
       "      <td>3.06 ± 0.06</td>\n",
       "      <td>10.32 ± 1.32</td>\n",
       "      <td>10.32 ± 1.62</td>\n",
       "      <td>10.88 ± 0.38</td>\n",
       "    </tr>\n",
       "    <tr>\n",
       "      <th>G16</th>\n",
       "      <td>10.12 ± 0.62</td>\n",
       "      <td>4.00 ± 0.09</td>\n",
       "      <td>9.77 ± 1.05</td>\n",
       "      <td>6.48 ± 1.97</td>\n",
       "      <td>11.33 ± 0.93</td>\n",
       "    </tr>\n",
       "    <tr>\n",
       "      <th>T17</th>\n",
       "      <td>4.90 ± 0.19</td>\n",
       "      <td>2.74 ± 0.14</td>\n",
       "      <td>15.78 ± 1.32</td>\n",
       "      <td>7.59 ± 2.44</td>\n",
       "      <td>14.66 ± 1.75</td>\n",
       "    </tr>\n",
       "    <tr>\n",
       "      <th>T18</th>\n",
       "      <td>3.47 ± 1.23</td>\n",
       "      <td>2.13 ± 0.21</td>\n",
       "      <td>13.56 ± 0.75</td>\n",
       "      <td>11.28 ± 1.16</td>\n",
       "      <td>4.52 ± 1.17</td>\n",
       "    </tr>\n",
       "    <tr>\n",
       "      <th>A19</th>\n",
       "      <td>2.51 ± 1.12</td>\n",
       "      <td>2.93 ± 0.71</td>\n",
       "      <td>11.77 ± 2.15</td>\n",
       "      <td>8.74 ± 2.19</td>\n",
       "      <td>3.94 ± 1.10</td>\n",
       "    </tr>\n",
       "    <tr>\n",
       "      <th>G20</th>\n",
       "      <td>8.90 ± 3.16</td>\n",
       "      <td>2.77 ± 0.15</td>\n",
       "      <td>9.89 ± 2.60</td>\n",
       "      <td>9.83 ± 2.78</td>\n",
       "      <td>7.88 ± 0.95</td>\n",
       "    </tr>\n",
       "    <tr>\n",
       "      <th>G21</th>\n",
       "      <td>8.21 ± 2.27</td>\n",
       "      <td>2.34 ± 0.49</td>\n",
       "      <td>11.40 ± 1.80</td>\n",
       "      <td>8.87 ± 1.66</td>\n",
       "      <td>11.48 ± 1.09</td>\n",
       "    </tr>\n",
       "    <tr>\n",
       "      <th>G22</th>\n",
       "      <td>1.30 ± 0.92</td>\n",
       "      <td></td>\n",
       "      <td>10.68 ± 2.05</td>\n",
       "      <td>6.89 ± 2.03</td>\n",
       "      <td></td>\n",
       "    </tr>\n",
       "  </tbody>\n",
       "</table>\n",
       "</div>"
      ],
      "text/plain": [
       "subgroup            hb           st            rb           pr0           pr1\n",
       "sequence                                                                     \n",
       "A1         0.07 ± 0.07  0.34 ± 0.34   8.59 ± 5.86  11.00 ± 3.36   9.52 ± 4.52\n",
       "G2         5.65 ± 3.57  2.82 ± 0.28  12.67 ± 0.89  11.74 ± 1.90   5.33 ± 1.16\n",
       "G3         8.17 ± 0.59  2.93 ± 0.11  11.52 ± 2.93   9.54 ± 1.49  11.09 ± 0.98\n",
       "G4        10.19 ± 0.60  4.02 ± 0.09  10.44 ± 0.75   7.09 ± 1.63  10.66 ± 1.26\n",
       "T5         4.70 ± 0.21  2.76 ± 0.09  15.24 ± 0.54   7.67 ± 2.92  13.59 ± 0.87\n",
       "T6         2.30 ± 0.29  2.18 ± 0.09  13.34 ± 0.80  10.75 ± 1.22   3.95 ± 1.58\n",
       "A7         2.80 ± 1.51  3.17 ± 0.12  11.61 ± 1.28   8.99 ± 1.95   3.75 ± 1.10\n",
       "G8         9.90 ± 0.40  2.90 ± 0.09  11.03 ± 2.21  10.25 ± 2.22   6.94 ± 1.38\n",
       "G9         8.71 ± 1.17  3.03 ± 0.06   9.62 ± 2.32   9.52 ± 2.39  10.47 ± 1.23\n",
       "G10       10.47 ± 0.48  3.92 ± 0.13   9.26 ± 1.10   4.85 ± 1.96  11.16 ± 0.90\n",
       "T11        4.11 ± 1.46  2.75 ± 0.07  15.70 ± 0.91   8.33 ± 3.39  14.51 ± 0.54\n",
       "T12        3.21 ± 1.34  2.22 ± 0.04  13.51 ± 1.07  11.56 ± 1.41   4.55 ± 1.25\n",
       "A13        3.40 ± 0.80  3.21 ± 0.09  12.15 ± 1.19   9.32 ± 2.31   3.92 ± 0.77\n",
       "G14        9.91 ± 0.29  2.91 ± 0.06  10.91 ± 1.51  11.05 ± 1.50   7.14 ± 1.19\n",
       "G15        8.44 ± 1.14  3.06 ± 0.06  10.32 ± 1.32  10.32 ± 1.62  10.88 ± 0.38\n",
       "G16       10.12 ± 0.62  4.00 ± 0.09   9.77 ± 1.05   6.48 ± 1.97  11.33 ± 0.93\n",
       "T17        4.90 ± 0.19  2.74 ± 0.14  15.78 ± 1.32   7.59 ± 2.44  14.66 ± 1.75\n",
       "T18        3.47 ± 1.23  2.13 ± 0.21  13.56 ± 0.75  11.28 ± 1.16   4.52 ± 1.17\n",
       "A19        2.51 ± 1.12  2.93 ± 0.71  11.77 ± 2.15   8.74 ± 2.19   3.94 ± 1.10\n",
       "G20        8.90 ± 3.16  2.77 ± 0.15   9.89 ± 2.60   9.83 ± 2.78   7.88 ± 0.95\n",
       "G21        8.21 ± 2.27  2.34 ± 0.49  11.40 ± 1.80   8.87 ± 1.66  11.48 ± 1.09\n",
       "G22        1.30 ± 0.92               10.68 ± 2.05   6.89 ± 2.03              "
      ]
     },
     "execution_count": 10,
     "metadata": {},
     "output_type": "execute_result"
    }
   ],
   "source": [
    "s2df_ks_position = {s:hs_agent.df_k_with_hotspots for s, hs_agent in s2hs_agent.items()}\n",
    "pd.concat(list(s2df_ks_position.values()), axis=1).fillna('')"
   ]
  },
  {
   "cell_type": "code",
   "execution_count": 11,
   "id": "3c5cbab5-7260-4d2e-952f-7de59b838731",
   "metadata": {
    "tags": []
   },
   "outputs": [],
   "source": [
    "s2df_ks_position_avg = {s:hs_agent.get_df_k_with_hotspots(k_value='k_avg', is_return=True) for s, hs_agent in s2hs_agent.items()}\n",
    "pd.concat(list(s2df_ks_position_avg.values()), axis=1).fillna('').to_csv('data/dsdna_avg.csv')"
   ]
  },
  {
   "cell_type": "code",
   "execution_count": 12,
   "id": "6e67222d-c47e-4fa8-841f-14d15c2bbff4",
   "metadata": {
    "tags": []
   },
   "outputs": [],
   "source": [
    "s2df_ks_position_std = {s:hs_agent.get_df_k_with_hotspots(k_value='k_std', is_return=True) for s, hs_agent in s2hs_agent.items()}\n",
    "pd.concat(list(s2df_ks_position_std.values()), axis=1).fillna('').to_csv('data/dsdna_std.csv')"
   ]
  },
  {
   "cell_type": "markdown",
   "id": "c5eb899c-d8d6-462c-98f7-65dfe98390e9",
   "metadata": {},
   "source": [
    "### V.S. Plot"
   ]
  },
  {
   "cell_type": "code",
   "execution_count": 13,
   "id": "e7d60acc-07d7-4e65-a899-27c4bf4e0ca2",
   "metadata": {
    "tags": []
   },
   "outputs": [],
   "source": [
    "from smsl.plotAgent import PlotAgent, palette\n",
    "from smsl.plotAgent import font_label, font_xylabel, font_xyticks"
   ]
  },
  {
   "cell_type": "code",
   "execution_count": 14,
   "id": "db5fdd06-0009-4b9a-b525-5f6e859cc8fb",
   "metadata": {
    "tags": []
   },
   "outputs": [],
   "source": [
    "import pandas as pd\n",
    "import numpy as np\n",
    "import matplotlib.pyplot as plt\n",
    "from matplotlib.gridspec import GridSpec\n",
    "import json\n",
    "from IPython.display import JSON"
   ]
  },
  {
   "cell_type": "code",
   "execution_count": 15,
   "id": "10bed8d4-8ce6-496f-afde-272b14f67aba",
   "metadata": {
    "tags": []
   },
   "outputs": [],
   "source": [
    "## declare subgroups\n",
    "s2index_col = {\n",
    "'hb' : 0,\n",
    "'st' : 0,\n",
    "'rb' : 0,\n",
    "'pr0': 0,\n",
    "'pr1': 0,\n",
    "}\n",
    "subgroups = list(s2index_col.keys())"
   ]
  },
  {
   "cell_type": "code",
   "execution_count": 21,
   "id": "6e111186-54b4-4161-ac8f-b61140ececb3",
   "metadata": {
    "tags": []
   },
   "outputs": [],
   "source": [
    "plt.rcParams['svg.fonttype'] = 'none' ## set the text in svg file as <text> instead of <path>\n",
    "\n",
    "def vsplot(system2offical_name, is_error_bar=True):\n",
    "    capsize, elinewidth = (3, None) if is_error_bar else (0, 0)\n",
    "    fig = plt.figure(figsize=[8.0, 9.5], dpi=100)\n",
    "    gs = GridSpec(34, 18, figure=fig)\n",
    "\n",
    "    # Create subplots\n",
    "    ax_hb  = fig.add_subplot(gs[ 0: 6, 1:18])\n",
    "    ax_st  = fig.add_subplot(gs[ 7:13, 1:18])\n",
    "    ax_rb  = fig.add_subplot(gs[14:20, 1:18])\n",
    "    ax_pr0 = fig.add_subplot(gs[21:27, 1:18])\n",
    "    ax_pr1 = fig.add_subplot(gs[28:34, 1:18])\n",
    "\n",
    "    # Plotting for ax_hb, ax_st, ax_rb, ax_pr0, and ax_pr1\n",
    "    for s, ax in zip(subgroups, [ax_hb, ax_st, ax_rb, ax_pr0, ax_pr1]):\n",
    "        for shift, (system, system_offical_name) in enumerate(system2offical_name.items()):\n",
    "            df_loc_avg = s2df_ks_position_avg[s][s]\n",
    "            df_loc_std = s2df_ks_position_std[s][s]\n",
    "            k_flatten_avg = df_loc_avg.to_numpy().flatten()\n",
    "            k_flatten_std = df_loc_std.to_numpy().flatten()\n",
    "            ax.errorbar(np.arange(len(k_flatten_avg)), k_flatten_avg, yerr=k_flatten_std, fmt='o-', markersize=4, capsize=capsize, elinewidth=elinewidth, label=system)\n",
    "        ax.set_xticks(range(len(k_flatten_avg)), df_loc_avg.keys(), rotation=0)\n",
    "        ax.set_xticklabels(df_loc_avg.keys(), fontdict=font_xyticks)\n",
    "        ax.set_ylabel(r'$k^{\\rm{'+s+'}}$', fontdict=font_label, labelpad=0)\n",
    "        ax.set_xlim(-0.8, len(k_flatten_avg)-0.2)\n",
    "        ylim_max = (s2df_ks_position_avg[s]+s2df_ks_position_std[s]).loc[:].to_numpy().flatten().max() * 1.1\n",
    "        ax.set_ylim(-0.5, ylim_max)\n",
    "\n",
    "    # Add legend\n",
    "    ax_hb.legend(loc='upper right', bbox_to_anchor=(1.02, 1.33), ncol=len(system2offical_name), frameon=False, prop=font_label)\n",
    "    fig.subplots_adjust(hspace=1.0)\n",
    "    fig.text(0.74, 0.927, r'k in kcal mol$^{-1}$ $\\rm{\\AA}^{-2}$')\n",
    "    plt.show()\n",
    "    return fig"
   ]
  },
  {
   "cell_type": "code",
   "execution_count": 22,
   "id": "19133b8c-9c15-4976-9c90-866c786b9c79",
   "metadata": {
    "tags": []
   },
   "outputs": [
    {
     "data": {
      "image/png": "[encoded data removed]",
      "text/plain": [
       "<Figure size 800x950 with 5 Axes>"
      ]
     },
     "metadata": {},
     "output_type": "display_data"
    }
   ],
   "source": [
    "fig = vsplot(system2offical_name, is_error_bar=False)\n",
    "fig.savefig('pic/ks_dsdna.svg', transparent=True)"
   ]
  },
  {
   "cell_type": "code",
   "execution_count": null,
   "id": "9011f0bf-64d3-414c-a8f6-2700e54ba4fc",
   "metadata": {},
   "outputs": [],
   "source": []
  }
 ],
 "metadata": {
  "kernelspec": {
   "display_name": "Python [conda env:fluctmatch]",
   "language": "python",
   "name": "conda-env-fluctmatch-py"
  },
  "language_info": {
   "codemirror_mode": {
    "name": "ipython",
    "version": 3
   },
   "file_extension": ".py",
   "mimetype": "text/x-python",
   "name": "python",
   "nbconvert_exporter": "python",
   "pygments_lexer": "ipython3",
   "version": "3.8.0"
  }
 },
 "nbformat": 4,
 "nbformat_minor": 5
}
