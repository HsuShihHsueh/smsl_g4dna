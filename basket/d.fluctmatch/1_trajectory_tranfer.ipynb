{
 "cells": [
  {
   "cell_type": "code",
   "execution_count": null,
   "id": "bcceaffe-d261-43cc-9d08-66c4cc9a1785",
   "metadata": {
    "tags": []
   },
   "outputs": [],
   "source": [
    "import sys\n",
    "sys.path.append(\"../../smsl\")"
   ]
  },
  {
   "cell_type": "code",
   "execution_count": null,
   "id": "7e280ece-94cf-4045-917b-85f81cda9513",
   "metadata": {
    "tags": []
   },
   "outputs": [],
   "source": [
    "from smsl.trajTransfer import MDAgent"
   ]
  },
  {
   "cell_type": "markdown",
   "id": "ae4633b5-b7e8-4258-b056-18603b480155",
   "metadata": {},
   "source": [
    "### Part0 Copy PDB and XTC data to this Folder"
   ]
  },
  {
   "cell_type": "code",
   "execution_count": null,
   "id": "d5b590bd-2038-4452-8e7e-95f15094f41a",
   "metadata": {
    "tags": []
   },
   "outputs": [],
   "source": [
    "from glob import glob"
   ]
  },
  {
   "cell_type": "code",
   "execution_count": null,
   "id": "3e1f0a74-5ec5-4e26-883f-ce3ac24a15fc",
   "metadata": {
    "tags": []
   },
   "outputs": [],
   "source": [
    "trajectory_data_folder = '../c.gromacs.run_md/3.trajectory_data/'\n",
    "pdbFile = f'{trajectory_data_folder}/*npt2.pdb'\n",
    "xtcFile = f'{trajectory_data_folder}/*5us500kf.xtc'\n",
    "if (len(glob(pdbFile))==0 or len(glob(xtcFile)))==0:\n",
    "    !cp {pdbFile} {xtcFile} ./"
   ]
  },
  {
   "cell_type": "markdown",
   "id": "691e4fce-0cd8-426c-bcc1-e0f075933dfc",
   "metadata": {
    "tags": []
   },
   "source": [
    "### Part1 Modify pdb info"
   ]
  },
  {
   "cell_type": "code",
   "execution_count": null,
   "id": "9fa450fe-78d5-4353-bb01-411f30e2cbdb",
   "metadata": {
    "tags": []
   },
   "outputs": [],
   "source": [
    "seg_select = {\n",
    "'STRAND1': 'nucleic',\n",
    "'STRAND2': '(element K or element Na or element Li or element Ca)',\n",
    "'STRAND3': 'not nucleic and not (element K or element Na or element Li or element Ca)',\n",
    "}"
   ]
  },
  {
   "cell_type": "code",
   "execution_count": null,
   "id": "f48db463-5b87-4f8d-bd36-9feea849e803",
   "metadata": {
    "tags": []
   },
   "outputs": [],
   "source": [
    "md_agent = MDAgent()"
   ]
  },
  {
   "cell_type": "code",
   "execution_count": null,
   "id": "357bddc1-9c61-45df-920d-f5c73b4a2af7",
   "metadata": {
    "tags": []
   },
   "outputs": [],
   "source": [
    "md_agent.load_MDUniverse()"
   ]
  },
  {
   "cell_type": "code",
   "execution_count": null,
   "id": "e02525f3-e4c2-47c8-8d00-8765ec41497e",
   "metadata": {
    "tags": []
   },
   "outputs": [],
   "source": [
    "md_agent.modify_MDUniverse(seg_select)"
   ]
  },
  {
   "cell_type": "code",
   "execution_count": null,
   "id": "488012c5-c971-41bb-b1fe-f914e5f885c5",
   "metadata": {
    "tags": []
   },
   "outputs": [],
   "source": [
    "md_agent.get_nohydrogen_ag()"
   ]
  },
  {
   "cell_type": "markdown",
   "id": "aad51304-3666-4ec9-9652-ed1e486fc930",
   "metadata": {},
   "source": [
    "### Part2: Writing Data to CHARMM format"
   ]
  },
  {
   "cell_type": "code",
   "execution_count": null,
   "id": "dd038a75-6311-43bb-8309-1dece9296a5c",
   "metadata": {
    "tags": []
   },
   "outputs": [],
   "source": [
    "md_agent.load_TimeAgent()"
   ]
  },
  {
   "cell_type": "code",
   "execution_count": null,
   "id": "ddfd77b5-d7f5-4315-bf98-47d61eb84d82",
   "metadata": {
    "tags": []
   },
   "outputs": [],
   "source": [
    "md_agent.write_all_crd_and_dcd_file()"
   ]
  },
  {
   "cell_type": "code",
   "execution_count": null,
   "id": "87d26bf7-95a6-472b-908e-c02cfad0d765",
   "metadata": {},
   "outputs": [],
   "source": []
  }
 ],
 "metadata": {
  "kernelspec": {
   "display_name": "Python [conda env:fluctmatch]",
   "language": "python",
   "name": "conda-env-fluctmatch-py"
  },
  "language_info": {
   "codemirror_mode": {
    "name": "ipython",
    "version": 3
   },
   "file_extension": ".py",
   "mimetype": "text/x-python",
   "name": "python",
   "nbconvert_exporter": "python",
   "pygments_lexer": "ipython3",
   "version": "3.8.0"
  }
 },
 "nbformat": 4,
 "nbformat_minor": 5
}
