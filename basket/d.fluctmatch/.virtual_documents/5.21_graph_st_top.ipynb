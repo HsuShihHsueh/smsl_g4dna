import sys
sys.path.append("../../smsl")


from smsl.graphBigtraj import BigTrajGraphAgent
from smsl.graph import ST_TOP

import warnings; warnings.filterwarnings("ignore")
import numpy as np
import pandas as pd


## 見論文表B.7
n_mode=30         ## $\alpha_c$
vlv_threshold=0.1 ## $\nu_{\text{c}}$
pe_threshold=0.6  ## $\kappa_{\text{c}}$


b_agent = BigTrajGraphAgent(ST_TOP)


b_agent.spectral_decomposition()
b_agent.set_mean_r_alpha_array()
b_agent.t_agent.mean.GetEigenvectorEigenvectorT()


## 論文 圖5.21(A)
b_agent.plot_prominent_modes_and_identify_atom_with_interactive(strandid=None)


b_agent.plot_prominent_modes_and_get_identify_pair_with_interactive(\
        strandid=None, vlv_threshold=vlv_threshold, pe_threshold=pe_threshold, filter=True)


b_agent.t_agent.mean.get_modes_info(strandid=None, n_mode=n_mode, vlv_threshold=vlv_threshold, pe_threshold=pe_threshold, is_return=False)


## 論文 圖5.22(C)
b_agent.t_agent.mean.display_df_info_by_resid(save=True)


hotspot_pair_num = 8
## Summaries aiaj
atom_pairs_all_resid = {}
for gstrand_layer, modes_info in b_agent.t_agent.mean.df_info_by_resid.iterrows():
    if not 'ss_st' in gstrand_layer: continue
    atom_pairs_all_resid.setdefault(gstrand_layer, [])
    for mode_info in modes_info:
        atom_pairs = mode_info.split()
        atom_pairs = atom_pairs[2:]
        atom_pairs = [atom_pair.split('(')[0] for atom_pair in atom_pairs]
        atom_pairs_all_resid[gstrand_layer] += atom_pairs
## count aiaj and select highest 7 aiaj as hotspot pair
atom_pairs_count = list(atom_pairs_all_resid.values())
atom_pairs_count = [a for ap in atom_pairs_count for a in ap]
atom_pairs_count = np.unique(atom_pairs_count, return_counts=True)
atom_pairs_count = {atom_pair: count for atom_pair, count in zip(atom_pairs_count[0], atom_pairs_count[1])}
atom_pairs_count = dict(sorted(atom_pairs_count.items(), key=lambda x:x[1], reverse=True))
df_hotspot_pairs = pd.DataFrame([atom_pairs_count.keys(),atom_pairs_count.values()], index=[r'$\rm{a}_{i}\rm{a}_{j}$','count']).T
df_hotspot_pairs.index = range(1, len(df_hotspot_pairs)+1)
df_hotspot_pairs['hotspot'] = ''
df_hotspot_pairs.loc[df_hotspot_pairs.index[:hotspot_pair_num], 'hotspot'] = 'v'


df_hotspot_pairs


## 確認機械熱點原子對的機械強度k_ij是否較高
b_agent.t_agent.mean.df_m.sort_values(by='k', ascending=False)



