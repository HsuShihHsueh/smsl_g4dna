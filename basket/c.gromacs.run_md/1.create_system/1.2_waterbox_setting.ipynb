{
 "cells": [
  {
   "cell_type": "markdown",
   "id": "d90e9ebd-1d60-45ed-890f-bf82c07114d5",
   "metadata": {
    "tags": []
   },
   "source": [
    "in [`gmx editconf`](https://manual.gromacs.org/current/onlinehelp/gmx-editconf.html) command<br>\n",
    "`-d` arg determined the Distance between the solute and the box<br>\n",
    "we want fix the system atom number by adjust the `-d` value<br>"
   ]
  },
  {
   "cell_type": "code",
   "execution_count": 1,
   "id": "071cd483-6a83-4f92-8964-c25b4d832838",
   "metadata": {
    "tags": []
   },
   "outputs": [],
   "source": [
    "import numpy as np\n",
    "import matplotlib.pyplot as plt\n",
    "from tqdm import tqdm"
   ]
  },
  {
   "cell_type": "code",
   "execution_count": 2,
   "id": "90edb62d-c987-4e53-8aad-fd1ab740674c",
   "metadata": {
    "tags": []
   },
   "outputs": [],
   "source": [
    "pdbid = \"143d\""
   ]
  },
  {
   "cell_type": "code",
   "execution_count": 3,
   "id": "42ead99e-06e3-47fe-87e0-596eda93c506",
   "metadata": {
    "tags": []
   },
   "outputs": [],
   "source": [
    "def get_n_sol(d):\n",
    "    !cp topol.top.bak1 topol.top\n",
    "    !gmx editconf -f {pdbid}.gro.pdb -o {pdbid}_dode.pdb -c yes -d {d} -bt dodecahedron > /dev/null 2>&1\n",
    "    !gmx solvate -cp {pdbid}_dode.pdb -cs spc216.gro -o {pdbid}_solv.pdb -p topol.top > /dev/null 2>&1\n",
    "    sol = !grep \"SOL\" topol.top\n",
    "    n_sol = int(sol[0].split()[1])\n",
    "    return n_sol"
   ]
  },
  {
   "cell_type": "code",
   "execution_count": 4,
   "id": "04813c44-d412-4120-a60f-ca4a1a9396ab",
   "metadata": {
    "tags": []
   },
   "outputs": [],
   "source": [
    "def get_box(d):\n",
    "    !cp topol.top.bak1 topol.top\n",
    "    !gmx editconf -f {pdbid}.gro.pdb -o {pdbid}_dode.pdb -c yes -d {d} -bt dodecahedron >editconf.txt 2>&1\n",
    "    volume = !grep \"new box volume\" editconf.txt\n",
    "    volume = float(volume[0].split()[4])\n",
    "    return volume"
   ]
  },
  {
   "cell_type": "code",
   "execution_count": 5,
   "id": "20ac06ba-352a-4ae9-a470-0f979b1b963a",
   "metadata": {
    "tags": []
   },
   "outputs": [],
   "source": [
    "def get_n_atoms(d):\n",
    "    !cp topol.top.bak1 topol.top\n",
    "    !gmx editconf -f {pdbid}.gro.pdb -o {pdbid}_dode.pdb -c yes -d {d} -bt dodecahedron > /dev/null 2>&1\n",
    "    !gmx solvate -cp {pdbid}_dode.pdb -cs spc216.gro -o {pdbid}_solv.pdb -p topol.top >solvate.txt 2>&1\n",
    "    atoms = !grep \"Solvent box contains\" solvate.txt\n",
    "    n_atoms = int(atoms[0].split()[3])\n",
    "    return n_atoms"
   ]
  },
  {
   "cell_type": "markdown",
   "id": "29db112d-9c08-4dac-805f-2af976575c0e",
   "metadata": {},
   "source": [
    "### Plot d v.s. Volume (linear)"
   ]
  },
  {
   "cell_type": "code",
   "execution_count": null,
   "id": "cc036f40-532b-4af9-ac50-e23354ead099",
   "metadata": {
    "tags": []
   },
   "outputs": [],
   "source": [
    "!rm \\#topol.top* \\#{pdbid}*\n",
    "d2volume = {}\n",
    "for d in tqdm(np.linspace(0.720, 0.740, 51)):\n",
    "    volume = get_box(d)\n",
    "    d2volume[np.round(d, decimals=15)] = volume"
   ]
  },
  {
   "cell_type": "code",
   "execution_count": null,
   "id": "23a88f8b-893e-452f-9342-65ed83997e1d",
   "metadata": {
    "tags": []
   },
   "outputs": [],
   "source": [
    "plt.plot(d2volume.keys(), d2volume.values())\n",
    "plt.scatter(d2volume.keys(), d2volume.values())\n",
    "plt.xlabel('d')\n",
    "plt.ylabel('volume')"
   ]
  },
  {
   "cell_type": "markdown",
   "id": "0774063e-587f-4be6-833c-8d1a1c449d9a",
   "metadata": {},
   "source": [
    "### Plot d v.s. n_sol (non-linear)\n",
    "in wtTel22, we want fix n_sol = **3854**"
   ]
  },
  {
   "cell_type": "code",
   "execution_count": 9,
   "id": "68d71232-a189-4e8c-b298-45dda81cbc1e",
   "metadata": {
    "tags": []
   },
   "outputs": [
    {
     "name": "stderr",
     "output_type": "stream",
     "text": [
      "100%|██████████| 51/51 [00:43<00:00,  1.17it/s]\n"
     ]
    }
   ],
   "source": [
    "!rm \\#topol.top* \\#{pdbid}*\n",
    "d2n_sol = {}\n",
    "for d in tqdm(np.linspace(1.12, 1.15, 51)):\n",
    "    n_sol = get_n_sol(d)\n",
    "    d2n_sol[np.round(d, decimals=15)] = n_sol"
   ]
  },
  {
   "cell_type": "code",
   "execution_count": 10,
   "id": "932e5c5a-eb34-4bc9-b579-741ce1b01b7a",
   "metadata": {
    "tags": []
   },
   "outputs": [
    {
     "data": {
      "image/png": "[encoded data removed]",
      "text/plain": [
       "<Figure size 640x480 with 1 Axes>"
      ]
     },
     "metadata": {},
     "output_type": "display_data"
    }
   ],
   "source": [
    "plt.plot(d2n_sol.keys(), d2n_sol.values())\n",
    "plt.scatter(d2n_sol.keys(), d2n_sol.values())\n",
    "plt.xlabel('d')\n",
    "plt.ylabel('n_sol')\n",
    "plt.xticks(rotation=90)\n",
    "plt.show()"
   ]
  },
  {
   "cell_type": "code",
   "execution_count": 12,
   "id": "03603291-0450-4b09-87b7-d021096dbb5a",
   "metadata": {
    "tags": []
   },
   "outputs": [
    {
     "data": {
      "text/plain": [
       "{1.12: 3838,\n",
       " 1.1206: 3837,\n",
       " 1.1212: 3837,\n",
       " 1.1218: 3836,\n",
       " 1.1224: 3844,\n",
       " 1.123: 3843,\n",
       " 1.1236: 3843,\n",
       " 1.1242: 3843,\n",
       " 1.1248: 3843,\n",
       " 1.1254: 3841,\n",
       " 1.126: 3841,\n",
       " 1.1266: 3843,\n",
       " 1.1272: 3843,\n",
       " 1.1278: 3843,\n",
       " 1.1284: 3849,\n",
       " 1.129: 3849,\n",
       " 1.1296: 3852,\n",
       " 1.1302: 3852,\n",
       " 1.1308: 3852,\n",
       " 1.1314: 3854,\n",
       " 1.132: 3855,\n",
       " 1.1326: 3855,\n",
       " 1.1332: 3856,\n",
       " 1.1338: 3859,\n",
       " 1.1344: 3861,\n",
       " 1.135: 3861,\n",
       " 1.1356: 3857,\n",
       " 1.1362: 3861,\n",
       " 1.1368: 3861,\n",
       " 1.1374: 3864,\n",
       " 1.138: 3863,\n",
       " 1.1386: 3865,\n",
       " 1.1392: 3866,\n",
       " 1.1398: 3866,\n",
       " 1.1404: 3868,\n",
       " 1.141: 3868,\n",
       " 1.1416: 3868,\n",
       " 1.1422: 3869,\n",
       " 1.1428: 3870,\n",
       " 1.1434: 3870,\n",
       " 1.144: 3871,\n",
       " 1.1446: 3868,\n",
       " 1.1452: 3871,\n",
       " 1.1458: 3874,\n",
       " 1.1464: 3875,\n",
       " 1.147: 3877,\n",
       " 1.1476: 3881,\n",
       " 1.1482: 3880,\n",
       " 1.1488: 3880,\n",
       " 1.1494: 3884,\n",
       " 1.15: 3883}"
      ]
     },
     "execution_count": 12,
     "metadata": {},
     "output_type": "execute_result"
    }
   ],
   "source": [
    "d2n_sol"
   ]
  },
  {
   "cell_type": "code",
   "execution_count": null,
   "id": "9d0371b2-a8cb-49c1-8379-128686415fc7",
   "metadata": {},
   "outputs": [],
   "source": []
  }
 ],
 "metadata": {
  "kernelspec": {
   "display_name": "Python 3 (ipykernel)",
   "language": "python",
   "name": "python3"
  },
  "language_info": {
   "codemirror_mode": {
    "name": "ipython",
    "version": 3
   },
   "file_extension": ".py",
   "mimetype": "text/x-python",
   "name": "python",
   "nbconvert_exporter": "python",
   "pygments_lexer": "ipython3",
   "version": "3.7.4"
  }
 },
 "nbformat": 4,
 "nbformat_minor": 5
}
