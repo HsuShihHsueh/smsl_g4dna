{
 "cells": [
  {
   "cell_type": "markdown",
   "id": "d90e9ebd-1d60-45ed-890f-bf82c07114d5",
   "metadata": {
    "tags": []
   },
   "source": [
    "in [`gmx editconf`](https://manual.gromacs.org/current/onlinehelp/gmx-editconf.html) command<br>\n",
    "`-d` arg determined the Distance between the solute and the box<br>\n",
    "we want fix the system atom number by adjust the `-d` value<br>"
   ]
  },
  {
   "cell_type": "code",
   "execution_count": 1,
   "id": "071cd483-6a83-4f92-8964-c25b4d832838",
   "metadata": {
    "tags": []
   },
   "outputs": [],
   "source": [
    "import numpy as np\n",
    "import matplotlib.pyplot as plt\n",
    "from tqdm import tqdm"
   ]
  },
  {
   "cell_type": "code",
   "execution_count": 2,
   "id": "90edb62d-c987-4e53-8aad-fd1ab740674c",
   "metadata": {
    "tags": []
   },
   "outputs": [],
   "source": [
    "pdbid = \"1kf1_EWV\""
   ]
  },
  {
   "cell_type": "code",
   "execution_count": 3,
   "id": "42ead99e-06e3-47fe-87e0-596eda93c506",
   "metadata": {
    "tags": []
   },
   "outputs": [],
   "source": [
    "def get_n_sol(d):\n",
    "    !cp topol.top.bak1 topol.top\n",
    "    !gmx editconf -f {pdbid}.gro.pdb -o {pdbid}_dode.pdb -c yes -d {d} -bt dodecahedron > /dev/null 2>&1\n",
    "    !gmx solvate -cp {pdbid}_dode.pdb -cs spc216.gro -o {pdbid}_solv.pdb -p topol.top > /dev/null 2>&1\n",
    "    sol = !grep \"SOL\" topol.top\n",
    "    n_sol = int(sol[0].split()[1])\n",
    "    return n_sol"
   ]
  },
  {
   "cell_type": "code",
   "execution_count": 4,
   "id": "04813c44-d412-4120-a60f-ca4a1a9396ab",
   "metadata": {
    "tags": []
   },
   "outputs": [],
   "source": [
    "def get_box(d):\n",
    "    !cp topol.top.bak1 topol.top\n",
    "    !gmx editconf -f {pdbid}.gro.pdb -o {pdbid}_dode.pdb -c yes -d {d} -bt dodecahedron >editconf.txt 2>&1\n",
    "    volume = !grep \"new box volume\" editconf.txt\n",
    "    volume = float(volume[0].split()[4])\n",
    "    return volume"
   ]
  },
  {
   "cell_type": "code",
   "execution_count": 5,
   "id": "20ac06ba-352a-4ae9-a470-0f979b1b963a",
   "metadata": {
    "tags": []
   },
   "outputs": [],
   "source": [
    "def get_n_atoms(d):\n",
    "    !cp topol.top.bak1 topol.top\n",
    "    !gmx editconf -f {pdbid}.gro.pdb -o {pdbid}_dode.pdb -c yes -d {d} -bt dodecahedron > /dev/null 2>&1\n",
    "    !gmx solvate -cp {pdbid}_dode.pdb -cs spc216.gro -o {pdbid}_solv.pdb -p topol.top >solvate.txt 2>&1\n",
    "    atoms = !grep \"Solvent box contains\" solvate.txt\n",
    "    n_atoms = int(atoms[0].split()[3])\n",
    "    return n_atoms"
   ]
  },
  {
   "cell_type": "code",
   "execution_count": 6,
   "id": "8c9a8ac8-b7d0-4253-84a4-56a0713533fa",
   "metadata": {
    "tags": []
   },
   "outputs": [
    {
     "name": "stdout",
     "output_type": "stream",
     "text": [
      "/home/user/workfolder/g4dna_protocol/propeller_ewv/c.gromacs.run_md/1.create_system\n"
     ]
    }
   ],
   "source": [
    "!pwd"
   ]
  },
  {
   "cell_type": "markdown",
   "id": "29db112d-9c08-4dac-805f-2af976575c0e",
   "metadata": {},
   "source": [
    "### Plot d v.s. Volume (linear)"
   ]
  },
  {
   "cell_type": "code",
   "execution_count": 24,
   "id": "cc036f40-532b-4af9-ac50-e23354ead099",
   "metadata": {
    "tags": []
   },
   "outputs": [
    {
     "name": "stdout",
     "output_type": "stream",
     "text": [
      "rm: cannot remove '#1kf1_EWV*': No such file or directory\n"
     ]
    },
    {
     "name": "stderr",
     "output_type": "stream",
     "text": [
      "100%|███████████████████████████████████████████| 51/51 [00:26<00:00,  1.90it/s]\n"
     ]
    }
   ],
   "source": [
    "!rm \\#topol.top* \\#{pdbid}*\n",
    "d2volume = {}\n",
    "for d in tqdm(np.linspace(0.720, 0.740, 51)):\n",
    "    volume = get_box(d)\n",
    "    d2volume[np.round(d, decimals=15)] = volume"
   ]
  },
  {
   "cell_type": "code",
   "execution_count": 25,
   "id": "23a88f8b-893e-452f-9342-65ed83997e1d",
   "metadata": {
    "tags": []
   },
   "outputs": [
    {
     "data": {
      "text/plain": [
       "Text(0, 0.5, 'volume')"
      ]
     },
     "execution_count": 25,
     "metadata": {},
     "output_type": "execute_result"
    },
    {
     "data": {
      "image/png": "[encoded data removed]",
      "text/plain": [
       "<Figure size 640x480 with 1 Axes>"
      ]
     },
     "metadata": {},
     "output_type": "display_data"
    }
   ],
   "source": [
    "plt.plot(d2volume.keys(), d2volume.values())\n",
    "plt.scatter(d2volume.keys(), d2volume.values())\n",
    "plt.xlabel('d')\n",
    "plt.ylabel('volume')"
   ]
  },
  {
   "cell_type": "markdown",
   "id": "0774063e-587f-4be6-833c-8d1a1c449d9a",
   "metadata": {},
   "source": [
    "### Plot d v.s. n_sol (non-linear)\n",
    "in wtTel22, we want fix n_sol = **3839**"
   ]
  },
  {
   "cell_type": "code",
   "execution_count": 14,
   "id": "68d71232-a189-4e8c-b298-45dda81cbc1e",
   "metadata": {
    "tags": []
   },
   "outputs": [
    {
     "name": "stderr",
     "output_type": "stream",
     "text": [
      "100%|███████████████████████████████████████████| 51/51 [00:43<00:00,  1.17it/s]\n"
     ]
    }
   ],
   "source": [
    "!rm \\#topol.top* \\#{pdbid}*\n",
    "d2n_sol = {}\n",
    "for d in tqdm(np.linspace(0.725, 0.733, 51)):\n",
    "    n_sol = get_n_sol(d)\n",
    "    d2n_sol[np.round(d, decimals=15)] = n_sol"
   ]
  },
  {
   "cell_type": "code",
   "execution_count": 15,
   "id": "932e5c5a-eb34-4bc9-b579-741ce1b01b7a",
   "metadata": {
    "tags": []
   },
   "outputs": [
    {
     "data": {
      "image/png": "[encoded data removed]",
      "text/plain": [
       "<Figure size 640x480 with 1 Axes>"
      ]
     },
     "metadata": {},
     "output_type": "display_data"
    }
   ],
   "source": [
    "plt.plot(d2n_sol.keys(), d2n_sol.values())\n",
    "plt.scatter(d2n_sol.keys(), d2n_sol.values())\n",
    "plt.xlabel('d')\n",
    "plt.ylabel('n_sol')\n",
    "plt.xticks(rotation=90)\n",
    "plt.show()"
   ]
  },
  {
   "cell_type": "code",
   "execution_count": 16,
   "id": "03603291-0450-4b09-87b7-d021096dbb5a",
   "metadata": {
    "tags": []
   },
   "outputs": [
    {
     "data": {
      "text/plain": [
       "{0.725: 3826,\n",
       " 0.72516: 3826,\n",
       " 0.72532: 3827,\n",
       " 0.72548: 3828,\n",
       " 0.72564: 3828,\n",
       " 0.7258: 3828,\n",
       " 0.72596: 3828,\n",
       " 0.72612: 3828,\n",
       " 0.72628: 3828,\n",
       " 0.72644: 3828,\n",
       " 0.7266: 3828,\n",
       " 0.72676: 3828,\n",
       " 0.72692: 3829,\n",
       " 0.72708: 3829,\n",
       " 0.72724: 3831,\n",
       " 0.7274: 3831,\n",
       " 0.72756: 3830,\n",
       " 0.72772: 3828,\n",
       " 0.72788: 3828,\n",
       " 0.72804: 3828,\n",
       " 0.7282: 3828,\n",
       " 0.72836: 3829,\n",
       " 0.72852: 3829,\n",
       " 0.72868: 3828,\n",
       " 0.72884: 3828,\n",
       " 0.729: 3832,\n",
       " 0.72916: 3834,\n",
       " 0.72932: 3834,\n",
       " 0.72948: 3834,\n",
       " 0.72964: 3834,\n",
       " 0.7298: 3834,\n",
       " 0.72996: 3834,\n",
       " 0.73012: 3837,\n",
       " 0.73028: 3837,\n",
       " 0.73044: 3838,\n",
       " 0.7306: 3839,\n",
       " 0.73076: 3840,\n",
       " 0.73092: 3840,\n",
       " 0.73108: 3841,\n",
       " 0.73124: 3841,\n",
       " 0.7314: 3841,\n",
       " 0.73156: 3841,\n",
       " 0.73172: 3842,\n",
       " 0.73188: 3842,\n",
       " 0.73204: 3843,\n",
       " 0.7322: 3844,\n",
       " 0.73236: 3846,\n",
       " 0.73252: 3846,\n",
       " 0.73268: 3846,\n",
       " 0.73284: 3846,\n",
       " 0.733: 3846}"
      ]
     },
     "execution_count": 16,
     "metadata": {},
     "output_type": "execute_result"
    }
   ],
   "source": [
    "d2n_sol"
   ]
  },
  {
   "cell_type": "code",
   "execution_count": null,
   "id": "9d0371b2-a8cb-49c1-8379-128686415fc7",
   "metadata": {},
   "outputs": [],
   "source": []
  }
 ],
 "metadata": {
  "kernelspec": {
   "display_name": "Python 3 (ipykernel)",
   "language": "python",
   "name": "python3"
  },
  "language_info": {
   "codemirror_mode": {
    "name": "ipython",
    "version": 3
   },
   "file_extension": ".py",
   "mimetype": "text/x-python",
   "name": "python",
   "nbconvert_exporter": "python",
   "pygments_lexer": "ipython3",
   "version": "3.7.4"
  }
 },
 "nbformat": 4,
 "nbformat_minor": 5
}
