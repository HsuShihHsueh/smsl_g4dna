{
 "cells": [
  {
   "cell_type": "code",
   "execution_count": 1,
   "id": "9ddbd3de-9255-4854-a3eb-420976ee7fa8",
   "metadata": {
    "tags": []
   },
   "outputs": [],
   "source": [
    "drug='EWV'\n",
    "complex=drug"
   ]
  },
  {
   "cell_type": "code",
   "execution_count": 2,
   "id": "e8993ccb-e106-46e4-9535-459e2464a65c",
   "metadata": {
    "tags": []
   },
   "outputs": [],
   "source": [
    "import os\n",
    "ff_folder  = os.path.realpath(\"../../../smsl/opt/force_field\")\n",
    "mdp_folder = os.path.realpath(\"../../../smsl/opt/mdp\")"
   ]
  },
  {
   "cell_type": "markdown",
   "id": "edf545cd-891e-429f-8c33-8ffbcc55627f",
   "metadata": {},
   "source": [
    "### Copy Drug From Last Folder"
   ]
  },
  {
   "cell_type": "code",
   "execution_count": 3,
   "id": "6103db0e-f914-4d2d-938a-695055d59532",
   "metadata": {
    "tags": []
   },
   "outputs": [
    {
     "name": "stdout",
     "output_type": "stream",
     "text": [
      "'../1.GenTopology/EWV.amb2gmx/EWV_GMX.gro' -> './EWV_GMX.gro'\n",
      "'../1.GenTopology/EWV.amb2gmx/EWV_GMX.top' -> './EWV_GMX.top'\n",
      "'../1.GenTopology/EWV.amb2gmx/posre_EWV.itp' -> './posre_EWV.itp'\n"
     ]
    }
   ],
   "source": [
    "!cp -rv ../1.GenTopology/{drug}.amb2gmx/*{drug}* ./ ## .gro .top .itp"
   ]
  },
  {
   "cell_type": "markdown",
   "id": "843bb03a-4055-4eff-877c-139bcb52e70f",
   "metadata": {
    "tags": []
   },
   "source": [
    "### Modify `POH_GMX.top`"
   ]
  },
  {
   "cell_type": "code",
   "execution_count": 4,
   "id": "8f5db95f-ef7b-41b4-bbbb-a475bfa16b1c",
   "metadata": {
    "tags": []
   },
   "outputs": [],
   "source": [
    "!mv {drug}_GMX.top drug_GMX.top\n",
    "# 1. 將[nbfunc, Compound, ]關鍵字的下一行註解\n",
    "!sed -i '/nbfunc/{N;s/\\n/\\n;/}' drug_GMX.top\n",
    "!sed -i '/Compound/{N;s/\\n/\\n;/}' drug_GMX.top\n",
    "# 2. 將 [atomtypes] 內 name bond_type的文字轉小寫\n",
    "!sed -E '/\\[ atomtypes \\]/,/^$/ {\\\n",
    "    /^[[:space:]]*[A-Z]/ {\\\n",
    "        s/^([[:space:]]*)([A-Z0-9*]+)([[:space:]]+)([A-Z0-9*]+)/\\1\\L\\2\\3\\L\\4/\\\n",
    "    }\\\n",
    "}' drug_GMX.top > temp.top && mv temp.top drug_GMX.top\n",
    "# 3. 將 [atoms] 內 type的文字轉小寫\n",
    "!sed -E '/\\[ atoms \\]/,/^$/ {\\\n",
    "    /^[[:space:]]*[0-9]/ {\\\n",
    "        s/^([[:space:]]*[0-9]+[[:space:]]+)([A-Z0-9*]+)([[:space:]]+)/\\1\\L\\2\\3/\\\n",
    "    }\\\n",
    "}' drug_GMX.top > temp.top && mv temp.top drug_GMX.top\n",
    "!mv drug_GMX.top {drug}_GMX.top"
   ]
  },
  {
   "cell_type": "code",
   "execution_count": 5,
   "id": "c999d98e-6e06-4ae2-a41a-10efabe70504",
   "metadata": {
    "tags": []
   },
   "outputs": [],
   "source": [
    "force_field = 'amber14sb_parmbsc1.ff'\n",
    "\n",
    "top_data = f'''\\\n",
    "; Include forcefield parameters\n",
    "#include \"{ff_folder}/{force_field}/forcefield.itp\"\n",
    "\n",
    "; Include ligand parameters\n",
    "#include \"{drug}_GMX.top\"\n",
    "\n",
    "; Include ligand topology\n",
    "#ifdef POSRES\n",
    "#include \"posre_{drug}.itp\"\n",
    "#endif\n",
    "\n",
    "; Include water topology\n",
    "#include \"{ff_folder}/{force_field}/tip3p.itp\"\n",
    "\n",
    "#ifdef POSRES_WATER\n",
    "; Position restraint for each water oxygen\n",
    "[ position_restraints ]\n",
    ";  i funct       fcx        fcy        fcz\n",
    "   1    1       1000       1000       1000\n",
    "#endif\n",
    "\n",
    "; Include topology for ions\n",
    "#include \"{ff_folder}/{force_field}/ions.itp\"\n",
    "\n",
    "[ system ]\n",
    "; Name\n",
    "Protein in water\n",
    "\n",
    "[ molecules ]\n",
    "; Compound        #mols\n",
    "{drug}               1\\\n",
    "'''\n",
    "\n",
    "!echo '{top_data}' > topol.top"
   ]
  },
  {
   "cell_type": "code",
   "execution_count": 6,
   "id": "aecacaec-8b8b-4dfd-ae09-07002b7db07d",
   "metadata": {
    "tags": []
   },
   "outputs": [
    {
     "name": "stdout",
     "output_type": "stream",
     "text": [
      "                     :-) GROMACS - gmx editconf, 2023.2 (-:\n",
      "\n",
      "Executable:   /home/user/opt/gromacs-2023/bin/gmx\n",
      "Data prefix:  /home/user/opt/gromacs-2023\n",
      "Working dir:  /home/user/workfolder/g4dna_protocol_demo/hybrid-ii_ewv/b.amber.drug_ff/3.Run_md\n",
      "Command line:\n",
      "  gmx editconf -f EWV_GMX.gro -o EWV.gro.pdb\n",
      "\n",
      "Note that major changes are planned in future for editconf, to improve usability and utility.\n",
      "Read 43 atoms\n",
      "Volume: 2692.35 nm^3, corresponds to roughly 1211500 electrons\n",
      "No velocities found\n",
      "\n",
      "GROMACS reminds you: \"If You're So Special Why aren't You Dead ?\" (The Breeders)\n",
      "\n"
     ]
    }
   ],
   "source": [
    "!gmx editconf -f {drug}_GMX.gro -o {complex}.gro.pdb"
   ]
  },
  {
   "cell_type": "markdown",
   "id": "9a15009c-1375-4a6b-89c8-2e758f80dea4",
   "metadata": {},
   "source": [
    "### Add box and add solvent (water)"
   ]
  },
  {
   "cell_type": "code",
   "execution_count": 7,
   "id": "e1e505dd-7e7b-4f15-8f9e-dcba50ea3476",
   "metadata": {
    "tags": []
   },
   "outputs": [
    {
     "name": "stdout",
     "output_type": "stream",
     "text": [
      "                     :-) GROMACS - gmx editconf, 2023.2 (-:\n",
      "\n",
      "Executable:   /home/user/opt/gromacs-2023/bin/gmx\n",
      "Data prefix:  /home/user/opt/gromacs-2023\n",
      "Working dir:  /home/user/workfolder/g4dna_protocol_demo/hybrid-ii_ewv/b.amber.drug_ff/3.Run_md\n",
      "Command line:\n",
      "  gmx editconf -f EWV.gro.pdb -o EWV_dode.pdb -c yes -d 0.865 -bt dodecahedron\n",
      "\n",
      "Note that major changes are planned in future for editconf, to improve usability and utility.\n",
      "Read 43 atoms\n",
      "Volume: 2692.35 nm^3, corresponds to roughly 1211500 electrons\n",
      "No velocities found\n",
      "    system size :  1.439  0.761  0.308 (nm)\n",
      "    diameter    :  1.447               (nm)\n",
      "    center      :  0.036  0.007 -0.003 (nm)\n",
      "    box vectors : 28.788 15.212  6.148 (nm)\n",
      "    box angles  :  90.00  90.00  90.00 (degrees)\n",
      "    box volume  :2692.35               (nm^3)\n",
      "    shift       :  2.347  2.376  1.126 (nm)\n",
      "new center      :  2.383  2.383  1.123 (nm)\n",
      "new box vectors :  3.177  3.177  3.177 (nm)\n",
      "new box angles  :  60.00  60.00  90.00 (degrees)\n",
      "new box volume  :  22.68               (nm^3)\n",
      "\n",
      "GROMACS reminds you: \"If You're So Special Why aren't You Dead ?\" (The Breeders)\n",
      "\n"
     ]
    }
   ],
   "source": [
    "!gmx editconf -f {complex}.gro.pdb -o {complex}_dode.pdb -c yes -d 0.865 -bt dodecahedron"
   ]
  },
  {
   "cell_type": "markdown",
   "id": "007ee587-eabe-458f-8721-4ee61778ffb9",
   "metadata": {},
   "source": [
    "### Add solvent (water)"
   ]
  },
  {
   "cell_type": "code",
   "execution_count": 8,
   "id": "b69a347e-c021-46e2-b406-906798f5ab24",
   "metadata": {
    "tags": []
   },
   "outputs": [
    {
     "name": "stdout",
     "output_type": "stream",
     "text": [
      "                     :-) GROMACS - gmx solvate, 2023.2 (-:\n",
      "\n",
      "Executable:   /home/user/opt/gromacs-2023/bin/gmx\n",
      "Data prefix:  /home/user/opt/gromacs-2023\n",
      "Working dir:  /home/user/workfolder/g4dna_protocol_demo/hybrid-ii_ewv/b.amber.drug_ff/3.Run_md\n",
      "Command line:\n",
      "  gmx solvate -cp EWV_dode.pdb -cs spc216.gro -o EWV_water.pdb -p topol.top\n",
      "\n",
      "Reading solute configuration\n",
      "Reading solvent configuration\n",
      "\n",
      "Initialising inter-atomic distances...\n",
      "\n",
      "WARNING: Masses and atomic (Van der Waals) radii will be guessed\n",
      "         based on residue and atom names, since they could not be\n",
      "         definitively assigned from the information in your input\n",
      "         files. These guessed numbers might deviate from the mass\n",
      "         and radius of the atom type. Please check the output\n",
      "         files if necessary. Note, that this functionality may\n",
      "         be removed in a future GROMACS version. Please, consider\n",
      "         using another file format for your input.\n",
      "\n",
      "NOTE: From version 5.0 gmx solvate uses the Van der Waals radii\n",
      "from the source below. This means the results may be different\n",
      "compared to previous GROMACS versions.\n",
      "\n",
      "++++ PLEASE READ AND CITE THE FOLLOWING REFERENCE ++++\n",
      "A. Bondi\n",
      "van der Waals Volumes and Radii\n",
      "J. Phys. Chem. 68 (1964) pp. 441-451\n",
      "-------- -------- --- Thank You --- -------- --------\n",
      "\n",
      "Generating solvent configuration\n",
      "Will generate new solvent configuration of 2x2x2 boxes\n",
      "Solvent box contains 3111 atoms in 1037 residues\n",
      "Removed 927 solvent atoms due to solvent-solvent overlap\n",
      "Removed 60 solvent atoms due to solute-solvent overlap\n",
      "Sorting configuration\n",
      "Found 1 molecule type:\n",
      "    SOL (   3 atoms):   708 residues\n",
      "Generated solvent containing 2124 atoms in 708 residues\n",
      "Writing generated configuration to EWV_water.pdb\n",
      "\n",
      "Output configuration contains 2167 atoms in 709 residues\n",
      "Volume                 :     22.6766 (nm^3)\n",
      "Density                :     958.708 (g/l)\n",
      "Number of solvent molecules:    708   \n",
      "\n",
      "Processing topology\n",
      "Adding line for 708 solvent molecules with resname (SOL) to topology file (topol.top)\n",
      "\n",
      "Back Off! I just backed up topol.top to ./#topol.top.1#\n",
      "\n",
      "GROMACS reminds you: \"If You're So Special Why aren't You Dead ?\" (The Breeders)\n",
      "\n"
     ]
    }
   ],
   "source": [
    "!gmx solvate -cp {complex}_dode.pdb -cs spc216.gro -o {complex}_water.pdb -p topol.top"
   ]
  },
  {
   "cell_type": "markdown",
   "id": "c797b9c5-4da0-4f31-9f76-7ab7fad09d56",
   "metadata": {
    "tags": []
   },
   "source": [
    "## Remove PBC and See dodecahedron\n",
    "select `0(System)` for output group"
   ]
  },
  {
   "cell_type": "code",
   "execution_count": 9,
   "id": "75404a9a-51c7-4d06-93d5-5f9b903eb075",
   "metadata": {
    "tags": []
   },
   "outputs": [
    {
     "name": "stdout",
     "output_type": "stream",
     "text": [
      "                     :-) GROMACS - gmx trjconv, 2023.2 (-:\n",
      "\n",
      "Executable:   /home/user/opt/gromacs-2023/bin/gmx\n",
      "Data prefix:  /home/user/opt/gromacs-2023\n",
      "Working dir:  /home/user/workfolder/g4dna_protocol_demo/hybrid-ii_ewv/b.amber.drug_ff/3.Run_md\n",
      "Command line:\n",
      "  gmx trjconv -s EWV_water.pdb -f EWV_water.pdb -o EWV_water.dode.pdb -pbc res -ur compact\n",
      "\n",
      "Note that major changes are planned in future for trjconv, to improve usability and utility.\n",
      "Will write pdb: Protein data bank file\n",
      "\n",
      "WARNING: Masses and atomic (Van der Waals) radii will be guessed\n",
      "         based on residue and atom names, since they could not be\n",
      "         definitively assigned from the information in your input\n",
      "         files. These guessed numbers might deviate from the mass\n",
      "         and radius of the atom type. Please check the output\n",
      "         files if necessary. Note, that this functionality may\n",
      "         be removed in a future GROMACS version. Please, consider\n",
      "         using another file format for your input.\n",
      "\n",
      "\n",
      "WARNING: If there are molecules in the input trajectory file\n",
      "         that are broken across periodic boundaries, they\n",
      "         cannot be made whole (or treated as whole) without\n",
      "         you providing a run input file.\n",
      "\n",
      "Select group for output\n",
      "Group     0 (         System) has  2167 elements\n",
      "Group     1 (          Other) has    43 elements\n",
      "Group     2 (            EWV) has    43 elements\n",
      "Group     3 (          Water) has  2124 elements\n",
      "Group     4 (            SOL) has  2124 elements\n",
      "Group     5 (      non-Water) has    43 elements\n",
      "Select a group: Selected 0: 'System'\n",
      "Reading frame       0 time    0.000   \n",
      "Precision of EWV_water.pdb is 0.0001 (nm)\n",
      " '', 2167 atoms\n",
      "Last frame          0 time    0.000   \n",
      " ->  frame      0 time    0.000      \n",
      "Last written: frame      0 time    0.000\n",
      "\n",
      "\n",
      "GROMACS reminds you: \"If You're So Special Why aren't You Dead ?\" (The Breeders)\n",
      "\n"
     ]
    }
   ],
   "source": [
    "!echo \"0\" | gmx trjconv -s {complex}_water.pdb -f {complex}_water.pdb -o {complex}_water.dode.pdb -pbc res -ur compact"
   ]
  },
  {
   "cell_type": "code",
   "execution_count": 10,
   "id": "d10b4dd2-f2a4-430a-9dbf-317cb7764d5b",
   "metadata": {
    "tags": []
   },
   "outputs": [],
   "source": [
    "## visualize\n",
    "#!vmd {complex}_water.dode.pdb\n",
    "#!pymol {complex}_water.dode.pdb"
   ]
  },
  {
   "cell_type": "markdown",
   "id": "1336ef82-2b2d-48dc-bda0-79dcbe21b4e0",
   "metadata": {},
   "source": [
    "### Add ions\n",
    "gmx genion ~\n",
    "`-conc` unit: (mol/liters) default=0.125  \n",
    "sele `6(SOL)` for group of solvent molecules"
   ]
  },
  {
   "cell_type": "code",
   "execution_count": 11,
   "id": "b92891a5-aaea-48ad-a1fb-d0f6e7c14927",
   "metadata": {
    "tags": []
   },
   "outputs": [
    {
     "name": "stdout",
     "output_type": "stream",
     "text": [
      "                      :-) GROMACS - gmx grompp, 2023.2 (-:\n",
      "\n",
      "Executable:   /home/user/opt/gromacs-2023/bin/gmx\n",
      "Data prefix:  /home/user/opt/gromacs-2023\n",
      "Working dir:  /home/user/workfolder/g4dna_protocol_demo/hybrid-ii_ewv/b.amber.drug_ff/3.Run_md\n",
      "Command line:\n",
      "  gmx grompp -f /home/user/workfolder/g4dna_protocol_demo/smsl/opt/mdp/ions.mdp -c EWV_water.pdb -p topol.top -o ions.tpr\n",
      "\n",
      "Ignoring obsolete mdp entry 'ns_type'\n",
      "\n",
      "NOTE 1 [file /home/user/workfolder/g4dna_protocol_demo/smsl/opt/mdp/ions.mdp]:\n",
      "  With Verlet lists the optimal nstlist is >= 10, with GPUs >= 20. Note\n",
      "  that with the Verlet scheme, nstlist has no effect on the accuracy of\n",
      "  your simulation.\n",
      "\n",
      "Setting the LD random seed to -560121093\n",
      "\n",
      "Generated 4753 of the 4753 non-bonded parameter combinations\n",
      "Generating 1-4 interactions: fudge = 0.5\n",
      "\n",
      "Generated 4753 of the 4753 1-4 parameter combinations\n",
      "\n",
      "Excluding 3 bonded neighbours molecule type 'EWV'\n",
      "\n",
      "Excluding 2 bonded neighbours molecule type 'SOL'\n",
      "\n",
      "NOTE 2 [file topol.top, line 32]:\n",
      "  System has non-zero total charge: 1.000000\n",
      "  Total charge should normally be an integer. See\n",
      "  http://www.gromacs.org/Documentation/Floating_Point_Arithmetic\n",
      "  for discussion on how close it should be to an integer.\n",
      "\n",
      "\n",
      "\n",
      "Analysing residue names:\n",
      "There are:     1      Other residues\n",
      "There are:   708      Water residues\n",
      "Analysing residues not classified as Protein/DNA/RNA/Water and splitting into groups...\n",
      "Number of degrees of freedom in T-Coupling group rest is 4374.00\n",
      "The integrator does not provide a ensemble temperature, there is no system ensemble temperature\n",
      "\n",
      "NOTE 3 [file /home/user/workfolder/g4dna_protocol_demo/smsl/opt/mdp/ions.mdp]:\n",
      "  You are using a plain Coulomb cut-off, which might produce artifacts.\n",
      "  You might want to consider using PME electrostatics.\n",
      "\n",
      "\n",
      "\n",
      "This run will generate roughly 0 Mb of data\n",
      "\n",
      "There were 3 NOTEs\n",
      "\n",
      "GROMACS reminds you: \"It has not escaped our notice that the specific pairing we have postulated immediately suggests a possible copying mechanism for the genetic material.\" (Watson & Crick)\n",
      "\n"
     ]
    }
   ],
   "source": [
    "!gmx grompp -f {mdp_folder}/ions.mdp -c {complex}_water.pdb -p topol.top -o ions.tpr"
   ]
  },
  {
   "cell_type": "code",
   "execution_count": 12,
   "id": "07535b39-6e81-4d99-b207-27cf6063fde6",
   "metadata": {
    "tags": []
   },
   "outputs": [
    {
     "name": "stdout",
     "output_type": "stream",
     "text": [
      "                      :-) GROMACS - gmx genion, 2023.2 (-:\n",
      "\n",
      "Executable:   /home/user/opt/gromacs-2023/bin/gmx\n",
      "Data prefix:  /home/user/opt/gromacs-2023\n",
      "Working dir:  /home/user/workfolder/g4dna_protocol_demo/hybrid-ii_ewv/b.amber.drug_ff/3.Run_md\n",
      "Command line:\n",
      "  gmx genion -s ions.tpr -o EWV_solv.pdb -p topol.top -pname K -nname CL -neutral -conc 0.125\n",
      "\n",
      "Reading file ions.tpr, VERSION 2023.2 (single precision)\n",
      "Reading file ions.tpr, VERSION 2023.2 (single precision)\n",
      "Will try to add 2 K ions and 3 CL ions.\n",
      "Select a continuous group of solvent molecules\n",
      "Group     0 (         System) has  2167 elements\n",
      "Group     1 (          Other) has    43 elements\n",
      "Group     2 (            EWV) has    43 elements\n",
      "Group     3 (          Water) has  2124 elements\n",
      "Group     4 (            SOL) has  2124 elements\n",
      "Group     5 (      non-Water) has    43 elements\n",
      "Select a group: Selected 4: 'SOL'\n",
      "Number of (3-atomic) solvent molecules: 708\n",
      "\n",
      "Processing topology\n",
      "Replacing 5 solute molecules in topology file (topol.top)  by 2 K and 3 CL ions.\n",
      "\n",
      "Back Off! I just backed up topol.top to ./#topol.top.2#\n",
      "Using random seed -29361281.\n",
      "Replacing solvent molecule 691 (atom 2116) with K\n",
      "Replacing solvent molecule 270 (atom 853) with K\n",
      "Replacing solvent molecule 547 (atom 1684) with CL\n",
      "Replacing solvent molecule 110 (atom 373) with CL\n",
      "Replacing solvent molecule 18 (atom 97) with CL\n",
      "\n",
      "\n",
      "GROMACS reminds you: \"It has not escaped our notice that the specific pairing we have postulated immediately suggests a possible copying mechanism for the genetic material.\" (Watson & Crick)\n",
      "\n"
     ]
    }
   ],
   "source": [
    "!echo \"SOL\" | gmx genion -s ions.tpr -o {complex}_solv.pdb -p topol.top -pname K -nname CL -neutral -conc 0.125"
   ]
  },
  {
   "cell_type": "code",
   "execution_count": 13,
   "id": "70bc20c4-15ac-45db-b017-50c2feb02b56",
   "metadata": {
    "scrolled": true
   },
   "outputs": [
    {
     "name": "stdout",
     "output_type": "stream",
     "text": [
      "                     :-) GROMACS - gmx trjconv, 2023.2 (-:\n",
      "\n",
      "Executable:   /home/user/opt/gromacs-2023/bin/gmx\n",
      "Data prefix:  /home/user/opt/gromacs-2023\n",
      "Working dir:  /home/user/workfolder/g4dna_protocol_demo/hybrid-ii_ewv/b.amber.drug_ff/3.Run_md\n",
      "Command line:\n",
      "  gmx trjconv -s EWV_solv.pdb -f EWV_solv.pdb -o EWV_solv.dode.pdb -pbc res -ur compact\n",
      "\n",
      "Note that major changes are planned in future for trjconv, to improve usability and utility.\n",
      "Will write pdb: Protein data bank file\n",
      "\n",
      "WARNING: Masses and atomic (Van der Waals) radii will be guessed\n",
      "         based on residue and atom names, since they could not be\n",
      "         definitively assigned from the information in your input\n",
      "         files. These guessed numbers might deviate from the mass\n",
      "         and radius of the atom type. Please check the output\n",
      "         files if necessary. Note, that this functionality may\n",
      "         be removed in a future GROMACS version. Please, consider\n",
      "         using another file format for your input.\n",
      "\n",
      "\n",
      "WARNING: If there are molecules in the input trajectory file\n",
      "         that are broken across periodic boundaries, they\n",
      "         cannot be made whole (or treated as whole) without\n",
      "         you providing a run input file.\n",
      "\n",
      "Select group for output\n",
      "Group     0 (         System) has  2157 elements\n",
      "Group     1 (          Other) has    43 elements\n",
      "Group     2 (            EWV) has    43 elements\n",
      "Group     3 (              K) has     2 elements\n",
      "Group     4 (             CL) has     3 elements\n",
      "Group     5 (          Water) has  2109 elements\n",
      "Group     6 (            SOL) has  2109 elements\n",
      "Group     7 (      non-Water) has    48 elements\n",
      "Group     8 (            Ion) has     5 elements\n",
      "Group     9 ( Water_and_ions) has  2114 elements\n",
      "Select a group: Selected 0: 'System'\n",
      "Reading frame       0 time    0.000   \n",
      "Precision of EWV_solv.pdb is 0.0001 (nm)\n",
      " '', 2157 atoms\n",
      "Last frame          0 time    0.000   \n",
      " ->  frame      0 time    0.000      \n",
      "Last written: frame      0 time    0.000\n",
      "\n",
      "\n",
      "GROMACS reminds you: \"It has not escaped our notice that the specific pairing we have postulated immediately suggests a possible copying mechanism for the genetic material.\" (Watson & Crick)\n",
      "\n"
     ]
    }
   ],
   "source": [
    "## visualize\n",
    "!echo \"0\" | gmx trjconv -s {complex}_solv.pdb -f {complex}_solv.pdb -o {complex}_solv.dode.pdb -pbc res -ur compact\n",
    "#!pymol {complex}_solv.dode.pdb"
   ]
  },
  {
   "cell_type": "markdown",
   "id": "d28a604f-8c99-4331-9dc9-9c17ce76b45a",
   "metadata": {},
   "source": [
    "### Energy Minimization"
   ]
  },
  {
   "cell_type": "code",
   "execution_count": 14,
   "id": "b7981acc-7ab1-41a5-b1a9-98e619a1a5f4",
   "metadata": {},
   "outputs": [
    {
     "name": "stdout",
     "output_type": "stream",
     "text": [
      "                      :-) GROMACS - gmx grompp, 2023.2 (-:\n",
      "\n",
      "Executable:   /home/user/opt/gromacs-2023/bin/gmx\n",
      "Data prefix:  /home/user/opt/gromacs-2023\n",
      "Working dir:  /home/user/workfolder/g4dna_protocol_demo/hybrid-ii_ewv/b.amber.drug_ff/3.Run_md\n",
      "Command line:\n",
      "  gmx grompp -f /home/user/workfolder/g4dna_protocol_demo/smsl/opt/mdp/min1.mdp -c EWV_solv.pdb -r EWV_solv.pdb -p topol.top -o min1.tpr\n",
      "\n",
      "Setting the LD random seed to -687867921\n",
      "\n",
      "Generated 4753 of the 4753 non-bonded parameter combinations\n",
      "Generating 1-4 interactions: fudge = 0.5\n",
      "\n",
      "Generated 4753 of the 4753 1-4 parameter combinations\n",
      "\n",
      "Excluding 3 bonded neighbours molecule type 'EWV'\n",
      "\n",
      "Excluding 2 bonded neighbours molecule type 'SOL'\n",
      "\n",
      "Excluding 1 bonded neighbours molecule type 'K'\n",
      "\n",
      "Excluding 1 bonded neighbours molecule type 'CL'\n",
      "Analysing residue names:\n",
      "There are:     1      Other residues\n",
      "There are:   703      Water residues\n",
      "There are:     5        Ion residues\n",
      "Analysing residues not classified as Protein/DNA/RNA/Water and splitting into groups...\n",
      "Number of degrees of freedom in T-Coupling group rest is 4359.00\n",
      "The integrator does not provide a ensemble temperature, there is no system ensemble temperature\n",
      "\n",
      "The largest distance between excluded atoms is 0.382 nm between atom 6 and 8\n",
      "\n",
      "NOTE 1 [file /home/user/workfolder/g4dna_protocol_demo/smsl/opt/mdp/min1.mdp]:\n",
      "  Removing center of mass motion in the presence of position restraints\n",
      "  might cause artifacts. When you are using position restraints to\n",
      "  equilibrate a macro-molecule, the artifacts are usually negligible.\n",
      "\n",
      "Calculating fourier grid dimensions for X Y Z\n",
      "Using a fourier grid of 28x28x28, spacing 0.113 0.113 0.113\n",
      "\n",
      "Estimate for the relative computational load of the PME mesh part: 0.19\n",
      "\n",
      "This run will generate roughly 0 Mb of data\n",
      "\n",
      "There was 1 NOTE\n",
      "\n",
      "GROMACS reminds you: \"Always code as if the person who ends up maintaining your code is a violent psychopath who knows where you live.\" (Martin Golding)\n",
      "\n",
      "                      :-) GROMACS - gmx mdrun, 2023.2 (-:\n",
      "\n",
      "Executable:   /home/user/opt/gromacs-2023/bin/gmx\n",
      "Data prefix:  /home/user/opt/gromacs-2023\n",
      "Working dir:  /home/user/workfolder/g4dna_protocol_demo/hybrid-ii_ewv/b.amber.drug_ff/3.Run_md\n",
      "Command line:\n",
      "  gmx mdrun -deffnm min1 -c min1.pdb\n",
      "\n",
      "Reading file min1.tpr, VERSION 2023.2 (single precision)\n",
      "1 GPU selected for this run.\n",
      "Mapping of GPU IDs to the 1 GPU task in the 1 rank on this node:\n",
      "  PP:0\n",
      "PP tasks will do (non-perturbed) short-ranged interactions on the GPU\n",
      "PP task will update and constrain coordinates on the CPU\n",
      "Using 1 MPI thread\n",
      "Using 12 OpenMP threads \n",
      "\n",
      "\n",
      "Steepest Descents:\n",
      "   Tolerance (Fmax)   =  1.00000e+03\n",
      "   Number of steps    =         5000\n",
      "\n",
      "writing lowest energy coordinates.\n",
      "\n",
      "Steepest Descents converged to Fmax < 1000 in 57 steps\n",
      "Potential Energy  = -2.8443438e+04\n",
      "Maximum force     =  7.9120764e+02 on atom 14\n",
      "Norm of force     =  1.2156339e+02\n",
      "\n",
      "GROMACS reminds you: \"Always code as if the person who ends up maintaining your code is a violent psychopath who knows where you live.\" (Martin Golding)\n",
      "\n"
     ]
    }
   ],
   "source": [
    "!gmx grompp -f {mdp_folder}/min1.mdp -c {complex}_solv.pdb -r {complex}_solv.pdb -p topol.top -o min1.tpr\n",
    "!gmx mdrun -deffnm min1 -c min1.pdb"
   ]
  },
  {
   "cell_type": "code",
   "execution_count": 15,
   "id": "670d35eb-f232-4c83-ae1f-91ed3f6101d9",
   "metadata": {},
   "outputs": [
    {
     "name": "stdout",
     "output_type": "stream",
     "text": [
      "                      :-) GROMACS - gmx grompp, 2023.2 (-:\n",
      "\n",
      "Executable:   /home/user/opt/gromacs-2023/bin/gmx\n",
      "Data prefix:  /home/user/opt/gromacs-2023\n",
      "Working dir:  /home/user/workfolder/g4dna_protocol_demo/hybrid-ii_ewv/b.amber.drug_ff/3.Run_md\n",
      "Command line:\n",
      "  gmx grompp -f /home/user/workfolder/g4dna_protocol_demo/smsl/opt/mdp/min2.mdp -c min1.pdb -r EWV_solv.pdb -p topol.top -o min2.tpr\n",
      "\n",
      "\n",
      "NOTE 1 [file /home/user/workfolder/g4dna_protocol_demo/smsl/opt/mdp/min2.mdp]:\n",
      "  With Verlet lists the optimal nstlist is >= 10, with GPUs >= 20. Note\n",
      "  that with the Verlet scheme, nstlist has no effect on the accuracy of\n",
      "  your simulation.\n",
      "\n",
      "Setting the LD random seed to -1293441129\n",
      "\n",
      "Generated 4753 of the 4753 non-bonded parameter combinations\n",
      "Generating 1-4 interactions: fudge = 0.5\n",
      "\n",
      "Generated 4753 of the 4753 1-4 parameter combinations\n",
      "\n",
      "Excluding 3 bonded neighbours molecule type 'EWV'\n",
      "\n",
      "turning H bonds into constraints...\n",
      "\n",
      "Excluding 2 bonded neighbours molecule type 'SOL'\n",
      "\n",
      "turning H bonds into constraints...\n",
      "\n",
      "Excluding 1 bonded neighbours molecule type 'K'\n",
      "\n",
      "turning H bonds into constraints...\n",
      "\n",
      "Excluding 1 bonded neighbours molecule type 'CL'\n",
      "\n",
      "turning H bonds into constraints...\n",
      "Analysing residue names:\n",
      "There are:     1      Other residues\n",
      "There are:   703      Water residues\n",
      "There are:     5        Ion residues\n",
      "Analysing residues not classified as Protein/DNA/RNA/Water and splitting into groups...\n",
      "Number of degrees of freedom in T-Coupling group rest is 4341.00\n",
      "The integrator does not provide a ensemble temperature, there is no system ensemble temperature\n",
      "\n",
      "The largest distance between excluded atoms is 0.383 nm between atom 6 and 8\n",
      "\n",
      "NOTE 2 [file /home/user/workfolder/g4dna_protocol_demo/smsl/opt/mdp/min2.mdp]:\n",
      "  Removing center of mass motion in the presence of position restraints\n",
      "  might cause artifacts. When you are using position restraints to\n",
      "  equilibrate a macro-molecule, the artifacts are usually negligible.\n",
      "\n",
      "Calculating fourier grid dimensions for X Y Z\n",
      "Using a fourier grid of 20x20x20, spacing 0.159 0.159 0.159\n",
      "\n",
      "Estimate for the relative computational load of the PME mesh part: 0.16\n",
      "\n",
      "This run will generate roughly 0 Mb of data\n",
      "\n",
      "There were 2 NOTEs\n",
      "\n",
      "GROMACS reminds you: \"Hold On Like Cliffhanger\" (Urban Dance Squad)\n",
      "\n",
      "                      :-) GROMACS - gmx mdrun, 2023.2 (-:\n",
      "\n",
      "Executable:   /home/user/opt/gromacs-2023/bin/gmx\n",
      "Data prefix:  /home/user/opt/gromacs-2023\n",
      "Working dir:  /home/user/workfolder/g4dna_protocol_demo/hybrid-ii_ewv/b.amber.drug_ff/3.Run_md\n",
      "Command line:\n",
      "  gmx mdrun -deffnm min2 -c min2.pdb\n",
      "\n",
      "Reading file min2.tpr, VERSION 2023.2 (single precision)\n",
      "Update groups can not be used for this system because atoms that are (in)directly constrained together are interdispersed with other atoms\n",
      "\n",
      "1 GPU selected for this run.\n",
      "Mapping of GPU IDs to the 1 GPU task in the 1 rank on this node:\n",
      "  PP:0\n",
      "PP tasks will do (non-perturbed) short-ranged interactions on the GPU\n",
      "PP task will update and constrain coordinates on the CPU\n",
      "Using 1 MPI thread\n",
      "Using 12 OpenMP threads \n",
      "\n",
      "\n",
      "Steepest Descents:\n",
      "   Tolerance (Fmax)   =  1.00000e+02\n",
      "   Number of steps    =        50000\n",
      "\n",
      "writing lowest energy coordinates.\n",
      "\n",
      "Steepest Descents converged to Fmax < 100 in 1606 steps\n",
      "Potential Energy  = -3.4749875e+04\n",
      "Maximum force     =  9.4178207e+01 on atom 1092\n",
      "Norm of force     =  1.4733562e+01\n",
      "\n",
      "GROMACS reminds you: \"Highly organized research is guaranteed to produce nothing new.\" (Frank Herbert)\n",
      "\n"
     ]
    }
   ],
   "source": [
    "## -r argument min1.pdb or {complex}_solv.pdb\n",
    "!gmx grompp -f {mdp_folder}/min2.mdp -c min1.pdb -r {complex}_solv.pdb -p topol.top -o min2.tpr\n",
    "!gmx mdrun -deffnm min2 -c min2.pdb"
   ]
  },
  {
   "cell_type": "markdown",
   "id": "c7751a29-bc94-4e0c-9715-732e7158d189",
   "metadata": {},
   "source": [
    "## Make Index File"
   ]
  },
  {
   "cell_type": "code",
   "execution_count": 16,
   "id": "62a214fc-7a48-4da3-9d4c-93acdd0acc87",
   "metadata": {},
   "outputs": [
    {
     "name": "stdout",
     "output_type": "stream",
     "text": [
      "                     :-) GROMACS - gmx make_ndx, 2023.2 (-:\n",
      "\n",
      "Executable:   /home/user/opt/gromacs-2023/bin/gmx\n",
      "Data prefix:  /home/user/opt/gromacs-2023\n",
      "Working dir:  /home/user/workfolder/g4dna_protocol_demo/hybrid-ii_ewv/b.amber.drug_ff/3.Run_md\n",
      "Command line:\n",
      "  gmx make_ndx -f min2.pdb -o EWV.simulate.ndx\n",
      "\n",
      "\n",
      "Reading structure file\n",
      "Going to read 0 old index file(s)\n",
      "Analysing residue names:\n",
      "There are:     1      Other residues\n",
      "There are:   703      Water residues\n",
      "There are:     5        Ion residues\n",
      "Analysing residues not classified as Protein/DNA/RNA/Water and splitting into groups...\n",
      "\n",
      "  0 System              :  2157 atoms\n",
      "  1 Other               :    43 atoms\n",
      "  2 EWV                 :    43 atoms\n",
      "  3 K                   :     2 atoms\n",
      "  4 CL                  :     3 atoms\n",
      "  5 Water               :  2109 atoms\n",
      "  6 SOL                 :  2109 atoms\n",
      "  7 non-Water           :    48 atoms\n",
      "  8 Ion                 :     5 atoms\n",
      "  9 Water_and_ions      :  2114 atoms\n",
      "\n",
      " nr : group      '!': not  'name' nr name   'splitch' nr    Enter: list groups\n",
      " 'a': atom       '&': and  'del' nr         'splitres' nr   'l': list residues\n",
      " 't': atom type  '|': or   'keep' nr        'splitat' nr    'h': help\n",
      " 'r': residue              'res' nr         'chain' char\n",
      " \"name\": group             'case': case sensitive           'q': save and quit\n",
      " 'ri': residue index\n",
      "\n",
      "> \n",
      "\n",
      "GROMACS reminds you: \"Highly organized research is guaranteed to produce nothing new.\" (Frank Herbert)\n",
      "\n"
     ]
    }
   ],
   "source": [
    "cmd = '''\\\n",
    "q\n",
    "'''\n",
    "# 1 | 3\n",
    "# name 10 DNA_drug\n",
    "# a 1-717\n",
    "# name 11 DNA_2K\n",
    "# a 1-717 | 3\n",
    "# name 12 DNA_2K_drug\n",
    "!echo -e \"{cmd}\" | gmx make_ndx -f min2.pdb -o {complex}.simulate.ndx"
   ]
  },
  {
   "cell_type": "markdown",
   "id": "1225092e-02db-41d1-beba-517aa4bb2dd5",
   "metadata": {},
   "source": [
    "### Heating\n",
    "(In the energy minimization process, the only parameter required is the initial structure. However, for NVT or NPT processes, since the .pdb file does not contain information about speed or temperature state, an additional parameter, \"-t\", must be included to provide this information.)"
   ]
  },
  {
   "cell_type": "code",
   "execution_count": 17,
   "id": "c1b94ef8-4e97-42a0-820d-111432f22223",
   "metadata": {},
   "outputs": [
    {
     "name": "stdout",
     "output_type": "stream",
     "text": [
      "gmx grompp -f /home/user/workfolder/g4dna_protocol_demo/smsl/opt/mdp/heat.mdp -c min2.pdb -r EWV_solv.pdb -p topol.top -o heat.tpr -n EWV.simulate.ndx\n",
      "gmx mdrun -deffnm heat -c heat.pdb -v\n"
     ]
    }
   ],
   "source": [
    "print(f\"gmx grompp -f {mdp_folder}/heat.mdp -c min2.pdb -r {complex}_solv.pdb -p topol.top -o heat.tpr -n {complex}.simulate.ndx\")\n",
    "print(f\"gmx mdrun -deffnm heat -c heat.pdb -v\")"
   ]
  },
  {
   "cell_type": "markdown",
   "id": "40fea2ac-3c63-4dec-8fcb-23b23f1a17f3",
   "metadata": {},
   "source": [
    "### Equilibration (NVT)"
   ]
  },
  {
   "cell_type": "code",
   "execution_count": 18,
   "id": "89a05cc5-f44b-47c9-a66b-8e107f680362",
   "metadata": {},
   "outputs": [
    {
     "name": "stdout",
     "output_type": "stream",
     "text": [
      "gmx grompp -f /home/user/workfolder/g4dna_protocol_demo/smsl/opt/mdp/nvt1.mdp -c heat.pdb -r EWV_solv.pdb -t heat.cpt -p topol.top -o nvt1.tpr -n EWV.simulate.ndx\n",
      "gmx mdrun -deffnm nvt1 -c nvt1.pdb -v\n"
     ]
    }
   ],
   "source": [
    "print(f\"gmx grompp -f {mdp_folder}/nvt1.mdp -c heat.pdb -r {complex}_solv.pdb -t heat.cpt -p topol.top -o nvt1.tpr -n {complex}.simulate.ndx\")\n",
    "print(f\"gmx mdrun -deffnm nvt1 -c nvt1.pdb -v\")"
   ]
  },
  {
   "cell_type": "markdown",
   "id": "389ab704-2df9-4461-b5e0-9d1ede0665a4",
   "metadata": {},
   "source": [
    "### Equilibration (NPT)"
   ]
  },
  {
   "cell_type": "code",
   "execution_count": 19,
   "id": "7f8f780d-48e1-465a-8673-0777017b4775",
   "metadata": {},
   "outputs": [
    {
     "name": "stdout",
     "output_type": "stream",
     "text": [
      "gmx grompp -f /home/user/workfolder/g4dna_protocol_demo/smsl/opt/mdp/npt1.mdp -c nvt1.pdb -r EWV_solv.pdb -t nvt1.cpt -p topol.top -o npt1.tpr -n EWV.simulate.ndx\n",
      "gmx mdrun -deffnm npt1 -c npt1.pdb -v\n"
     ]
    }
   ],
   "source": [
    "print(f\"gmx grompp -f {mdp_folder}/npt1.mdp -c nvt1.pdb -r {complex}_solv.pdb -t nvt1.cpt -p topol.top -o npt1.tpr -n {complex}.simulate.ndx\")\n",
    "print(f\"gmx mdrun -deffnm npt1 -c npt1.pdb -v\")"
   ]
  },
  {
   "cell_type": "code",
   "execution_count": 20,
   "id": "5e05f157-d2c9-4b63-8f8d-c3b2a005478d",
   "metadata": {},
   "outputs": [
    {
     "name": "stdout",
     "output_type": "stream",
     "text": [
      "gmx grompp -f /home/user/workfolder/g4dna_protocol_demo/smsl/opt/mdp/npt2.mdp -c npt1.pdb -r EWV_solv.pdb -t npt1.cpt -p topol.top -o npt2.tpr -n EWV.simulate.ndx\n",
      "gmx mdrun -deffnm npt2 -c npt2.pdb -v\n"
     ]
    }
   ],
   "source": [
    "print(f\"gmx grompp -f {mdp_folder}/npt2.mdp -c npt1.pdb -r {complex}_solv.pdb -t npt1.cpt -p topol.top -o npt2.tpr -n {complex}.simulate.ndx\")\n",
    "print(f\"gmx mdrun -deffnm npt2 -c npt2.pdb -v\")"
   ]
  },
  {
   "cell_type": "raw",
   "id": "b9cb6dc7-bb33-4eb3-9c1b-088b1dc650be",
   "metadata": {},
   "source": [
    "gmx grompp -f {mdp_folder}/heat.mdp -c min2.pdb -r {complex}_solv.pdb -p topol.top -o heat.tpr -n POH.simulate.ndx\n",
    "gmx mdrun -deffnm heat -c heat.pdb -v\n",
    "gmx grompp -f {mdp_folder}/nvt1.mdp -c heat.pdb -r {complex}_solv.pdb -t heat.cpt -p topol.top -o nvt1.tpr -n POH.simulate.ndx\n",
    "gmx mdrun -deffnm nvt1 -c nvt1.pdb -v\n",
    "gmx grompp -f {mdp_folder}/npt1.mdp -c nvt1.pdb -r {complex}_solv.pdb -t nvt1.cpt -p topol.top -o npt1.tpr -n POH.simulate.ndx\n",
    "gmx mdrun -deffnm npt1 -c npt1.pdb -v\n",
    "gmx grompp -f {mdp_folder}/npt2.mdp -c npt1.pdb -r {complex}_solv.pdb -t npt1.cpt -p topol.top -o npt2.tpr -n POH.simulate.ndx\n",
    "gmx mdrun -deffnm npt2 -c npt2.pdb -v"
   ]
  },
  {
   "cell_type": "markdown",
   "id": "1413b48b-440b-4243-b7ce-afb3114e610f",
   "metadata": {},
   "source": [
    "### Run MD (test)"
   ]
  },
  {
   "cell_type": "code",
   "execution_count": 21,
   "id": "a0c6920f-4502-4e67-8d18-8fbc101ce6aa",
   "metadata": {
    "tags": []
   },
   "outputs": [
    {
     "name": "stdout",
     "output_type": "stream",
     "text": [
      "gmx grompp -f md0.mdp -c npt2.pdb -p topol.top -o md0.tpr -n EWV.simulate.ndx\n",
      "gmx mdrun -deffnm md0 -c md0.pdb\n"
     ]
    }
   ],
   "source": [
    "!echo \"gmx grompp -f md0.mdp -c npt2.pdb -p topol.top -o md0.tpr -n {complex}.simulate.ndx\"\n",
    "!echo \"gmx mdrun -deffnm md0 -c md0.pdb\""
   ]
  }
 ],
 "metadata": {
  "kernelspec": {
   "display_name": "Python 3 (ipykernel)",
   "language": "python",
   "name": "python3"
  },
  "language_info": {
   "codemirror_mode": {
    "name": "ipython",
    "version": 3
   },
   "file_extension": ".py",
   "mimetype": "text/x-python",
   "name": "python",
   "nbconvert_exporter": "python",
   "pygments_lexer": "ipython3",
   "version": "3.7.4"
  }
 },
 "nbformat": 4,
 "nbformat_minor": 5
}
