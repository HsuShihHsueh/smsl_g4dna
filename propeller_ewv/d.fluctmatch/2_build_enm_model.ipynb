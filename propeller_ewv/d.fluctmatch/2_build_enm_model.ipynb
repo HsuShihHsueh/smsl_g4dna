{
 "cells": [
  {
   "cell_type": "code",
   "execution_count": 1,
   "id": "bcceaffe-d261-43cc-9d08-66c4cc9a1785",
   "metadata": {
    "tags": []
   },
   "outputs": [],
   "source": [
    "import sys\n",
    "sys.path.append(\"../../smsl\")"
   ]
  },
  {
   "cell_type": "code",
   "execution_count": 2,
   "id": "18adcd3c-6ee9-4a9a-8603-97471b40bfce",
   "metadata": {
    "tags": []
   },
   "outputs": [],
   "source": [
    "from smsl.enmBuilder import ENMAgent"
   ]
  },
  {
   "cell_type": "markdown",
   "id": "ba3eba8c-83f9-4b4f-82dd-ba9e32f06f38",
   "metadata": {
    "tags": []
   },
   "source": [
    "### Part 3: prepare ENM files"
   ]
  },
  {
   "cell_type": "code",
   "execution_count": 3,
   "id": "e1d9bf8a-6b05-4f05-b2e0-1e3b5213bf86",
   "metadata": {
    "tags": []
   },
   "outputs": [
    {
     "name": "stdout",
     "output_type": "stream",
     "text": [
      "with 19 frames of 467 atoms\n"
     ]
    },
    {
     "name": "stderr",
     "output_type": "stream",
     "text": [
      "/home/user/anaconda3/envs/fluctmatch/lib/python3.8/site-packages/MDAnalysis/coordinates/base.py:721: UserWarning: Reader has no dt information, set to 1.0 ps\n",
      "  return self.ts.dt\n"
     ]
    }
   ],
   "source": [
    "ENM_agent = ENMAgent()\n",
    "ENM_agent.load_TimeAgent()\n",
    "ENM_agent.load_ENMUniverse()\n",
    "ENM_agent.modify_ENMUniverse()"
   ]
  },
  {
   "cell_type": "markdown",
   "id": "eff18e14-f60f-45a2-9b30-f105bd98f8b2",
   "metadata": {},
   "source": [
    "### Part 4: connect the pair that distance < cutoff, then get the union in all windows"
   ]
  },
  {
   "cell_type": "code",
   "execution_count": 4,
   "id": "c2b08326-c077-46f4-828a-676f7d5246e3",
   "metadata": {
    "tags": []
   },
   "outputs": [
    {
     "name": "stdout",
     "output_type": "stream",
     "text": [
      "0000_0500ns: 5689 pairs\n",
      "0250_0750ns: 5765 pairs\n",
      "0500_1000ns: 5681 pairs\n",
      "0750_1250ns: 5825 pairs\n",
      "1000_1500ns: 5672 pairs\n",
      "1250_1750ns: 5778 pairs\n",
      "1500_2000ns: 5722 pairs\n",
      "1750_2250ns: 5985 pairs\n",
      "2000_2500ns: 5725 pairs\n",
      "2250_2750ns: 5871 pairs\n",
      "2500_3000ns: 5751 pairs\n",
      "2750_3250ns: 5814 pairs\n",
      "3000_3500ns: 5862 pairs\n",
      "3250_3750ns: 5776 pairs\n",
      "3500_4000ns: 5750 pairs\n",
      "3750_4250ns: 5763 pairs\n",
      "4000_4500ns: 5924 pairs\n",
      "4250_4750ns: 5747 pairs\n",
      "4500_5000ns: 5863 pairs\n",
      "\n",
      "Total 467 beads with 8601 pairs\n"
     ]
    }
   ],
   "source": [
    "ENM_agent.get_union_bonds()"
   ]
  },
  {
   "cell_type": "code",
   "execution_count": 5,
   "id": "9b73110d-a290-46f6-bbbf-46db5e6b2c74",
   "metadata": {
    "tags": []
   },
   "outputs": [
    {
     "name": "stdout",
     "output_type": "stream",
     "text": [
      "0000_0500ns\n",
      "Edit by Allen 2024/06/01\n",
      "0250_0750ns\n",
      "Edit by Allen 2024/06/01\n",
      "0500_1000ns\n",
      "Edit by Allen 2024/06/01\n",
      "0750_1250ns\n",
      "Edit by Allen 2024/06/01\n",
      "1000_1500ns\n",
      "Edit by Allen 2024/06/01\n",
      "1250_1750ns\n",
      "Edit by Allen 2024/06/01\n",
      "1500_2000ns\n",
      "Edit by Allen 2024/06/01\n",
      "1750_2250ns\n",
      "Edit by Allen 2024/06/01\n",
      "2000_2500ns\n",
      "Edit by Allen 2024/06/01\n",
      "2250_2750ns\n",
      "Edit by Allen 2024/06/01\n",
      "2500_3000ns\n",
      "Edit by Allen 2024/06/01\n",
      "2750_3250ns\n",
      "Edit by Allen 2024/06/01\n",
      "3000_3500ns\n",
      "Edit by Allen 2024/06/01\n",
      "3250_3750ns\n",
      "Edit by Allen 2024/06/01\n",
      "3500_4000ns\n",
      "Edit by Allen 2024/06/01\n",
      "3750_4250ns\n",
      "Edit by Allen 2024/06/01\n",
      "4000_4500ns\n",
      "Edit by Allen 2024/06/01\n",
      "4250_4750ns\n",
      "Edit by Allen 2024/06/01\n",
      "4500_5000ns\n",
      "Edit by Allen 2024/06/01\n"
     ]
    }
   ],
   "source": [
    "ENM_agent.write_all_crd_rtf_str_psf_file()"
   ]
  },
  {
   "cell_type": "code",
   "execution_count": null,
   "id": "87d26bf7-95a6-472b-908e-c02cfad0d765",
   "metadata": {},
   "outputs": [],
   "source": []
  }
 ],
 "metadata": {
  "kernelspec": {
   "display_name": "Python [conda env:fluctmatch]",
   "language": "python",
   "name": "conda-env-fluctmatch-py"
  },
  "language_info": {
   "codemirror_mode": {
    "name": "ipython",
    "version": 3
   },
   "file_extension": ".py",
   "mimetype": "text/x-python",
   "name": "python",
   "nbconvert_exporter": "python",
   "pygments_lexer": "ipython3",
   "version": "3.8.0"
  }
 },
 "nbformat": 4,
 "nbformat_minor": 5
}
