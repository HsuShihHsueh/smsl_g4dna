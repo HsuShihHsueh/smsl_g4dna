{
 "cells": [
  {
   "cell_type": "code",
   "execution_count": 1,
   "id": "323947c3-a71c-4d6a-a403-0e463a5cf366",
   "metadata": {
    "tags": []
   },
   "outputs": [],
   "source": [
    "import sys\n",
    "sys.path.append(\"../../smsl\")"
   ]
  },
  {
   "cell_type": "markdown",
   "id": "b0b4220c-61ef-42ed-bfb0-91309266e891",
   "metadata": {},
   "source": [
    "### Part 1: Initialize"
   ]
  },
  {
   "cell_type": "code",
   "execution_count": 2,
   "id": "d989ce8a-3222-419a-85af-e32a85486556",
   "metadata": {
    "tags": []
   },
   "outputs": [],
   "source": [
    "from smsl.fluctMatch import FmAgent"
   ]
  },
  {
   "cell_type": "code",
   "execution_count": 3,
   "id": "9d05318e-456b-451f-b394-d59f5eb1250f",
   "metadata": {
    "tags": []
   },
   "outputs": [],
   "source": [
    "fm_agent = FmAgent()\n",
    "fm_agent.load_TimeAgent()"
   ]
  },
  {
   "cell_type": "markdown",
   "id": "4cdefa1b-8d55-4fee-a488-6ef2ab890460",
   "metadata": {},
   "source": [
    "### Part 2: Write Charmm script for running NMA"
   ]
  },
  {
   "cell_type": "code",
   "execution_count": 4,
   "id": "18fd935a-19aa-43e2-8ff9-c45654e20d55",
   "metadata": {
    "tags": []
   },
   "outputs": [],
   "source": [
    "## if run in crouns\n",
    "for time_label, st_agent in fm_agent.t_agent.items():\n",
    "    st_agent.bigtraj_folder = st_agent.bigtraj_folder.replace('/data/hpcUser/chu_02', '$HOME/user')"
   ]
  },
  {
   "cell_type": "code",
   "execution_count": 5,
   "id": "454654fe-1939-42a7-8d8a-085a65e81d6a",
   "metadata": {
    "tags": []
   },
   "outputs": [],
   "source": [
    "fm_agent.write_all_nmascipt()"
   ]
  },
  {
   "cell_type": "markdown",
   "id": "8b523420-33f0-4413-848c-cdaeefcac9a3",
   "metadata": {},
   "source": [
    "### Part3: Running Fluctuation Matching"
   ]
  },
  {
   "cell_type": "code",
   "execution_count": 6,
   "id": "ac6c7afc-b116-4809-90d4-62ab9d0bb417",
   "metadata": {
    "tags": []
   },
   "outputs": [
    {
     "name": "stdout",
     "output_type": "stream",
     "text": [
      "Number of threads on CPU: 12\n",
      "Parameter `max_workers` cannot bigger than this number\n"
     ]
    }
   ],
   "source": [
    "import psutil\n",
    "n_cpu = psutil.cpu_count(logical=True)\n",
    "print(f'Number of threads on CPU: {n_cpu}')\n",
    "print('Parameter `max_workers` cannot bigger than this number')"
   ]
  },
  {
   "cell_type": "code",
   "execution_count": 7,
   "id": "870e91c7-cc22-4718-a59c-a11cf14447a6",
   "metadata": {
    "tags": []
   },
   "outputs": [
    {
     "data": {
      "application/vnd.jupyter.widget-view+json": {
       "model_id": "8eb96af58f424d91acae742d8f72ae78",
       "version_major": 2,
       "version_minor": 0
      },
      "text/plain": [
       "Window 0000_0500:   0%|          | 0/250 [00:00<?, ?it/s]"
      ]
     },
     "metadata": {},
     "output_type": "display_data"
    },
    {
     "data": {
      "application/vnd.jupyter.widget-view+json": {
       "model_id": "4104416593274331aa74c3d0c29f5213",
       "version_major": 2,
       "version_minor": 0
      },
      "text/plain": [
       "Window 0250_0750:   0%|          | 0/250 [00:00<?, ?it/s]"
      ]
     },
     "metadata": {},
     "output_type": "display_data"
    },
    {
     "data": {
      "application/vnd.jupyter.widget-view+json": {
       "model_id": "a3bd427754d14a74b2cea5dcc6cabbb7",
       "version_major": 2,
       "version_minor": 0
      },
      "text/plain": [
       "Window 0500_1000:   0%|          | 0/250 [00:00<?, ?it/s]"
      ]
     },
     "metadata": {},
     "output_type": "display_data"
    },
    {
     "data": {
      "application/vnd.jupyter.widget-view+json": {
       "model_id": "a31fbcec1860499bbff88f472a3e477a",
       "version_major": 2,
       "version_minor": 0
      },
      "text/plain": [
       "Window 0750_1250:   0%|          | 0/250 [00:00<?, ?it/s]"
      ]
     },
     "metadata": {},
     "output_type": "display_data"
    },
    {
     "data": {
      "application/vnd.jupyter.widget-view+json": {
       "model_id": "9e700b2b44dd4d268c9edad77f194ef5",
       "version_major": 2,
       "version_minor": 0
      },
      "text/plain": [
       "Window 1000_1500:   0%|          | 0/250 [00:00<?, ?it/s]"
      ]
     },
     "metadata": {},
     "output_type": "display_data"
    },
    {
     "data": {
      "application/vnd.jupyter.widget-view+json": {
       "model_id": "25dc1ef3131644a78af192493de3f38c",
       "version_major": 2,
       "version_minor": 0
      },
      "text/plain": [
       "Window 1250_1750:   0%|          | 0/250 [00:00<?, ?it/s]"
      ]
     },
     "metadata": {},
     "output_type": "display_data"
    },
    {
     "data": {
      "application/vnd.jupyter.widget-view+json": {
       "model_id": "803372c7eb5b4bfd981c0ee29c1dfcc8",
       "version_major": 2,
       "version_minor": 0
      },
      "text/plain": [
       "Window 1500_2000:   0%|          | 0/250 [00:00<?, ?it/s]"
      ]
     },
     "metadata": {},
     "output_type": "display_data"
    },
    {
     "data": {
      "application/vnd.jupyter.widget-view+json": {
       "model_id": "7447cdcaaed94aaba6729c2af00d6d15",
       "version_major": 2,
       "version_minor": 0
      },
      "text/plain": [
       "Window 1750_2250:   0%|          | 0/250 [00:00<?, ?it/s]"
      ]
     },
     "metadata": {},
     "output_type": "display_data"
    },
    {
     "data": {
      "application/vnd.jupyter.widget-view+json": {
       "model_id": "5c0bc749f7da4e1abb812aa6c31ceff7",
       "version_major": 2,
       "version_minor": 0
      },
      "text/plain": [
       "Window 2000_2500:   0%|          | 0/250 [00:00<?, ?it/s]"
      ]
     },
     "metadata": {},
     "output_type": "display_data"
    },
    {
     "data": {
      "application/vnd.jupyter.widget-view+json": {
       "model_id": "21a889c01301416aa7c41bd2224846e0",
       "version_major": 2,
       "version_minor": 0
      },
      "text/plain": [
       "Window 2250_2750:   0%|          | 0/250 [00:00<?, ?it/s]"
      ]
     },
     "metadata": {},
     "output_type": "display_data"
    },
    {
     "data": {
      "application/vnd.jupyter.widget-view+json": {
       "model_id": "62acefee72c347d6a6266d35bf084fa2",
       "version_major": 2,
       "version_minor": 0
      },
      "text/plain": [
       "Window 2500_3000:   0%|          | 0/250 [00:00<?, ?it/s]"
      ]
     },
     "metadata": {},
     "output_type": "display_data"
    },
    {
     "data": {
      "application/vnd.jupyter.widget-view+json": {
       "model_id": "2786e900e0a846a3aefc8381a2da0045",
       "version_major": 2,
       "version_minor": 0
      },
      "text/plain": [
       "Window 2750_3250:   0%|          | 0/250 [00:00<?, ?it/s]"
      ]
     },
     "metadata": {},
     "output_type": "display_data"
    },
    {
     "data": {
      "application/vnd.jupyter.widget-view+json": {
       "model_id": "105b6c440a5c40169174b22571ec95cd",
       "version_major": 2,
       "version_minor": 0
      },
      "text/plain": [
       "Window 3000_3500:   0%|          | 0/250 [00:00<?, ?it/s]"
      ]
     },
     "metadata": {},
     "output_type": "display_data"
    },
    {
     "data": {
      "application/vnd.jupyter.widget-view+json": {
       "model_id": "eeff058c3bd94216831b7bd0778d6a99",
       "version_major": 2,
       "version_minor": 0
      },
      "text/plain": [
       "Window 3250_3750:   0%|          | 0/250 [00:00<?, ?it/s]"
      ]
     },
     "metadata": {},
     "output_type": "display_data"
    },
    {
     "data": {
      "application/vnd.jupyter.widget-view+json": {
       "model_id": "05718a07b8e04bbdb57d36df1e47b336",
       "version_major": 2,
       "version_minor": 0
      },
      "text/plain": [
       "Window 3500_4000:   0%|          | 0/250 [00:00<?, ?it/s]"
      ]
     },
     "metadata": {},
     "output_type": "display_data"
    },
    {
     "data": {
      "application/vnd.jupyter.widget-view+json": {
       "model_id": "0eca2cc36c84446cb83433649ce9aa06",
       "version_major": 2,
       "version_minor": 0
      },
      "text/plain": [
       "Window 3750_4250:   0%|          | 0/250 [00:00<?, ?it/s]"
      ]
     },
     "metadata": {},
     "output_type": "display_data"
    },
    {
     "data": {
      "application/vnd.jupyter.widget-view+json": {
       "model_id": "7aa984d9ed004d78843779a5c413c9a9",
       "version_major": 2,
       "version_minor": 0
      },
      "text/plain": [
       "Window 4000_4500:   0%|          | 0/250 [00:00<?, ?it/s]"
      ]
     },
     "metadata": {},
     "output_type": "display_data"
    },
    {
     "data": {
      "application/vnd.jupyter.widget-view+json": {
       "model_id": "c413df9c6d23442cbff9e6c2db6a8610",
       "version_major": 2,
       "version_minor": 0
      },
      "text/plain": [
       "Window 4250_4750:   0%|          | 0/250 [00:00<?, ?it/s]"
      ]
     },
     "metadata": {},
     "output_type": "display_data"
    },
    {
     "data": {
      "application/vnd.jupyter.widget-view+json": {
       "model_id": "4749a1a3b64f4e5e81b243ea2385a58c",
       "version_major": 2,
       "version_minor": 0
      },
      "text/plain": [
       "Window 4500_5000:   0%|          | 0/250 [00:00<?, ?it/s]"
      ]
     },
     "metadata": {},
     "output_type": "display_data"
    },
    {
     "name": "stderr",
     "output_type": "stream",
     "text": [
      "/home/user/anaconda3/envs/fluctmatch/lib/python3.8/site-packages/MDAnalysis/coordinates/DCD.py:165: DeprecationWarning: DCDReader currently makes independent timesteps by copying self.ts while other readers update self.ts inplace. This behavior will be changed in 3.0 to be the same as other readers. Read more at https://github.com/MDAnalysis/mdanalysis/issues/3889 to learn if this change in behavior might affect you.\n"
     ]
    }
   ],
   "source": [
    "fm_agent.run_all_fluctmatch(max_workers=10)"
   ]
  },
  {
   "cell_type": "code",
   "execution_count": 8,
   "id": "51ed122a-1e03-450b-a0b4-906724aaf604",
   "metadata": {},
   "outputs": [],
   "source": [
    "# fm_agent.t_agent['0000_0500'].fluct_match(loop_iterate=tqdm(range(1, fm_agent.iter_num+1)), verbose=1)"
   ]
  },
  {
   "cell_type": "code",
   "execution_count": null,
   "id": "0b8279fe-86ee-43d6-a207-efd289699aad",
   "metadata": {},
   "outputs": [],
   "source": []
  }
 ],
 "metadata": {
  "kernelspec": {
   "display_name": "Python [conda env:fluctmatch]",
   "language": "python",
   "name": "conda-env-fluctmatch-py"
  },
  "language_info": {
   "codemirror_mode": {
    "name": "ipython",
    "version": 3
   },
   "file_extension": ".py",
   "mimetype": "text/x-python",
   "name": "python",
   "nbconvert_exporter": "python",
   "pygments_lexer": "ipython3",
   "version": "3.8.0"
  }
 },
 "nbformat": 4,
 "nbformat_minor": 5
}
