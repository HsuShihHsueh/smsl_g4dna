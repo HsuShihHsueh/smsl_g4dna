{
 "cells": [
  {
   "cell_type": "markdown",
   "id": "17877ef8-5a69-43ff-9348-080c570ce831",
   "metadata": {},
   "source": [
    "### Reinitialize the file"
   ]
  },
  {
   "cell_type": "code",
   "execution_count": 1,
   "id": "fd4677e9-8808-4fa0-a40e-4efd8cc05ba6",
   "metadata": {
    "tags": []
   },
   "outputs": [],
   "source": [
    "# warning !! remove all except this script\n",
    "## remove -i argument to run\n",
    "!rm `(ls | grep -v '.ipynb')`"
   ]
  },
  {
   "cell_type": "code",
   "execution_count": 2,
   "id": "4f800f00-8c41-44e0-bf0b-5d185db6fa72",
   "metadata": {
    "tags": []
   },
   "outputs": [],
   "source": [
    "pdbid = '2jpz'\n",
    "drug  = 'POH'\n",
    "jobname = f'{pdbid}_{drug}' if not drug is None else pdbid"
   ]
  },
  {
   "cell_type": "code",
   "execution_count": 3,
   "id": "c6ad9ce9-909a-47f3-a885-8983309e0c67",
   "metadata": {
    "tags": []
   },
   "outputs": [],
   "source": [
    "import os\n",
    "ff_folder  = os.path.realpath(\"../../../smsl/opt/force_field\")\n",
    "mdp_folder = os.path.realpath(\"../../../smsl/opt/mdp\")"
   ]
  },
  {
   "cell_type": "markdown",
   "id": "d733d2a6-85c2-4b9a-9d7b-f12a567d6f30",
   "metadata": {
    "tags": []
   },
   "source": [
    "### Copy DNA from the file which process CHARMM"
   ]
  },
  {
   "cell_type": "code",
   "execution_count": 4,
   "id": "ac297124-56c5-4238-9531-8069d596a9d2",
   "metadata": {
    "tags": []
   },
   "outputs": [],
   "source": [
    "if drug is None:\n",
    "    !cp ../../a.charmm.dna_setup/{jobname}.pgro.pdb ./\n",
    "else: \n",
    "    !cp ../../b.amber.drug_ff/5.Output/{pdbid}.pgro.pdb ./\n",
    "    !cp ../../b.amber.drug_ff/5.Output/*{drug}* ./"
   ]
  },
  {
   "cell_type": "code",
   "execution_count": 5,
   "id": "ad7e2add-192b-4b9a-b495-efae0a89ad59",
   "metadata": {
    "tags": []
   },
   "outputs": [
    {
     "name": "stdout",
     "output_type": "stream",
     "text": [
      "                     :-) GROMACS - gmx pdb2gmx, 2023.2 (-:\n",
      "\n",
      "Executable:   /home/user/opt/gromacs-2023/bin/gmx\n",
      "Data prefix:  /home/user/opt/gromacs-2023\n",
      "Working dir:  /home/user/workfolder/g4dna_protocol/hybrid-ii_poh/c.gromacs.run_md/1.create_system\n",
      "Command line:\n",
      "  gmx pdb2gmx -f 2jpz.pgro.pdb -o 2jpz.gro.pdb -chainsep ter -water tip3p\n",
      "\n",
      "Select the Force Field:\n",
      "\n",
      "From '/home/user/workfolder/g4dna_protocol/smsl/opt/force_field':\n",
      "\n",
      " 1: AMBER14SB_parmbsc1\n",
      "\n",
      " 2: OL21 nucleic (Zgarbova et al., J. Chem. Theory Comput. 17, 6292-6301, 2021\n",
      "\n",
      "From '/home/user/opt/gromacs-2023/share/gromacs/top':\n",
      "\n",
      " 3: AMBER03 protein, nucleic AMBER94 (Duan et al., J. Comp. Chem. 24, 1999-2012, 2003)\n",
      "\n",
      " 4: AMBER94 force field (Cornell et al., JACS 117, 5179-5197, 1995)\n",
      "\n",
      " 5: AMBER96 protein, nucleic AMBER94 (Kollman et al., Acc. Chem. Res. 29, 461-469, 1996)\n",
      "\n",
      " 6: AMBER99 protein, nucleic AMBER94 (Wang et al., J. Comp. Chem. 21, 1049-1074, 2000)\n",
      "\n",
      " 7: AMBER99SB protein, nucleic AMBER94 (Hornak et al., Proteins 65, 712-725, 2006)\n",
      "\n",
      " 8: AMBER99SB-ILDN protein, nucleic AMBER94 (Lindorff-Larsen et al., Proteins 78, 1950-58, 2010)\n",
      "\n",
      " 9: AMBERGS force field (Garcia & Sanbonmatsu, PNAS 99, 2782-2787, 2002)\n",
      "\n",
      "10: CHARMM27 all-atom force field (CHARM22 plus CMAP for proteins)\n",
      "\n",
      "11: GROMOS96 43a1 force field\n",
      "\n",
      "12: GROMOS96 43a2 force field (improved alkane dihedrals)\n",
      "\n",
      "13: GROMOS96 45a3 force field (Schuler JCC 2001 22 1205)\n",
      "\n",
      "14: GROMOS96 53a5 force field (JCC 2004 vol 25 pag 1656)\n",
      "\n",
      "15: GROMOS96 53a6 force field (JCC 2004 vol 25 pag 1656)\n",
      "\n",
      "16: GROMOS96 54a7 force field (Eur. Biophys. J. (2011), 40,, 843-856, DOI: 10.1007/s00249-011-0700-9)\n",
      "\n",
      "17: OPLS-AA/L all-atom force field (2001 aminoacid dihedrals)\n",
      "\n",
      "Using the Amber14sb_OL21 force field in directory /home/user/workfolder/g4dna_protocol/smsl/opt/force_field/amber14sb_OL21.ff\n",
      "\n",
      "going to rename /home/user/workfolder/g4dna_protocol/smsl/opt/force_field/amber14sb_OL21.ff/aminoacids.r2b\n",
      "Opening force field file /home/user/workfolder/g4dna_protocol/smsl/opt/force_field/amber14sb_OL21.ff/aminoacids.r2b\n",
      "\n",
      "going to rename /home/user/workfolder/g4dna_protocol/smsl/opt/force_field/amber14sb_OL21.ff/dna.r2b\n",
      "Opening force field file /home/user/workfolder/g4dna_protocol/smsl/opt/force_field/amber14sb_OL21.ff/dna.r2b\n",
      "\n",
      "going to rename /home/user/workfolder/g4dna_protocol/smsl/opt/force_field/amber14sb_OL21.ff/rna.r2b\n",
      "Opening force field file /home/user/workfolder/g4dna_protocol/smsl/opt/force_field/amber14sb_OL21.ff/rna.r2b\n",
      "Reading 2jpz.pgro.pdb...\n",
      "Read '', 717 atoms\n",
      "\n",
      "Analyzing pdb file\n",
      "Splitting chemical chains based on TER records only (ignoring chain id).\n",
      "\n",
      "There are 2 chains and 0 blocks of water and 24 residues with 717 atoms\n",
      "\n",
      "  chain  #res #atoms\n",
      "\n",
      "  1 ' '    22    715  \n",
      "\n",
      "  2 ' '     2      2  \n",
      "\n",
      "All occupancies are one\n",
      "All occupancies are one\n",
      "Opening force field file /home/user/workfolder/g4dna_protocol/smsl/opt/force_field/amber14sb_OL21.ff/atomtypes.atp\n",
      "\n",
      "Reading residue database... (Amber14sb_OL21)\n",
      "Opening force field file /home/user/workfolder/g4dna_protocol/smsl/opt/force_field/amber14sb_OL21.ff/aminoacids.rtp\n",
      "Opening force field file /home/user/workfolder/g4dna_protocol/smsl/opt/force_field/amber14sb_OL21.ff/dna.rtp\n",
      "Opening force field file /home/user/workfolder/g4dna_protocol/smsl/opt/force_field/amber14sb_OL21.ff/rna.rtp\n",
      "Opening force field file /home/user/workfolder/g4dna_protocol/smsl/opt/force_field/amber14sb_OL21.ff/aminoacids.hdb\n",
      "Opening force field file /home/user/workfolder/g4dna_protocol/smsl/opt/force_field/amber14sb_OL21.ff/dna.hdb\n",
      "Opening force field file /home/user/workfolder/g4dna_protocol/smsl/opt/force_field/amber14sb_OL21.ff/rna.hdb\n",
      "Opening force field file /home/user/workfolder/g4dna_protocol/smsl/opt/force_field/amber14sb_OL21.ff/aminoacids.n.tdb\n",
      "Opening force field file /home/user/workfolder/g4dna_protocol/smsl/opt/force_field/amber14sb_OL21.ff/aminoacids.c.tdb\n",
      "\n",
      "Processing chain 1 (715 atoms, 22 residues)\n",
      "\n",
      "Identified residue DA1 as a starting terminus.\n",
      "\n",
      "Identified residue DG22 as a ending terminus.\n",
      "8 out of 8 lines of specbond.dat converted successfully\n",
      "Opening force field file /home/user/workfolder/g4dna_protocol/smsl/opt/force_field/amber14sb_OL21.ff/aminoacids.arn\n",
      "Opening force field file /home/user/workfolder/g4dna_protocol/smsl/opt/force_field/amber14sb_OL21.ff/dna.arn\n",
      "Opening force field file /home/user/workfolder/g4dna_protocol/smsl/opt/force_field/amber14sb_OL21.ff/rna.arn\n",
      "\n",
      "Checking for duplicate atoms....\n",
      "\n",
      "Generating any missing hydrogen atoms and/or adding termini.\n",
      "\n",
      "Now there are 22 residues with 715 atoms\n",
      "Chain time...\n",
      "\n",
      "Making bonds...\n",
      "\n",
      "Number of bonds was 774, now 774\n",
      "\n",
      "Generating angles, dihedrals and pairs...\n",
      "Before cleaning: 1864 pairs\n",
      "Before cleaning: 2054 dihedrals\n",
      "\n",
      "Making cmap torsions...\n",
      "\n",
      "There are 2054 dihedrals,  128 impropers, 1404 angles\n",
      "          1798 pairs,      774 bonds and     0 virtual sites\n",
      "\n",
      "Total mass 6945.490 a.m.u.\n",
      "\n",
      "Total charge -21.000 e\n",
      "\n",
      "Writing topology\n",
      "\n",
      "Processing chain 2 (2 atoms, 2 residues)\n",
      "\n",
      "Residue K1 has type 'Ion', assuming it is not linked into a chain.\n",
      "\n",
      "Residue K2 has type 'Ion', assuming it is not linked into a chain.\n",
      "\n",
      "Problem with chain definition, or missing terminal residues. This chain does not appear to contain a recognized chain molecule. If this is incorrect, you can edit residuetypes.dat to modify the behavior.\n",
      "8 out of 8 lines of specbond.dat converted successfully\n",
      "Opening force field file /home/user/workfolder/g4dna_protocol/smsl/opt/force_field/amber14sb_OL21.ff/aminoacids.arn\n",
      "Opening force field file /home/user/workfolder/g4dna_protocol/smsl/opt/force_field/amber14sb_OL21.ff/dna.arn\n",
      "Opening force field file /home/user/workfolder/g4dna_protocol/smsl/opt/force_field/amber14sb_OL21.ff/rna.arn\n",
      "\n",
      "Checking for duplicate atoms....\n",
      "\n",
      "Generating any missing hydrogen atoms and/or adding termini.\n",
      "\n",
      "Now there are 2 residues with 2 atoms\n",
      "Chain time...\n",
      "\n",
      "Making bonds...\n",
      "\n",
      "No bonds\n",
      "\n",
      "Generating angles, dihedrals and pairs...\n",
      "\n",
      "Making cmap torsions...\n",
      "\n",
      "There are    0 dihedrals,    0 impropers,    0 angles\n",
      "             0 pairs,        0 bonds and     0 virtual sites\n",
      "\n",
      "Total mass 78.200 a.m.u.\n",
      "\n",
      "Total charge 2.000 e\n",
      "\n",
      "Writing topology\n",
      "\n",
      "Including chain 1 in system: 715 atoms 22 residues\n",
      "\n",
      "Including chain 2 in system: 2 atoms 2 residues\n",
      "\n",
      "Now there are 717 atoms and 24 residues\n",
      "\n",
      "Total mass in system 7023.690 a.m.u.\n",
      "\n",
      "Total charge in system -19.000 e\n",
      "\n",
      "Writing coordinate file...\n",
      "\n",
      "\t\t--------- PLEASE NOTE ------------\n",
      "\n",
      "You have successfully generated a topology from: 2jpz.pgro.pdb.\n",
      "\n",
      "The Amber14sb_OL21 force field and the tip3p water model are used.\n",
      "\n",
      "\t\t--------- ETON ESAELP ------------\n",
      "\n",
      "GROMACS reminds you: \"They call me 007: 0 pull requests reviewed, 0 features completed, 7 bugs created.\" (Anonymous)\n",
      "\n"
     ]
    }
   ],
   "source": [
    "!export GMXLIB={ff_folder};\\\n",
    " echo \"2\" | gmx pdb2gmx -f {pdbid}.pgro.pdb -o {pdbid}.gro.pdb -chainsep ter -water tip3p"
   ]
  },
  {
   "cell_type": "markdown",
   "id": "7e0cae44-6ae2-4a13-bbd3-bb812993fb18",
   "metadata": {},
   "source": [
    "### Modify `topol.top`\n",
    "1. in line 29(Include forcefield parameters下兩行), Adding\n",
    "```\n",
    "; Include ligand parameters\n",
    "#include \"$drug_GMX.top\"\n",
    "```\n",
    "2. in line 36(Include water topology之上), Adding\n",
    "```\n",
    "; Include ligand topology\n",
    "#ifdef POSRES\n",
    "#include \"posre_$drug.itp\"\n",
    "#endif\n",
    "```\n",
    "3. in line 61(最後一行), Adding\n",
    "```\n",
    "$drug                 1\n",
    "(remember to reserved space here)\n",
    "```"
   ]
  },
  {
   "cell_type": "code",
   "execution_count": 6,
   "id": "215c6ab0-ba58-48f7-9295-2d4e80008628",
   "metadata": {
    "tags": []
   },
   "outputs": [],
   "source": [
    "# Step 1: Add the ligand parameters include line at line 29\n",
    "!sed -i \"28a ; Include ligand parameters\\n#include \\\"\\{drug}_GMX.top\\\"\\n\" topol.top\n",
    "\n",
    "# # Step 2: Add the ligand topology section just after ligand parameters (Step 1) include at line 32\n",
    "!sed -i \"31a ; Include ligand topology\\n#ifdef POSRES\\n#include \\\"posre_\\{drug}.itp\\\"\\n#endif\\n\" topol.top\n",
    "\n",
    "# # Step 3: Add the ligand molecule at line 62\n",
    "# # First, find where the last molecule line is (i.e., \"DNA 1\") and add the drug molecule after that.\n",
    "!sed -i \"61a \\{drug}                 1\" topol.top"
   ]
  },
  {
   "cell_type": "markdown",
   "id": "5379bd19-599d-4e22-91d5-3faf6d0cdd35",
   "metadata": {
    "tags": []
   },
   "source": [
    "### 因為兩藥物與G四聯體結構重疊，先回到\n",
    "[../../b.amber.drug_ff/6.Em_min/command.ipynb](../../b.amber.drug_ff/6.Em_min/command.ipynb) <br>\n",
    "後，再複製不重疊結構回來"
   ]
  },
  {
   "cell_type": "code",
   "execution_count": 7,
   "id": "7a135c94-8db5-44d4-a6c3-88ffe7090120",
   "metadata": {
    "tags": []
   },
   "outputs": [],
   "source": [
    "!cp ../../b.amber.drug_ff/6.Em_min/{jobname}.final.gro.pdb ./{jobname}.gro.pdb"
   ]
  },
  {
   "cell_type": "markdown",
   "id": "9a15009c-1375-4a6b-89c8-2e758f80dea4",
   "metadata": {},
   "source": [
    "### Add box and add solvent (water)\n",
    "`-d` can be change by [1.2_waterbox_setting.ipynb](1.2_waterbox_setting.ipynb)"
   ]
  },
  {
   "cell_type": "code",
   "execution_count": 8,
   "id": "0b5291a4-d468-4a08-b717-e71ed13ffe0e",
   "metadata": {
    "tags": []
   },
   "outputs": [],
   "source": [
    "!cp topol.top topol.top.bak1 "
   ]
  },
  {
   "cell_type": "code",
   "execution_count": 9,
   "id": "ef669e83-9fc4-4e21-af5e-db707537abbe",
   "metadata": {
    "tags": []
   },
   "outputs": [],
   "source": [
    "!cp topol.top.bak1 topol.top"
   ]
  },
  {
   "cell_type": "code",
   "execution_count": 10,
   "id": "e1e505dd-7e7b-4f15-8f9e-dcba50ea3476",
   "metadata": {
    "tags": []
   },
   "outputs": [
    {
     "name": "stdout",
     "output_type": "stream",
     "text": [
      "                     :-) GROMACS - gmx editconf, 2023.2 (-:\n",
      "\n",
      "Executable:   /home/user/opt/gromacs-2023/bin/gmx\n",
      "Data prefix:  /home/user/opt/gromacs-2023\n",
      "Working dir:  /home/user/workfolder/g4dna_protocol/hybrid-ii_poh/c.gromacs.run_md/1.create_system\n",
      "Command line:\n",
      "  gmx editconf -f 2jpz_POH.gro.pdb -o 2jpz_POH_dode.pdb -c yes -d 1.259 -bt dodecahedron\n",
      "\n",
      "Note that major changes are planned in future for editconf, to improve usability and utility.\n",
      "Read 807 atoms\n",
      "Volume: 159.248 nm^3, corresponds to roughly 71600 electrons\n",
      "No velocities found\n",
      "    system size :  2.528  2.961  2.445 (nm)\n",
      "    diameter    :  3.127               (nm)\n",
      "    center      :  0.076 -0.077 -0.041 (nm)\n",
      "    box vectors :  6.084  6.084  6.084 (nm)\n",
      "    box angles  :  60.00  60.00  90.00 (degrees)\n",
      "    box volume  : 159.25               (nm^3)\n",
      "    shift       :  4.157  4.311  2.036 (nm)\n",
      "new center      :  4.234  4.234  1.996 (nm)\n",
      "new box vectors :  5.645  5.645  5.645 (nm)\n",
      "new box angles  :  60.00  60.00  90.00 (degrees)\n",
      "new box volume  : 127.18               (nm^3)\n",
      "\n",
      "GROMACS reminds you: \"Friends don't let friends use Berendsen!\" (John Chodera (on Twitter))\n",
      "\n"
     ]
    }
   ],
   "source": [
    "!gmx editconf -f {jobname}.gro.pdb -o {jobname}_dode.pdb -c yes -d 1.259 -bt dodecahedron"
   ]
  },
  {
   "cell_type": "markdown",
   "id": "007ee587-eabe-458f-8721-4ee61778ffb9",
   "metadata": {},
   "source": [
    "### Add solvent (water)"
   ]
  },
  {
   "cell_type": "code",
   "execution_count": 11,
   "id": "b69a347e-c021-46e2-b406-906798f5ab24",
   "metadata": {
    "tags": []
   },
   "outputs": [
    {
     "name": "stdout",
     "output_type": "stream",
     "text": [
      "                     :-) GROMACS - gmx solvate, 2023.2 (-:\n",
      "\n",
      "Executable:   /home/user/opt/gromacs-2023/bin/gmx\n",
      "Data prefix:  /home/user/opt/gromacs-2023\n",
      "Working dir:  /home/user/workfolder/g4dna_protocol/hybrid-ii_poh/c.gromacs.run_md/1.create_system\n",
      "Command line:\n",
      "  gmx solvate -cp 2jpz_POH_dode.pdb -cs spc216.gro -o 2jpz_POH_water.pdb -p topol.top\n",
      "\n",
      "Reading solute configuration\n",
      "Reading solvent configuration\n",
      "\n",
      "Initialising inter-atomic distances...\n",
      "\n",
      "WARNING: Masses and atomic (Van der Waals) radii will be guessed\n",
      "         based on residue and atom names, since they could not be\n",
      "         definitively assigned from the information in your input\n",
      "         files. These guessed numbers might deviate from the mass\n",
      "         and radius of the atom type. Please check the output\n",
      "         files if necessary. Note, that this functionality may\n",
      "         be removed in a future GROMACS version. Please, consider\n",
      "         using another file format for your input.\n",
      "\n",
      "NOTE: From version 5.0 gmx solvate uses the Van der Waals radii\n",
      "from the source below. This means the results may be different\n",
      "compared to previous GROMACS versions.\n",
      "\n",
      "++++ PLEASE READ AND CITE THE FOLLOWING REFERENCE ++++\n",
      "A. Bondi\n",
      "van der Waals Volumes and Radii\n",
      "J. Phys. Chem. 68 (1964) pp. 441-451\n",
      "-------- -------- --- Thank You --- -------- --------\n",
      "\n",
      "Generating solvent configuration\n",
      "Will generate new solvent configuration of 4x4x3 boxes\n",
      "Solvent box contains 15315 atoms in 5105 residues\n",
      "Removed 3024 solvent atoms due to solvent-solvent overlap\n",
      "Removed 828 solvent atoms due to solute-solvent overlap\n",
      "Sorting configuration\n",
      "Found 1 molecule type:\n",
      "    SOL (   3 atoms):  3821 residues\n",
      "Generated solvent containing 11463 atoms in 3821 residues\n",
      "Writing generated configuration to 2jpz_POH_water.pdb\n",
      "\n",
      "Output configuration contains 12270 atoms in 3846 residues\n",
      "Volume                 :     127.177 (nm^3)\n",
      "Density                :     1000.68 (g/l)\n",
      "Number of solvent molecules:   3821   \n",
      "\n",
      "Processing topology\n",
      "Adding line for 3821 solvent molecules with resname (SOL) to topology file (topol.top)\n",
      "\n",
      "Back Off! I just backed up topol.top to ./#topol.top.1#\n",
      "\n",
      "GROMACS reminds you: \"If Java had true garbage collection, most programs would delete themselves upon execution.\" (Robert Sewell)\n",
      "\n"
     ]
    }
   ],
   "source": [
    "!gmx solvate -cp {jobname}_dode.pdb -cs spc216.gro -o {jobname}_water.pdb -p topol.top"
   ]
  },
  {
   "cell_type": "markdown",
   "id": "dc8606ef-80f8-42c7-9776-599996979cbc",
   "metadata": {},
   "source": [
    "#### Add ions"
   ]
  },
  {
   "cell_type": "markdown",
   "id": "c797b9c5-4da0-4f31-9f76-7ab7fad09d56",
   "metadata": {
    "tags": []
   },
   "source": [
    "## Remove PBC and See dodecahedron\n",
    "select `0(System)` for output group"
   ]
  },
  {
   "cell_type": "code",
   "execution_count": 12,
   "id": "75404a9a-51c7-4d06-93d5-5f9b903eb075",
   "metadata": {
    "tags": []
   },
   "outputs": [
    {
     "name": "stdout",
     "output_type": "stream",
     "text": [
      "                     :-) GROMACS - gmx trjconv, 2023.2 (-:\n",
      "\n",
      "Executable:   /home/user/opt/gromacs-2023/bin/gmx\n",
      "Data prefix:  /home/user/opt/gromacs-2023\n",
      "Working dir:  /home/user/workfolder/g4dna_protocol/hybrid-ii_poh/c.gromacs.run_md/1.create_system\n",
      "Command line:\n",
      "  gmx trjconv -s 2jpz_POH_water.pdb -f 2jpz_POH_water.pdb -o 2jpz_POH_water.dode.pdb -pbc res -ur compact\n",
      "\n",
      "Note that major changes are planned in future for trjconv, to improve usability and utility.\n",
      "Will write pdb: Protein data bank file\n",
      "\n",
      "WARNING: Masses and atomic (Van der Waals) radii will be guessed\n",
      "         based on residue and atom names, since they could not be\n",
      "         definitively assigned from the information in your input\n",
      "         files. These guessed numbers might deviate from the mass\n",
      "         and radius of the atom type. Please check the output\n",
      "         files if necessary. Note, that this functionality may\n",
      "         be removed in a future GROMACS version. Please, consider\n",
      "         using another file format for your input.\n",
      "\n",
      "\n",
      "WARNING: If there are molecules in the input trajectory file\n",
      "         that are broken across periodic boundaries, they\n",
      "         cannot be made whole (or treated as whole) without\n",
      "         you providing a run input file.\n",
      "\n",
      "Select group for output\n",
      "Group     0 (         System) has 12270 elements\n",
      "Group     1 (            DNA) has   715 elements\n",
      "Group     2 (              K) has     2 elements\n",
      "Group     3 (            POH) has    90 elements\n",
      "Group     4 (            Ion) has     2 elements\n",
      "Group     5 (          Water) has 11463 elements\n",
      "Group     6 (            SOL) has 11463 elements\n",
      "Group     7 (      non-Water) has   807 elements\n",
      "Group     8 ( Water_and_ions) has 11465 elements\n",
      "Select a group: Selected 0: 'System'\n",
      "Reading frame       0 time    0.000   \n",
      "Precision of 2jpz_POH_water.pdb is 0.0001 (nm)\n",
      " '', 12270 atoms\n",
      "Last frame          0 time    0.000   \n",
      " ->  frame      0 time    0.000      \n",
      "Last written: frame      0 time    0.000\n",
      "\n",
      "\n",
      "GROMACS reminds you: \"We had the quaint notion at the time that software should be completely, absolutely free of bugs. Unfortunately it's a notion that never really quite caught on.\" (Mary Allen Wilkes)\n",
      "\n"
     ]
    }
   ],
   "source": [
    "!echo \"0\" | gmx trjconv -s {jobname}_water.pdb -f {jobname}_water.pdb -o {jobname}_water.dode.pdb -pbc res -ur compact"
   ]
  },
  {
   "cell_type": "code",
   "execution_count": 13,
   "id": "d10b4dd2-f2a4-430a-9dbf-317cb7764d5b",
   "metadata": {
    "tags": []
   },
   "outputs": [],
   "source": [
    "## visualize\n",
    "# !pymol {jobname}_water.dode.pdb"
   ]
  },
  {
   "cell_type": "markdown",
   "id": "1336ef82-2b2d-48dc-bda0-79dcbe21b4e0",
   "metadata": {},
   "source": [
    "### Add ions\n",
    "gmx genion ~\n",
    "`-conc` unit: (mol/liters) default=0.125  \n",
    "sele `5(SOL)` for group of solvent molecules"
   ]
  },
  {
   "cell_type": "code",
   "execution_count": 14,
   "id": "b92891a5-aaea-48ad-a1fb-d0f6e7c14927",
   "metadata": {
    "tags": []
   },
   "outputs": [
    {
     "name": "stdout",
     "output_type": "stream",
     "text": [
      "                      :-) GROMACS - gmx grompp, 2023.2 (-:\n",
      "\n",
      "Executable:   /home/user/opt/gromacs-2023/bin/gmx\n",
      "Data prefix:  /home/user/opt/gromacs-2023\n",
      "Working dir:  /home/user/workfolder/g4dna_protocol/hybrid-ii_poh/c.gromacs.run_md/1.create_system\n",
      "Command line:\n",
      "  gmx grompp -f /home/user/workfolder/g4dna_protocol/smsl/opt/mdp/ions.mdp -c 2jpz_POH_water.pdb -p topol.top -o ions.tpr\n",
      "\n",
      "Ignoring obsolete mdp entry 'ns_type'\n",
      "\n",
      "NOTE 1 [file /home/user/workfolder/g4dna_protocol/smsl/opt/mdp/ions.mdp]:\n",
      "  With Verlet lists the optimal nstlist is >= 10, with GPUs >= 20. Note\n",
      "  that with the Verlet scheme, nstlist has no effect on the accuracy of\n",
      "  your simulation.\n",
      "\n",
      "Setting the LD random seed to -3183649\n",
      "\n",
      "Generated 5050 of the 5050 non-bonded parameter combinations\n",
      "Generating 1-4 interactions: fudge = 0.5\n",
      "\n",
      "Generated 5050 of the 5050 1-4 parameter combinations\n",
      "\n",
      "Excluding 3 bonded neighbours molecule type 'DNA'\n",
      "\n",
      "Excluding 3 bonded neighbours molecule type 'Ion2'\n",
      "\n",
      "Excluding 3 bonded neighbours molecule type 'POH'\n",
      "\n",
      "Excluding 2 bonded neighbours molecule type 'SOL'\n",
      "\n",
      "NOTE 2 [file topol.top, line 63]:\n",
      "  System has non-zero total charge: -15.000000\n",
      "  Total charge should normally be an integer. See\n",
      "  http://www.gromacs.org/Documentation/Floating_Point_Arithmetic\n",
      "  for discussion on how close it should be to an integer.\n",
      "\n",
      "\n",
      "\n",
      "\n",
      "NOTE 3 [file topol.top, line 63]:\n",
      "  In moleculetype 'Ion2' 2 atoms are not bound by a potential or constraint\n",
      "  to any other atom in the same moleculetype. Although technically this\n",
      "  might not cause issues in a simulation, this often means that the user\n",
      "  forgot to add a bond/potential/constraint or put multiple molecules in\n",
      "  the same moleculetype definition by mistake. Run with -v to get\n",
      "  information for each atom.\n",
      "\n",
      "Analysing residue names:\n",
      "There are:    22        DNA residues\n",
      "There are:     2        Ion residues\n",
      "There are:     1      Other residues\n",
      "There are:  3821      Water residues\n",
      "Analysing residues not classified as Protein/DNA/RNA/Water and splitting into groups...\n",
      "Number of degrees of freedom in T-Coupling group rest is 25344.00\n",
      "The integrator does not provide a ensemble temperature, there is no system ensemble temperature\n",
      "\n",
      "NOTE 4 [file /home/user/workfolder/g4dna_protocol/smsl/opt/mdp/ions.mdp]:\n",
      "  You are using a plain Coulomb cut-off, which might produce artifacts.\n",
      "  You might want to consider using PME electrostatics.\n",
      "\n",
      "\n",
      "\n",
      "This run will generate roughly 1 Mb of data\n",
      "\n",
      "There were 4 NOTEs\n",
      "\n",
      "GROMACS reminds you: \"The soul? There's nothing but chemistry here\" (Breaking Bad)\n",
      "\n"
     ]
    }
   ],
   "source": [
    "!gmx grompp -f {mdp_folder}/ions.mdp -c {jobname}_water.pdb -p topol.top -o ions.tpr"
   ]
  },
  {
   "cell_type": "code",
   "execution_count": 15,
   "id": "07535b39-6e81-4d99-b207-27cf6063fde6",
   "metadata": {
    "tags": []
   },
   "outputs": [
    {
     "name": "stdout",
     "output_type": "stream",
     "text": [
      "                      :-) GROMACS - gmx genion, 2023.2 (-:\n",
      "\n",
      "Executable:   /home/user/opt/gromacs-2023/bin/gmx\n",
      "Data prefix:  /home/user/opt/gromacs-2023\n",
      "Working dir:  /home/user/workfolder/g4dna_protocol/hybrid-ii_poh/c.gromacs.run_md/1.create_system\n",
      "Command line:\n",
      "  gmx genion -s ions.tpr -o 2jpz_POH_solv.pdb -p topol.top -pname K -nname CL -neutral -conc 0.125\n",
      "\n",
      "Reading file ions.tpr, VERSION 2023.2 (single precision)\n",
      "Reading file ions.tpr, VERSION 2023.2 (single precision)\n",
      "Will try to add 25 K ions and 10 CL ions.\n",
      "Select a continuous group of solvent molecules\n",
      "Group     0 (         System) has 12270 elements\n",
      "Group     1 (            DNA) has   715 elements\n",
      "Group     2 (              K) has     2 elements\n",
      "Group     3 (            POH) has    90 elements\n",
      "Group     4 (            Ion) has     2 elements\n",
      "Group     5 (          Water) has 11463 elements\n",
      "Group     6 (            SOL) has 11463 elements\n",
      "Group     7 (      non-Water) has   807 elements\n",
      "Group     8 ( Water_and_ions) has 11465 elements\n",
      "Select a group: Selected 6: 'SOL'\n",
      "Number of (3-atomic) solvent molecules: 3821\n",
      "\n",
      "Processing topology\n",
      "Replacing 35 solute molecules in topology file (topol.top)  by 25 K and 10 CL ions.\n",
      "\n",
      "Back Off! I just backed up topol.top to ./#topol.top.2#\n",
      "Using random seed -69538823.\n",
      "Replacing solvent molecule 1166 (atom 4305) with K\n",
      "Replacing solvent molecule 2784 (atom 9159) with K\n",
      "Replacing solvent molecule 3025 (atom 9882) with K\n",
      "Replacing solvent molecule 2001 (atom 6810) with K\n",
      "Replacing solvent molecule 666 (atom 2805) with K\n",
      "Replacing solvent molecule 132 (atom 1203) with K\n",
      "Replacing solvent molecule 108 (atom 1131) with K\n",
      "Replacing solvent molecule 383 (atom 1956) with K\n",
      "Replacing solvent molecule 2245 (atom 7542) with K\n",
      "Replacing solvent molecule 2320 (atom 7767) with K\n",
      "Replacing solvent molecule 2924 (atom 9579) with K\n",
      "Replacing solvent molecule 1170 (atom 4317) with K\n",
      "Replacing solvent molecule 2783 (atom 9156) with K\n",
      "Replacing solvent molecule 1868 (atom 6411) with K\n",
      "Replacing solvent molecule 1205 (atom 4422) with K\n",
      "Replacing solvent molecule 3266 (atom 10605) with K\n",
      "Replacing solvent molecule 1186 (atom 4365) with K\n",
      "Replacing solvent molecule 316 (atom 1755) with K\n",
      "Replacing solvent molecule 2558 (atom 8481) with K\n",
      "Replacing solvent molecule 191 (atom 1380) with K\n",
      "Replacing solvent molecule 264 (atom 1599) with K\n",
      "Replacing solvent molecule 1760 (atom 6087) with K\n",
      "Replacing solvent molecule 895 (atom 3492) with K\n",
      "Replacing solvent molecule 852 (atom 3363) with K\n",
      "Replacing solvent molecule 1128 (atom 4191) with K\n",
      "Replacing solvent molecule 1497 (atom 5298) with CL\n",
      "Replacing solvent molecule 1959 (atom 6684) with CL\n",
      "Replacing solvent molecule 3604 (atom 11619) with CL\n",
      "Replacing solvent molecule 1419 (atom 5064) with CL\n",
      "Replacing solvent molecule 3449 (atom 11154) with CL\n",
      "Replacing solvent molecule 1905 (atom 6522) with CL\n",
      "Replacing solvent molecule 11 (atom 840) with CL\n",
      "Replacing solvent molecule 1579 (atom 5544) with CL\n",
      "Replacing solvent molecule 3007 (atom 9828) with CL\n",
      "Replacing solvent molecule 60 (atom 987) with CL\n",
      "\n",
      "\n",
      "GROMACS reminds you: \"The soul? There's nothing but chemistry here\" (Breaking Bad)\n",
      "\n"
     ]
    }
   ],
   "source": [
    "!echo \"SOL\" | gmx genion -s ions.tpr -o {jobname}_solv.pdb -p topol.top -pname K -nname CL -neutral -conc 0.125"
   ]
  },
  {
   "cell_type": "code",
   "execution_count": 16,
   "id": "70bc20c4-15ac-45db-b017-50c2feb02b56",
   "metadata": {
    "tags": []
   },
   "outputs": [
    {
     "name": "stdout",
     "output_type": "stream",
     "text": [
      "                     :-) GROMACS - gmx trjconv, 2023.2 (-:\n",
      "\n",
      "Executable:   /home/user/opt/gromacs-2023/bin/gmx\n",
      "Data prefix:  /home/user/opt/gromacs-2023\n",
      "Working dir:  /home/user/workfolder/g4dna_protocol/hybrid-ii_poh/c.gromacs.run_md/1.create_system\n",
      "Command line:\n",
      "  gmx trjconv -s 2jpz_POH_solv.pdb -f 2jpz_POH_solv.pdb -o 2jpz_POH_solv.dode.pdb -pbc res -ur compact\n",
      "\n",
      "Note that major changes are planned in future for trjconv, to improve usability and utility.\n",
      "Will write pdb: Protein data bank file\n",
      "\n",
      "WARNING: Masses and atomic (Van der Waals) radii will be guessed\n",
      "         based on residue and atom names, since they could not be\n",
      "         definitively assigned from the information in your input\n",
      "         files. These guessed numbers might deviate from the mass\n",
      "         and radius of the atom type. Please check the output\n",
      "         files if necessary. Note, that this functionality may\n",
      "         be removed in a future GROMACS version. Please, consider\n",
      "         using another file format for your input.\n",
      "\n",
      "\n",
      "WARNING: If there are molecules in the input trajectory file\n",
      "         that are broken across periodic boundaries, they\n",
      "         cannot be made whole (or treated as whole) without\n",
      "         you providing a run input file.\n",
      "\n",
      "Select group for output\n",
      "Group     0 (         System) has 12200 elements\n",
      "Group     1 (            DNA) has   715 elements\n",
      "Group     2 (              K) has    27 elements\n",
      "Group     3 (            POH) has    90 elements\n",
      "Group     4 (             CL) has    10 elements\n",
      "Group     5 (            Ion) has    37 elements\n",
      "Group     6 (          Water) has 11358 elements\n",
      "Group     7 (            SOL) has 11358 elements\n",
      "Group     8 (      non-Water) has   842 elements\n",
      "Group     9 ( Water_and_ions) has 11395 elements\n",
      "Select a group: Selected 0: 'System'\n",
      "Reading frame       0 time    0.000   \n",
      "Precision of 2jpz_POH_solv.pdb is 0.0001 (nm)\n",
      " '', 12200 atoms\n",
      "Last frame          0 time    0.000   \n",
      " ->  frame      0 time    0.000      \n",
      "Last written: frame      0 time    0.000\n",
      "\n",
      "\n",
      "GROMACS reminds you: \"The soul? There's nothing but chemistry here\" (Breaking Bad)\n",
      "\n"
     ]
    }
   ],
   "source": [
    "## rmpbc and visualize\n",
    "## check System has 12200±1 elements\n",
    "!echo \"0\" | gmx trjconv -s {jobname}_solv.pdb -f {jobname}_solv.pdb -o {jobname}_solv.dode.pdb -pbc res -ur compact\n",
    "#!pymol {jobname}_ions.dode.pdb"
   ]
  },
  {
   "cell_type": "markdown",
   "id": "d28a604f-8c99-4331-9dc9-9c17ce76b45a",
   "metadata": {},
   "source": [
    "### Energy Minimization"
   ]
  },
  {
   "cell_type": "code",
   "execution_count": 17,
   "id": "b7981acc-7ab1-41a5-b1a9-98e619a1a5f4",
   "metadata": {
    "tags": []
   },
   "outputs": [
    {
     "name": "stdout",
     "output_type": "stream",
     "text": [
      "                      :-) GROMACS - gmx grompp, 2023.2 (-:\n",
      "\n",
      "Executable:   /home/user/opt/gromacs-2023/bin/gmx\n",
      "Data prefix:  /home/user/opt/gromacs-2023\n",
      "Working dir:  /home/user/workfolder/g4dna_protocol/hybrid-ii_poh/c.gromacs.run_md/1.create_system\n",
      "Command line:\n",
      "  gmx grompp -f /home/user/workfolder/g4dna_protocol/smsl/opt/mdp/min1.mdp -c 2jpz_POH_solv.pdb -r 2jpz_POH_solv.pdb -p topol.top -o min1.tpr\n",
      "\n",
      "Setting the LD random seed to -59083522\n",
      "\n",
      "Generated 5050 of the 5050 non-bonded parameter combinations\n",
      "Generating 1-4 interactions: fudge = 0.5\n",
      "\n",
      "Generated 5050 of the 5050 1-4 parameter combinations\n",
      "\n",
      "Excluding 3 bonded neighbours molecule type 'DNA'\n",
      "\n",
      "Excluding 3 bonded neighbours molecule type 'Ion2'\n",
      "\n",
      "Excluding 3 bonded neighbours molecule type 'POH'\n",
      "\n",
      "Excluding 2 bonded neighbours molecule type 'SOL'\n",
      "\n",
      "Excluding 1 bonded neighbours molecule type 'K'\n",
      "\n",
      "Excluding 1 bonded neighbours molecule type 'CL'\n",
      "\n",
      "NOTE 1 [file topol.top, line 65]:\n",
      "  In moleculetype 'Ion2' 2 atoms are not bound by a potential or constraint\n",
      "  to any other atom in the same moleculetype. Although technically this\n",
      "  might not cause issues in a simulation, this often means that the user\n",
      "  forgot to add a bond/potential/constraint or put multiple molecules in\n",
      "  the same moleculetype definition by mistake. Run with -v to get\n",
      "  information for each atom.\n",
      "\n",
      "Analysing residue names:\n",
      "There are:    22        DNA residues\n",
      "There are:    37        Ion residues\n",
      "There are:     1      Other residues\n",
      "There are:  3786      Water residues\n",
      "Analysing residues not classified as Protein/DNA/RNA/Water and splitting into groups...\n",
      "Number of degrees of freedom in T-Coupling group rest is 25239.00\n",
      "The integrator does not provide a ensemble temperature, there is no system ensemble temperature\n",
      "\n",
      "The largest distance between excluded atoms is 0.472 nm between atom 610 and 619\n",
      "\n",
      "NOTE 2 [file /home/user/workfolder/g4dna_protocol/smsl/opt/mdp/min1.mdp]:\n",
      "  Removing center of mass motion in the presence of position restraints\n",
      "  might cause artifacts. When you are using position restraints to\n",
      "  equilibrate a macro-molecule, the artifacts are usually negligible.\n",
      "\n",
      "Calculating fourier grid dimensions for X Y Z\n",
      "Using a fourier grid of 48x48x48, spacing 0.118 0.118 0.118\n",
      "\n",
      "Estimate for the relative computational load of the PME mesh part: 0.19\n",
      "\n",
      "This run will generate roughly 1 Mb of data\n",
      "\n",
      "There were 2 NOTEs\n",
      "\n",
      "GROMACS reminds you: \"Baby, It Aint Over Till It's Over\" (Lenny Kravitz)\n",
      "\n",
      "                      :-) GROMACS - gmx mdrun, 2023.2 (-:\n",
      "\n",
      "Executable:   /home/user/opt/gromacs-2023/bin/gmx\n",
      "Data prefix:  /home/user/opt/gromacs-2023\n",
      "Working dir:  /home/user/workfolder/g4dna_protocol/hybrid-ii_poh/c.gromacs.run_md/1.create_system\n",
      "Command line:\n",
      "  gmx mdrun -deffnm min1 -c min1.pdb\n",
      "\n",
      "Reading file min1.tpr, VERSION 2023.2 (single precision)\n",
      "1 GPU selected for this run.\n",
      "Mapping of GPU IDs to the 1 GPU task in the 1 rank on this node:\n",
      "  PP:0\n",
      "PP tasks will do (non-perturbed) short-ranged interactions on the GPU\n",
      "PP task will update and constrain coordinates on the CPU\n",
      "Using 1 MPI thread\n",
      "Using 12 OpenMP threads \n",
      "\n",
      "\n",
      "Steepest Descents:\n",
      "   Tolerance (Fmax)   =  1.00000e+03\n",
      "   Number of steps    =         5000\n",
      "\n",
      "writing lowest energy coordinates.\n",
      "\n",
      "Steepest Descents converged to Fmax < 1000 in 172 steps\n",
      "Potential Energy  = -1.9251266e+05\n",
      "Maximum force     =  9.1386151e+02 on atom 145\n",
      "Norm of force     =  6.0863610e+01\n",
      "\n",
      "GROMACS reminds you: \"It's just the way this stuff is done\" (Built to Spill)\n",
      "\n"
     ]
    }
   ],
   "source": [
    "!gmx grompp -f {mdp_folder}/min1.mdp -c {jobname}_solv.pdb -r {jobname}_solv.pdb -p topol.top -o min1.tpr\n",
    "!gmx mdrun -deffnm min1 -c min1.pdb"
   ]
  },
  {
   "cell_type": "code",
   "execution_count": 18,
   "id": "670d35eb-f232-4c83-ae1f-91ed3f6101d9",
   "metadata": {
    "tags": []
   },
   "outputs": [
    {
     "name": "stdout",
     "output_type": "stream",
     "text": [
      "                      :-) GROMACS - gmx grompp, 2023.2 (-:\n",
      "\n",
      "Executable:   /home/user/opt/gromacs-2023/bin/gmx\n",
      "Data prefix:  /home/user/opt/gromacs-2023\n",
      "Working dir:  /home/user/workfolder/g4dna_protocol/hybrid-ii_poh/c.gromacs.run_md/1.create_system\n",
      "Command line:\n",
      "  gmx grompp -f /home/user/workfolder/g4dna_protocol/smsl/opt/mdp/min2.mdp -c min1.pdb -r 2jpz_POH_solv.pdb -p topol.top -o min2.tpr\n",
      "\n",
      "\n",
      "NOTE 1 [file /home/user/workfolder/g4dna_protocol/smsl/opt/mdp/min2.mdp]:\n",
      "  With Verlet lists the optimal nstlist is >= 10, with GPUs >= 20. Note\n",
      "  that with the Verlet scheme, nstlist has no effect on the accuracy of\n",
      "  your simulation.\n",
      "\n",
      "Setting the LD random seed to -302022737\n",
      "\n",
      "Generated 5050 of the 5050 non-bonded parameter combinations\n",
      "Generating 1-4 interactions: fudge = 0.5\n",
      "\n",
      "Generated 5050 of the 5050 1-4 parameter combinations\n",
      "\n",
      "Excluding 3 bonded neighbours molecule type 'DNA'\n",
      "\n",
      "turning H bonds into constraints...\n",
      "\n",
      "Excluding 3 bonded neighbours molecule type 'Ion2'\n",
      "\n",
      "turning H bonds into constraints...\n",
      "\n",
      "Excluding 3 bonded neighbours molecule type 'POH'\n",
      "\n",
      "turning H bonds into constraints...\n",
      "\n",
      "Excluding 2 bonded neighbours molecule type 'SOL'\n",
      "\n",
      "turning H bonds into constraints...\n",
      "\n",
      "Excluding 1 bonded neighbours molecule type 'K'\n",
      "\n",
      "turning H bonds into constraints...\n",
      "\n",
      "Excluding 1 bonded neighbours molecule type 'CL'\n",
      "\n",
      "turning H bonds into constraints...\n",
      "\n",
      "NOTE 2 [file topol.top, line 65]:\n",
      "  In moleculetype 'Ion2' 2 atoms are not bound by a potential or constraint\n",
      "  to any other atom in the same moleculetype. Although technically this\n",
      "  might not cause issues in a simulation, this often means that the user\n",
      "  forgot to add a bond/potential/constraint or put multiple molecules in\n",
      "  the same moleculetype definition by mistake. Run with -v to get\n",
      "  information for each atom.\n",
      "\n",
      "Analysing residue names:\n",
      "There are:    22        DNA residues\n",
      "There are:    37        Ion residues\n",
      "There are:     1      Other residues\n",
      "There are:  3786      Water residues\n",
      "Analysing residues not classified as Protein/DNA/RNA/Water and splitting into groups...\n",
      "Number of degrees of freedom in T-Coupling group rest is 24951.00\n",
      "The integrator does not provide a ensemble temperature, there is no system ensemble temperature\n",
      "\n",
      "The largest distance between excluded atoms is 0.424 nm between atom 591 and 616\n",
      "\n",
      "NOTE 3 [file /home/user/workfolder/g4dna_protocol/smsl/opt/mdp/min2.mdp]:\n",
      "  Removing center of mass motion in the presence of position restraints\n",
      "  might cause artifacts. When you are using position restraints to\n",
      "  equilibrate a macro-molecule, the artifacts are usually negligible.\n",
      "\n",
      "Calculating fourier grid dimensions for X Y Z\n",
      "Using a fourier grid of 36x36x36, spacing 0.157 0.157 0.157\n",
      "\n",
      "Estimate for the relative computational load of the PME mesh part: 0.17\n",
      "\n",
      "This run will generate roughly 1 Mb of data\n",
      "\n",
      "There were 3 NOTEs\n",
      "\n",
      "GROMACS reminds you: \"Well, I am a dilettante. It's only in England that dilettantism is considered a bad thing. In other countries it's called interdisciplinary research.\" (Brian Eno)\n",
      "\n",
      "                      :-) GROMACS - gmx mdrun, 2023.2 (-:\n",
      "\n",
      "Executable:   /home/user/opt/gromacs-2023/bin/gmx\n",
      "Data prefix:  /home/user/opt/gromacs-2023\n",
      "Working dir:  /home/user/workfolder/g4dna_protocol/hybrid-ii_poh/c.gromacs.run_md/1.create_system\n",
      "Command line:\n",
      "  gmx mdrun -deffnm min2 -c min2.pdb\n",
      "\n",
      "Reading file min2.tpr, VERSION 2023.2 (single precision)\n",
      "Update groups can not be used for this system because atoms that are (in)directly constrained together are interdispersed with other atoms\n",
      "\n",
      "1 GPU selected for this run.\n",
      "Mapping of GPU IDs to the 1 GPU task in the 1 rank on this node:\n",
      "  PP:0\n",
      "PP tasks will do (non-perturbed) short-ranged interactions on the GPU\n",
      "PP task will update and constrain coordinates on the CPU\n",
      "Using 1 MPI thread\n",
      "Using 12 OpenMP threads \n",
      "\n",
      "\n",
      "Steepest Descents:\n",
      "   Tolerance (Fmax)   =  1.00000e+02\n",
      "   Number of steps    =        50000\n",
      "\n",
      "writing lowest energy coordinates.\n",
      "\n",
      "Steepest Descents converged to Fmax < 100 in 1860 steps\n",
      "Potential Energy  = -2.1089716e+05\n",
      "Maximum force     =  9.0740677e+01 on atom 81\n",
      "Norm of force     =  1.2183796e+01\n",
      "\n",
      "GROMACS reminds you: \"All that glitters may not be gold, but at least it contains free electrons.\" (John Desmond Baernal)\n",
      "\n"
     ]
    }
   ],
   "source": [
    "## -r argument min1.pdb or {jobname}_solv.pdb\n",
    "!gmx grompp -f {mdp_folder}/min2.mdp -c min1.pdb -r {jobname}_solv.pdb -p topol.top -o min2.tpr\n",
    "!gmx mdrun -deffnm min2 -c min2.pdb"
   ]
  },
  {
   "cell_type": "markdown",
   "id": "c7751a29-bc94-4e0c-9715-732e7158d189",
   "metadata": {},
   "source": [
    "## Make Index File"
   ]
  },
  {
   "cell_type": "code",
   "execution_count": 19,
   "id": "c21eafd1-d33b-421f-be7f-39cd4b6bfbc8",
   "metadata": {
    "tags": []
   },
   "outputs": [],
   "source": [
    "pdbAtom = !grep \"ATOM\" {pdbid}.gro.pdb\n",
    "n_atom = len(pdbAtom)"
   ]
  },
  {
   "cell_type": "code",
   "execution_count": 20,
   "id": "62a214fc-7a48-4da3-9d4c-93acdd0acc87",
   "metadata": {
    "tags": []
   },
   "outputs": [
    {
     "name": "stdout",
     "output_type": "stream",
     "text": [
      "                     :-) GROMACS - gmx make_ndx, 2023.2 (-:\n",
      "\n",
      "Executable:   /home/user/opt/gromacs-2023/bin/gmx\n",
      "Data prefix:  /home/user/opt/gromacs-2023\n",
      "Working dir:  /home/user/workfolder/g4dna_protocol/hybrid-ii_poh/c.gromacs.run_md/1.create_system\n",
      "Command line:\n",
      "  gmx make_ndx -f min2.pdb -o 2jpz_POH.simulate.ndx\n",
      "\n",
      "\n",
      "Reading structure file\n",
      "Going to read 0 old index file(s)\n",
      "Analysing residue names:\n",
      "There are:    22        DNA residues\n",
      "There are:    37        Ion residues\n",
      "There are:     1      Other residues\n",
      "There are:  3786      Water residues\n",
      "Analysing residues not classified as Protein/DNA/RNA/Water and splitting into groups...\n",
      "\n",
      "  0 System              : 12200 atoms\n",
      "  1 DNA                 :   715 atoms\n",
      "  2 K                   :    27 atoms\n",
      "  3 POH                 :    90 atoms\n",
      "  4 CL                  :    10 atoms\n",
      "  5 Ion                 :    37 atoms\n",
      "  6 Water               : 11358 atoms\n",
      "  7 SOL                 : 11358 atoms\n",
      "  8 non-Water           :   842 atoms\n",
      "  9 Water_and_ions      : 11395 atoms\n",
      "\n",
      " nr : group      '!': not  'name' nr name   'splitch' nr    Enter: list groups\n",
      " 'a': atom       '&': and  'del' nr         'splitres' nr   'l': list residues\n",
      " 't': atom type  '|': or   'keep' nr        'splitat' nr    'h': help\n",
      " 'r': residue              'res' nr         'chain' char\n",
      " \"name\": group             'case': case sensitive           'q': save and quit\n",
      " 'ri': residue index\n",
      "\n",
      "> \n",
      "Found 717 atoms in range 1-717\n",
      "\n",
      "> \n",
      "\n",
      "> \n",
      "\n",
      "GROMACS reminds you: \"I'm Gonna Get Medieval On Your Ass\" (Pulp Fiction)\n",
      "\n"
     ]
    }
   ],
   "source": [
    "cmd = f'''\\\n",
    "a 1-{n_atom}\n",
    "name 10 Model\n",
    "q\n",
    "'''\n",
    "!echo -e \"{cmd}\" | gmx make_ndx -f min2.pdb -o {jobname}.simulate.ndx"
   ]
  },
  {
   "cell_type": "markdown",
   "id": "1225092e-02db-41d1-beba-517aa4bb2dd5",
   "metadata": {},
   "source": [
    "### Equilibrium (generate [1.3_equilibrium.slurm](1.3_equilibrium.slurm))\n",
    "(In the energy minimization process, the only parameter required is the initial structure. However, for NVT or NPT processes, since the .pdb file does not contain information about speed or temperature state, an additional parameter, \"-t\", must be included to provide this information.)"
   ]
  },
  {
   "cell_type": "code",
   "execution_count": 21,
   "id": "27175051-afd5-43c0-aa9c-1d744db32efc",
   "metadata": {
    "tags": []
   },
   "outputs": [
    {
     "data": {
      "text/plain": [
       "2177"
      ]
     },
     "execution_count": 21,
     "metadata": {},
     "output_type": "execute_result"
    }
   ],
   "source": [
    "slurm_script = f'''\\\n",
    "#!/bin/bash\n",
    "#SBATCH --partition=gpu                  # Define the partition on which the job shall run\n",
    "#SBATCH --job-name={jobname}                  # Job name\n",
    "#SBATCH --ntasks=1                       # Total number of tasks\n",
    "#SBATCH --nodes=1                        # Number of nodes on which to run\n",
    "#SBATCH --cpus-per-task=20               # Threads per task\n",
    "#SBATCH --gres=gpu:2                     # number of GPUs per node (gres=gpu:N)\n",
    "#SBATCH --mem=50000                      # Memory per job in MB\n",
    "#SBATCH --time=0-999:00:00               # Time limit ( dd-hh:mm:ss ) ← e.g. Maximum run time: 1 hour\n",
    "#SBATCH --time=0-999:00:00               # Time limit ( dd-hh:mm:ss ) ← e.g. Maximum run time: 1 hour\n",
    "#SBATCH --output=slurm_simulation_%j.out       # Standard output log\n",
    "#SBATCH --error=slurm_simulation_%j.out        # Standard error log\n",
    "\n",
    "  echo \"Start at `date`\"\n",
    "  echo \"Running on hosts: $SLURM_NODELIST\"\n",
    "  echo \"Running on $SLURM_NNODES nodes.\"\n",
    "  echo \"Running $SLURM_NTASKS tasks.\"\n",
    "  echo \"Using ${{SLURM_CPUS_PER_TASK}} cpus per task\"\n",
    "  echo \"Job id is $SLURM_JOBID\"\n",
    "  echo \"Current working directory is `pwd`\"\n",
    "\n",
    "mdpFolder=\"{mdp_folder}\"\n",
    "mdFolder=\".\"\n",
    "\n",
    "## load program\n",
    "export PATH=$HOME/opt/gcc-10.4.0/bin:$PATH\n",
    "export LD_LIBRARY_PATH=$HOME/opt/gcc-10.4.0/lib64\n",
    "source $HOME/opt/gromacs-2023/bin/GMXRC\n",
    "\n",
    "cd ${{mdFolder}}\n",
    "## HEAT\n",
    "gmx grompp -f ${{mdpFolder}}/heat.mdp -c min2.pdb -r {jobname}_solv.pdb -p topol.top -o heat.tpr\n",
    "gmx mdrun -deffnm heat -c heat.pdb -ntmpi 4 -nb gpu -pme gpu -npme 1 -gputasks 0011 -ntomp 6\n",
    "## NVT\n",
    "gmx grompp -f ${{mdpFolder}}/nvt1.mdp -c heat.pdb -r {jobname}_solv.pdb -t heat.cpt -p topol.top -o nvt1.tpr\n",
    "gmx mdrun -deffnm nvt1 -c nvt1.pdb -ntmpi 4 -nb gpu -pme gpu -npme 1 -gputasks 0011 -ntomp 6\n",
    "## NPT1\n",
    "gmx grompp -f ${{mdpFolder}}/npt1.mdp -c nvt1.pdb -r {jobname}_solv.pdb -t nvt1.cpt -p topol.top -o npt1.tpr\n",
    "gmx mdrun -deffnm npt1 -c npt1.pdb -ntmpi 4 -nb gpu -pme gpu -npme 1 -gputasks 0011 -ntomp 6\n",
    "## NPT2\n",
    "gmx grompp -f ${{mdpFolder}}/npt2.mdp -c npt1.pdb -r {jobname}_solv.pdb -t npt1.cpt -p topol.top -o npt2.tpr\n",
    "gmx mdrun -deffnm npt2 -c npt2.pdb -ntmpi 4 -nb gpu -pme gpu -npme 1 -gputasks 0011 -ntomp 6\n",
    "'''\n",
    "\n",
    "open(\"1.3_equilibrium.slurm\", 'w').write(slurm_script)"
   ]
  },
  {
   "cell_type": "markdown",
   "id": "2bfc693c-63d5-453a-8f2d-dbefb013dd42",
   "metadata": {
    "tags": []
   },
   "source": [
    "#### Running slurm command:\n",
    "```\n",
    "> sbatch 1.3_equilibrium.slurm\n",
    "```"
   ]
  }
 ],
 "metadata": {
  "kernelspec": {
   "display_name": "Python 3 (ipykernel)",
   "language": "python",
   "name": "python3"
  },
  "language_info": {
   "codemirror_mode": {
    "name": "ipython",
    "version": 3
   },
   "file_extension": ".py",
   "mimetype": "text/x-python",
   "name": "python",
   "nbconvert_exporter": "python",
   "pygments_lexer": "ipython3",
   "version": "3.7.4"
  }
 },
 "nbformat": 4,
 "nbformat_minor": 5
}
