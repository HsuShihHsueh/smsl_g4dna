{
 "cells": [
  {
   "cell_type": "code",
   "execution_count": 1,
   "id": "bb6d41de-47dd-44b1-b92f-139e5e491482",
   "metadata": {
    "tags": []
   },
   "outputs": [],
   "source": [
    "import sys\n",
    "sys.path.append(\"../../../smsl\")"
   ]
  },
  {
   "cell_type": "code",
   "execution_count": 2,
   "id": "019e8381-a734-4b54-b74d-2c755f8bb652",
   "metadata": {
    "tags": []
   },
   "outputs": [],
   "source": [
    "import MDAnalysis as mda\n",
    "from tqdm import tqdm\n",
    "import numpy as np\n",
    "import pandas as pd\n",
    "import matplotlib.pyplot as plt"
   ]
  },
  {
   "cell_type": "code",
   "execution_count": null,
   "id": "d6dcdbf0-5339-4e48-be2a-6347fc9394e1",
   "metadata": {
    "tags": []
   },
   "outputs": [],
   "source": [
    "from smsl.config import load_config\n",
    "import glob\n",
    "\n",
    "conf_file = glob.glob('../../d.fluctmatch/*.conf')[0]\n",
    "conf = load_config(conf_file, verbose=False)\n",
    "df_tetrad_geometry = conf['df_tetrad_geometry']\n",
    "df_tetrad_geometry"
   ]
  },
  {
   "cell_type": "code",
   "execution_count": null,
   "id": "c6db1472-5f58-4ce2-a531-4f4a129a1526",
   "metadata": {
    "tags": []
   },
   "outputs": [],
   "source": [
    "jobname = conf['system']\n",
    "jobname"
   ]
  },
  {
   "cell_type": "markdown",
   "id": "9aac5f03-df34-46f9-a391-8ae5d692bce7",
   "metadata": {
    "tags": []
   },
   "source": [
    "### Load Trajectory"
   ]
  },
  {
   "cell_type": "code",
   "execution_count": 5,
   "id": "0b123cd2-c70a-4a96-be01-bae0de3c25a1",
   "metadata": {
    "tags": []
   },
   "outputs": [],
   "source": [
    "u = mda.Universe('../1.create_system/npt2_noh.pdb', f'{jobname}_5us500kf_noh.xtc')"
   ]
  },
  {
   "cell_type": "code",
   "execution_count": null,
   "id": "444c51a7-7369-4703-84e7-afe227aca62c",
   "metadata": {
    "tags": []
   },
   "outputs": [],
   "source": [
    "u.transfer_to_memory(verbose=1)"
   ]
  },
  {
   "cell_type": "code",
   "execution_count": 7,
   "id": "510a16b6-ddd2-429f-9c50-39c2cb0c30f0",
   "metadata": {
    "tags": []
   },
   "outputs": [],
   "source": [
    "## **注意！ 這邊看到的K2在上層 K1在下層**\n",
    "k1 = u.select_atoms('resid 1 and name K').ix[0]\n",
    "k2 = u.select_atoms('resid 2 and name K').ix[0]\n",
    "ks = u.select_atoms('name K and not (resid 2)').ix ##為了替換下層鉀離子用，因為不希望替換成上層K2(這樣就變成K1和K2都是上層鉀離子)因此去除"
   ]
  },
  {
   "cell_type": "code",
   "execution_count": 8,
   "id": "7938797e-34e2-4aba-8807-8f41ef09f0d8",
   "metadata": {
    "tags": []
   },
   "outputs": [],
   "source": [
    "coord = u.trajectory.timeseries()\n",
    "coord = np.transpose(coord, [1, 0, 2]) ##since using `transfer_to_memory` will swap these 2 dims"
   ]
  },
  {
   "cell_type": "code",
   "execution_count": null,
   "id": "9d601a1d-cc55-4734-adac-019ba5bdddd6",
   "metadata": {
    "tags": []
   },
   "outputs": [],
   "source": [
    "coord.shape"
   ]
  },
  {
   "cell_type": "markdown",
   "id": "d6974fd1-ff70-4c4c-8e5e-69c775728aba",
   "metadata": {
    "tags": []
   },
   "source": [
    "### check Distance Between DNA - K^+\n",
    "if >15 Å it means the ion is out of coordination site or the PBC isn't remove correctly"
   ]
  },
  {
   "cell_type": "code",
   "execution_count": 10,
   "id": "aafa9502-d893-4b88-ba76-b0145de6ba91",
   "metadata": {
    "tags": []
   },
   "outputs": [],
   "source": [
    "time_label = [f*u.trajectory.dt/1000 for f in range(len(u.trajectory))]"
   ]
  },
  {
   "cell_type": "code",
   "execution_count": null,
   "id": "e737c402-6509-41d0-80cd-89770045197e",
   "metadata": {
    "tags": []
   },
   "outputs": [],
   "source": [
    "## **注意！ 這邊看到的K2在上層 K1在下層**\n",
    "dna_G3_O6 = u.select_atoms('resname DG and name O6').ix[1]\n",
    "dist_dnak1 = np.linalg.norm(coord[:,dna_G3_O6,:] - coord[:,k1,:], axis=1)\n",
    "dist_dnak2 = np.linalg.norm(coord[:,dna_G3_O6,:] - coord[:,k2,:], axis=1)\n",
    "plt.plot(time_label, dist_dnak1, label='G3/O6 - K1', alpha=0.3)\n",
    "plt.plot(time_label, dist_dnak2, label='G3/O6 - K2', alpha=0.3)\n",
    "plt.axhline(15.0, color='gray', alpha=0.5, linestyle='--')\n",
    "plt.legend()\n",
    "plt.xlabel('Time (ns)')\n",
    "plt.ylabel(r'Distance between K1 - K2 (Å)')\n",
    "plt.show()"
   ]
  },
  {
   "cell_type": "markdown",
   "id": "279bdeea-7cdf-4b2e-bead-aa519b7d4c43",
   "metadata": {},
   "source": [
    "### Check Distance Between K1 - K2\n",
    "3.0 ~ 5.0 Å is considered as the ion in the coordination site<br>\n",
    "if >15 Å it means the ion is out of coordination site or the PBC isn't remove correctly"
   ]
  },
  {
   "cell_type": "code",
   "execution_count": null,
   "id": "152c38b0-2b1d-45e7-9ede-d96d3c55567f",
   "metadata": {
    "tags": []
   },
   "outputs": [],
   "source": [
    "dist_k1k2 = np.linalg.norm(coord[:,k1,:] - coord[:,k2,:], axis=1)\n",
    "plt.plot(time_label, dist_k1k2)\n",
    "plt.axhline(3.0, color='gray', alpha=0.5, linestyle='--')\n",
    "plt.axhline(5.0, color='gray', alpha=0.5, linestyle='--')\n",
    "plt.xlabel('Time (ns)')\n",
    "plt.ylabel(r'Distance between K1 - K2 (Å)')\n",
    "plt.show()"
   ]
  },
  {
   "cell_type": "code",
   "execution_count": null,
   "id": "a200ae57-1248-43b4-804e-c5d280308830",
   "metadata": {
    "tags": []
   },
   "outputs": [],
   "source": [
    "if dist_k1k2.max() > 15:\n",
    "    print('K1 or K2 is out of the coordination site, need to found the nearest ion in K hole')\n",
    "else:\n",
    "    raise RuntimeError('K1 or K2 is in the coordination site, there is not need to do the following precess, go to run d.fluctmatch')"
   ]
  },
  {
   "cell_type": "markdown",
   "id": "1be347d0-4f87-4e26-94e7-d45cc3ab9e12",
   "metadata": {
    "tags": []
   },
   "source": [
    "### Search The nearest ion in K2 hole"
   ]
  },
  {
   "cell_type": "code",
   "execution_count": 14,
   "id": "c1980500-f8dd-425e-8d37-962d2b77e876",
   "metadata": {
    "tags": []
   },
   "outputs": [],
   "source": [
    "O6_Mid = u.select_atoms(\"resid \"+' '.join(df_tetrad_geometry.T['mid'].astype('str'))+\" and name O6\").ix\n",
    "O6_Bot = u.select_atoms(\"resid \"+' '.join(df_tetrad_geometry.T['bot'].astype('str'))+\" and name O6\").ix\n",
    "all_ixs = np.concatenate([O6_Mid, O6_Bot])\n",
    "k_hole_coord = coord[:,all_ixs,:].mean(axis=1)"
   ]
  },
  {
   "cell_type": "code",
   "execution_count": null,
   "id": "69b26488-41f7-449f-81f5-2a6f44b33469",
   "metadata": {
    "tags": []
   },
   "outputs": [],
   "source": [
    "k_min_coord = []\n",
    "k_min_list = []\n",
    "for idx, time in enumerate(tqdm(time_label)):\n",
    "    coord_ks_1frame = coord[idx, ks,:]\n",
    "    k_hole_1frame  = np.expand_dims(k_hole_coord[idx, :], 0)\n",
    "    dist_k_hole_ks = np.linalg.norm(coord_ks_1frame - k_hole_1frame, axis=1)\n",
    "    k_min = ks[np.argmin(dist_k_hole_ks)]\n",
    "    k_min_coo = coord[idx, k_min, :]\n",
    "    k_min_coord.append(k_min_coo)\n",
    "    k_min_list.append(k_min)\n",
    "k_min_coord = np.array(k_min_coord)\n",
    "k_min_list = np.array(k_min_list)"
   ]
  },
  {
   "cell_type": "code",
   "execution_count": null,
   "id": "046b408d-3856-48be-94a5-b0552bdfdf42",
   "metadata": {
    "tags": []
   },
   "outputs": [],
   "source": [
    "k_min2coord = {}\n",
    "for k_min in np.unique(k_min_list):\n",
    "    time_label_sele = np.array(time_label)[k_min_list==k_min]\n",
    "    k_min_coord_sele = k_min_coord[k_min_list==k_min]\n",
    "    k_hole_coord_sele = k_hole_coord[k_min_list==k_min]\n",
    "    dist_sele = np.linalg.norm(k_min_coord_sele - k_hole_coord_sele, axis=1)\n",
    "    k_min2coord[k_min] = [time_label_sele, dist_sele]\n",
    "    \n",
    "for k_min, [time_label_sele, dist] in k_min2coord.items():\n",
    "    plt.plot(time_label_sele, dist, label=f'K{u.atoms[k_min].resid}')\n",
    "plt.xlabel('Time (ns)')\n",
    "plt.ylabel('Distance (Å)')\n",
    "plt.legend()\n",
    "plt.show()"
   ]
  },
  {
   "cell_type": "markdown",
   "id": "b82c0f9a-89d3-41a7-a294-d33f0b2c8104",
   "metadata": {},
   "source": [
    "### Replace K_min position with K1(下層)\n",
    "**(only if you found that the ion is out of the coordinate site)**"
   ]
  },
  {
   "cell_type": "code",
   "execution_count": null,
   "id": "bc8be6a0-45f2-4de0-b83a-8f4310dabe22",
   "metadata": {
    "tags": []
   },
   "outputs": [],
   "source": [
    "for idx, k_min_coo in enumerate(tqdm(k_min_coord)):\n",
    "    u.trajectory[idx].positions[k1, :] = k_min_coo"
   ]
  },
  {
   "cell_type": "code",
   "execution_count": 18,
   "id": "4512d08a-9aca-45e6-bf57-ad00fd122455",
   "metadata": {
    "tags": []
   },
   "outputs": [],
   "source": [
    "coord = u.trajectory.timeseries()\n",
    "coord = np.transpose(coord, [1, 0, 2]) ##since using `transfer_to_memory` will swap these 2 dims"
   ]
  },
  {
   "cell_type": "code",
   "execution_count": null,
   "id": "84bab115-e0d1-425c-8212-bb23be241779",
   "metadata": {
    "tags": []
   },
   "outputs": [],
   "source": [
    "## check again the K1-K2 distance after replace\n",
    "dist_k1k2 = np.linalg.norm(coord[:,k1,:] - coord[:,k2,:], axis=1)\n",
    "plt.plot(time_label, dist_k1k2)\n",
    "plt.axhline(3.0, color='gray', alpha=0.5, linestyle='--')\n",
    "plt.axhline(5.0, color='gray', alpha=0.5, linestyle='--')\n",
    "plt.xlabel('Time (ns)')\n",
    "plt.ylabel(r'Distance between K1 - K2 (Å)')\n",
    "plt.show()"
   ]
  },
  {
   "cell_type": "markdown",
   "id": "ac835ba5-3b0b-4f44-a855-0b92e93ac6c1",
   "metadata": {},
   "source": [
    "### Write Data"
   ]
  },
  {
   "cell_type": "code",
   "execution_count": 20,
   "id": "8e461cfc-8fcb-4aab-b2a1-442d11baae37",
   "metadata": {
    "tags": []
   },
   "outputs": [],
   "source": [
    "ag_model = u.select_atoms('nucleic or (resid 1-2 and name K)')\n",
    "ag_model.write(f'{jobname}_5us500kf.k_min.xtc', frames='all')"
   ]
  },
  {
   "cell_type": "code",
   "execution_count": null,
   "id": "9cf15752-f0fe-4e95-9cdc-5acc95483049",
   "metadata": {
    "tags": []
   },
   "outputs": [],
   "source": [
    "!gmx trjconv -f {jobname}_5us500kf.k_min.xtc -o {jobname}_5us5kf.k_min.xtc -skip 100 -ndec 5"
   ]
  },
  {
   "cell_type": "code",
   "execution_count": null,
   "id": "bd9a0be0-a7df-4dcb-a0b9-1d3b08a901d3",
   "metadata": {
    "tags": []
   },
   "outputs": [],
   "source": [
    "!cp {jobname}_5us500kf.k_min.xtc {jobname}_5us5kf.k_min.xtc ../3.trajectory_data"
   ]
  },
  {
   "cell_type": "code",
   "execution_count": null,
   "id": "922388e9-ead0-4070-9c18-f32882edee7b",
   "metadata": {},
   "outputs": [],
   "source": []
  }
 ],
 "metadata": {
  "kernelspec": {
   "display_name": "Python [conda env:fluctmatch]",
   "language": "python",
   "name": "conda-env-fluctmatch-py"
  },
  "language_info": {
   "codemirror_mode": {
    "name": "ipython",
    "version": 3
   },
   "file_extension": ".py",
   "mimetype": "text/x-python",
   "name": "python",
   "nbconvert_exporter": "python",
   "pygments_lexer": "ipython3",
   "version": "3.8.0"
  }
 },
 "nbformat": 4,
 "nbformat_minor": 5
}
